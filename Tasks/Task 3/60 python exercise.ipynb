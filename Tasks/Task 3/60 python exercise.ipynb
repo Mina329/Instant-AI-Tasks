{
 "cells": [
  {
   "cell_type": "markdown",
   "id": "759d04ba",
   "metadata": {},
   "source": [
    "**1-Write a Python program to calculate the length of a string using 2 ways"
   ]
  },
  {
   "cell_type": "code",
   "execution_count": 7,
   "id": "e434c950",
   "metadata": {},
   "outputs": [
    {
     "data": {
      "text/plain": [
       "4"
      ]
     },
     "execution_count": 7,
     "metadata": {},
     "output_type": "execute_result"
    }
   ],
   "source": [
    "string = \"Mina\"\n",
    "len(string)"
   ]
  },
  {
   "cell_type": "code",
   "execution_count": 8,
   "id": "7a2dfa32",
   "metadata": {},
   "outputs": [
    {
     "data": {
      "text/plain": [
       "4"
      ]
     },
     "execution_count": 8,
     "metadata": {},
     "output_type": "execute_result"
    }
   ],
   "source": [
    "string = \"Mina\"\n",
    "counter =0\n",
    "for i in string:\n",
    "    counter+=1\n",
    "counter"
   ]
  },
  {
   "cell_type": "markdown",
   "id": "d7cc9da7",
   "metadata": {},
   "source": [
    "**2-Write a Python program to get a string made of the first 2 and last 2 characters of a given string. If the string length is less than 2, return the empty string instead (\"##Sample String : 'w3resource'\n",
    "Expected Result : 'w3ce'\n",
    "##Sample String : 'w3'\n",
    "Expected Result : 'w3w3'\n",
    "##Sample String : ' w'\n",
    "Expected Result : Empty String)"
   ]
  },
  {
   "cell_type": "code",
   "execution_count": 9,
   "id": "dafa9dd8",
   "metadata": {},
   "outputs": [
    {
     "name": "stdout",
     "output_type": "stream",
     "text": [
      "Mesi\n"
     ]
    }
   ],
   "source": [
    "string = \"Messi\"\n",
    "\n",
    "if len(string) <2:\n",
    "    print(\" \")\n",
    "else:\n",
    "    print(string[0:2]+string[-2]+string[-1])"
   ]
  },
  {
   "cell_type": "markdown",
   "id": "1534f956",
   "metadata": {},
   "source": [
    "**3-Write a Python program to add 'ing' at the end of a given string (length should be at least 3). If the given string already ends with 'ing', add 'ly' instead. If the string length of the given string is less than 3, leave it unchanged. (Sample String : 'abc'\n",
    "Expected Result : 'abcing')"
   ]
  },
  {
   "cell_type": "code",
   "execution_count": 10,
   "id": "7ff8cec4",
   "metadata": {},
   "outputs": [
    {
     "data": {
      "text/plain": [
       "'workly'"
      ]
     },
     "execution_count": 10,
     "metadata": {},
     "output_type": "execute_result"
    }
   ],
   "source": [
    "string = \"working\"\n",
    "\n",
    "if len(string)>=3:\n",
    "    if string[-3:] == \"ing\":\n",
    "        string =string.replace(\"ing\",\"ly\")\n",
    "    else:\n",
    "        string+=\"ing\"\n",
    "string"
   ]
  },
  {
   "cell_type": "code",
   "execution_count": 11,
   "id": "5ea5f082",
   "metadata": {},
   "outputs": [
    {
     "data": {
      "text/plain": [
       "'workly'"
      ]
     },
     "execution_count": 11,
     "metadata": {},
     "output_type": "execute_result"
    }
   ],
   "source": [
    "string.replace(\"ing\",\"ly\")"
   ]
  },
  {
   "cell_type": "markdown",
   "id": "1c0a6627",
   "metadata": {},
   "source": [
    "**4-Write a Python function that takes a list of words and return the longest word and the length of the longest one\n",
    "(Longest word: Exercises\n",
    "Length of the longest word: 9)"
   ]
  },
  {
   "cell_type": "code",
   "execution_count": 12,
   "id": "397341d9",
   "metadata": {},
   "outputs": [
    {
     "name": "stdout",
     "output_type": "stream",
     "text": [
      "Ronaldinho 10\n"
     ]
    }
   ],
   "source": [
    "list = [\"Mina\" , \"Messi\" , \"Ronaldinho\"]\n",
    "longest_word=\"\"\n",
    "length=0\n",
    "for i in list:\n",
    "    if len(i) >length:\n",
    "        length = len(i)\n",
    "        longest_word=i\n",
    "print(longest_word,length)\n"
   ]
  },
  {
   "cell_type": "markdown",
   "id": "53a03a6a",
   "metadata": {},
   "source": [
    "**5-Write a Python program to change a given string to a newly string where the first and last chars have been exchanged using 2 ways (Sample String:abca  Expected Result:ebce)"
   ]
  },
  {
   "cell_type": "code",
   "execution_count": 13,
   "id": "fd327d2a",
   "metadata": {},
   "outputs": [
    {
     "data": {
      "text/plain": [
       "'ainM'"
      ]
     },
     "execution_count": 13,
     "metadata": {},
     "output_type": "execute_result"
    }
   ],
   "source": [
    "string =\"Mina\"\n",
    "tmp = string[0]\n",
    "string = string.replace(string[0] , string[-1])\n",
    "string = string[:-1]+tmp\n",
    "string"
   ]
  },
  {
   "cell_type": "code",
   "execution_count": 1,
   "id": "285788b4",
   "metadata": {},
   "outputs": [
    {
     "data": {
      "text/plain": [
       "'ainM'"
      ]
     },
     "execution_count": 1,
     "metadata": {},
     "output_type": "execute_result"
    }
   ],
   "source": [
    "string =\"Mina\"\n",
    "list_ =list(string)\n",
    "list_[0],list_[-1]=list_[-1],list_[0]\n",
    "string =\"\".join(list_)\n",
    "string"
   ]
  },
  {
   "cell_type": "markdown",
   "id": "25f89808",
   "metadata": {},
   "source": [
    "**6-Write a Python program to remove characters that have odd index values in a given string (Sample String:abca Expected Result:ac)"
   ]
  },
  {
   "cell_type": "code",
   "execution_count": 2,
   "id": "05959bd7",
   "metadata": {},
   "outputs": [
    {
     "data": {
      "text/plain": [
       "'Rnlih'"
      ]
     },
     "execution_count": 2,
     "metadata": {},
     "output_type": "execute_result"
    }
   ],
   "source": [
    "string = \"Ronaldinho\"\n",
    "string[0::2]"
   ]
  },
  {
   "cell_type": "markdown",
   "id": "eb16e898",
   "metadata": {},
   "source": [
    "**7-Write a Python program to count the occurrences of each word in a given sentence (Sample String:amr and ahmed are frindes but amr is the tallest Expected Result:2)"
   ]
  },
  {
   "cell_type": "code",
   "execution_count": 3,
   "id": "01ce6cf5",
   "metadata": {},
   "outputs": [
    {
     "name": "stdout",
     "output_type": "stream",
     "text": [
      "{'ahmed': 1, 'the': 1, 'but': 1, 'amr': 2, 'are': 1, 'and': 1, 'is': 1, 'frindes': 1, 'tallest': 1}\n"
     ]
    }
   ],
   "source": [
    "string = \"amr and ahmed are frindes but amr is the tallest\"\n",
    "list = string.split(\" \")\n",
    "set = set(list)\n",
    "dict ={}\n",
    "counter =0\n",
    "for i in set:\n",
    "    for j in list:\n",
    "        if j == i:\n",
    "            counter +=1\n",
    "    dict[i] = counter\n",
    "    counter =0\n",
    "print(dict)\n"
   ]
  },
  {
   "cell_type": "markdown",
   "id": "4e8125f1",
   "metadata": {},
   "source": [
    "**8-Write a Python script that takes input from the user and displays that input back in upper and lower cases"
   ]
  },
  {
   "cell_type": "code",
   "execution_count": 4,
   "id": "66c8f778",
   "metadata": {},
   "outputs": [
    {
     "name": "stdout",
     "output_type": "stream",
     "text": [
      "UPPER =  MINA\n",
      "LOWER =  mina\n"
     ]
    }
   ],
   "source": [
    "string = \"Mina\"\n",
    "print(\"UPPER = \" , string.upper())\n",
    "print(\"LOWER = \" , string.lower())"
   ]
  },
  {
   "cell_type": "markdown",
   "id": "fcd68aa1",
   "metadata": {},
   "source": [
    "**9-Write a Python function to reverse a string if its length is a multiple of 4"
   ]
  },
  {
   "cell_type": "code",
   "execution_count": 5,
   "id": "0671a931",
   "metadata": {},
   "outputs": [
    {
     "data": {
      "text/plain": [
       "'aniM'"
      ]
     },
     "execution_count": 5,
     "metadata": {},
     "output_type": "execute_result"
    }
   ],
   "source": [
    "string = \"Mina\"\n",
    "new_string = \"\"\n",
    "if len(string) % 4 ==0 :\n",
    "    for i in range(1,len(string)+1):\n",
    "        new_string +=string[-i]\n",
    "new_string"
   ]
  },
  {
   "cell_type": "markdown",
   "id": "b577c68d",
   "metadata": {},
   "source": [
    "**10- Write a Python program to remove a newline in Python"
   ]
  },
  {
   "cell_type": "code",
   "execution_count": 6,
   "id": "e0c6525a",
   "metadata": {},
   "outputs": [
    {
     "data": {
      "text/plain": [
       "'MinaEmil'"
      ]
     },
     "execution_count": 6,
     "metadata": {},
     "output_type": "execute_result"
    }
   ],
   "source": [
    "string= \"MinaEmil\\n\"\n",
    "string=string.strip()\n",
    "string"
   ]
  },
  {
   "cell_type": "markdown",
   "id": "80db5ae0",
   "metadata": {},
   "source": [
    "**11-Write a Python program to check whether a string starts with specified characters"
   ]
  },
  {
   "cell_type": "code",
   "execution_count": 7,
   "id": "0cc4e03e",
   "metadata": {},
   "outputs": [
    {
     "data": {
      "text/plain": [
       "True"
      ]
     },
     "execution_count": 7,
     "metadata": {},
     "output_type": "execute_result"
    }
   ],
   "source": [
    "string = \"Mina\"\n",
    "character = \"M\"\n",
    "string[0] == character"
   ]
  },
  {
   "cell_type": "markdown",
   "id": "593a68db",
   "metadata": {},
   "source": [
    "**12- Write a Python program to add prefix text to all of the lines in a string"
   ]
  },
  {
   "cell_type": "code",
   "execution_count": 8,
   "id": "d2e46ada",
   "metadata": {},
   "outputs": [
    {
     "name": "stdout",
     "output_type": "stream",
     "text": [
      "$Mina\n",
      "$Emil\n",
      "$Fakhry\n"
     ]
    }
   ],
   "source": [
    "string = \"Mina\\nEmil\\nFakhry\"\n",
    "string =string.replace(\"\\n\",\"\\n$\")\n",
    "string=\"$\"+string\n",
    "print(string)"
   ]
  },
  {
   "cell_type": "markdown",
   "id": "86fa1543",
   "metadata": {},
   "source": [
    "**13-Write a Python program to print the following numbers up to 2 decimal places"
   ]
  },
  {
   "cell_type": "code",
   "execution_count": 10,
   "id": "cd4a9d89",
   "metadata": {},
   "outputs": [
    {
     "name": "stdout",
     "output_type": "stream",
     "text": [
      "0.37\n"
     ]
    }
   ],
   "source": [
    "float =0.3698\n",
    "print(round(float,3))"
   ]
  },
  {
   "cell_type": "markdown",
   "id": "452c0ab0",
   "metadata": {},
   "source": [
    "**14-Write a Python program to print the following numbers up to 2 decimal places with a sign"
   ]
  },
  {
   "cell_type": "code",
   "execution_count": 9,
   "id": "73e82479",
   "metadata": {},
   "outputs": [
    {
     "name": "stdout",
     "output_type": "stream",
     "text": [
      "+ 0.37\n"
     ]
    }
   ],
   "source": [
    "float = 0.3698\n",
    "if(float >0):\n",
    "    print(\"+\",round(float,3))\n",
    "else:\n",
    "    print(\"-\",round(float,3))"
   ]
  },
  {
   "cell_type": "markdown",
   "id": "32b1811a",
   "metadata": {},
   "source": [
    "**15-Write a Python program to display a number with a comma separator"
   ]
  },
  {
   "cell_type": "code",
   "execution_count": 1,
   "id": "f30fc0b6",
   "metadata": {},
   "outputs": [
    {
     "data": {
      "text/plain": [
       "'5,6,3,5,9,9'"
      ]
     },
     "execution_count": 1,
     "metadata": {},
     "output_type": "execute_result"
    }
   ],
   "source": [
    "number =563599\n",
    "list_ = list(str(number))\n",
    "string = \",\".join(list_)\n",
    "string"
   ]
  },
  {
   "cell_type": "markdown",
   "id": "0477f487",
   "metadata": {},
   "source": [
    "**16-Write a Python program to reverse a string using 2 ways"
   ]
  },
  {
   "cell_type": "code",
   "execution_count": 2,
   "id": "aa8beec8",
   "metadata": {},
   "outputs": [
    {
     "data": {
      "text/plain": [
       "'aaniM'"
      ]
     },
     "execution_count": 2,
     "metadata": {},
     "output_type": "execute_result"
    }
   ],
   "source": [
    "string = \"Minaa\"\n",
    "new_string = \"\"\n",
    "for i in range(1,len(string)+1):\n",
    "    new_string +=string[-i]\n",
    "new_string"
   ]
  },
  {
   "cell_type": "markdown",
   "id": "5afc3166",
   "metadata": {},
   "source": [
    " **17-Write a Python program to count repeated characters in a string (hint:use dictionary)"
   ]
  },
  {
   "cell_type": "code",
   "execution_count": 3,
   "id": "515a469c",
   "metadata": {},
   "outputs": [
    {
     "data": {
      "text/plain": [
       "{'G': 1,\n",
       " 'h': 1,\n",
       " 'k': 1,\n",
       " 'i': 2,\n",
       " 'y': 1,\n",
       " 'e': 1,\n",
       " 'E': 1,\n",
       " 'm': 1,\n",
       " 'a': 3,\n",
       " 'F': 1,\n",
       " 'r': 2,\n",
       " 'b': 1,\n",
       " 'l': 1,\n",
       " 'n': 1,\n",
       " 'M': 1,\n",
       " ' ': 3}"
      ]
     },
     "execution_count": 3,
     "metadata": {},
     "output_type": "execute_result"
    }
   ],
   "source": [
    "string =\"Mina Emil Fakhry Gaber\"\n",
    "list_ = list(string)\n",
    "set=set(list_)\n",
    "counter =0\n",
    "dict={}\n",
    "for i in set:\n",
    "    for j in list_:\n",
    "        if j == i:\n",
    "            counter+=1\n",
    "    dict[i] = counter\n",
    "    counter=0\n",
    "dict"
   ]
  },
  {
   "cell_type": "markdown",
   "id": "ae14e4e5",
   "metadata": {},
   "source": [
    "**18-Write a Python program to find the first non-repeating character in a given string"
   ]
  },
  {
   "cell_type": "code",
   "execution_count": 1,
   "id": "d73778e5",
   "metadata": {},
   "outputs": [
    {
     "data": {
      "text/plain": [
       "'n'"
      ]
     },
     "execution_count": 1,
     "metadata": {},
     "output_type": "execute_result"
    }
   ],
   "source": [
    "string =\"mina emil fakhry gaber\"\n",
    "list_ = list(string)\n",
    "set=set(list_)\n",
    "counter =0\n",
    "dict={}\n",
    "for i in set:\n",
    "    for j in list_:\n",
    "        if j == i:\n",
    "            counter+=1\n",
    "    dict[i] = counter\n",
    "    counter=0\n",
    "    second_list=[]\n",
    "for i in dict:\n",
    "    if dict[i] == 1 :\n",
    "        second_list.append(i)\n",
    "\n",
    "for i in list_:\n",
    "    if i in second_list:\n",
    "        first = i\n",
    "        break\n",
    "first"
   ]
  },
  {
   "cell_type": "markdown",
   "id": "3adf5669",
   "metadata": {},
   "source": [
    "**19-Write a Python program to remove spaces from a given string"
   ]
  },
  {
   "cell_type": "code",
   "execution_count": 2,
   "id": "b4f22602",
   "metadata": {},
   "outputs": [
    {
     "data": {
      "text/plain": [
       "'minaemilfakhry'"
      ]
     },
     "execution_count": 2,
     "metadata": {},
     "output_type": "execute_result"
    }
   ],
   "source": [
    "string = \"mina emil fakhry\"\n",
    "string = string.replace(\" \",\"\")\n",
    "string"
   ]
  },
  {
   "cell_type": "markdown",
   "id": "734de60c",
   "metadata": {},
   "source": [
    "**20-Write a Python program to count the number of non-empty substrings of a given string"
   ]
  },
  {
   "cell_type": "code",
   "execution_count": null,
   "id": "ef3f2274",
   "metadata": {},
   "outputs": [],
   "source": []
  },
  {
   "cell_type": "markdown",
   "id": "509998e2",
   "metadata": {},
   "source": [
    "**21-write a Python program to swap first and last element of any list."
   ]
  },
  {
   "cell_type": "code",
   "execution_count": 3,
   "id": "68692d7f",
   "metadata": {},
   "outputs": [
    {
     "data": {
      "text/plain": [
       "[True, 2, 3, 4, 'mina']"
      ]
     },
     "execution_count": 3,
     "metadata": {},
     "output_type": "execute_result"
    }
   ],
   "source": [
    "list_ = [\"mina\",2,3,4,True]\n",
    "tmp = list_[0]\n",
    "list_[0]=list_[-1]\n",
    "list_[-1] =tmp\n",
    "list_"
   ]
  },
  {
   "cell_type": "markdown",
   "id": "959e0837",
   "metadata": {},
   "source": [
    "**22-Given a list in Python and provided the positions of the elements, write a program to swap the two elements in the list. (Input : List = [23, 65, 19, 90], pos1 = 1, pos2 = 3\n",
    "Output : [19, 65, 23, 90])"
   ]
  },
  {
   "cell_type": "code",
   "execution_count": 4,
   "id": "225d8c6d",
   "metadata": {},
   "outputs": [
    {
     "data": {
      "text/plain": [
       "[19, 65, 23, 90]"
      ]
     },
     "execution_count": 4,
     "metadata": {},
     "output_type": "execute_result"
    }
   ],
   "source": [
    "list_ =[23, 65, 19, 90]\n",
    "pos1 =1 \n",
    "pos2 =3\n",
    "\n",
    "tmp = list_[pos2-1]\n",
    "list_[pos2-1]=list_[pos1-1]\n",
    "list_[pos1-1]=tmp\n",
    "list_"
   ]
  },
  {
   "cell_type": "markdown",
   "id": "66fc6682",
   "metadata": {},
   "source": [
    "**23- search for the all ways to know the length of the list"
   ]
  },
  {
   "cell_type": "code",
   "execution_count": 5,
   "id": "f3a944bd",
   "metadata": {},
   "outputs": [
    {
     "name": "stdout",
     "output_type": "stream",
     "text": [
      "4\n",
      "4\n"
     ]
    }
   ],
   "source": [
    "string = \"mina\"\n",
    "print(len(string))\n",
    "counter =0 \n",
    "for i in string:\n",
    "    counter+=1\n",
    "print(counter)"
   ]
  },
  {
   "cell_type": "markdown",
   "id": "63ff8b43",
   "metadata": {},
   "source": [
    "**24-write a Python code to find the Maximum number of list of numbers."
   ]
  },
  {
   "cell_type": "code",
   "execution_count": 6,
   "id": "15f342de",
   "metadata": {},
   "outputs": [
    {
     "data": {
      "text/plain": [
       "11"
      ]
     },
     "execution_count": 6,
     "metadata": {},
     "output_type": "execute_result"
    }
   ],
   "source": [
    "list_ = [1,2,5,9,7,3,11,6]\n",
    "max =-1\n",
    "for i in list_:\n",
    "    if i>max:\n",
    "        max = i\n",
    "max"
   ]
  },
  {
   "cell_type": "markdown",
   "id": "1a89b9d3",
   "metadata": {},
   "source": [
    "**25-write a Python code to find the Minimum number of list of numbers."
   ]
  },
  {
   "cell_type": "code",
   "execution_count": 8,
   "id": "21f8cbd6",
   "metadata": {},
   "outputs": [
    {
     "data": {
      "text/plain": [
       "1"
      ]
     },
     "execution_count": 8,
     "metadata": {},
     "output_type": "execute_result"
    }
   ],
   "source": [
    "list_ = [1,2,5,9,7,3,11,6]\n",
    "min =99999999\n",
    "for i in list_:\n",
    "    if i<min:\n",
    "        min = i\n",
    "min"
   ]
  },
  {
   "cell_type": "markdown",
   "id": "96822d96",
   "metadata": {},
   "source": [
    "**26-search for if an elem is existing in list"
   ]
  },
  {
   "cell_type": "code",
   "execution_count": 9,
   "id": "51ca5c9a",
   "metadata": {},
   "outputs": [
    {
     "name": "stdout",
     "output_type": "stream",
     "text": [
      "True\n"
     ]
    }
   ],
   "source": [
    "list_= [\"mina\",5,\"emil\",6,7]\n",
    "for i in list_:\n",
    "    if i == \"emil\":\n",
    "        print(True)"
   ]
  },
  {
   "cell_type": "markdown",
   "id": "d9557da7",
   "metadata": {},
   "source": [
    "**27- clear python list using different ways"
   ]
  },
  {
   "cell_type": "code",
   "execution_count": 10,
   "id": "b69858a3",
   "metadata": {},
   "outputs": [],
   "source": [
    "list_= [\"mina\",5,\"emil\",6,7]\n",
    "list_.clear()"
   ]
  },
  {
   "cell_type": "markdown",
   "id": "52160e88",
   "metadata": {},
   "source": [
    "**28-remove duplicated elements from a list"
   ]
  },
  {
   "cell_type": "code",
   "execution_count": 1,
   "id": "5e362228",
   "metadata": {},
   "outputs": [
    {
     "data": {
      "text/plain": [
       "[5, 6, 7, 8, 9, 'mina', 'emil']"
      ]
     },
     "execution_count": 1,
     "metadata": {},
     "output_type": "execute_result"
    }
   ],
   "source": [
    "list_= [\"mina\",5,\"emil\",6,7,\"mina\",8,9,6]\n",
    "set = set(list_)\n",
    "list_ = list(set)\n",
    "list_\n"
   ]
  },
  {
   "cell_type": "markdown",
   "id": "282337f7",
   "metadata": {},
   "source": [
    "**29-Given list values and keys list, convert these values to key value pairs in form of list of dictionaries. (Input : test_list = [“Gfg”, 3, “is”, 8], key_list = [“name”, “id”]\n",
    "Output : [{‘name’: ‘Gfg’, ‘id’: 3}, {‘name’: ‘is’, ‘id’: 8}])"
   ]
  },
  {
   "cell_type": "code",
   "execution_count": 2,
   "id": "4d4e2d28",
   "metadata": {},
   "outputs": [
    {
     "data": {
      "text/plain": [
       "[{'name': 'Gfg', 'id': 3}, {'name': 'is', 'id': 8}]"
      ]
     },
     "execution_count": 2,
     "metadata": {},
     "output_type": "execute_result"
    }
   ],
   "source": [
    "test_list=[\"Gfg\",3,\"is\",8]\n",
    "key_list=[\"name\",\"id\"]\n",
    "output=[]\n",
    "for i in range(0,len(test_list),len(key_list)):\n",
    "    dict ={}\n",
    "    for j in range(len(key_list)):\n",
    "        dict[key_list[j]]=test_list[i+j]\n",
    "    output.append(dict)\n",
    "    del dict\n",
    "output"
   ]
  },
  {
   "cell_type": "markdown",
   "id": "c26b6e9f",
   "metadata": {},
   "source": [
    "**30-write a python program to count unique values inside a list using different ways"
   ]
  },
  {
   "cell_type": "code",
   "execution_count": 1,
   "id": "72132667",
   "metadata": {},
   "outputs": [
    {
     "data": {
      "text/plain": [
       "7"
      ]
     },
     "execution_count": 1,
     "metadata": {},
     "output_type": "execute_result"
    }
   ],
   "source": [
    "list_ = [\"mina\" , \"emil\",5,6,9,3,4,5,\"emil\"]\n",
    "set = set(list_)\n",
    "list_ = list(set)\n",
    "len(list_)"
   ]
  },
  {
   "cell_type": "markdown",
   "id": "fed6677c",
   "metadata": {},
   "source": [
    "**31-write a python program Extract all elements with Frequency greater than K (Input : test_list = [4, 6, 4, 3, 3, 4, 3, 4, 3, 8], K = 3 \n",
    "Output : [4, 3] )"
   ]
  },
  {
   "cell_type": "code",
   "execution_count": 1,
   "id": "d81f3f9d",
   "metadata": {},
   "outputs": [
    {
     "data": {
      "text/plain": [
       "[3, 4]"
      ]
     },
     "execution_count": 1,
     "metadata": {},
     "output_type": "execute_result"
    }
   ],
   "source": [
    "test_list=[4,6,4,3,3,4,3,4,3,8]\n",
    "output =[]\n",
    "set = set(test_list)\n",
    "dict={}\n",
    "counter =0\n",
    "for i in set:\n",
    "    for j in test_list:\n",
    "        if i == j :\n",
    "            counter+=1\n",
    "    dict[i] = counter\n",
    "    counter=0\n",
    "for i in dict:\n",
    "    if dict[i] > 3:\n",
    "        output.append(i)\n",
    "output"
   ]
  },
  {
   "cell_type": "markdown",
   "id": "caca5224",
   "metadata": {},
   "source": [
    "**32-write a python program to find the Strongest Neighbour (Input: 1 2 2 3 4 5\n",
    "Output: 2 2 3 4 5)"
   ]
  },
  {
   "cell_type": "code",
   "execution_count": 3,
   "id": "39fbd9b2",
   "metadata": {},
   "outputs": [
    {
     "data": {
      "text/plain": [
       "[2, 2, 3, 4, 5]"
      ]
     },
     "execution_count": 3,
     "metadata": {},
     "output_type": "execute_result"
    }
   ],
   "source": [
    "list_=[1,2,2,3,4,5]\n",
    "output = []\n",
    "for i in range(0,len(list_)-1):\n",
    "    if i == 0:\n",
    "        output.append(list_[i+1])\n",
    "    else:\n",
    "        if list_[i-1] > list_[i+1]:\n",
    "            output.append(list_[i-1])\n",
    "        else:\n",
    "            output.append(list_[i+1])\n",
    "output"
   ]
  },
  {
   "cell_type": "markdown",
   "id": "a9fa8baf",
   "metadata": {},
   "source": [
    "**33-write a Python Program to print all Possible Combinations from the three Digits (Input: [1, 2, 3]\n",
    "Output:\n",
    "1 2 3 ##\n",
    "1 3 2 ##\n",
    "2 1 3 ##\n",
    "2 3 1 ##\n",
    "3 1 2 ##\n",
    "3 2 1)"
   ]
  },
  {
   "cell_type": "code",
   "execution_count": 8,
   "id": "8c520a76",
   "metadata": {},
   "outputs": [
    {
     "name": "stdout",
     "output_type": "stream",
     "text": [
      "1 1 1\n",
      "1 1 2\n",
      "1 1 3\n",
      "1 2 1\n",
      "1 2 2\n",
      "1 2 3\n",
      "1 3 1\n",
      "1 3 2\n",
      "1 3 3\n",
      "2 1 1\n",
      "2 1 2\n",
      "2 1 3\n",
      "2 2 1\n",
      "2 2 2\n",
      "2 2 3\n",
      "2 3 1\n",
      "2 3 2\n",
      "2 3 3\n",
      "3 1 1\n",
      "3 1 2\n",
      "3 1 3\n",
      "3 2 1\n",
      "3 2 2\n",
      "3 2 3\n",
      "3 3 1\n",
      "3 3 2\n",
      "3 3 3\n"
     ]
    }
   ],
   "source": [
    "list_ = [\"1\",2,3]\n",
    "for i in range(0,len(list_)):\n",
    "    for j in range(0,len(list_)):\n",
    "        for k in range(0,len(list_)):\n",
    "            print(list_[i],list_[j],list_[k])"
   ]
  },
  {
   "cell_type": "markdown",
   "id": "5288bb89",
   "metadata": {},
   "source": [
    "**34-write a Python program to find all the Combinations in the list with the given condition (Input: test_list = [1,2,3] \n",
    "Output: \n",
    " [1], [1, 2], [1, 2, 3], [1, 3]\n",
    " [2], [2, 3], [3])"
   ]
  },
  {
   "cell_type": "code",
   "execution_count": 17,
   "id": "59b89646",
   "metadata": {},
   "outputs": [
    {
     "data": {
      "text/plain": [
       "[[1], [1, 2], [1, 2, 3], [1, 3], [2], [2, 3], [3]]"
      ]
     },
     "execution_count": 17,
     "metadata": {},
     "output_type": "execute_result"
    }
   ],
   "source": [
    "list_ = [1,2,3]\n",
    "output=[]\n",
    "for i in range(0,len(list_)):\n",
    "    output.append([list_[i]])\n",
    "    for j in range(1,len(list_)):\n",
    "        if list_[i] != list_[j] and list_[j] > list_[i]:\n",
    "            output.append([list_[i],list_[j]])\n",
    "        for k in range(2,len(list_)):\n",
    "            if list_[i] != list_[j] and list_[i]!=list_[k] and list_[j] != list_[k]:\n",
    "                output.append([list_[i],list_[j],list_[k]])\n",
    "output"
   ]
  },
  {
   "cell_type": "markdown",
   "id": "39973705",
   "metadata": {},
   "source": [
    "**35-write a Python program to get all unique combinations of two Lists (List_1 = [\"a\",\"b\"]\n",
    "List_2 = [1,2]\n",
    "Unique_combination = [[('a',1),('b',2)],[('a',2),('b',1)]] )"
   ]
  },
  {
   "cell_type": "code",
   "execution_count": 18,
   "id": "8c4ba22b",
   "metadata": {},
   "outputs": [
    {
     "name": "stdout",
     "output_type": "stream",
     "text": [
      "a 1\n",
      "a 2\n",
      "b 1\n",
      "b 2\n"
     ]
    }
   ],
   "source": [
    "l1 = [\"a\", \"b\"]\n",
    "l2 =[1,2]\n",
    "for i in l1:\n",
    "    for j in l2:\n",
    "        print(i ,j)"
   ]
  },
  {
   "cell_type": "markdown",
   "id": "25199af5",
   "metadata": {},
   "source": [
    "**36-Remove all the occurrences of an element from a list in Python (Input : 1 1 2 3 4 5 1 2 1 \n",
    "\n",
    "**Output : 2 3 4 5 2)"
   ]
  },
  {
   "cell_type": "code",
   "execution_count": 8,
   "id": "6dc4c2ba",
   "metadata": {},
   "outputs": [
    {
     "data": {
      "text/plain": [
       "[2, 3, 4, 5, 2]"
      ]
     },
     "execution_count": 8,
     "metadata": {},
     "output_type": "execute_result"
    }
   ],
   "source": [
    "list_ =[1,1,2,3,4,5,1,2,1]\n",
    "i =0\n",
    "\n",
    "while(True):\n",
    "    length = len(list_)\n",
    "    if list_[i]==1:\n",
    "        list_.pop(i)\n",
    "        i =0\n",
    "    else:\n",
    "        i+=1\n",
    "    if i == length:\n",
    "        break\n",
    "list_\n"
   ]
  },
  {
   "cell_type": "markdown",
   "id": "bf1a3c93",
   "metadata": {},
   "source": [
    "**37-write a python program to Replace index elements with elements in Other List (The original list 1 is : [‘Gfg’, ‘is’, ‘best’] The original list 2 is : [0, 1, 2, 1, 0, 0, 0, 2, 1, 1, 2, 0] The lists after index elements replacements is : [‘Gfg’, ‘is’, ‘best’, ‘is’, ‘Gfg’, ‘Gfg’, ‘Gfg’, ‘best’, ‘is’, ‘is’, ‘best’, ‘Gfg’])"
   ]
  },
  {
   "cell_type": "code",
   "execution_count": 10,
   "id": "fdd66a71",
   "metadata": {},
   "outputs": [
    {
     "data": {
      "text/plain": [
       "['Gfg',\n",
       " 'is',\n",
       " 'best',\n",
       " 'is',\n",
       " 'Gfg',\n",
       " 'Gfg',\n",
       " 'Gfg',\n",
       " 'best',\n",
       " 'is',\n",
       " 'is',\n",
       " 'best',\n",
       " 'Gfg']"
      ]
     },
     "execution_count": 10,
     "metadata": {},
     "output_type": "execute_result"
    }
   ],
   "source": [
    "l1 =['Gfg', 'is', 'best']\n",
    "l2 = [0, 1, 2, 1, 0, 0, 0, 2, 1, 1, 2, 0] \n",
    "for i in range(0,len(l2)):\n",
    "    l2[i]=l1[l2[i]]\n",
    "l2"
   ]
  },
  {
   "cell_type": "markdown",
   "id": "af0f56e8",
   "metadata": {},
   "source": [
    "**38- write python program to Retain records with N occurrences of K(Input : test_list = [(4, 5, 5, 4), (5, 4, 3)], K = 5, N = 2 \n",
    "Output : [(4, 5, 5, 4)]\n",
    "Input : test_list = [(4, 5, 5, 4), (5, 4, 3)], K = 5, N = 3 \n",
    "Output : [] )"
   ]
  },
  {
   "cell_type": "code",
   "execution_count": 14,
   "id": "67b06671",
   "metadata": {},
   "outputs": [
    {
     "data": {
      "text/plain": [
       "[(4, 5, 5, 4)]"
      ]
     },
     "execution_count": 14,
     "metadata": {},
     "output_type": "execute_result"
    }
   ],
   "source": [
    "l1 = [(4,5,5,4),(5,4,3)]\n",
    "output=[]\n",
    "k=5\n",
    "n=2\n",
    "for i in l1:\n",
    "    for j in i:\n",
    "        if j ==k:\n",
    "            n-=1\n",
    "        if n ==0 :\n",
    "            output.append(i)\n",
    "            break\n",
    "    n=2\n",
    "output"
   ]
  },
  {
   "cell_type": "markdown",
   "id": "de76f183",
   "metadata": {},
   "source": [
    "**39-write a Python Program to Sort the list according to the column using lambda\n",
    "array = [[1, 3, 3], [2, 1, 2], [3, 2, 1]]\n",
    "Output :\n",
    "Sorted array specific to column 0, [[1, 3, 3], [2, 1, 2], [3, 2, 1]]\n",
    "Sorted array specific to column 1, [[2, 1, 2], [3, 2, 1], [1, 3, 3]]\n",
    "Sorted array specific to column 2, [[3, 2, 1], [2, 1, 2], [1, 3, 3]]"
   ]
  },
  {
   "cell_type": "code",
   "execution_count": null,
   "id": "dc883308",
   "metadata": {},
   "outputs": [],
   "source": []
  },
  {
   "cell_type": "markdown",
   "id": "d2e7b31f",
   "metadata": {},
   "source": [
    "**40- write a program to Sort Python Dictionaries by Key or Value\n",
    "Input:\n",
    "{'ravi': 10, 'rajnish': 9, 'sanjeev': 15, 'yash': 2, 'suraj': 32}\n",
    "\n",
    "Output: \n",
    "{'rajnish': 9, 'ravi': 10, 'sanjeev': 15, 'suraj': 32, 'yash': 2}"
   ]
  },
  {
   "cell_type": "code",
   "execution_count": 21,
   "id": "a96db4a0",
   "metadata": {},
   "outputs": [
    {
     "data": {
      "text/plain": [
       "{'rajnish': 9, 'ravi': 10, 'sanjeev': 15, 'suraj': 32, 'yash': 2}"
      ]
     },
     "execution_count": 21,
     "metadata": {},
     "output_type": "execute_result"
    }
   ],
   "source": [
    "dict={'ravi': 10, 'rajnish': 9, 'sanjeev': 15, 'yash': 2, 'suraj': 32}\n",
    "keys = list(dict.keys())\n",
    "keys.sort()\n",
    "sorted={}\n",
    "for i in keys:\n",
    "    for j in dict:\n",
    "        if j==i:\n",
    "            sorted[j] = dict[j]\n",
    "sorted             "
   ]
  },
  {
   "cell_type": "markdown",
   "id": "ec63c23a",
   "metadata": {},
   "source": [
    "**41-write python program to Remove keys with Values Greater than K ( Including mixed values )\n",
    "nput : test_dict = {‘Gfg’ : 3, ‘is’ : 7, ‘best’ : 10, ‘for’ : 6, ‘geeks’ : ‘CS’},\n",
    "K = 7 \n",
    "Output : {‘Gfg’ : 3, ‘for’ : 6, ‘geeks’ : ‘CS’}"
   ]
  },
  {
   "cell_type": "code",
   "execution_count": 30,
   "id": "e39c3a40",
   "metadata": {},
   "outputs": [
    {
     "data": {
      "text/plain": [
       "{'Gfg': 3, 'for': 6, 'geeks': 'CS'}"
      ]
     },
     "execution_count": 30,
     "metadata": {},
     "output_type": "execute_result"
    }
   ],
   "source": [
    "dict = {'Gfg' : 3, 'is' : 7, 'best' : 10, 'for' : 6, 'geeks' : 'CS'}\n",
    "k=7\n",
    "output={}\n",
    "for i in dict:\n",
    "    if  type(dict[i]) == int:\n",
    "        if dict[i] >= k :\n",
    "            continue\n",
    "        else:\n",
    "            output[i] = dict[i]\n",
    "    else:\n",
    "        output[i] = dict[i]\n",
    "output"
   ]
  },
  {
   "cell_type": "markdown",
   "id": "f143f0fe",
   "metadata": {},
   "source": [
    "**42-Write a Python program to concatenate the following dictionaries to create a new one\n",
    "\n",
    "Sample Dictionary :\n",
    "dic1={1:10, 2:20}\n",
    "dic2={3:30, 4:40}\n",
    "dic3={5:50,6:60}\n",
    "Expected Result : {1: 10, 2: 20, 3: 30, 4: 40, 5: 50, 6: 60}"
   ]
  },
  {
   "cell_type": "code",
   "execution_count": 2,
   "id": "74ffdfea",
   "metadata": {},
   "outputs": [
    {
     "data": {
      "text/plain": [
       "{1: 10, 2: 20, 3: 30, 4: 40, 5: 50, 6: 60}"
      ]
     },
     "execution_count": 2,
     "metadata": {},
     "output_type": "execute_result"
    }
   ],
   "source": [
    "dic1={1:10, 2:20}\n",
    "dic2={3:30, 4:40}\n",
    "dic3={5:50,6:60}\n",
    "output={}\n",
    "output=dic1.copy()\n",
    "output.update(dic2)\n",
    "output.update(dic3)\n",
    "output"
   ]
  },
  {
   "cell_type": "markdown",
   "id": "fb04c93c",
   "metadata": {},
   "source": [
    "**43-Write a Python program to iterate over dictionaries using for loops"
   ]
  },
  {
   "cell_type": "code",
   "execution_count": 34,
   "id": "6aebc470",
   "metadata": {},
   "outputs": [
    {
     "data": {
      "text/plain": [
       "{1: 10, 2: 20, 3: 30, 4: 40, 5: 50, 6: 60}"
      ]
     },
     "execution_count": 34,
     "metadata": {},
     "output_type": "execute_result"
    }
   ],
   "source": [
    "dic1={1:10, 2:20}\n",
    "dic2={3:30, 4:40}\n",
    "dic3={5:50,6:60}\n",
    "output={}\n",
    "for i in dic1:\n",
    "    output[i]=dic1[i]\n",
    "for i in dic2:\n",
    "    output[i]=dic2[i]\n",
    "for i in dic3:\n",
    "    output[i]=dic3[i]    \n",
    "output"
   ]
  },
  {
   "cell_type": "markdown",
   "id": "5f491a9d",
   "metadata": {},
   "source": [
    "**44- Write a Python script to merge two Python dictionaries"
   ]
  },
  {
   "cell_type": "code",
   "execution_count": 4,
   "id": "b8a14028",
   "metadata": {},
   "outputs": [
    {
     "data": {
      "text/plain": [
       "{1: 10, 2: 20, 3: 30, 4: 40}"
      ]
     },
     "execution_count": 4,
     "metadata": {},
     "output_type": "execute_result"
    }
   ],
   "source": [
    "dic1={1:10, 2:20}\n",
    "dic2={3:30, 4:40}\n",
    "output ={}\n",
    "output = dic1.copy()\n",
    "output.update(dic2)\n",
    "output"
   ]
  },
  {
   "cell_type": "markdown",
   "id": "216fc72d",
   "metadata": {},
   "source": [
    "**45-Write a Python program to get the maximum and minimum values of a dictionary values"
   ]
  },
  {
   "cell_type": "code",
   "execution_count": 13,
   "id": "d6883f5f",
   "metadata": {},
   "outputs": [
    {
     "name": "stdout",
     "output_type": "stream",
     "text": [
      "Min  10\n",
      "Max  40\n"
     ]
    }
   ],
   "source": [
    "dict={1: 10, 2: 20, 3: 30, 4: 40}\n",
    "list_ = dict.values()\n",
    "list_ = list(list_)\n",
    "list_.sort\n",
    "print(\"Min \", list_[0])\n",
    "print(\"Max \",list_[-1])"
   ]
  },
  {
   "cell_type": "markdown",
   "id": "b6a53011",
   "metadata": {},
   "source": [
    "**46- Write a Python program to drop empty items from a given dictionary.\n",
    "Original Dictionary:\n",
    "{'c1': 'Red', 'c2': 'Green', 'c3': None}\n",
    "New Dictionary after dropping empty items:\n",
    "{'c1': 'Red', 'c2': 'Green'}"
   ]
  },
  {
   "cell_type": "code",
   "execution_count": 15,
   "id": "b5c6fecf",
   "metadata": {},
   "outputs": [
    {
     "data": {
      "text/plain": [
       "{'c1': 'Red', 'c2': 'Green'}"
      ]
     },
     "execution_count": 15,
     "metadata": {},
     "output_type": "execute_result"
    }
   ],
   "source": [
    "dict={'c1': 'Red', 'c2': 'Green', 'c3': None}\n",
    "output={}\n",
    "for i in dict:\n",
    "    if dict[i] != None:\n",
    "        output[i]=dict[i]\n",
    "output"
   ]
  },
  {
   "cell_type": "markdown",
   "id": "46d718c7",
   "metadata": {},
   "source": [
    "**47-Write a Python program to create a tuple of numbers and print one item"
   ]
  },
  {
   "cell_type": "code",
   "execution_count": 17,
   "id": "13216ff5",
   "metadata": {},
   "outputs": [
    {
     "name": "stdout",
     "output_type": "stream",
     "text": [
      "5\n"
     ]
    }
   ],
   "source": [
    "tuple = 5,9,6,2,1\n",
    "print(tuple[0])"
   ]
  },
  {
   "cell_type": "markdown",
   "id": "2be5b56b",
   "metadata": {},
   "source": [
    "**48-Write a Python program to unpack a tuple into several variables"
   ]
  },
  {
   "cell_type": "code",
   "execution_count": 21,
   "id": "595f44be",
   "metadata": {},
   "outputs": [
    {
     "name": "stdout",
     "output_type": "stream",
     "text": [
      "(5, 9, 6)\n"
     ]
    },
    {
     "data": {
      "text/plain": [
       "5"
      ]
     },
     "execution_count": 21,
     "metadata": {},
     "output_type": "execute_result"
    }
   ],
   "source": [
    "tuple = 5,9,6\n",
    "print(tuple)\n",
    "t1,t2,t3 = tuple\n",
    "t1"
   ]
  },
  {
   "cell_type": "markdown",
   "id": "392388a7",
   "metadata": {},
   "source": [
    "**49-Write a Python program to add an item to a tuple"
   ]
  },
  {
   "cell_type": "code",
   "execution_count": 25,
   "id": "54cc092e",
   "metadata": {},
   "outputs": [
    {
     "name": "stdout",
     "output_type": "stream",
     "text": [
      "(5, 9, 6, 9)\n"
     ]
    }
   ],
   "source": [
    "tuple = 5,9,6\n",
    "tuple +=(9,)\n",
    "print(tuple)"
   ]
  },
  {
   "cell_type": "markdown",
   "id": "3e8fd124",
   "metadata": {},
   "source": [
    "**50-Write a Python program to convert a tuple to a string"
   ]
  },
  {
   "cell_type": "code",
   "execution_count": 31,
   "id": "92a71ddc",
   "metadata": {},
   "outputs": [
    {
     "data": {
      "text/plain": [
       "'Mina'"
      ]
     },
     "execution_count": 31,
     "metadata": {},
     "output_type": "execute_result"
    }
   ],
   "source": [
    "tuple = 'M','i','n','a'\n",
    "string =\"\"\n",
    "for i in tuple:\n",
    "    string = string+ i\n",
    "string\n"
   ]
  },
  {
   "cell_type": "markdown",
   "id": "f4f64ef4",
   "metadata": {},
   "source": [
    "**51-Write a Python program to convert a list to a tuple"
   ]
  },
  {
   "cell_type": "code",
   "execution_count": 2,
   "id": "210d56d3",
   "metadata": {},
   "outputs": [
    {
     "data": {
      "text/plain": [
       "(1, 2, 3, 4)"
      ]
     },
     "execution_count": 2,
     "metadata": {},
     "output_type": "execute_result"
    }
   ],
   "source": [
    "list_ = [1,2,3,4]\n",
    "tuple = tuple(list_)\n",
    "tuple"
   ]
  },
  {
   "cell_type": "markdown",
   "id": "b1e00ef7",
   "metadata": {},
   "source": [
    "**52-Write a Python program to reverse a tuple"
   ]
  },
  {
   "cell_type": "code",
   "execution_count": 1,
   "id": "f45bfdc7",
   "metadata": {},
   "outputs": [
    {
     "name": "stdout",
     "output_type": "stream",
     "text": [
      "(4, 3, 2, 1)\n"
     ]
    }
   ],
   "source": [
    "tuple1 = (1,2,3,4)\n",
    "tuple2 = reversed(tuple1)\n",
    "print(tuple(tuple2))"
   ]
  },
  {
   "cell_type": "markdown",
   "id": "3cd347d1",
   "metadata": {},
   "source": [
    "**53-Write a Python program to replace the last value of tuples in a list.\n",
    "Sample list: [(10, 20, 40), (40, 50, 60), (70, 80, 90)]\n",
    "Expected Output: [(10, 20, 100), (40, 50, 100), (70, 80, 100)]"
   ]
  },
  {
   "cell_type": "code",
   "execution_count": 3,
   "id": "3c4a2a4c",
   "metadata": {},
   "outputs": [
    {
     "data": {
      "text/plain": [
       "[(10, 20, 100), (40, 50, 100), (70, 80, 100)]"
      ]
     },
     "execution_count": 3,
     "metadata": {},
     "output_type": "execute_result"
    }
   ],
   "source": [
    "list_ = [(10, 20, 40), (40, 50, 60), (70, 80, 90)]\n",
    "for i in range(0,len(list_)):\n",
    "    tmp = list(list_[i])\n",
    "    tmp[-1] =100\n",
    "    list_[i] = tuple(tmp)\n",
    "list_"
   ]
  },
  {
   "cell_type": "markdown",
   "id": "76bb7b39",
   "metadata": {},
   "source": [
    "**54-Write a Python program to convert a given string list to a tuple\n",
    "Original string: python 3.0\n",
    "<class 'str'>\n",
    "Convert the said string to a tuple:\n",
    "('p', 'y', 't', 'h', 'o', 'n', '3', '.', '0')"
   ]
  },
  {
   "cell_type": "code",
   "execution_count": 4,
   "id": "51951937",
   "metadata": {},
   "outputs": [
    {
     "data": {
      "text/plain": [
       "('p', 'y', 't', 'h', 'o', 'n', '3', '.', '0')"
      ]
     },
     "execution_count": 4,
     "metadata": {},
     "output_type": "execute_result"
    }
   ],
   "source": [
    "string = \"python3.0\"\n",
    "tuple =()\n",
    "for i in string:\n",
    "    tuple += (i,)\n",
    "tuple"
   ]
  },
  {
   "cell_type": "markdown",
   "id": "5a1d5d97",
   "metadata": {},
   "source": [
    "**55-Write a Python program to calculate the average value of the numbers in a given tuple of tuples"
   ]
  },
  {
   "cell_type": "code",
   "execution_count": 7,
   "id": "834e7992",
   "metadata": {},
   "outputs": [
    {
     "data": {
      "text/plain": [
       "8.444444444444445"
      ]
     },
     "execution_count": 7,
     "metadata": {},
     "output_type": "execute_result"
    }
   ],
   "source": [
    "tuple = ((1,11,8),(6,8,9),(15,9,9))\n",
    "sum =0\n",
    "counter =0\n",
    "for i in tuple:\n",
    "    for j in i:\n",
    "        counter+=1\n",
    "        sum +=j\n",
    "avg = sum/counter\n",
    "avg\n"
   ]
  },
  {
   "cell_type": "markdown",
   "id": "51edab9c",
   "metadata": {},
   "source": [
    "**56-Write a Python program to add member(s) to a set."
   ]
  },
  {
   "cell_type": "code",
   "execution_count": 8,
   "id": "2b65df79",
   "metadata": {},
   "outputs": [
    {
     "data": {
      "text/plain": [
       "{'emil', 'fakhry', 'gaber', 'mina'}"
      ]
     },
     "execution_count": 8,
     "metadata": {},
     "output_type": "execute_result"
    }
   ],
   "source": [
    "set = {\"mina\",\"emil\",\"fakhry\"}\n",
    "set.add(\"gaber\")\n",
    "set"
   ]
  },
  {
   "cell_type": "markdown",
   "id": "965590cc",
   "metadata": {},
   "source": [
    "**57-Write a Python program to remove an item from a set if it is present in the set."
   ]
  },
  {
   "cell_type": "code",
   "execution_count": 2,
   "id": "866bab28",
   "metadata": {},
   "outputs": [
    {
     "data": {
      "text/plain": [
       "{'emil', 'mina'}"
      ]
     },
     "execution_count": 2,
     "metadata": {},
     "output_type": "execute_result"
    }
   ],
   "source": [
    "set = {\"mina\",\"emil\",\"fakhry\"}\n",
    "set.discard(\"fakhry\")\n",
    "set"
   ]
  },
  {
   "cell_type": "markdown",
   "id": "2b7cfed1",
   "metadata": {},
   "source": [
    "**58-Write a Python program to create an intersection,union,difference and symmetric difference of sets"
   ]
  },
  {
   "cell_type": "code",
   "execution_count": 3,
   "id": "7f94b7fe",
   "metadata": {},
   "outputs": [
    {
     "name": "stdout",
     "output_type": "stream",
     "text": [
      "{4}\n",
      "{2, 3, 4, 5, 6}\n",
      "{2, 3}\n",
      "{2, 3, 5, 6}\n"
     ]
    }
   ],
   "source": [
    "set1 = {4,2,3}\n",
    "set2 = {4,5,6}\n",
    "intersection = set1.intersection(set2)\n",
    "print(intersection)\n",
    "union = set1.union(set2)\n",
    "print(union)\n",
    "difference = set1.difference(set2)\n",
    "print(difference)\n",
    "symmetric=set1.symmetric_difference(set2)\n",
    "print(symmetric)"
   ]
  },
  {
   "cell_type": "markdown",
   "id": "b94931e2",
   "metadata": {},
   "source": [
    "**59-Write a Python program to find the maximum and minimum values in a set"
   ]
  },
  {
   "cell_type": "code",
   "execution_count": 5,
   "id": "203f9600",
   "metadata": {},
   "outputs": [
    {
     "name": "stdout",
     "output_type": "stream",
     "text": [
      "Min 1\n",
      "Max 5\n"
     ]
    }
   ],
   "source": [
    "set = {1,2,3,4,5}\n",
    "list_ = list(set)\n",
    "list_.sort()\n",
    "print(\"Min\" , list_[0])\n",
    "print(\"Max\" , list_[-1])"
   ]
  },
  {
   "cell_type": "markdown",
   "id": "255fd554",
   "metadata": {},
   "source": [
    "**60- Write a Python program that finds all pairs of elements in a list whose sum is equal to a given value."
   ]
  },
  {
   "cell_type": "code",
   "execution_count": 2,
   "id": "c2d94e1f",
   "metadata": {},
   "outputs": [
    {
     "data": {
      "text/plain": [
       "[(3, 6), (4, 5), (5, 4), (6, 3)]"
      ]
     },
     "execution_count": 2,
     "metadata": {},
     "output_type": "execute_result"
    }
   ],
   "source": [
    "list = [1,2,3,4,5,6]\n",
    "length = len(list)\n",
    "output=[]\n",
    "for i in range(0,length):\n",
    "    for j in range(0,length):\n",
    "        if list[i] + list[j] ==9:\n",
    "            output.append((list[i],list[j]))\n",
    "output"
   ]
  }
 ],
 "metadata": {
  "kernelspec": {
   "display_name": "Python 3 (ipykernel)",
   "language": "python",
   "name": "python3"
  },
  "language_info": {
   "codemirror_mode": {
    "name": "ipython",
    "version": 3
   },
   "file_extension": ".py",
   "mimetype": "text/x-python",
   "name": "python",
   "nbconvert_exporter": "python",
   "pygments_lexer": "ipython3",
   "version": "3.9.7"
  }
 },
 "nbformat": 4,
 "nbformat_minor": 5
}
