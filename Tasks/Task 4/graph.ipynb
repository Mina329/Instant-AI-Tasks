{
 "cells": [
  {
   "cell_type": "markdown",
   "metadata": {},
   "source": [
    "# NetworkX"
   ]
  },
  {
   "cell_type": "code",
   "execution_count": 2,
   "metadata": {},
   "outputs": [
    {
     "name": "stdout",
     "output_type": "stream",
     "text": [
      "Collecting networkx\n",
      "  Downloading networkx-3.1-py3-none-any.whl (2.1 MB)\n",
      "                                              0.0/2.1 MB ? eta -:--:--\n",
      "                                              0.0/2.1 MB ? eta -:--:--\n",
      "     --                                       0.1/2.1 MB 1.3 MB/s eta 0:00:02\n",
      "     ---                                      0.2/2.1 MB 1.3 MB/s eta 0:00:02\n",
      "     -----                                    0.3/2.1 MB 1.8 MB/s eta 0:00:02\n",
      "     -------                                  0.4/2.1 MB 1.9 MB/s eta 0:00:01\n",
      "     -----------                              0.6/2.1 MB 2.1 MB/s eta 0:00:01\n",
      "     ---------------                          0.8/2.1 MB 2.5 MB/s eta 0:00:01\n",
      "     -------------------                      1.0/2.1 MB 2.9 MB/s eta 0:00:01\n",
      "     ------------------------                 1.2/2.1 MB 3.1 MB/s eta 0:00:01\n",
      "     ---------------------------              1.4/2.1 MB 3.3 MB/s eta 0:00:01\n",
      "     ---------------------------              1.4/2.1 MB 3.3 MB/s eta 0:00:01\n",
      "     ---------------------------              1.4/2.1 MB 3.3 MB/s eta 0:00:01\n",
      "     ---------------------------              1.4/2.1 MB 3.3 MB/s eta 0:00:01\n",
      "     ---------------------------------------  2.1/2.1 MB 3.3 MB/s eta 0:00:01\n",
      "     ---------------------------------------- 2.1/2.1 MB 3.1 MB/s eta 0:00:00\n",
      "Installing collected packages: networkx\n",
      "Successfully installed networkx-3.1\n"
     ]
    },
    {
     "name": "stderr",
     "output_type": "stream",
     "text": [
      "\n",
      "[notice] A new release of pip is available: 23.1.2 -> 23.2\n",
      "[notice] To update, run: python.exe -m pip install --upgrade pip\n"
     ]
    }
   ],
   "source": [
    "!pip install networkx"
   ]
  },
  {
   "cell_type": "code",
   "execution_count": 3,
   "metadata": {},
   "outputs": [],
   "source": [
    "import networkx as nx"
   ]
  },
  {
   "cell_type": "markdown",
   "metadata": {},
   "source": [
    "## create undirected graph"
   ]
  },
  {
   "cell_type": "code",
   "execution_count": 4,
   "metadata": {},
   "outputs": [],
   "source": [
    "graph = nx.Graph()"
   ]
  },
  {
   "cell_type": "markdown",
   "metadata": {},
   "source": [
    "## add nodes and edges"
   ]
  },
  {
   "cell_type": "code",
   "execution_count": 5,
   "metadata": {},
   "outputs": [],
   "source": [
    "graph.add_node(\"a\")\n",
    "graph.add_nodes_from([\"b\",\"c\",\"d\"])\n",
    "\n",
    "graph.add_edge(\"a\",\"b\")\n",
    "graph.add_edges_from([(\"b\",\"c\"),(\"b\",\"d\")])"
   ]
  },
  {
   "cell_type": "markdown",
   "metadata": {},
   "source": [
    "## print info"
   ]
  },
  {
   "cell_type": "code",
   "execution_count": 8,
   "metadata": {},
   "outputs": [
    {
     "name": "stdout",
     "output_type": "stream",
     "text": [
      "Nodes Count 4\n",
      "Nodes ['a', 'b', 'c', 'd']\n",
      "Edges Count 3\n",
      "Edges [('a', 'b'), ('b', 'c'), ('b', 'd')]\n"
     ]
    }
   ],
   "source": [
    "print(\"Nodes Count\" , graph.number_of_nodes())\n",
    "print(\"Nodes\" , graph.nodes())\n",
    "print(\"Edges Count\" , graph.number_of_edges())\n",
    "print(\"Edges\" , graph.edges())\n"
   ]
  },
  {
   "cell_type": "markdown",
   "metadata": {},
   "source": [
    "# igraph"
   ]
  },
  {
   "cell_type": "code",
   "execution_count": 9,
   "metadata": {},
   "outputs": [
    {
     "name": "stdout",
     "output_type": "stream",
     "text": [
      "Collecting igraph\n",
      "  Downloading igraph-0.10.6-cp39-abi3-win_amd64.whl (2.9 MB)\n",
      "                                              0.0/2.9 MB ? eta -:--:--\n",
      "                                              0.0/2.9 MB 1.3 MB/s eta 0:00:03\n",
      "     -                                        0.1/2.9 MB 871.5 kB/s eta 0:00:04\n",
      "     --                                       0.2/2.9 MB 1.1 MB/s eta 0:00:03\n",
      "     ---                                      0.3/2.9 MB 1.5 MB/s eta 0:00:02\n",
      "     ------                                   0.5/2.9 MB 1.9 MB/s eta 0:00:02\n",
      "     --------                                 0.6/2.9 MB 2.4 MB/s eta 0:00:01\n",
      "     ------------                             0.9/2.9 MB 2.8 MB/s eta 0:00:01\n",
      "     --------------                           1.0/2.9 MB 2.9 MB/s eta 0:00:01\n",
      "     ------------------                       1.3/2.9 MB 3.3 MB/s eta 0:00:01\n",
      "     ---------------------                    1.5/2.9 MB 3.3 MB/s eta 0:00:01\n",
      "     ------------------------                 1.8/2.9 MB 3.5 MB/s eta 0:00:01\n",
      "     ---------------------------              2.0/2.9 MB 3.6 MB/s eta 0:00:01\n",
      "     ---------------------------              2.0/2.9 MB 3.6 MB/s eta 0:00:01\n",
      "     ---------------------------              2.0/2.9 MB 3.6 MB/s eta 0:00:01\n",
      "     ------------------------------           2.2/2.9 MB 3.2 MB/s eta 0:00:01\n",
      "     -------------------------------------    2.7/2.9 MB 3.6 MB/s eta 0:00:01\n",
      "     ---------------------------------------  2.9/2.9 MB 3.7 MB/s eta 0:00:01\n",
      "     ---------------------------------------- 2.9/2.9 MB 3.6 MB/s eta 0:00:00\n",
      "Collecting texttable>=1.6.2 (from igraph)\n",
      "  Downloading texttable-1.6.7-py2.py3-none-any.whl (10 kB)\n",
      "Installing collected packages: texttable, igraph\n",
      "Successfully installed igraph-0.10.6 texttable-1.6.7\n"
     ]
    },
    {
     "name": "stderr",
     "output_type": "stream",
     "text": [
      "\n",
      "[notice] A new release of pip is available: 23.1.2 -> 23.2\n",
      "[notice] To update, run: python.exe -m pip install --upgrade pip\n"
     ]
    }
   ],
   "source": [
    "!pip install igraph"
   ]
  },
  {
   "cell_type": "code",
   "execution_count": 10,
   "metadata": {},
   "outputs": [],
   "source": [
    "from igraph import Graph"
   ]
  },
  {
   "cell_type": "markdown",
   "metadata": {},
   "source": [
    "## create directed graph"
   ]
  },
  {
   "cell_type": "code",
   "execution_count": 11,
   "metadata": {},
   "outputs": [],
   "source": [
    "graph = Graph(directed=True)"
   ]
  },
  {
   "cell_type": "markdown",
   "metadata": {},
   "source": [
    "## add nodes and edges"
   ]
  },
  {
   "cell_type": "code",
   "execution_count": 12,
   "metadata": {},
   "outputs": [],
   "source": [
    "graph.add_vertices(5)\n",
    "graph.add_edges([(0, 1), (0, 2), (1, 2), (2, 3), (3, 4), (4, 2)])"
   ]
  },
  {
   "cell_type": "markdown",
   "metadata": {},
   "source": [
    "## print info"
   ]
  },
  {
   "cell_type": "code",
   "execution_count": 42,
   "metadata": {},
   "outputs": [
    {
     "name": "stdout",
     "output_type": "stream",
     "text": [
      "Nodes Count 5\n",
      "Node  [0, 1, 2, 3, 4]\n",
      "Edges Count 6\n",
      "Edges [(0, 1), (0, 2), (1, 2), (2, 3), (3, 4), (4, 2)]\n"
     ]
    }
   ],
   "source": [
    "print(\"Nodes Count\" , graph.vcount())\n",
    "print(\"Node \", graph.vs.indices)\n",
    "print(\"Edges Count\" , graph.ecount())\n",
    "print(\"Edges\" , graph.get_edgelist())\n"
   ]
  },
  {
   "cell_type": "code",
   "execution_count": 1,
   "metadata": {},
   "outputs": [
    {
     "name": "stdout",
     "output_type": "stream",
     "text": [
      "Collecting pygsp\n",
      "  Using cached PyGSP-0.5.1-py2.py3-none-any.whl (1.8 MB)\n",
      "Requirement already satisfied: numpy in c:\\users\\mina\\appdata\\local\\programs\\python\\python311\\lib\\site-packages (from pygsp) (1.25.1)\n",
      "Requirement already satisfied: scipy in c:\\users\\mina\\appdata\\local\\programs\\python\\python311\\lib\\site-packages (from pygsp) (1.11.1)\n",
      "Installing collected packages: pygsp\n",
      "Successfully installed pygsp-0.5.1\n"
     ]
    },
    {
     "name": "stderr",
     "output_type": "stream",
     "text": [
      "\n",
      "[notice] A new release of pip is available: 23.1.2 -> 23.2\n",
      "[notice] To update, run: python.exe -m pip install --upgrade pip\n"
     ]
    },
    {
     "name": "stdout",
     "output_type": "stream",
     "text": [
      "Requirement already satisfied: numpy in c:\\users\\mina\\appdata\\local\\programs\\python\\python311\\lib\\site-packages (1.25.1)\n"
     ]
    },
    {
     "name": "stderr",
     "output_type": "stream",
     "text": [
      "\n",
      "[notice] A new release of pip is available: 23.1.2 -> 23.2\n",
      "[notice] To update, run: python.exe -m pip install --upgrade pip\n"
     ]
    }
   ],
   "source": [
    "!pip install pygsp\n",
    "!pip install numpy"
   ]
  },
  {
   "cell_type": "code",
   "execution_count": 2,
   "metadata": {},
   "outputs": [],
   "source": [
    "import numpy as np\n",
    "from pygsp import graphs, plotting\n"
   ]
  },
  {
   "cell_type": "markdown",
   "metadata": {},
   "source": [
    "## create graph"
   ]
  },
  {
   "cell_type": "code",
   "execution_count": 3,
   "metadata": {},
   "outputs": [
    {
     "name": "stderr",
     "output_type": "stream",
     "text": [
      "2023-07-22 17:56:53,515:[INFO](pygsp.graphs.community.__init__): Constructed using eps-NN with eps = 1.880301546543197\n"
     ]
    }
   ],
   "source": [
    "graph = graphs.Community(N=50, Nc=2, comm_sizes=[25, 25])"
   ]
  },
  {
   "cell_type": "code",
   "execution_count": null,
   "metadata": {},
   "outputs": [],
   "source": []
  }
 ],
 "metadata": {
  "kernelspec": {
   "display_name": "Python 3",
   "language": "python",
   "name": "python3"
  },
  "language_info": {
   "codemirror_mode": {
    "name": "ipython",
    "version": 3
   },
   "file_extension": ".py",
   "mimetype": "text/x-python",
   "name": "python",
   "nbconvert_exporter": "python",
   "pygments_lexer": "ipython3",
   "version": "3.11.4"
  },
  "orig_nbformat": 4
 },
 "nbformat": 4,
 "nbformat_minor": 2
}
