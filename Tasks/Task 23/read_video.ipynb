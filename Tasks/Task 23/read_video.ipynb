{
 "cells": [
  {
   "cell_type": "code",
   "execution_count": 2,
   "metadata": {},
   "outputs": [],
   "source": [
    "import cv2"
   ]
  },
  {
   "cell_type": "markdown",
   "metadata": {},
   "source": [
    "# Stored Video"
   ]
  },
  {
   "cell_type": "code",
   "execution_count": 3,
   "metadata": {},
   "outputs": [],
   "source": [
    "video = cv2.VideoCapture('C:/Users/Mina/Desktop/2023-10-17 14-00-41.mp4')\n",
    "\n",
    "while video.isOpened():\n",
    "    x,frame = video.read()\n",
    "    if not x:\n",
    "        break\n",
    "    cv2.imshow('Video',frame)\n",
    "    if cv2.waitKey(25) & 0xFF == ord('q'):\n",
    "        break\n",
    "video.release()\n",
    "cv2.destroyAllWindows()"
   ]
  },
  {
   "cell_type": "markdown",
   "metadata": {},
   "source": [
    "# RealTime"
   ]
  },
  {
   "cell_type": "code",
   "execution_count": 4,
   "metadata": {},
   "outputs": [],
   "source": [
    "\n",
    "video= cv2.VideoCapture(0) \n",
    "\n",
    "while True:\n",
    "    ret, frame = video.read()\n",
    "    cv2.imshow('Webcam Feed', frame)\n",
    "    if cv2.waitKey(25) & 0xFF == ord('q'):\n",
    "        break\n",
    "\n",
    "video.release()\n",
    "cv2.destroyAllWindows()"
   ]
  },
  {
   "cell_type": "markdown",
   "metadata": {},
   "source": [
    "# Realtime with Audio"
   ]
  },
  {
   "cell_type": "code",
   "execution_count": 15,
   "metadata": {},
   "outputs": [],
   "source": [
    "import cv2\n",
    "import numpy as np\n",
    "import sounddevice as sd\n",
    "\n",
    "video_capture = cv2.VideoCapture(0)\n",
    "audio_duration = 1 \n",
    "sample_rate = 44100\n",
    "\n",
    "def audio_callback(indata, status):\n",
    "    if status:\n",
    "        print(status, flush=True)\n",
    "    if any(indata):\n",
    "        audio_data.extend(indata[:, 0])\n",
    "\n",
    "audio_data = []\n",
    "audio_stream = sd.InputStream(callback=audio_callback, channels=1, samplerate=sample_rate)\n",
    "audio_stream.start()\n",
    "\n",
    "while True:\n",
    "    ret, frame = video_capture.read()\n",
    "    if not ret:\n",
    "        break\n",
    "    cv2.imshow('Video with Audio', frame)\n",
    "    if len(audio_data) >= int(audio_duration * sample_rate):\n",
    "        audio_frame = audio_data[:int(audio_duration * sample_rate)]\n",
    "        audio_data = audio_data[int(audio_duration * sample_rate):]\n",
    "        sd.play(audio_frame, sample_rate)\n",
    "    if cv2.waitKey(1) & 0xFF == ord('q'):\n",
    "        break\n",
    "\n",
    "video_capture.release()\n",
    "cv2.destroyAllWindows()\n",
    "audio_stream.stop()\n",
    "audio_stream.close()\n"
   ]
  }
 ],
 "metadata": {
  "kernelspec": {
   "display_name": "Python 3",
   "language": "python",
   "name": "python3"
  },
  "language_info": {
   "codemirror_mode": {
    "name": "ipython",
    "version": 3
   },
   "file_extension": ".py",
   "mimetype": "text/x-python",
   "name": "python",
   "nbconvert_exporter": "python",
   "pygments_lexer": "ipython3",
   "version": "3.11.4"
  }
 },
 "nbformat": 4,
 "nbformat_minor": 2
}
