{
 "cells": [
  {
   "cell_type": "markdown",
   "id": "a68c0285",
   "metadata": {
    "papermill": {
     "duration": 0.006728,
     "end_time": "2023-10-14T10:52:53.891434",
     "exception": false,
     "start_time": "2023-10-14T10:52:53.884706",
     "status": "completed"
    },
    "tags": []
   },
   "source": [
    "# Imports"
   ]
  },
  {
   "cell_type": "code",
   "execution_count": 1,
   "id": "0a31eae3",
   "metadata": {
    "execution": {
     "iopub.execute_input": "2023-10-14T10:52:53.905967Z",
     "iopub.status.busy": "2023-10-14T10:52:53.905419Z",
     "iopub.status.idle": "2023-10-14T10:52:56.298753Z",
     "shell.execute_reply": "2023-10-14T10:52:56.297946Z"
    },
    "papermill": {
     "duration": 2.403061,
     "end_time": "2023-10-14T10:52:56.300875",
     "exception": false,
     "start_time": "2023-10-14T10:52:53.897814",
     "status": "completed"
    },
    "tags": []
   },
   "outputs": [],
   "source": [
    "import numpy as np\n",
    "import pandas as pd\n",
    "import plotly.express as px\n",
    "import matplotlib.pyplot as plt\n",
    "import plotly.graph_objs as go\n",
    "import seaborn as sns"
   ]
  },
  {
   "cell_type": "code",
   "execution_count": 2,
   "id": "ca145376",
   "metadata": {
    "execution": {
     "iopub.execute_input": "2023-10-14T10:52:56.315513Z",
     "iopub.status.busy": "2023-10-14T10:52:56.314788Z",
     "iopub.status.idle": "2023-10-14T10:52:56.318935Z",
     "shell.execute_reply": "2023-10-14T10:52:56.318224Z"
    },
    "papermill": {
     "duration": 0.013409,
     "end_time": "2023-10-14T10:52:56.320640",
     "exception": false,
     "start_time": "2023-10-14T10:52:56.307231",
     "status": "completed"
    },
    "tags": []
   },
   "outputs": [],
   "source": [
    "pd.options.display.max_columns = None\n"
   ]
  },
  {
   "cell_type": "markdown",
   "id": "fdca1e50",
   "metadata": {
    "papermill": {
     "duration": 0.005748,
     "end_time": "2023-10-14T10:52:56.332578",
     "exception": false,
     "start_time": "2023-10-14T10:52:56.326830",
     "status": "completed"
    },
    "tags": []
   },
   "source": [
    "# Exploring the Data"
   ]
  },
  {
   "cell_type": "code",
   "execution_count": 3,
   "id": "7f0dbce6",
   "metadata": {
    "execution": {
     "iopub.execute_input": "2023-10-14T10:52:56.346997Z",
     "iopub.status.busy": "2023-10-14T10:52:56.346365Z",
     "iopub.status.idle": "2023-10-14T10:52:56.468010Z",
     "shell.execute_reply": "2023-10-14T10:52:56.467267Z"
    },
    "papermill": {
     "duration": 0.131108,
     "end_time": "2023-10-14T10:52:56.469879",
     "exception": false,
     "start_time": "2023-10-14T10:52:56.338771",
     "status": "completed"
    },
    "tags": []
   },
   "outputs": [
    {
     "data": {
      "text/html": [
       "<div>\n",
       "<style scoped>\n",
       "    .dataframe tbody tr th:only-of-type {\n",
       "        vertical-align: middle;\n",
       "    }\n",
       "\n",
       "    .dataframe tbody tr th {\n",
       "        vertical-align: top;\n",
       "    }\n",
       "\n",
       "    .dataframe thead th {\n",
       "        text-align: right;\n",
       "    }\n",
       "</style>\n",
       "<table border=\"1\" class=\"dataframe\">\n",
       "  <thead>\n",
       "    <tr style=\"text-align: right;\">\n",
       "      <th></th>\n",
       "      <th>Row ID</th>\n",
       "      <th>Order ID</th>\n",
       "      <th>Order Date</th>\n",
       "      <th>Ship Date</th>\n",
       "      <th>Ship Mode</th>\n",
       "      <th>Customer ID</th>\n",
       "      <th>Customer Name</th>\n",
       "      <th>Segment</th>\n",
       "      <th>Country</th>\n",
       "      <th>City</th>\n",
       "      <th>State</th>\n",
       "      <th>Postal Code</th>\n",
       "      <th>Region</th>\n",
       "      <th>Product ID</th>\n",
       "      <th>Category</th>\n",
       "      <th>Sub-Category</th>\n",
       "      <th>Product Name</th>\n",
       "      <th>Sales</th>\n",
       "      <th>Quantity</th>\n",
       "      <th>Discount</th>\n",
       "      <th>Profit</th>\n",
       "    </tr>\n",
       "  </thead>\n",
       "  <tbody>\n",
       "    <tr>\n",
       "      <th>0</th>\n",
       "      <td>1</td>\n",
       "      <td>CA-2016-152156</td>\n",
       "      <td>11/8/2016</td>\n",
       "      <td>11/11/2016</td>\n",
       "      <td>Second Class</td>\n",
       "      <td>CG-12520</td>\n",
       "      <td>Claire Gute</td>\n",
       "      <td>Consumer</td>\n",
       "      <td>United States</td>\n",
       "      <td>Henderson</td>\n",
       "      <td>Kentucky</td>\n",
       "      <td>42420</td>\n",
       "      <td>South</td>\n",
       "      <td>FUR-BO-10001798</td>\n",
       "      <td>Furniture</td>\n",
       "      <td>Bookcases</td>\n",
       "      <td>Bush Somerset Collection Bookcase</td>\n",
       "      <td>261.9600</td>\n",
       "      <td>2</td>\n",
       "      <td>0.00</td>\n",
       "      <td>41.9136</td>\n",
       "    </tr>\n",
       "    <tr>\n",
       "      <th>1</th>\n",
       "      <td>2</td>\n",
       "      <td>CA-2016-152156</td>\n",
       "      <td>11/8/2016</td>\n",
       "      <td>11/11/2016</td>\n",
       "      <td>Second Class</td>\n",
       "      <td>CG-12520</td>\n",
       "      <td>Claire Gute</td>\n",
       "      <td>Consumer</td>\n",
       "      <td>United States</td>\n",
       "      <td>Henderson</td>\n",
       "      <td>Kentucky</td>\n",
       "      <td>42420</td>\n",
       "      <td>South</td>\n",
       "      <td>FUR-CH-10000454</td>\n",
       "      <td>Furniture</td>\n",
       "      <td>Chairs</td>\n",
       "      <td>Hon Deluxe Fabric Upholstered Stacking Chairs,...</td>\n",
       "      <td>731.9400</td>\n",
       "      <td>3</td>\n",
       "      <td>0.00</td>\n",
       "      <td>219.5820</td>\n",
       "    </tr>\n",
       "    <tr>\n",
       "      <th>2</th>\n",
       "      <td>3</td>\n",
       "      <td>CA-2016-138688</td>\n",
       "      <td>6/12/2016</td>\n",
       "      <td>6/16/2016</td>\n",
       "      <td>Second Class</td>\n",
       "      <td>DV-13045</td>\n",
       "      <td>Darrin Van Huff</td>\n",
       "      <td>Corporate</td>\n",
       "      <td>United States</td>\n",
       "      <td>Los Angeles</td>\n",
       "      <td>California</td>\n",
       "      <td>90036</td>\n",
       "      <td>West</td>\n",
       "      <td>OFF-LA-10000240</td>\n",
       "      <td>Office Supplies</td>\n",
       "      <td>Labels</td>\n",
       "      <td>Self-Adhesive Address Labels for Typewriters b...</td>\n",
       "      <td>14.6200</td>\n",
       "      <td>2</td>\n",
       "      <td>0.00</td>\n",
       "      <td>6.8714</td>\n",
       "    </tr>\n",
       "    <tr>\n",
       "      <th>3</th>\n",
       "      <td>4</td>\n",
       "      <td>US-2015-108966</td>\n",
       "      <td>10/11/2015</td>\n",
       "      <td>10/18/2015</td>\n",
       "      <td>Standard Class</td>\n",
       "      <td>SO-20335</td>\n",
       "      <td>Sean O'Donnell</td>\n",
       "      <td>Consumer</td>\n",
       "      <td>United States</td>\n",
       "      <td>Fort Lauderdale</td>\n",
       "      <td>Florida</td>\n",
       "      <td>33311</td>\n",
       "      <td>South</td>\n",
       "      <td>FUR-TA-10000577</td>\n",
       "      <td>Furniture</td>\n",
       "      <td>Tables</td>\n",
       "      <td>Bretford CR4500 Series Slim Rectangular Table</td>\n",
       "      <td>957.5775</td>\n",
       "      <td>5</td>\n",
       "      <td>0.45</td>\n",
       "      <td>-383.0310</td>\n",
       "    </tr>\n",
       "    <tr>\n",
       "      <th>4</th>\n",
       "      <td>5</td>\n",
       "      <td>US-2015-108966</td>\n",
       "      <td>10/11/2015</td>\n",
       "      <td>10/18/2015</td>\n",
       "      <td>Standard Class</td>\n",
       "      <td>SO-20335</td>\n",
       "      <td>Sean O'Donnell</td>\n",
       "      <td>Consumer</td>\n",
       "      <td>United States</td>\n",
       "      <td>Fort Lauderdale</td>\n",
       "      <td>Florida</td>\n",
       "      <td>33311</td>\n",
       "      <td>South</td>\n",
       "      <td>OFF-ST-10000760</td>\n",
       "      <td>Office Supplies</td>\n",
       "      <td>Storage</td>\n",
       "      <td>Eldon Fold 'N Roll Cart System</td>\n",
       "      <td>22.3680</td>\n",
       "      <td>2</td>\n",
       "      <td>0.20</td>\n",
       "      <td>2.5164</td>\n",
       "    </tr>\n",
       "  </tbody>\n",
       "</table>\n",
       "</div>"
      ],
      "text/plain": [
       "   Row ID        Order ID  Order Date   Ship Date       Ship Mode Customer ID  \\\n",
       "0       1  CA-2016-152156   11/8/2016  11/11/2016    Second Class    CG-12520   \n",
       "1       2  CA-2016-152156   11/8/2016  11/11/2016    Second Class    CG-12520   \n",
       "2       3  CA-2016-138688   6/12/2016   6/16/2016    Second Class    DV-13045   \n",
       "3       4  US-2015-108966  10/11/2015  10/18/2015  Standard Class    SO-20335   \n",
       "4       5  US-2015-108966  10/11/2015  10/18/2015  Standard Class    SO-20335   \n",
       "\n",
       "     Customer Name    Segment        Country             City       State  \\\n",
       "0      Claire Gute   Consumer  United States        Henderson    Kentucky   \n",
       "1      Claire Gute   Consumer  United States        Henderson    Kentucky   \n",
       "2  Darrin Van Huff  Corporate  United States      Los Angeles  California   \n",
       "3   Sean O'Donnell   Consumer  United States  Fort Lauderdale     Florida   \n",
       "4   Sean O'Donnell   Consumer  United States  Fort Lauderdale     Florida   \n",
       "\n",
       "   Postal Code Region       Product ID         Category Sub-Category  \\\n",
       "0        42420  South  FUR-BO-10001798        Furniture    Bookcases   \n",
       "1        42420  South  FUR-CH-10000454        Furniture       Chairs   \n",
       "2        90036   West  OFF-LA-10000240  Office Supplies       Labels   \n",
       "3        33311  South  FUR-TA-10000577        Furniture       Tables   \n",
       "4        33311  South  OFF-ST-10000760  Office Supplies      Storage   \n",
       "\n",
       "                                        Product Name     Sales  Quantity  \\\n",
       "0                  Bush Somerset Collection Bookcase  261.9600         2   \n",
       "1  Hon Deluxe Fabric Upholstered Stacking Chairs,...  731.9400         3   \n",
       "2  Self-Adhesive Address Labels for Typewriters b...   14.6200         2   \n",
       "3      Bretford CR4500 Series Slim Rectangular Table  957.5775         5   \n",
       "4                     Eldon Fold 'N Roll Cart System   22.3680         2   \n",
       "\n",
       "   Discount    Profit  \n",
       "0      0.00   41.9136  \n",
       "1      0.00  219.5820  \n",
       "2      0.00    6.8714  \n",
       "3      0.45 -383.0310  \n",
       "4      0.20    2.5164  "
      ]
     },
     "execution_count": 3,
     "metadata": {},
     "output_type": "execute_result"
    }
   ],
   "source": [
    "df =pd.read_csv('/kaggle/input/superstore-dataset-final/Sample - Superstore.csv',encoding='latin1')\n",
    "df.head()"
   ]
  },
  {
   "cell_type": "code",
   "execution_count": 4,
   "id": "894db7b6",
   "metadata": {
    "execution": {
     "iopub.execute_input": "2023-10-14T10:52:56.484298Z",
     "iopub.status.busy": "2023-10-14T10:52:56.483749Z",
     "iopub.status.idle": "2023-10-14T10:52:56.499506Z",
     "shell.execute_reply": "2023-10-14T10:52:56.498658Z"
    },
    "papermill": {
     "duration": 0.024927,
     "end_time": "2023-10-14T10:52:56.501295",
     "exception": false,
     "start_time": "2023-10-14T10:52:56.476368",
     "status": "completed"
    },
    "tags": []
   },
   "outputs": [
    {
     "data": {
      "text/plain": [
       "Row ID           0\n",
       "Order ID         0\n",
       "Order Date       0\n",
       "Ship Date        0\n",
       "Ship Mode        0\n",
       "Customer ID      0\n",
       "Customer Name    0\n",
       "Segment          0\n",
       "Country          0\n",
       "City             0\n",
       "State            0\n",
       "Postal Code      0\n",
       "Region           0\n",
       "Product ID       0\n",
       "Category         0\n",
       "Sub-Category     0\n",
       "Product Name     0\n",
       "Sales            0\n",
       "Quantity         0\n",
       "Discount         0\n",
       "Profit           0\n",
       "dtype: int64"
      ]
     },
     "execution_count": 4,
     "metadata": {},
     "output_type": "execute_result"
    }
   ],
   "source": [
    "df.isna().sum()"
   ]
  },
  {
   "cell_type": "code",
   "execution_count": 5,
   "id": "356edd40",
   "metadata": {
    "execution": {
     "iopub.execute_input": "2023-10-14T10:52:56.515680Z",
     "iopub.status.busy": "2023-10-14T10:52:56.515337Z",
     "iopub.status.idle": "2023-10-14T10:52:56.544960Z",
     "shell.execute_reply": "2023-10-14T10:52:56.543626Z"
    },
    "papermill": {
     "duration": 0.039472,
     "end_time": "2023-10-14T10:52:56.547329",
     "exception": false,
     "start_time": "2023-10-14T10:52:56.507857",
     "status": "completed"
    },
    "tags": []
   },
   "outputs": [
    {
     "name": "stdout",
     "output_type": "stream",
     "text": [
      "<class 'pandas.core.frame.DataFrame'>\n",
      "RangeIndex: 9994 entries, 0 to 9993\n",
      "Data columns (total 21 columns):\n",
      " #   Column         Non-Null Count  Dtype  \n",
      "---  ------         --------------  -----  \n",
      " 0   Row ID         9994 non-null   int64  \n",
      " 1   Order ID       9994 non-null   object \n",
      " 2   Order Date     9994 non-null   object \n",
      " 3   Ship Date      9994 non-null   object \n",
      " 4   Ship Mode      9994 non-null   object \n",
      " 5   Customer ID    9994 non-null   object \n",
      " 6   Customer Name  9994 non-null   object \n",
      " 7   Segment        9994 non-null   object \n",
      " 8   Country        9994 non-null   object \n",
      " 9   City           9994 non-null   object \n",
      " 10  State          9994 non-null   object \n",
      " 11  Postal Code    9994 non-null   int64  \n",
      " 12  Region         9994 non-null   object \n",
      " 13  Product ID     9994 non-null   object \n",
      " 14  Category       9994 non-null   object \n",
      " 15  Sub-Category   9994 non-null   object \n",
      " 16  Product Name   9994 non-null   object \n",
      " 17  Sales          9994 non-null   float64\n",
      " 18  Quantity       9994 non-null   int64  \n",
      " 19  Discount       9994 non-null   float64\n",
      " 20  Profit         9994 non-null   float64\n",
      "dtypes: float64(3), int64(3), object(15)\n",
      "memory usage: 1.6+ MB\n"
     ]
    }
   ],
   "source": [
    "df.info()"
   ]
  },
  {
   "cell_type": "code",
   "execution_count": 6,
   "id": "d8e2efb6",
   "metadata": {
    "execution": {
     "iopub.execute_input": "2023-10-14T10:52:56.562527Z",
     "iopub.status.busy": "2023-10-14T10:52:56.562179Z",
     "iopub.status.idle": "2023-10-14T10:52:56.586565Z",
     "shell.execute_reply": "2023-10-14T10:52:56.585791Z"
    },
    "papermill": {
     "duration": 0.034278,
     "end_time": "2023-10-14T10:52:56.588598",
     "exception": false,
     "start_time": "2023-10-14T10:52:56.554320",
     "status": "completed"
    },
    "tags": []
   },
   "outputs": [],
   "source": [
    "df['Order Date'] = pd.to_datetime(df['Order Date'])\n",
    "df['Ship Date'] = pd.to_datetime(df['Ship Date'])"
   ]
  },
  {
   "cell_type": "code",
   "execution_count": 7,
   "id": "dc0c75b2",
   "metadata": {
    "execution": {
     "iopub.execute_input": "2023-10-14T10:52:56.603220Z",
     "iopub.status.busy": "2023-10-14T10:52:56.602901Z",
     "iopub.status.idle": "2023-10-14T10:52:56.611243Z",
     "shell.execute_reply": "2023-10-14T10:52:56.610525Z"
    },
    "papermill": {
     "duration": 0.018047,
     "end_time": "2023-10-14T10:52:56.613258",
     "exception": false,
     "start_time": "2023-10-14T10:52:56.595211",
     "status": "completed"
    },
    "tags": []
   },
   "outputs": [],
   "source": [
    "df['year']=df['Order Date'].dt.year\n",
    "df['month'] = df['Order Date'].dt.month"
   ]
  },
  {
   "cell_type": "code",
   "execution_count": 8,
   "id": "d2b8f079",
   "metadata": {
    "execution": {
     "iopub.execute_input": "2023-10-14T10:52:56.627567Z",
     "iopub.status.busy": "2023-10-14T10:52:56.627279Z",
     "iopub.status.idle": "2023-10-14T10:52:56.669798Z",
     "shell.execute_reply": "2023-10-14T10:52:56.668847Z"
    },
    "papermill": {
     "duration": 0.052439,
     "end_time": "2023-10-14T10:52:56.672102",
     "exception": false,
     "start_time": "2023-10-14T10:52:56.619663",
     "status": "completed"
    },
    "tags": []
   },
   "outputs": [
    {
     "data": {
      "text/html": [
       "<div>\n",
       "<style scoped>\n",
       "    .dataframe tbody tr th:only-of-type {\n",
       "        vertical-align: middle;\n",
       "    }\n",
       "\n",
       "    .dataframe tbody tr th {\n",
       "        vertical-align: top;\n",
       "    }\n",
       "\n",
       "    .dataframe thead th {\n",
       "        text-align: right;\n",
       "    }\n",
       "</style>\n",
       "<table border=\"1\" class=\"dataframe\">\n",
       "  <thead>\n",
       "    <tr style=\"text-align: right;\">\n",
       "      <th></th>\n",
       "      <th>Row ID</th>\n",
       "      <th>Order Date</th>\n",
       "      <th>Ship Date</th>\n",
       "      <th>Postal Code</th>\n",
       "      <th>Sales</th>\n",
       "      <th>Quantity</th>\n",
       "      <th>Discount</th>\n",
       "      <th>Profit</th>\n",
       "      <th>year</th>\n",
       "      <th>month</th>\n",
       "    </tr>\n",
       "  </thead>\n",
       "  <tbody>\n",
       "    <tr>\n",
       "      <th>count</th>\n",
       "      <td>9994.000000</td>\n",
       "      <td>9994</td>\n",
       "      <td>9994</td>\n",
       "      <td>9994.000000</td>\n",
       "      <td>9994.000000</td>\n",
       "      <td>9994.000000</td>\n",
       "      <td>9994.000000</td>\n",
       "      <td>9994.000000</td>\n",
       "      <td>9994.000000</td>\n",
       "      <td>9994.000000</td>\n",
       "    </tr>\n",
       "    <tr>\n",
       "      <th>mean</th>\n",
       "      <td>4997.500000</td>\n",
       "      <td>2016-04-30 00:07:12.259355648</td>\n",
       "      <td>2016-05-03 23:06:58.571142912</td>\n",
       "      <td>55190.379428</td>\n",
       "      <td>229.858001</td>\n",
       "      <td>3.789574</td>\n",
       "      <td>0.156203</td>\n",
       "      <td>28.656896</td>\n",
       "      <td>2015.722233</td>\n",
       "      <td>7.809686</td>\n",
       "    </tr>\n",
       "    <tr>\n",
       "      <th>min</th>\n",
       "      <td>1.000000</td>\n",
       "      <td>2014-01-03 00:00:00</td>\n",
       "      <td>2014-01-07 00:00:00</td>\n",
       "      <td>1040.000000</td>\n",
       "      <td>0.444000</td>\n",
       "      <td>1.000000</td>\n",
       "      <td>0.000000</td>\n",
       "      <td>-6599.978000</td>\n",
       "      <td>2014.000000</td>\n",
       "      <td>1.000000</td>\n",
       "    </tr>\n",
       "    <tr>\n",
       "      <th>25%</th>\n",
       "      <td>2499.250000</td>\n",
       "      <td>2015-05-23 00:00:00</td>\n",
       "      <td>2015-05-27 00:00:00</td>\n",
       "      <td>23223.000000</td>\n",
       "      <td>17.280000</td>\n",
       "      <td>2.000000</td>\n",
       "      <td>0.000000</td>\n",
       "      <td>1.728750</td>\n",
       "      <td>2015.000000</td>\n",
       "      <td>5.000000</td>\n",
       "    </tr>\n",
       "    <tr>\n",
       "      <th>50%</th>\n",
       "      <td>4997.500000</td>\n",
       "      <td>2016-06-26 00:00:00</td>\n",
       "      <td>2016-06-29 00:00:00</td>\n",
       "      <td>56430.500000</td>\n",
       "      <td>54.490000</td>\n",
       "      <td>3.000000</td>\n",
       "      <td>0.200000</td>\n",
       "      <td>8.666500</td>\n",
       "      <td>2016.000000</td>\n",
       "      <td>9.000000</td>\n",
       "    </tr>\n",
       "    <tr>\n",
       "      <th>75%</th>\n",
       "      <td>7495.750000</td>\n",
       "      <td>2017-05-14 00:00:00</td>\n",
       "      <td>2017-05-18 00:00:00</td>\n",
       "      <td>90008.000000</td>\n",
       "      <td>209.940000</td>\n",
       "      <td>5.000000</td>\n",
       "      <td>0.200000</td>\n",
       "      <td>29.364000</td>\n",
       "      <td>2017.000000</td>\n",
       "      <td>11.000000</td>\n",
       "    </tr>\n",
       "    <tr>\n",
       "      <th>max</th>\n",
       "      <td>9994.000000</td>\n",
       "      <td>2017-12-30 00:00:00</td>\n",
       "      <td>2018-01-05 00:00:00</td>\n",
       "      <td>99301.000000</td>\n",
       "      <td>22638.480000</td>\n",
       "      <td>14.000000</td>\n",
       "      <td>0.800000</td>\n",
       "      <td>8399.976000</td>\n",
       "      <td>2017.000000</td>\n",
       "      <td>12.000000</td>\n",
       "    </tr>\n",
       "    <tr>\n",
       "      <th>std</th>\n",
       "      <td>2885.163629</td>\n",
       "      <td>NaN</td>\n",
       "      <td>NaN</td>\n",
       "      <td>32063.693350</td>\n",
       "      <td>623.245101</td>\n",
       "      <td>2.225110</td>\n",
       "      <td>0.206452</td>\n",
       "      <td>234.260108</td>\n",
       "      <td>1.123555</td>\n",
       "      <td>3.284654</td>\n",
       "    </tr>\n",
       "  </tbody>\n",
       "</table>\n",
       "</div>"
      ],
      "text/plain": [
       "            Row ID                     Order Date  \\\n",
       "count  9994.000000                           9994   \n",
       "mean   4997.500000  2016-04-30 00:07:12.259355648   \n",
       "min       1.000000            2014-01-03 00:00:00   \n",
       "25%    2499.250000            2015-05-23 00:00:00   \n",
       "50%    4997.500000            2016-06-26 00:00:00   \n",
       "75%    7495.750000            2017-05-14 00:00:00   \n",
       "max    9994.000000            2017-12-30 00:00:00   \n",
       "std    2885.163629                            NaN   \n",
       "\n",
       "                           Ship Date   Postal Code         Sales     Quantity  \\\n",
       "count                           9994   9994.000000   9994.000000  9994.000000   \n",
       "mean   2016-05-03 23:06:58.571142912  55190.379428    229.858001     3.789574   \n",
       "min              2014-01-07 00:00:00   1040.000000      0.444000     1.000000   \n",
       "25%              2015-05-27 00:00:00  23223.000000     17.280000     2.000000   \n",
       "50%              2016-06-29 00:00:00  56430.500000     54.490000     3.000000   \n",
       "75%              2017-05-18 00:00:00  90008.000000    209.940000     5.000000   \n",
       "max              2018-01-05 00:00:00  99301.000000  22638.480000    14.000000   \n",
       "std                              NaN  32063.693350    623.245101     2.225110   \n",
       "\n",
       "          Discount       Profit         year        month  \n",
       "count  9994.000000  9994.000000  9994.000000  9994.000000  \n",
       "mean      0.156203    28.656896  2015.722233     7.809686  \n",
       "min       0.000000 -6599.978000  2014.000000     1.000000  \n",
       "25%       0.000000     1.728750  2015.000000     5.000000  \n",
       "50%       0.200000     8.666500  2016.000000     9.000000  \n",
       "75%       0.200000    29.364000  2017.000000    11.000000  \n",
       "max       0.800000  8399.976000  2017.000000    12.000000  \n",
       "std       0.206452   234.260108     1.123555     3.284654  "
      ]
     },
     "execution_count": 8,
     "metadata": {},
     "output_type": "execute_result"
    }
   ],
   "source": [
    "df.describe()"
   ]
  },
  {
   "cell_type": "markdown",
   "id": "3de98da8",
   "metadata": {
    "papermill": {
     "duration": 0.006887,
     "end_time": "2023-10-14T10:52:56.686448",
     "exception": false,
     "start_time": "2023-10-14T10:52:56.679561",
     "status": "completed"
    },
    "tags": []
   },
   "source": [
    "# Analysis and Visualization"
   ]
  },
  {
   "cell_type": "code",
   "execution_count": 9,
   "id": "a5254af8",
   "metadata": {
    "execution": {
     "iopub.execute_input": "2023-10-14T10:52:56.701465Z",
     "iopub.status.busy": "2023-10-14T10:52:56.701127Z",
     "iopub.status.idle": "2023-10-14T10:52:56.714534Z",
     "shell.execute_reply": "2023-10-14T10:52:56.713766Z"
    },
    "papermill": {
     "duration": 0.023193,
     "end_time": "2023-10-14T10:52:56.716635",
     "exception": false,
     "start_time": "2023-10-14T10:52:56.693442",
     "status": "completed"
    },
    "tags": []
   },
   "outputs": [],
   "source": [
    "month_Sales = df.groupby(['year','month'])['Sales'].sum().reset_index()\n",
    "month_Profit = df.groupby(['year','month'])['Profit'].sum().reset_index()\n",
    "month_Sales['year_month'] = month_Sales['year'].astype(str) + '-' + month_Sales['month'].astype(str)\n",
    "month_Profit['year_month'] = month_Profit['year'].astype(str) +'-' + month_Profit['month'].astype(str)"
   ]
  },
  {
   "cell_type": "code",
   "execution_count": 10,
   "id": "64f0a4df",
   "metadata": {
    "execution": {
     "iopub.execute_input": "2023-10-14T10:52:56.731795Z",
     "iopub.status.busy": "2023-10-14T10:52:56.731455Z",
     "iopub.status.idle": "2023-10-14T10:52:56.740606Z",
     "shell.execute_reply": "2023-10-14T10:52:56.739679Z"
    },
    "papermill": {
     "duration": 0.019116,
     "end_time": "2023-10-14T10:52:56.742471",
     "exception": false,
     "start_time": "2023-10-14T10:52:56.723355",
     "status": "completed"
    },
    "tags": []
   },
   "outputs": [
    {
     "data": {
      "text/html": [
       "<div>\n",
       "<style scoped>\n",
       "    .dataframe tbody tr th:only-of-type {\n",
       "        vertical-align: middle;\n",
       "    }\n",
       "\n",
       "    .dataframe tbody tr th {\n",
       "        vertical-align: top;\n",
       "    }\n",
       "\n",
       "    .dataframe thead th {\n",
       "        text-align: right;\n",
       "    }\n",
       "</style>\n",
       "<table border=\"1\" class=\"dataframe\">\n",
       "  <thead>\n",
       "    <tr style=\"text-align: right;\">\n",
       "      <th></th>\n",
       "      <th>year</th>\n",
       "      <th>month</th>\n",
       "      <th>Sales</th>\n",
       "      <th>year_month</th>\n",
       "    </tr>\n",
       "  </thead>\n",
       "  <tbody>\n",
       "    <tr>\n",
       "      <th>0</th>\n",
       "      <td>2014</td>\n",
       "      <td>1</td>\n",
       "      <td>14236.895</td>\n",
       "      <td>2014-1</td>\n",
       "    </tr>\n",
       "    <tr>\n",
       "      <th>1</th>\n",
       "      <td>2014</td>\n",
       "      <td>2</td>\n",
       "      <td>4519.892</td>\n",
       "      <td>2014-2</td>\n",
       "    </tr>\n",
       "    <tr>\n",
       "      <th>2</th>\n",
       "      <td>2014</td>\n",
       "      <td>3</td>\n",
       "      <td>55691.009</td>\n",
       "      <td>2014-3</td>\n",
       "    </tr>\n",
       "    <tr>\n",
       "      <th>3</th>\n",
       "      <td>2014</td>\n",
       "      <td>4</td>\n",
       "      <td>28295.345</td>\n",
       "      <td>2014-4</td>\n",
       "    </tr>\n",
       "    <tr>\n",
       "      <th>4</th>\n",
       "      <td>2014</td>\n",
       "      <td>5</td>\n",
       "      <td>23648.287</td>\n",
       "      <td>2014-5</td>\n",
       "    </tr>\n",
       "  </tbody>\n",
       "</table>\n",
       "</div>"
      ],
      "text/plain": [
       "   year  month      Sales year_month\n",
       "0  2014      1  14236.895     2014-1\n",
       "1  2014      2   4519.892     2014-2\n",
       "2  2014      3  55691.009     2014-3\n",
       "3  2014      4  28295.345     2014-4\n",
       "4  2014      5  23648.287     2014-5"
      ]
     },
     "execution_count": 10,
     "metadata": {},
     "output_type": "execute_result"
    }
   ],
   "source": [
    "month_Sales.head()"
   ]
  },
  {
   "cell_type": "markdown",
   "id": "9dc191e7",
   "metadata": {
    "papermill": {
     "duration": 0.006562,
     "end_time": "2023-10-14T10:52:56.756149",
     "exception": false,
     "start_time": "2023-10-14T10:52:56.749587",
     "status": "completed"
    },
    "tags": []
   },
   "source": [
    "## Sales Time Analysis"
   ]
  },
  {
   "cell_type": "code",
   "execution_count": 11,
   "id": "4d19ea31",
   "metadata": {
    "execution": {
     "iopub.execute_input": "2023-10-14T10:52:56.771199Z",
     "iopub.status.busy": "2023-10-14T10:52:56.770882Z",
     "iopub.status.idle": "2023-10-14T10:52:58.435919Z",
     "shell.execute_reply": "2023-10-14T10:52:58.435288Z"
    },
    "papermill": {
     "duration": 1.675188,
     "end_time": "2023-10-14T10:52:58.438067",
     "exception": false,
     "start_time": "2023-10-14T10:52:56.762879",
     "status": "completed"
    },
    "tags": []
   },
   "outputs": [
    {
     "data": {
      "text/html": [
       "        <script type=\"text/javascript\">\n",
       "        window.PlotlyConfig = {MathJaxConfig: 'local'};\n",
       "        if (window.MathJax && window.MathJax.Hub && window.MathJax.Hub.Config) {window.MathJax.Hub.Config({SVG: {font: \"STIX-Web\"}});}\n",
       "        if (typeof require !== 'undefined') {\n",
       "        require.undef(\"plotly\");\n",
       "        requirejs.config({\n",
       "            paths: {\n",
       "                'plotly': ['https://cdn.plot.ly/plotly-2.24.1.min']\n",
       "            }\n",
       "        });\n",
       "        require(['plotly'], function(Plotly) {\n",
       "            window._Plotly = Plotly;\n",
       "        });\n",
       "        }\n",
       "        </script>\n",
       "        "
      ]
     },
     "metadata": {},
     "output_type": "display_data"
    },
    {
     "data": {
      "text/html": [
       "<div>                            <div id=\"22a163fc-317e-4f93-a55d-8c0219323cd5\" class=\"plotly-graph-div\" style=\"height:525px; width:100%;\"></div>            <script type=\"text/javascript\">                require([\"plotly\"], function(Plotly) {                    window.PLOTLYENV=window.PLOTLYENV || {};                                    if (document.getElementById(\"22a163fc-317e-4f93-a55d-8c0219323cd5\")) {                    Plotly.newPlot(                        \"22a163fc-317e-4f93-a55d-8c0219323cd5\",                        [{\"hovertemplate\":\"year_month=%{x}\\u003cbr\\u003eSales=%{y}\\u003cextra\\u003e\\u003c\\u002fextra\\u003e\",\"legendgroup\":\"\",\"line\":{\"color\":\"#636efa\",\"dash\":\"solid\"},\"marker\":{\"symbol\":\"circle\"},\"mode\":\"lines\",\"name\":\"\",\"orientation\":\"v\",\"showlegend\":false,\"x\":[\"2014-1\",\"2014-2\",\"2014-3\",\"2014-4\",\"2014-5\",\"2014-6\",\"2014-7\",\"2014-8\",\"2014-9\",\"2014-10\",\"2014-11\",\"2014-12\",\"2015-1\",\"2015-2\",\"2015-3\",\"2015-4\",\"2015-5\",\"2015-6\",\"2015-7\",\"2015-8\",\"2015-9\",\"2015-10\",\"2015-11\",\"2015-12\",\"2016-1\",\"2016-2\",\"2016-3\",\"2016-4\",\"2016-5\",\"2016-6\",\"2016-7\",\"2016-8\",\"2016-9\",\"2016-10\",\"2016-11\",\"2016-12\",\"2017-1\",\"2017-2\",\"2017-3\",\"2017-4\",\"2017-5\",\"2017-6\",\"2017-7\",\"2017-8\",\"2017-9\",\"2017-10\",\"2017-11\",\"2017-12\"],\"xaxis\":\"x\",\"y\":[14236.895,4519.892,55691.009,28295.345,23648.287,34595.1276,33946.393,27909.4685,81777.3508,31453.393,78628.7167,69545.6205,18174.0756,11951.411,38726.252,34195.2085,30131.6865,24797.292,28765.325,36898.3322,64595.918,31404.9235,75972.5635,74919.5212,18542.490999999998,22978.815,51715.875,38750.039000000004,56987.728,40344.534,39261.963,31115.3743,73410.0249,59687.745,79411.9658,96999.043,43971.374,20301.1334,58872.3528,36521.5361,44261.1102,52981.7257,45264.416,63120.888,87866.652,77776.9232,118447.825,83829.3188],\"yaxis\":\"y\",\"type\":\"scatter\"}],                        {\"template\":{\"data\":{\"histogram2dcontour\":[{\"type\":\"histogram2dcontour\",\"colorbar\":{\"outlinewidth\":0,\"ticks\":\"\"},\"colorscale\":[[0.0,\"#0d0887\"],[0.1111111111111111,\"#46039f\"],[0.2222222222222222,\"#7201a8\"],[0.3333333333333333,\"#9c179e\"],[0.4444444444444444,\"#bd3786\"],[0.5555555555555556,\"#d8576b\"],[0.6666666666666666,\"#ed7953\"],[0.7777777777777778,\"#fb9f3a\"],[0.8888888888888888,\"#fdca26\"],[1.0,\"#f0f921\"]]}],\"choropleth\":[{\"type\":\"choropleth\",\"colorbar\":{\"outlinewidth\":0,\"ticks\":\"\"}}],\"histogram2d\":[{\"type\":\"histogram2d\",\"colorbar\":{\"outlinewidth\":0,\"ticks\":\"\"},\"colorscale\":[[0.0,\"#0d0887\"],[0.1111111111111111,\"#46039f\"],[0.2222222222222222,\"#7201a8\"],[0.3333333333333333,\"#9c179e\"],[0.4444444444444444,\"#bd3786\"],[0.5555555555555556,\"#d8576b\"],[0.6666666666666666,\"#ed7953\"],[0.7777777777777778,\"#fb9f3a\"],[0.8888888888888888,\"#fdca26\"],[1.0,\"#f0f921\"]]}],\"heatmap\":[{\"type\":\"heatmap\",\"colorbar\":{\"outlinewidth\":0,\"ticks\":\"\"},\"colorscale\":[[0.0,\"#0d0887\"],[0.1111111111111111,\"#46039f\"],[0.2222222222222222,\"#7201a8\"],[0.3333333333333333,\"#9c179e\"],[0.4444444444444444,\"#bd3786\"],[0.5555555555555556,\"#d8576b\"],[0.6666666666666666,\"#ed7953\"],[0.7777777777777778,\"#fb9f3a\"],[0.8888888888888888,\"#fdca26\"],[1.0,\"#f0f921\"]]}],\"heatmapgl\":[{\"type\":\"heatmapgl\",\"colorbar\":{\"outlinewidth\":0,\"ticks\":\"\"},\"colorscale\":[[0.0,\"#0d0887\"],[0.1111111111111111,\"#46039f\"],[0.2222222222222222,\"#7201a8\"],[0.3333333333333333,\"#9c179e\"],[0.4444444444444444,\"#bd3786\"],[0.5555555555555556,\"#d8576b\"],[0.6666666666666666,\"#ed7953\"],[0.7777777777777778,\"#fb9f3a\"],[0.8888888888888888,\"#fdca26\"],[1.0,\"#f0f921\"]]}],\"contourcarpet\":[{\"type\":\"contourcarpet\",\"colorbar\":{\"outlinewidth\":0,\"ticks\":\"\"}}],\"contour\":[{\"type\":\"contour\",\"colorbar\":{\"outlinewidth\":0,\"ticks\":\"\"},\"colorscale\":[[0.0,\"#0d0887\"],[0.1111111111111111,\"#46039f\"],[0.2222222222222222,\"#7201a8\"],[0.3333333333333333,\"#9c179e\"],[0.4444444444444444,\"#bd3786\"],[0.5555555555555556,\"#d8576b\"],[0.6666666666666666,\"#ed7953\"],[0.7777777777777778,\"#fb9f3a\"],[0.8888888888888888,\"#fdca26\"],[1.0,\"#f0f921\"]]}],\"surface\":[{\"type\":\"surface\",\"colorbar\":{\"outlinewidth\":0,\"ticks\":\"\"},\"colorscale\":[[0.0,\"#0d0887\"],[0.1111111111111111,\"#46039f\"],[0.2222222222222222,\"#7201a8\"],[0.3333333333333333,\"#9c179e\"],[0.4444444444444444,\"#bd3786\"],[0.5555555555555556,\"#d8576b\"],[0.6666666666666666,\"#ed7953\"],[0.7777777777777778,\"#fb9f3a\"],[0.8888888888888888,\"#fdca26\"],[1.0,\"#f0f921\"]]}],\"mesh3d\":[{\"type\":\"mesh3d\",\"colorbar\":{\"outlinewidth\":0,\"ticks\":\"\"}}],\"scatter\":[{\"fillpattern\":{\"fillmode\":\"overlay\",\"size\":10,\"solidity\":0.2},\"type\":\"scatter\"}],\"parcoords\":[{\"type\":\"parcoords\",\"line\":{\"colorbar\":{\"outlinewidth\":0,\"ticks\":\"\"}}}],\"scatterpolargl\":[{\"type\":\"scatterpolargl\",\"marker\":{\"colorbar\":{\"outlinewidth\":0,\"ticks\":\"\"}}}],\"bar\":[{\"error_x\":{\"color\":\"#2a3f5f\"},\"error_y\":{\"color\":\"#2a3f5f\"},\"marker\":{\"line\":{\"color\":\"#E5ECF6\",\"width\":0.5},\"pattern\":{\"fillmode\":\"overlay\",\"size\":10,\"solidity\":0.2}},\"type\":\"bar\"}],\"scattergeo\":[{\"type\":\"scattergeo\",\"marker\":{\"colorbar\":{\"outlinewidth\":0,\"ticks\":\"\"}}}],\"scatterpolar\":[{\"type\":\"scatterpolar\",\"marker\":{\"colorbar\":{\"outlinewidth\":0,\"ticks\":\"\"}}}],\"histogram\":[{\"marker\":{\"pattern\":{\"fillmode\":\"overlay\",\"size\":10,\"solidity\":0.2}},\"type\":\"histogram\"}],\"scattergl\":[{\"type\":\"scattergl\",\"marker\":{\"colorbar\":{\"outlinewidth\":0,\"ticks\":\"\"}}}],\"scatter3d\":[{\"type\":\"scatter3d\",\"line\":{\"colorbar\":{\"outlinewidth\":0,\"ticks\":\"\"}},\"marker\":{\"colorbar\":{\"outlinewidth\":0,\"ticks\":\"\"}}}],\"scattermapbox\":[{\"type\":\"scattermapbox\",\"marker\":{\"colorbar\":{\"outlinewidth\":0,\"ticks\":\"\"}}}],\"scatterternary\":[{\"type\":\"scatterternary\",\"marker\":{\"colorbar\":{\"outlinewidth\":0,\"ticks\":\"\"}}}],\"scattercarpet\":[{\"type\":\"scattercarpet\",\"marker\":{\"colorbar\":{\"outlinewidth\":0,\"ticks\":\"\"}}}],\"carpet\":[{\"aaxis\":{\"endlinecolor\":\"#2a3f5f\",\"gridcolor\":\"white\",\"linecolor\":\"white\",\"minorgridcolor\":\"white\",\"startlinecolor\":\"#2a3f5f\"},\"baxis\":{\"endlinecolor\":\"#2a3f5f\",\"gridcolor\":\"white\",\"linecolor\":\"white\",\"minorgridcolor\":\"white\",\"startlinecolor\":\"#2a3f5f\"},\"type\":\"carpet\"}],\"table\":[{\"cells\":{\"fill\":{\"color\":\"#EBF0F8\"},\"line\":{\"color\":\"white\"}},\"header\":{\"fill\":{\"color\":\"#C8D4E3\"},\"line\":{\"color\":\"white\"}},\"type\":\"table\"}],\"barpolar\":[{\"marker\":{\"line\":{\"color\":\"#E5ECF6\",\"width\":0.5},\"pattern\":{\"fillmode\":\"overlay\",\"size\":10,\"solidity\":0.2}},\"type\":\"barpolar\"}],\"pie\":[{\"automargin\":true,\"type\":\"pie\"}]},\"layout\":{\"autotypenumbers\":\"strict\",\"colorway\":[\"#636efa\",\"#EF553B\",\"#00cc96\",\"#ab63fa\",\"#FFA15A\",\"#19d3f3\",\"#FF6692\",\"#B6E880\",\"#FF97FF\",\"#FECB52\"],\"font\":{\"color\":\"#2a3f5f\"},\"hovermode\":\"closest\",\"hoverlabel\":{\"align\":\"left\"},\"paper_bgcolor\":\"white\",\"plot_bgcolor\":\"#E5ECF6\",\"polar\":{\"bgcolor\":\"#E5ECF6\",\"angularaxis\":{\"gridcolor\":\"white\",\"linecolor\":\"white\",\"ticks\":\"\"},\"radialaxis\":{\"gridcolor\":\"white\",\"linecolor\":\"white\",\"ticks\":\"\"}},\"ternary\":{\"bgcolor\":\"#E5ECF6\",\"aaxis\":{\"gridcolor\":\"white\",\"linecolor\":\"white\",\"ticks\":\"\"},\"baxis\":{\"gridcolor\":\"white\",\"linecolor\":\"white\",\"ticks\":\"\"},\"caxis\":{\"gridcolor\":\"white\",\"linecolor\":\"white\",\"ticks\":\"\"}},\"coloraxis\":{\"colorbar\":{\"outlinewidth\":0,\"ticks\":\"\"}},\"colorscale\":{\"sequential\":[[0.0,\"#0d0887\"],[0.1111111111111111,\"#46039f\"],[0.2222222222222222,\"#7201a8\"],[0.3333333333333333,\"#9c179e\"],[0.4444444444444444,\"#bd3786\"],[0.5555555555555556,\"#d8576b\"],[0.6666666666666666,\"#ed7953\"],[0.7777777777777778,\"#fb9f3a\"],[0.8888888888888888,\"#fdca26\"],[1.0,\"#f0f921\"]],\"sequentialminus\":[[0.0,\"#0d0887\"],[0.1111111111111111,\"#46039f\"],[0.2222222222222222,\"#7201a8\"],[0.3333333333333333,\"#9c179e\"],[0.4444444444444444,\"#bd3786\"],[0.5555555555555556,\"#d8576b\"],[0.6666666666666666,\"#ed7953\"],[0.7777777777777778,\"#fb9f3a\"],[0.8888888888888888,\"#fdca26\"],[1.0,\"#f0f921\"]],\"diverging\":[[0,\"#8e0152\"],[0.1,\"#c51b7d\"],[0.2,\"#de77ae\"],[0.3,\"#f1b6da\"],[0.4,\"#fde0ef\"],[0.5,\"#f7f7f7\"],[0.6,\"#e6f5d0\"],[0.7,\"#b8e186\"],[0.8,\"#7fbc41\"],[0.9,\"#4d9221\"],[1,\"#276419\"]]},\"xaxis\":{\"gridcolor\":\"white\",\"linecolor\":\"white\",\"ticks\":\"\",\"title\":{\"standoff\":15},\"zerolinecolor\":\"white\",\"automargin\":true,\"zerolinewidth\":2},\"yaxis\":{\"gridcolor\":\"white\",\"linecolor\":\"white\",\"ticks\":\"\",\"title\":{\"standoff\":15},\"zerolinecolor\":\"white\",\"automargin\":true,\"zerolinewidth\":2},\"scene\":{\"xaxis\":{\"backgroundcolor\":\"#E5ECF6\",\"gridcolor\":\"white\",\"linecolor\":\"white\",\"showbackground\":true,\"ticks\":\"\",\"zerolinecolor\":\"white\",\"gridwidth\":2},\"yaxis\":{\"backgroundcolor\":\"#E5ECF6\",\"gridcolor\":\"white\",\"linecolor\":\"white\",\"showbackground\":true,\"ticks\":\"\",\"zerolinecolor\":\"white\",\"gridwidth\":2},\"zaxis\":{\"backgroundcolor\":\"#E5ECF6\",\"gridcolor\":\"white\",\"linecolor\":\"white\",\"showbackground\":true,\"ticks\":\"\",\"zerolinecolor\":\"white\",\"gridwidth\":2}},\"shapedefaults\":{\"line\":{\"color\":\"#2a3f5f\"}},\"annotationdefaults\":{\"arrowcolor\":\"#2a3f5f\",\"arrowhead\":0,\"arrowwidth\":1},\"geo\":{\"bgcolor\":\"white\",\"landcolor\":\"#E5ECF6\",\"subunitcolor\":\"white\",\"showland\":true,\"showlakes\":true,\"lakecolor\":\"white\"},\"title\":{\"x\":0.05},\"mapbox\":{\"style\":\"light\"}}},\"xaxis\":{\"anchor\":\"y\",\"domain\":[0.0,1.0],\"title\":{\"text\":\"year_month\"}},\"yaxis\":{\"anchor\":\"x\",\"domain\":[0.0,1.0],\"title\":{\"text\":\"Sales\"}},\"legend\":{\"tracegroupgap\":0},\"title\":{\"text\":\"Time Analysis of Sales\"}},                        {\"responsive\": true}                    ).then(function(){\n",
       "                            \n",
       "var gd = document.getElementById('22a163fc-317e-4f93-a55d-8c0219323cd5');\n",
       "var x = new MutationObserver(function (mutations, observer) {{\n",
       "        var display = window.getComputedStyle(gd).display;\n",
       "        if (!display || display === 'none') {{\n",
       "            console.log([gd, 'removed!']);\n",
       "            Plotly.purge(gd);\n",
       "            observer.disconnect();\n",
       "        }}\n",
       "}});\n",
       "\n",
       "// Listen for the removal of the full notebook cells\n",
       "var notebookContainer = gd.closest('#notebook-container');\n",
       "if (notebookContainer) {{\n",
       "    x.observe(notebookContainer, {childList: true});\n",
       "}}\n",
       "\n",
       "// Listen for the clearing of the current output cell\n",
       "var outputEl = gd.closest('.output');\n",
       "if (outputEl) {{\n",
       "    x.observe(outputEl, {childList: true});\n",
       "}}\n",
       "\n",
       "                        })                };                });            </script>        </div>"
      ]
     },
     "metadata": {},
     "output_type": "display_data"
    }
   ],
   "source": [
    "px.line(data_frame=month_Sales,x='year_month',y='Sales',title='Time Analysis of Sales')"
   ]
  },
  {
   "cell_type": "markdown",
   "id": "fd553a7e",
   "metadata": {
    "papermill": {
     "duration": 0.006978,
     "end_time": "2023-10-14T10:52:58.452515",
     "exception": false,
     "start_time": "2023-10-14T10:52:58.445537",
     "status": "completed"
    },
    "tags": []
   },
   "source": [
    "## Profit Time Analysis"
   ]
  },
  {
   "cell_type": "code",
   "execution_count": 12,
   "id": "077b0c20",
   "metadata": {
    "execution": {
     "iopub.execute_input": "2023-10-14T10:52:58.469032Z",
     "iopub.status.busy": "2023-10-14T10:52:58.468061Z",
     "iopub.status.idle": "2023-10-14T10:52:58.517891Z",
     "shell.execute_reply": "2023-10-14T10:52:58.517052Z"
    },
    "papermill": {
     "duration": 0.060042,
     "end_time": "2023-10-14T10:52:58.519817",
     "exception": false,
     "start_time": "2023-10-14T10:52:58.459775",
     "status": "completed"
    },
    "tags": []
   },
   "outputs": [
    {
     "data": {
      "text/html": [
       "<div>                            <div id=\"dff98628-61de-4762-a3ab-d335f912ca31\" class=\"plotly-graph-div\" style=\"height:525px; width:100%;\"></div>            <script type=\"text/javascript\">                require([\"plotly\"], function(Plotly) {                    window.PLOTLYENV=window.PLOTLYENV || {};                                    if (document.getElementById(\"dff98628-61de-4762-a3ab-d335f912ca31\")) {                    Plotly.newPlot(                        \"dff98628-61de-4762-a3ab-d335f912ca31\",                        [{\"hovertemplate\":\"year_month=%{x}\\u003cbr\\u003eProfit=%{y}\\u003cextra\\u003e\\u003c\\u002fextra\\u003e\",\"legendgroup\":\"\",\"line\":{\"color\":\"#636efa\",\"dash\":\"solid\"},\"marker\":{\"symbol\":\"circle\"},\"mode\":\"lines\",\"name\":\"\",\"orientation\":\"v\",\"showlegend\":false,\"x\":[\"2014-1\",\"2014-2\",\"2014-3\",\"2014-4\",\"2014-5\",\"2014-6\",\"2014-7\",\"2014-8\",\"2014-9\",\"2014-10\",\"2014-11\",\"2014-12\",\"2015-1\",\"2015-2\",\"2015-3\",\"2015-4\",\"2015-5\",\"2015-6\",\"2015-7\",\"2015-8\",\"2015-9\",\"2015-10\",\"2015-11\",\"2015-12\",\"2016-1\",\"2016-2\",\"2016-3\",\"2016-4\",\"2016-5\",\"2016-6\",\"2016-7\",\"2016-8\",\"2016-9\",\"2016-10\",\"2016-11\",\"2016-12\",\"2017-1\",\"2017-2\",\"2017-3\",\"2017-4\",\"2017-5\",\"2017-6\",\"2017-7\",\"2017-8\",\"2017-9\",\"2017-10\",\"2017-11\",\"2017-12\"],\"xaxis\":\"x\",\"y\":[2450.1907,862.3084,498.7299,3488.8352,2738.7096,4976.5244,-841.4826000000002,5318.105,8328.0994,3448.2573,9292.1269,8983.5699,-3281.007,2813.8508,9732.0978,4187.4962,4667.869,3335.5572,3288.6483,5355.8084,8209.1627,2817.366,12474.7884,8016.9659,2824.8233,5004.5795,3611.9680000000003,2977.8149,8662.1464,4750.3781,4432.8778999999995,2062.0693,9328.6576,16243.142500000002,4011.4075,17885.3093,7140.4391,1613.8719999999998,14751.891500000002,933.2899999999998,6342.5828,8223.3357,6952.6212,9040.9557,10991.5556,9275.2755,9690.1037,8483.346800000001],\"yaxis\":\"y\",\"type\":\"scatter\"}],                        {\"template\":{\"data\":{\"histogram2dcontour\":[{\"type\":\"histogram2dcontour\",\"colorbar\":{\"outlinewidth\":0,\"ticks\":\"\"},\"colorscale\":[[0.0,\"#0d0887\"],[0.1111111111111111,\"#46039f\"],[0.2222222222222222,\"#7201a8\"],[0.3333333333333333,\"#9c179e\"],[0.4444444444444444,\"#bd3786\"],[0.5555555555555556,\"#d8576b\"],[0.6666666666666666,\"#ed7953\"],[0.7777777777777778,\"#fb9f3a\"],[0.8888888888888888,\"#fdca26\"],[1.0,\"#f0f921\"]]}],\"choropleth\":[{\"type\":\"choropleth\",\"colorbar\":{\"outlinewidth\":0,\"ticks\":\"\"}}],\"histogram2d\":[{\"type\":\"histogram2d\",\"colorbar\":{\"outlinewidth\":0,\"ticks\":\"\"},\"colorscale\":[[0.0,\"#0d0887\"],[0.1111111111111111,\"#46039f\"],[0.2222222222222222,\"#7201a8\"],[0.3333333333333333,\"#9c179e\"],[0.4444444444444444,\"#bd3786\"],[0.5555555555555556,\"#d8576b\"],[0.6666666666666666,\"#ed7953\"],[0.7777777777777778,\"#fb9f3a\"],[0.8888888888888888,\"#fdca26\"],[1.0,\"#f0f921\"]]}],\"heatmap\":[{\"type\":\"heatmap\",\"colorbar\":{\"outlinewidth\":0,\"ticks\":\"\"},\"colorscale\":[[0.0,\"#0d0887\"],[0.1111111111111111,\"#46039f\"],[0.2222222222222222,\"#7201a8\"],[0.3333333333333333,\"#9c179e\"],[0.4444444444444444,\"#bd3786\"],[0.5555555555555556,\"#d8576b\"],[0.6666666666666666,\"#ed7953\"],[0.7777777777777778,\"#fb9f3a\"],[0.8888888888888888,\"#fdca26\"],[1.0,\"#f0f921\"]]}],\"heatmapgl\":[{\"type\":\"heatmapgl\",\"colorbar\":{\"outlinewidth\":0,\"ticks\":\"\"},\"colorscale\":[[0.0,\"#0d0887\"],[0.1111111111111111,\"#46039f\"],[0.2222222222222222,\"#7201a8\"],[0.3333333333333333,\"#9c179e\"],[0.4444444444444444,\"#bd3786\"],[0.5555555555555556,\"#d8576b\"],[0.6666666666666666,\"#ed7953\"],[0.7777777777777778,\"#fb9f3a\"],[0.8888888888888888,\"#fdca26\"],[1.0,\"#f0f921\"]]}],\"contourcarpet\":[{\"type\":\"contourcarpet\",\"colorbar\":{\"outlinewidth\":0,\"ticks\":\"\"}}],\"contour\":[{\"type\":\"contour\",\"colorbar\":{\"outlinewidth\":0,\"ticks\":\"\"},\"colorscale\":[[0.0,\"#0d0887\"],[0.1111111111111111,\"#46039f\"],[0.2222222222222222,\"#7201a8\"],[0.3333333333333333,\"#9c179e\"],[0.4444444444444444,\"#bd3786\"],[0.5555555555555556,\"#d8576b\"],[0.6666666666666666,\"#ed7953\"],[0.7777777777777778,\"#fb9f3a\"],[0.8888888888888888,\"#fdca26\"],[1.0,\"#f0f921\"]]}],\"surface\":[{\"type\":\"surface\",\"colorbar\":{\"outlinewidth\":0,\"ticks\":\"\"},\"colorscale\":[[0.0,\"#0d0887\"],[0.1111111111111111,\"#46039f\"],[0.2222222222222222,\"#7201a8\"],[0.3333333333333333,\"#9c179e\"],[0.4444444444444444,\"#bd3786\"],[0.5555555555555556,\"#d8576b\"],[0.6666666666666666,\"#ed7953\"],[0.7777777777777778,\"#fb9f3a\"],[0.8888888888888888,\"#fdca26\"],[1.0,\"#f0f921\"]]}],\"mesh3d\":[{\"type\":\"mesh3d\",\"colorbar\":{\"outlinewidth\":0,\"ticks\":\"\"}}],\"scatter\":[{\"fillpattern\":{\"fillmode\":\"overlay\",\"size\":10,\"solidity\":0.2},\"type\":\"scatter\"}],\"parcoords\":[{\"type\":\"parcoords\",\"line\":{\"colorbar\":{\"outlinewidth\":0,\"ticks\":\"\"}}}],\"scatterpolargl\":[{\"type\":\"scatterpolargl\",\"marker\":{\"colorbar\":{\"outlinewidth\":0,\"ticks\":\"\"}}}],\"bar\":[{\"error_x\":{\"color\":\"#2a3f5f\"},\"error_y\":{\"color\":\"#2a3f5f\"},\"marker\":{\"line\":{\"color\":\"#E5ECF6\",\"width\":0.5},\"pattern\":{\"fillmode\":\"overlay\",\"size\":10,\"solidity\":0.2}},\"type\":\"bar\"}],\"scattergeo\":[{\"type\":\"scattergeo\",\"marker\":{\"colorbar\":{\"outlinewidth\":0,\"ticks\":\"\"}}}],\"scatterpolar\":[{\"type\":\"scatterpolar\",\"marker\":{\"colorbar\":{\"outlinewidth\":0,\"ticks\":\"\"}}}],\"histogram\":[{\"marker\":{\"pattern\":{\"fillmode\":\"overlay\",\"size\":10,\"solidity\":0.2}},\"type\":\"histogram\"}],\"scattergl\":[{\"type\":\"scattergl\",\"marker\":{\"colorbar\":{\"outlinewidth\":0,\"ticks\":\"\"}}}],\"scatter3d\":[{\"type\":\"scatter3d\",\"line\":{\"colorbar\":{\"outlinewidth\":0,\"ticks\":\"\"}},\"marker\":{\"colorbar\":{\"outlinewidth\":0,\"ticks\":\"\"}}}],\"scattermapbox\":[{\"type\":\"scattermapbox\",\"marker\":{\"colorbar\":{\"outlinewidth\":0,\"ticks\":\"\"}}}],\"scatterternary\":[{\"type\":\"scatterternary\",\"marker\":{\"colorbar\":{\"outlinewidth\":0,\"ticks\":\"\"}}}],\"scattercarpet\":[{\"type\":\"scattercarpet\",\"marker\":{\"colorbar\":{\"outlinewidth\":0,\"ticks\":\"\"}}}],\"carpet\":[{\"aaxis\":{\"endlinecolor\":\"#2a3f5f\",\"gridcolor\":\"white\",\"linecolor\":\"white\",\"minorgridcolor\":\"white\",\"startlinecolor\":\"#2a3f5f\"},\"baxis\":{\"endlinecolor\":\"#2a3f5f\",\"gridcolor\":\"white\",\"linecolor\":\"white\",\"minorgridcolor\":\"white\",\"startlinecolor\":\"#2a3f5f\"},\"type\":\"carpet\"}],\"table\":[{\"cells\":{\"fill\":{\"color\":\"#EBF0F8\"},\"line\":{\"color\":\"white\"}},\"header\":{\"fill\":{\"color\":\"#C8D4E3\"},\"line\":{\"color\":\"white\"}},\"type\":\"table\"}],\"barpolar\":[{\"marker\":{\"line\":{\"color\":\"#E5ECF6\",\"width\":0.5},\"pattern\":{\"fillmode\":\"overlay\",\"size\":10,\"solidity\":0.2}},\"type\":\"barpolar\"}],\"pie\":[{\"automargin\":true,\"type\":\"pie\"}]},\"layout\":{\"autotypenumbers\":\"strict\",\"colorway\":[\"#636efa\",\"#EF553B\",\"#00cc96\",\"#ab63fa\",\"#FFA15A\",\"#19d3f3\",\"#FF6692\",\"#B6E880\",\"#FF97FF\",\"#FECB52\"],\"font\":{\"color\":\"#2a3f5f\"},\"hovermode\":\"closest\",\"hoverlabel\":{\"align\":\"left\"},\"paper_bgcolor\":\"white\",\"plot_bgcolor\":\"#E5ECF6\",\"polar\":{\"bgcolor\":\"#E5ECF6\",\"angularaxis\":{\"gridcolor\":\"white\",\"linecolor\":\"white\",\"ticks\":\"\"},\"radialaxis\":{\"gridcolor\":\"white\",\"linecolor\":\"white\",\"ticks\":\"\"}},\"ternary\":{\"bgcolor\":\"#E5ECF6\",\"aaxis\":{\"gridcolor\":\"white\",\"linecolor\":\"white\",\"ticks\":\"\"},\"baxis\":{\"gridcolor\":\"white\",\"linecolor\":\"white\",\"ticks\":\"\"},\"caxis\":{\"gridcolor\":\"white\",\"linecolor\":\"white\",\"ticks\":\"\"}},\"coloraxis\":{\"colorbar\":{\"outlinewidth\":0,\"ticks\":\"\"}},\"colorscale\":{\"sequential\":[[0.0,\"#0d0887\"],[0.1111111111111111,\"#46039f\"],[0.2222222222222222,\"#7201a8\"],[0.3333333333333333,\"#9c179e\"],[0.4444444444444444,\"#bd3786\"],[0.5555555555555556,\"#d8576b\"],[0.6666666666666666,\"#ed7953\"],[0.7777777777777778,\"#fb9f3a\"],[0.8888888888888888,\"#fdca26\"],[1.0,\"#f0f921\"]],\"sequentialminus\":[[0.0,\"#0d0887\"],[0.1111111111111111,\"#46039f\"],[0.2222222222222222,\"#7201a8\"],[0.3333333333333333,\"#9c179e\"],[0.4444444444444444,\"#bd3786\"],[0.5555555555555556,\"#d8576b\"],[0.6666666666666666,\"#ed7953\"],[0.7777777777777778,\"#fb9f3a\"],[0.8888888888888888,\"#fdca26\"],[1.0,\"#f0f921\"]],\"diverging\":[[0,\"#8e0152\"],[0.1,\"#c51b7d\"],[0.2,\"#de77ae\"],[0.3,\"#f1b6da\"],[0.4,\"#fde0ef\"],[0.5,\"#f7f7f7\"],[0.6,\"#e6f5d0\"],[0.7,\"#b8e186\"],[0.8,\"#7fbc41\"],[0.9,\"#4d9221\"],[1,\"#276419\"]]},\"xaxis\":{\"gridcolor\":\"white\",\"linecolor\":\"white\",\"ticks\":\"\",\"title\":{\"standoff\":15},\"zerolinecolor\":\"white\",\"automargin\":true,\"zerolinewidth\":2},\"yaxis\":{\"gridcolor\":\"white\",\"linecolor\":\"white\",\"ticks\":\"\",\"title\":{\"standoff\":15},\"zerolinecolor\":\"white\",\"automargin\":true,\"zerolinewidth\":2},\"scene\":{\"xaxis\":{\"backgroundcolor\":\"#E5ECF6\",\"gridcolor\":\"white\",\"linecolor\":\"white\",\"showbackground\":true,\"ticks\":\"\",\"zerolinecolor\":\"white\",\"gridwidth\":2},\"yaxis\":{\"backgroundcolor\":\"#E5ECF6\",\"gridcolor\":\"white\",\"linecolor\":\"white\",\"showbackground\":true,\"ticks\":\"\",\"zerolinecolor\":\"white\",\"gridwidth\":2},\"zaxis\":{\"backgroundcolor\":\"#E5ECF6\",\"gridcolor\":\"white\",\"linecolor\":\"white\",\"showbackground\":true,\"ticks\":\"\",\"zerolinecolor\":\"white\",\"gridwidth\":2}},\"shapedefaults\":{\"line\":{\"color\":\"#2a3f5f\"}},\"annotationdefaults\":{\"arrowcolor\":\"#2a3f5f\",\"arrowhead\":0,\"arrowwidth\":1},\"geo\":{\"bgcolor\":\"white\",\"landcolor\":\"#E5ECF6\",\"subunitcolor\":\"white\",\"showland\":true,\"showlakes\":true,\"lakecolor\":\"white\"},\"title\":{\"x\":0.05},\"mapbox\":{\"style\":\"light\"}}},\"xaxis\":{\"anchor\":\"y\",\"domain\":[0.0,1.0],\"title\":{\"text\":\"year_month\"}},\"yaxis\":{\"anchor\":\"x\",\"domain\":[0.0,1.0],\"title\":{\"text\":\"Profit\"}},\"legend\":{\"tracegroupgap\":0},\"title\":{\"text\":\"Time Analysis of Profit\"}},                        {\"responsive\": true}                    ).then(function(){\n",
       "                            \n",
       "var gd = document.getElementById('dff98628-61de-4762-a3ab-d335f912ca31');\n",
       "var x = new MutationObserver(function (mutations, observer) {{\n",
       "        var display = window.getComputedStyle(gd).display;\n",
       "        if (!display || display === 'none') {{\n",
       "            console.log([gd, 'removed!']);\n",
       "            Plotly.purge(gd);\n",
       "            observer.disconnect();\n",
       "        }}\n",
       "}});\n",
       "\n",
       "// Listen for the removal of the full notebook cells\n",
       "var notebookContainer = gd.closest('#notebook-container');\n",
       "if (notebookContainer) {{\n",
       "    x.observe(notebookContainer, {childList: true});\n",
       "}}\n",
       "\n",
       "// Listen for the clearing of the current output cell\n",
       "var outputEl = gd.closest('.output');\n",
       "if (outputEl) {{\n",
       "    x.observe(outputEl, {childList: true});\n",
       "}}\n",
       "\n",
       "                        })                };                });            </script>        </div>"
      ]
     },
     "metadata": {},
     "output_type": "display_data"
    }
   ],
   "source": [
    "px.line(data_frame=month_Profit,x='year_month',y='Profit',title='Time Analysis of Profit')"
   ]
  },
  {
   "cell_type": "markdown",
   "id": "716f8fda",
   "metadata": {
    "papermill": {
     "duration": 0.007308,
     "end_time": "2023-10-14T10:52:58.535136",
     "exception": false,
     "start_time": "2023-10-14T10:52:58.527828",
     "status": "completed"
    },
    "tags": []
   },
   "source": [
    "## Sales and Profit Time Analysis"
   ]
  },
  {
   "cell_type": "code",
   "execution_count": 13,
   "id": "cc396164",
   "metadata": {
    "execution": {
     "iopub.execute_input": "2023-10-14T10:52:58.552281Z",
     "iopub.status.busy": "2023-10-14T10:52:58.551892Z",
     "iopub.status.idle": "2023-10-14T10:52:58.645897Z",
     "shell.execute_reply": "2023-10-14T10:52:58.645070Z"
    },
    "papermill": {
     "duration": 0.104949,
     "end_time": "2023-10-14T10:52:58.647752",
     "exception": false,
     "start_time": "2023-10-14T10:52:58.542803",
     "status": "completed"
    },
    "tags": []
   },
   "outputs": [
    {
     "data": {
      "text/html": [
       "<div>                            <div id=\"525e6a60-c4a8-46d2-b977-0ce3759d2862\" class=\"plotly-graph-div\" style=\"height:525px; width:100%;\"></div>            <script type=\"text/javascript\">                require([\"plotly\"], function(Plotly) {                    window.PLOTLYENV=window.PLOTLYENV || {};                                    if (document.getElementById(\"525e6a60-c4a8-46d2-b977-0ce3759d2862\")) {                    Plotly.newPlot(                        \"525e6a60-c4a8-46d2-b977-0ce3759d2862\",                        [{\"hovertemplate\":\"year_month=%{x}\\u003cbr\\u003eSales=%{y}\\u003cextra\\u003e\\u003c\\u002fextra\\u003e\",\"legendgroup\":\"\",\"line\":{\"color\":\"blue\",\"dash\":\"solid\"},\"marker\":{\"symbol\":\"circle\"},\"mode\":\"lines\",\"name\":\"Sales\",\"orientation\":\"v\",\"showlegend\":true,\"x\":[\"2014-1\",\"2014-2\",\"2014-3\",\"2014-4\",\"2014-5\",\"2014-6\",\"2014-7\",\"2014-8\",\"2014-9\",\"2014-10\",\"2014-11\",\"2014-12\",\"2015-1\",\"2015-2\",\"2015-3\",\"2015-4\",\"2015-5\",\"2015-6\",\"2015-7\",\"2015-8\",\"2015-9\",\"2015-10\",\"2015-11\",\"2015-12\",\"2016-1\",\"2016-2\",\"2016-3\",\"2016-4\",\"2016-5\",\"2016-6\",\"2016-7\",\"2016-8\",\"2016-9\",\"2016-10\",\"2016-11\",\"2016-12\",\"2017-1\",\"2017-2\",\"2017-3\",\"2017-4\",\"2017-5\",\"2017-6\",\"2017-7\",\"2017-8\",\"2017-9\",\"2017-10\",\"2017-11\",\"2017-12\"],\"xaxis\":\"x\",\"y\":[14236.895,4519.892,55691.009,28295.345,23648.287,34595.1276,33946.393,27909.4685,81777.3508,31453.393,78628.7167,69545.6205,18174.0756,11951.411,38726.252,34195.2085,30131.6865,24797.292,28765.325,36898.3322,64595.918,31404.9235,75972.5635,74919.5212,18542.490999999998,22978.815,51715.875,38750.039000000004,56987.728,40344.534,39261.963,31115.3743,73410.0249,59687.745,79411.9658,96999.043,43971.374,20301.1334,58872.3528,36521.5361,44261.1102,52981.7257,45264.416,63120.888,87866.652,77776.9232,118447.825,83829.3188],\"yaxis\":\"y\",\"type\":\"scatter\"},{\"hovertemplate\":\"year_month=%{x}\\u003cbr\\u003eProfit=%{y}\\u003cextra\\u003e\\u003c\\u002fextra\\u003e\",\"legendgroup\":\"\",\"line\":{\"color\":\"red\",\"dash\":\"solid\"},\"marker\":{\"symbol\":\"circle\"},\"mode\":\"lines\",\"name\":\"Profit\",\"orientation\":\"v\",\"showlegend\":true,\"x\":[\"2014-1\",\"2014-2\",\"2014-3\",\"2014-4\",\"2014-5\",\"2014-6\",\"2014-7\",\"2014-8\",\"2014-9\",\"2014-10\",\"2014-11\",\"2014-12\",\"2015-1\",\"2015-2\",\"2015-3\",\"2015-4\",\"2015-5\",\"2015-6\",\"2015-7\",\"2015-8\",\"2015-9\",\"2015-10\",\"2015-11\",\"2015-12\",\"2016-1\",\"2016-2\",\"2016-3\",\"2016-4\",\"2016-5\",\"2016-6\",\"2016-7\",\"2016-8\",\"2016-9\",\"2016-10\",\"2016-11\",\"2016-12\",\"2017-1\",\"2017-2\",\"2017-3\",\"2017-4\",\"2017-5\",\"2017-6\",\"2017-7\",\"2017-8\",\"2017-9\",\"2017-10\",\"2017-11\",\"2017-12\"],\"xaxis\":\"x\",\"y\":[2450.1907,862.3084,498.7299,3488.8352,2738.7096,4976.5244,-841.4826000000002,5318.105,8328.0994,3448.2573,9292.1269,8983.5699,-3281.007,2813.8508,9732.0978,4187.4962,4667.869,3335.5572,3288.6483,5355.8084,8209.1627,2817.366,12474.7884,8016.9659,2824.8233,5004.5795,3611.9680000000003,2977.8149,8662.1464,4750.3781,4432.8778999999995,2062.0693,9328.6576,16243.142500000002,4011.4075,17885.3093,7140.4391,1613.8719999999998,14751.891500000002,933.2899999999998,6342.5828,8223.3357,6952.6212,9040.9557,10991.5556,9275.2755,9690.1037,8483.346800000001],\"yaxis\":\"y\",\"type\":\"scatter\"}],                        {\"template\":{\"data\":{\"histogram2dcontour\":[{\"type\":\"histogram2dcontour\",\"colorbar\":{\"outlinewidth\":0,\"ticks\":\"\"},\"colorscale\":[[0.0,\"#0d0887\"],[0.1111111111111111,\"#46039f\"],[0.2222222222222222,\"#7201a8\"],[0.3333333333333333,\"#9c179e\"],[0.4444444444444444,\"#bd3786\"],[0.5555555555555556,\"#d8576b\"],[0.6666666666666666,\"#ed7953\"],[0.7777777777777778,\"#fb9f3a\"],[0.8888888888888888,\"#fdca26\"],[1.0,\"#f0f921\"]]}],\"choropleth\":[{\"type\":\"choropleth\",\"colorbar\":{\"outlinewidth\":0,\"ticks\":\"\"}}],\"histogram2d\":[{\"type\":\"histogram2d\",\"colorbar\":{\"outlinewidth\":0,\"ticks\":\"\"},\"colorscale\":[[0.0,\"#0d0887\"],[0.1111111111111111,\"#46039f\"],[0.2222222222222222,\"#7201a8\"],[0.3333333333333333,\"#9c179e\"],[0.4444444444444444,\"#bd3786\"],[0.5555555555555556,\"#d8576b\"],[0.6666666666666666,\"#ed7953\"],[0.7777777777777778,\"#fb9f3a\"],[0.8888888888888888,\"#fdca26\"],[1.0,\"#f0f921\"]]}],\"heatmap\":[{\"type\":\"heatmap\",\"colorbar\":{\"outlinewidth\":0,\"ticks\":\"\"},\"colorscale\":[[0.0,\"#0d0887\"],[0.1111111111111111,\"#46039f\"],[0.2222222222222222,\"#7201a8\"],[0.3333333333333333,\"#9c179e\"],[0.4444444444444444,\"#bd3786\"],[0.5555555555555556,\"#d8576b\"],[0.6666666666666666,\"#ed7953\"],[0.7777777777777778,\"#fb9f3a\"],[0.8888888888888888,\"#fdca26\"],[1.0,\"#f0f921\"]]}],\"heatmapgl\":[{\"type\":\"heatmapgl\",\"colorbar\":{\"outlinewidth\":0,\"ticks\":\"\"},\"colorscale\":[[0.0,\"#0d0887\"],[0.1111111111111111,\"#46039f\"],[0.2222222222222222,\"#7201a8\"],[0.3333333333333333,\"#9c179e\"],[0.4444444444444444,\"#bd3786\"],[0.5555555555555556,\"#d8576b\"],[0.6666666666666666,\"#ed7953\"],[0.7777777777777778,\"#fb9f3a\"],[0.8888888888888888,\"#fdca26\"],[1.0,\"#f0f921\"]]}],\"contourcarpet\":[{\"type\":\"contourcarpet\",\"colorbar\":{\"outlinewidth\":0,\"ticks\":\"\"}}],\"contour\":[{\"type\":\"contour\",\"colorbar\":{\"outlinewidth\":0,\"ticks\":\"\"},\"colorscale\":[[0.0,\"#0d0887\"],[0.1111111111111111,\"#46039f\"],[0.2222222222222222,\"#7201a8\"],[0.3333333333333333,\"#9c179e\"],[0.4444444444444444,\"#bd3786\"],[0.5555555555555556,\"#d8576b\"],[0.6666666666666666,\"#ed7953\"],[0.7777777777777778,\"#fb9f3a\"],[0.8888888888888888,\"#fdca26\"],[1.0,\"#f0f921\"]]}],\"surface\":[{\"type\":\"surface\",\"colorbar\":{\"outlinewidth\":0,\"ticks\":\"\"},\"colorscale\":[[0.0,\"#0d0887\"],[0.1111111111111111,\"#46039f\"],[0.2222222222222222,\"#7201a8\"],[0.3333333333333333,\"#9c179e\"],[0.4444444444444444,\"#bd3786\"],[0.5555555555555556,\"#d8576b\"],[0.6666666666666666,\"#ed7953\"],[0.7777777777777778,\"#fb9f3a\"],[0.8888888888888888,\"#fdca26\"],[1.0,\"#f0f921\"]]}],\"mesh3d\":[{\"type\":\"mesh3d\",\"colorbar\":{\"outlinewidth\":0,\"ticks\":\"\"}}],\"scatter\":[{\"fillpattern\":{\"fillmode\":\"overlay\",\"size\":10,\"solidity\":0.2},\"type\":\"scatter\"}],\"parcoords\":[{\"type\":\"parcoords\",\"line\":{\"colorbar\":{\"outlinewidth\":0,\"ticks\":\"\"}}}],\"scatterpolargl\":[{\"type\":\"scatterpolargl\",\"marker\":{\"colorbar\":{\"outlinewidth\":0,\"ticks\":\"\"}}}],\"bar\":[{\"error_x\":{\"color\":\"#2a3f5f\"},\"error_y\":{\"color\":\"#2a3f5f\"},\"marker\":{\"line\":{\"color\":\"#E5ECF6\",\"width\":0.5},\"pattern\":{\"fillmode\":\"overlay\",\"size\":10,\"solidity\":0.2}},\"type\":\"bar\"}],\"scattergeo\":[{\"type\":\"scattergeo\",\"marker\":{\"colorbar\":{\"outlinewidth\":0,\"ticks\":\"\"}}}],\"scatterpolar\":[{\"type\":\"scatterpolar\",\"marker\":{\"colorbar\":{\"outlinewidth\":0,\"ticks\":\"\"}}}],\"histogram\":[{\"marker\":{\"pattern\":{\"fillmode\":\"overlay\",\"size\":10,\"solidity\":0.2}},\"type\":\"histogram\"}],\"scattergl\":[{\"type\":\"scattergl\",\"marker\":{\"colorbar\":{\"outlinewidth\":0,\"ticks\":\"\"}}}],\"scatter3d\":[{\"type\":\"scatter3d\",\"line\":{\"colorbar\":{\"outlinewidth\":0,\"ticks\":\"\"}},\"marker\":{\"colorbar\":{\"outlinewidth\":0,\"ticks\":\"\"}}}],\"scattermapbox\":[{\"type\":\"scattermapbox\",\"marker\":{\"colorbar\":{\"outlinewidth\":0,\"ticks\":\"\"}}}],\"scatterternary\":[{\"type\":\"scatterternary\",\"marker\":{\"colorbar\":{\"outlinewidth\":0,\"ticks\":\"\"}}}],\"scattercarpet\":[{\"type\":\"scattercarpet\",\"marker\":{\"colorbar\":{\"outlinewidth\":0,\"ticks\":\"\"}}}],\"carpet\":[{\"aaxis\":{\"endlinecolor\":\"#2a3f5f\",\"gridcolor\":\"white\",\"linecolor\":\"white\",\"minorgridcolor\":\"white\",\"startlinecolor\":\"#2a3f5f\"},\"baxis\":{\"endlinecolor\":\"#2a3f5f\",\"gridcolor\":\"white\",\"linecolor\":\"white\",\"minorgridcolor\":\"white\",\"startlinecolor\":\"#2a3f5f\"},\"type\":\"carpet\"}],\"table\":[{\"cells\":{\"fill\":{\"color\":\"#EBF0F8\"},\"line\":{\"color\":\"white\"}},\"header\":{\"fill\":{\"color\":\"#C8D4E3\"},\"line\":{\"color\":\"white\"}},\"type\":\"table\"}],\"barpolar\":[{\"marker\":{\"line\":{\"color\":\"#E5ECF6\",\"width\":0.5},\"pattern\":{\"fillmode\":\"overlay\",\"size\":10,\"solidity\":0.2}},\"type\":\"barpolar\"}],\"pie\":[{\"automargin\":true,\"type\":\"pie\"}]},\"layout\":{\"autotypenumbers\":\"strict\",\"colorway\":[\"#636efa\",\"#EF553B\",\"#00cc96\",\"#ab63fa\",\"#FFA15A\",\"#19d3f3\",\"#FF6692\",\"#B6E880\",\"#FF97FF\",\"#FECB52\"],\"font\":{\"color\":\"#2a3f5f\"},\"hovermode\":\"closest\",\"hoverlabel\":{\"align\":\"left\"},\"paper_bgcolor\":\"white\",\"plot_bgcolor\":\"#E5ECF6\",\"polar\":{\"bgcolor\":\"#E5ECF6\",\"angularaxis\":{\"gridcolor\":\"white\",\"linecolor\":\"white\",\"ticks\":\"\"},\"radialaxis\":{\"gridcolor\":\"white\",\"linecolor\":\"white\",\"ticks\":\"\"}},\"ternary\":{\"bgcolor\":\"#E5ECF6\",\"aaxis\":{\"gridcolor\":\"white\",\"linecolor\":\"white\",\"ticks\":\"\"},\"baxis\":{\"gridcolor\":\"white\",\"linecolor\":\"white\",\"ticks\":\"\"},\"caxis\":{\"gridcolor\":\"white\",\"linecolor\":\"white\",\"ticks\":\"\"}},\"coloraxis\":{\"colorbar\":{\"outlinewidth\":0,\"ticks\":\"\"}},\"colorscale\":{\"sequential\":[[0.0,\"#0d0887\"],[0.1111111111111111,\"#46039f\"],[0.2222222222222222,\"#7201a8\"],[0.3333333333333333,\"#9c179e\"],[0.4444444444444444,\"#bd3786\"],[0.5555555555555556,\"#d8576b\"],[0.6666666666666666,\"#ed7953\"],[0.7777777777777778,\"#fb9f3a\"],[0.8888888888888888,\"#fdca26\"],[1.0,\"#f0f921\"]],\"sequentialminus\":[[0.0,\"#0d0887\"],[0.1111111111111111,\"#46039f\"],[0.2222222222222222,\"#7201a8\"],[0.3333333333333333,\"#9c179e\"],[0.4444444444444444,\"#bd3786\"],[0.5555555555555556,\"#d8576b\"],[0.6666666666666666,\"#ed7953\"],[0.7777777777777778,\"#fb9f3a\"],[0.8888888888888888,\"#fdca26\"],[1.0,\"#f0f921\"]],\"diverging\":[[0,\"#8e0152\"],[0.1,\"#c51b7d\"],[0.2,\"#de77ae\"],[0.3,\"#f1b6da\"],[0.4,\"#fde0ef\"],[0.5,\"#f7f7f7\"],[0.6,\"#e6f5d0\"],[0.7,\"#b8e186\"],[0.8,\"#7fbc41\"],[0.9,\"#4d9221\"],[1,\"#276419\"]]},\"xaxis\":{\"gridcolor\":\"white\",\"linecolor\":\"white\",\"ticks\":\"\",\"title\":{\"standoff\":15},\"zerolinecolor\":\"white\",\"automargin\":true,\"zerolinewidth\":2},\"yaxis\":{\"gridcolor\":\"white\",\"linecolor\":\"white\",\"ticks\":\"\",\"title\":{\"standoff\":15},\"zerolinecolor\":\"white\",\"automargin\":true,\"zerolinewidth\":2},\"scene\":{\"xaxis\":{\"backgroundcolor\":\"#E5ECF6\",\"gridcolor\":\"white\",\"linecolor\":\"white\",\"showbackground\":true,\"ticks\":\"\",\"zerolinecolor\":\"white\",\"gridwidth\":2},\"yaxis\":{\"backgroundcolor\":\"#E5ECF6\",\"gridcolor\":\"white\",\"linecolor\":\"white\",\"showbackground\":true,\"ticks\":\"\",\"zerolinecolor\":\"white\",\"gridwidth\":2},\"zaxis\":{\"backgroundcolor\":\"#E5ECF6\",\"gridcolor\":\"white\",\"linecolor\":\"white\",\"showbackground\":true,\"ticks\":\"\",\"zerolinecolor\":\"white\",\"gridwidth\":2}},\"shapedefaults\":{\"line\":{\"color\":\"#2a3f5f\"}},\"annotationdefaults\":{\"arrowcolor\":\"#2a3f5f\",\"arrowhead\":0,\"arrowwidth\":1},\"geo\":{\"bgcolor\":\"white\",\"landcolor\":\"#E5ECF6\",\"subunitcolor\":\"white\",\"showland\":true,\"showlakes\":true,\"lakecolor\":\"white\"},\"title\":{\"x\":0.05},\"mapbox\":{\"style\":\"light\"}}},\"xaxis\":{\"anchor\":\"y\",\"domain\":[0.0,1.0],\"title\":{\"text\":\"year_month\"}},\"yaxis\":{\"anchor\":\"x\",\"domain\":[0.0,1.0],\"title\":{\"text\":\"Value\"}},\"legend\":{\"tracegroupgap\":0},\"margin\":{\"t\":60},\"title\":{\"text\":\"Sales and Profit Time Analysis\"}},                        {\"responsive\": true}                    ).then(function(){\n",
       "                            \n",
       "var gd = document.getElementById('525e6a60-c4a8-46d2-b977-0ce3759d2862');\n",
       "var x = new MutationObserver(function (mutations, observer) {{\n",
       "        var display = window.getComputedStyle(gd).display;\n",
       "        if (!display || display === 'none') {{\n",
       "            console.log([gd, 'removed!']);\n",
       "            Plotly.purge(gd);\n",
       "            observer.disconnect();\n",
       "        }}\n",
       "}});\n",
       "\n",
       "// Listen for the removal of the full notebook cells\n",
       "var notebookContainer = gd.closest('#notebook-container');\n",
       "if (notebookContainer) {{\n",
       "    x.observe(notebookContainer, {childList: true});\n",
       "}}\n",
       "\n",
       "// Listen for the clearing of the current output cell\n",
       "var outputEl = gd.closest('.output');\n",
       "if (outputEl) {{\n",
       "    x.observe(outputEl, {childList: true});\n",
       "}}\n",
       "\n",
       "                        })                };                });            </script>        </div>"
      ]
     },
     "metadata": {},
     "output_type": "display_data"
    }
   ],
   "source": [
    "\n",
    "fig = px.line(data_frame=month_Sales, x='year_month', y='Sales', color_discrete_sequence=['blue'])\n",
    "\n",
    "fig.add_trace(\n",
    "    px.line(data_frame=month_Profit, x='year_month', y='Profit',  color_discrete_sequence=['red']).data[0]\n",
    ")\n",
    "\n",
    "fig.data[1].update(showlegend=True,name='Profit')\n",
    "fig.data[0].update(showlegend=True,name='Sales')\n",
    "fig.update_yaxes(title_text='Value')\n",
    "fig.update_layout(title='Sales and Profit Time Analysis')\n",
    "fig.show()\n"
   ]
  },
  {
   "cell_type": "markdown",
   "id": "0c358305",
   "metadata": {
    "papermill": {
     "duration": 0.007415,
     "end_time": "2023-10-14T10:52:58.663182",
     "exception": false,
     "start_time": "2023-10-14T10:52:58.655767",
     "status": "completed"
    },
    "tags": []
   },
   "source": [
    "## Number of Orders for each Category"
   ]
  },
  {
   "cell_type": "code",
   "execution_count": 14,
   "id": "929b56c8",
   "metadata": {
    "execution": {
     "iopub.execute_input": "2023-10-14T10:52:58.680599Z",
     "iopub.status.busy": "2023-10-14T10:52:58.679955Z",
     "iopub.status.idle": "2023-10-14T10:52:58.749319Z",
     "shell.execute_reply": "2023-10-14T10:52:58.748648Z"
    },
    "papermill": {
     "duration": 0.080275,
     "end_time": "2023-10-14T10:52:58.751269",
     "exception": false,
     "start_time": "2023-10-14T10:52:58.670994",
     "status": "completed"
    },
    "tags": []
   },
   "outputs": [
    {
     "data": {
      "text/html": [
       "<div>                            <div id=\"1b7f0112-0bb3-4169-aa1c-7eb6c08601b3\" class=\"plotly-graph-div\" style=\"height:525px; width:100%;\"></div>            <script type=\"text/javascript\">                require([\"plotly\"], function(Plotly) {                    window.PLOTLYENV=window.PLOTLYENV || {};                                    if (document.getElementById(\"1b7f0112-0bb3-4169-aa1c-7eb6c08601b3\")) {                    Plotly.newPlot(                        \"1b7f0112-0bb3-4169-aa1c-7eb6c08601b3\",                        [{\"domain\":{\"x\":[0.0,1.0],\"y\":[0.0,1.0]},\"hovertemplate\":\"Category=%{label}\\u003cbr\\u003eOrders=%{value}\\u003cextra\\u003e\\u003c\\u002fextra\\u003e\",\"labels\":[\"Office Supplies\",\"Furniture\",\"Technology\"],\"legendgroup\":\"\",\"name\":\"\",\"showlegend\":true,\"values\":[6026,2121,1847],\"type\":\"pie\"}],                        {\"template\":{\"data\":{\"histogram2dcontour\":[{\"type\":\"histogram2dcontour\",\"colorbar\":{\"outlinewidth\":0,\"ticks\":\"\"},\"colorscale\":[[0.0,\"#0d0887\"],[0.1111111111111111,\"#46039f\"],[0.2222222222222222,\"#7201a8\"],[0.3333333333333333,\"#9c179e\"],[0.4444444444444444,\"#bd3786\"],[0.5555555555555556,\"#d8576b\"],[0.6666666666666666,\"#ed7953\"],[0.7777777777777778,\"#fb9f3a\"],[0.8888888888888888,\"#fdca26\"],[1.0,\"#f0f921\"]]}],\"choropleth\":[{\"type\":\"choropleth\",\"colorbar\":{\"outlinewidth\":0,\"ticks\":\"\"}}],\"histogram2d\":[{\"type\":\"histogram2d\",\"colorbar\":{\"outlinewidth\":0,\"ticks\":\"\"},\"colorscale\":[[0.0,\"#0d0887\"],[0.1111111111111111,\"#46039f\"],[0.2222222222222222,\"#7201a8\"],[0.3333333333333333,\"#9c179e\"],[0.4444444444444444,\"#bd3786\"],[0.5555555555555556,\"#d8576b\"],[0.6666666666666666,\"#ed7953\"],[0.7777777777777778,\"#fb9f3a\"],[0.8888888888888888,\"#fdca26\"],[1.0,\"#f0f921\"]]}],\"heatmap\":[{\"type\":\"heatmap\",\"colorbar\":{\"outlinewidth\":0,\"ticks\":\"\"},\"colorscale\":[[0.0,\"#0d0887\"],[0.1111111111111111,\"#46039f\"],[0.2222222222222222,\"#7201a8\"],[0.3333333333333333,\"#9c179e\"],[0.4444444444444444,\"#bd3786\"],[0.5555555555555556,\"#d8576b\"],[0.6666666666666666,\"#ed7953\"],[0.7777777777777778,\"#fb9f3a\"],[0.8888888888888888,\"#fdca26\"],[1.0,\"#f0f921\"]]}],\"heatmapgl\":[{\"type\":\"heatmapgl\",\"colorbar\":{\"outlinewidth\":0,\"ticks\":\"\"},\"colorscale\":[[0.0,\"#0d0887\"],[0.1111111111111111,\"#46039f\"],[0.2222222222222222,\"#7201a8\"],[0.3333333333333333,\"#9c179e\"],[0.4444444444444444,\"#bd3786\"],[0.5555555555555556,\"#d8576b\"],[0.6666666666666666,\"#ed7953\"],[0.7777777777777778,\"#fb9f3a\"],[0.8888888888888888,\"#fdca26\"],[1.0,\"#f0f921\"]]}],\"contourcarpet\":[{\"type\":\"contourcarpet\",\"colorbar\":{\"outlinewidth\":0,\"ticks\":\"\"}}],\"contour\":[{\"type\":\"contour\",\"colorbar\":{\"outlinewidth\":0,\"ticks\":\"\"},\"colorscale\":[[0.0,\"#0d0887\"],[0.1111111111111111,\"#46039f\"],[0.2222222222222222,\"#7201a8\"],[0.3333333333333333,\"#9c179e\"],[0.4444444444444444,\"#bd3786\"],[0.5555555555555556,\"#d8576b\"],[0.6666666666666666,\"#ed7953\"],[0.7777777777777778,\"#fb9f3a\"],[0.8888888888888888,\"#fdca26\"],[1.0,\"#f0f921\"]]}],\"surface\":[{\"type\":\"surface\",\"colorbar\":{\"outlinewidth\":0,\"ticks\":\"\"},\"colorscale\":[[0.0,\"#0d0887\"],[0.1111111111111111,\"#46039f\"],[0.2222222222222222,\"#7201a8\"],[0.3333333333333333,\"#9c179e\"],[0.4444444444444444,\"#bd3786\"],[0.5555555555555556,\"#d8576b\"],[0.6666666666666666,\"#ed7953\"],[0.7777777777777778,\"#fb9f3a\"],[0.8888888888888888,\"#fdca26\"],[1.0,\"#f0f921\"]]}],\"mesh3d\":[{\"type\":\"mesh3d\",\"colorbar\":{\"outlinewidth\":0,\"ticks\":\"\"}}],\"scatter\":[{\"fillpattern\":{\"fillmode\":\"overlay\",\"size\":10,\"solidity\":0.2},\"type\":\"scatter\"}],\"parcoords\":[{\"type\":\"parcoords\",\"line\":{\"colorbar\":{\"outlinewidth\":0,\"ticks\":\"\"}}}],\"scatterpolargl\":[{\"type\":\"scatterpolargl\",\"marker\":{\"colorbar\":{\"outlinewidth\":0,\"ticks\":\"\"}}}],\"bar\":[{\"error_x\":{\"color\":\"#2a3f5f\"},\"error_y\":{\"color\":\"#2a3f5f\"},\"marker\":{\"line\":{\"color\":\"#E5ECF6\",\"width\":0.5},\"pattern\":{\"fillmode\":\"overlay\",\"size\":10,\"solidity\":0.2}},\"type\":\"bar\"}],\"scattergeo\":[{\"type\":\"scattergeo\",\"marker\":{\"colorbar\":{\"outlinewidth\":0,\"ticks\":\"\"}}}],\"scatterpolar\":[{\"type\":\"scatterpolar\",\"marker\":{\"colorbar\":{\"outlinewidth\":0,\"ticks\":\"\"}}}],\"histogram\":[{\"marker\":{\"pattern\":{\"fillmode\":\"overlay\",\"size\":10,\"solidity\":0.2}},\"type\":\"histogram\"}],\"scattergl\":[{\"type\":\"scattergl\",\"marker\":{\"colorbar\":{\"outlinewidth\":0,\"ticks\":\"\"}}}],\"scatter3d\":[{\"type\":\"scatter3d\",\"line\":{\"colorbar\":{\"outlinewidth\":0,\"ticks\":\"\"}},\"marker\":{\"colorbar\":{\"outlinewidth\":0,\"ticks\":\"\"}}}],\"scattermapbox\":[{\"type\":\"scattermapbox\",\"marker\":{\"colorbar\":{\"outlinewidth\":0,\"ticks\":\"\"}}}],\"scatterternary\":[{\"type\":\"scatterternary\",\"marker\":{\"colorbar\":{\"outlinewidth\":0,\"ticks\":\"\"}}}],\"scattercarpet\":[{\"type\":\"scattercarpet\",\"marker\":{\"colorbar\":{\"outlinewidth\":0,\"ticks\":\"\"}}}],\"carpet\":[{\"aaxis\":{\"endlinecolor\":\"#2a3f5f\",\"gridcolor\":\"white\",\"linecolor\":\"white\",\"minorgridcolor\":\"white\",\"startlinecolor\":\"#2a3f5f\"},\"baxis\":{\"endlinecolor\":\"#2a3f5f\",\"gridcolor\":\"white\",\"linecolor\":\"white\",\"minorgridcolor\":\"white\",\"startlinecolor\":\"#2a3f5f\"},\"type\":\"carpet\"}],\"table\":[{\"cells\":{\"fill\":{\"color\":\"#EBF0F8\"},\"line\":{\"color\":\"white\"}},\"header\":{\"fill\":{\"color\":\"#C8D4E3\"},\"line\":{\"color\":\"white\"}},\"type\":\"table\"}],\"barpolar\":[{\"marker\":{\"line\":{\"color\":\"#E5ECF6\",\"width\":0.5},\"pattern\":{\"fillmode\":\"overlay\",\"size\":10,\"solidity\":0.2}},\"type\":\"barpolar\"}],\"pie\":[{\"automargin\":true,\"type\":\"pie\"}]},\"layout\":{\"autotypenumbers\":\"strict\",\"colorway\":[\"#636efa\",\"#EF553B\",\"#00cc96\",\"#ab63fa\",\"#FFA15A\",\"#19d3f3\",\"#FF6692\",\"#B6E880\",\"#FF97FF\",\"#FECB52\"],\"font\":{\"color\":\"#2a3f5f\"},\"hovermode\":\"closest\",\"hoverlabel\":{\"align\":\"left\"},\"paper_bgcolor\":\"white\",\"plot_bgcolor\":\"#E5ECF6\",\"polar\":{\"bgcolor\":\"#E5ECF6\",\"angularaxis\":{\"gridcolor\":\"white\",\"linecolor\":\"white\",\"ticks\":\"\"},\"radialaxis\":{\"gridcolor\":\"white\",\"linecolor\":\"white\",\"ticks\":\"\"}},\"ternary\":{\"bgcolor\":\"#E5ECF6\",\"aaxis\":{\"gridcolor\":\"white\",\"linecolor\":\"white\",\"ticks\":\"\"},\"baxis\":{\"gridcolor\":\"white\",\"linecolor\":\"white\",\"ticks\":\"\"},\"caxis\":{\"gridcolor\":\"white\",\"linecolor\":\"white\",\"ticks\":\"\"}},\"coloraxis\":{\"colorbar\":{\"outlinewidth\":0,\"ticks\":\"\"}},\"colorscale\":{\"sequential\":[[0.0,\"#0d0887\"],[0.1111111111111111,\"#46039f\"],[0.2222222222222222,\"#7201a8\"],[0.3333333333333333,\"#9c179e\"],[0.4444444444444444,\"#bd3786\"],[0.5555555555555556,\"#d8576b\"],[0.6666666666666666,\"#ed7953\"],[0.7777777777777778,\"#fb9f3a\"],[0.8888888888888888,\"#fdca26\"],[1.0,\"#f0f921\"]],\"sequentialminus\":[[0.0,\"#0d0887\"],[0.1111111111111111,\"#46039f\"],[0.2222222222222222,\"#7201a8\"],[0.3333333333333333,\"#9c179e\"],[0.4444444444444444,\"#bd3786\"],[0.5555555555555556,\"#d8576b\"],[0.6666666666666666,\"#ed7953\"],[0.7777777777777778,\"#fb9f3a\"],[0.8888888888888888,\"#fdca26\"],[1.0,\"#f0f921\"]],\"diverging\":[[0,\"#8e0152\"],[0.1,\"#c51b7d\"],[0.2,\"#de77ae\"],[0.3,\"#f1b6da\"],[0.4,\"#fde0ef\"],[0.5,\"#f7f7f7\"],[0.6,\"#e6f5d0\"],[0.7,\"#b8e186\"],[0.8,\"#7fbc41\"],[0.9,\"#4d9221\"],[1,\"#276419\"]]},\"xaxis\":{\"gridcolor\":\"white\",\"linecolor\":\"white\",\"ticks\":\"\",\"title\":{\"standoff\":15},\"zerolinecolor\":\"white\",\"automargin\":true,\"zerolinewidth\":2},\"yaxis\":{\"gridcolor\":\"white\",\"linecolor\":\"white\",\"ticks\":\"\",\"title\":{\"standoff\":15},\"zerolinecolor\":\"white\",\"automargin\":true,\"zerolinewidth\":2},\"scene\":{\"xaxis\":{\"backgroundcolor\":\"#E5ECF6\",\"gridcolor\":\"white\",\"linecolor\":\"white\",\"showbackground\":true,\"ticks\":\"\",\"zerolinecolor\":\"white\",\"gridwidth\":2},\"yaxis\":{\"backgroundcolor\":\"#E5ECF6\",\"gridcolor\":\"white\",\"linecolor\":\"white\",\"showbackground\":true,\"ticks\":\"\",\"zerolinecolor\":\"white\",\"gridwidth\":2},\"zaxis\":{\"backgroundcolor\":\"#E5ECF6\",\"gridcolor\":\"white\",\"linecolor\":\"white\",\"showbackground\":true,\"ticks\":\"\",\"zerolinecolor\":\"white\",\"gridwidth\":2}},\"shapedefaults\":{\"line\":{\"color\":\"#2a3f5f\"}},\"annotationdefaults\":{\"arrowcolor\":\"#2a3f5f\",\"arrowhead\":0,\"arrowwidth\":1},\"geo\":{\"bgcolor\":\"white\",\"landcolor\":\"#E5ECF6\",\"subunitcolor\":\"white\",\"showland\":true,\"showlakes\":true,\"lakecolor\":\"white\"},\"title\":{\"x\":0.05},\"mapbox\":{\"style\":\"light\"}}},\"legend\":{\"tracegroupgap\":0},\"title\":{\"text\":\"Number of Orders for each Category\"}},                        {\"responsive\": true}                    ).then(function(){\n",
       "                            \n",
       "var gd = document.getElementById('1b7f0112-0bb3-4169-aa1c-7eb6c08601b3');\n",
       "var x = new MutationObserver(function (mutations, observer) {{\n",
       "        var display = window.getComputedStyle(gd).display;\n",
       "        if (!display || display === 'none') {{\n",
       "            console.log([gd, 'removed!']);\n",
       "            Plotly.purge(gd);\n",
       "            observer.disconnect();\n",
       "        }}\n",
       "}});\n",
       "\n",
       "// Listen for the removal of the full notebook cells\n",
       "var notebookContainer = gd.closest('#notebook-container');\n",
       "if (notebookContainer) {{\n",
       "    x.observe(notebookContainer, {childList: true});\n",
       "}}\n",
       "\n",
       "// Listen for the clearing of the current output cell\n",
       "var outputEl = gd.closest('.output');\n",
       "if (outputEl) {{\n",
       "    x.observe(outputEl, {childList: true});\n",
       "}}\n",
       "\n",
       "                        })                };                });            </script>        </div>"
      ]
     },
     "metadata": {},
     "output_type": "display_data"
    }
   ],
   "source": [
    "categories = df['Category'].value_counts().reset_index(name='Orders')\n",
    "px.pie(data_frame=categories,values='Orders',names='Category',title='Number of Orders for each Category')"
   ]
  },
  {
   "cell_type": "markdown",
   "id": "376a8da5",
   "metadata": {
    "papermill": {
     "duration": 0.007589,
     "end_time": "2023-10-14T10:52:58.767624",
     "exception": false,
     "start_time": "2023-10-14T10:52:58.760035",
     "status": "completed"
    },
    "tags": []
   },
   "source": [
    "## Profit and Sales for each Category"
   ]
  },
  {
   "cell_type": "code",
   "execution_count": 15,
   "id": "3099aa5c",
   "metadata": {
    "execution": {
     "iopub.execute_input": "2023-10-14T10:52:58.784308Z",
     "iopub.status.busy": "2023-10-14T10:52:58.783981Z",
     "iopub.status.idle": "2023-10-14T10:52:58.797631Z",
     "shell.execute_reply": "2023-10-14T10:52:58.796799Z"
    },
    "papermill": {
     "duration": 0.024141,
     "end_time": "2023-10-14T10:52:58.799475",
     "exception": false,
     "start_time": "2023-10-14T10:52:58.775334",
     "status": "completed"
    },
    "tags": []
   },
   "outputs": [
    {
     "data": {
      "text/html": [
       "<div>\n",
       "<style scoped>\n",
       "    .dataframe tbody tr th:only-of-type {\n",
       "        vertical-align: middle;\n",
       "    }\n",
       "\n",
       "    .dataframe tbody tr th {\n",
       "        vertical-align: top;\n",
       "    }\n",
       "\n",
       "    .dataframe thead th {\n",
       "        text-align: right;\n",
       "    }\n",
       "</style>\n",
       "<table border=\"1\" class=\"dataframe\">\n",
       "  <thead>\n",
       "    <tr style=\"text-align: right;\">\n",
       "      <th></th>\n",
       "      <th>Category</th>\n",
       "      <th>Profit</th>\n",
       "      <th>Sales</th>\n",
       "    </tr>\n",
       "  </thead>\n",
       "  <tbody>\n",
       "    <tr>\n",
       "      <th>0</th>\n",
       "      <td>Furniture</td>\n",
       "      <td>18451.2728</td>\n",
       "      <td>741999.7953</td>\n",
       "    </tr>\n",
       "    <tr>\n",
       "      <th>1</th>\n",
       "      <td>Office Supplies</td>\n",
       "      <td>122490.8008</td>\n",
       "      <td>719047.0320</td>\n",
       "    </tr>\n",
       "    <tr>\n",
       "      <th>2</th>\n",
       "      <td>Technology</td>\n",
       "      <td>145454.9481</td>\n",
       "      <td>836154.0330</td>\n",
       "    </tr>\n",
       "  </tbody>\n",
       "</table>\n",
       "</div>"
      ],
      "text/plain": [
       "          Category       Profit        Sales\n",
       "0        Furniture   18451.2728  741999.7953\n",
       "1  Office Supplies  122490.8008  719047.0320\n",
       "2       Technology  145454.9481  836154.0330"
      ]
     },
     "execution_count": 15,
     "metadata": {},
     "output_type": "execute_result"
    }
   ],
   "source": [
    "df_category_profit_sales = df.groupby('Category')[['Profit','Sales']].sum().reset_index()\n",
    "df_category_profit_sales"
   ]
  },
  {
   "cell_type": "code",
   "execution_count": 16,
   "id": "8da7501a",
   "metadata": {
    "execution": {
     "iopub.execute_input": "2023-10-14T10:52:58.817716Z",
     "iopub.status.busy": "2023-10-14T10:52:58.817386Z",
     "iopub.status.idle": "2023-10-14T10:52:58.903311Z",
     "shell.execute_reply": "2023-10-14T10:52:58.902424Z"
    },
    "papermill": {
     "duration": 0.097257,
     "end_time": "2023-10-14T10:52:58.905292",
     "exception": false,
     "start_time": "2023-10-14T10:52:58.808035",
     "status": "completed"
    },
    "tags": []
   },
   "outputs": [
    {
     "data": {
      "text/html": [
       "<div>                            <div id=\"24182685-e876-4a4e-9706-8f490d900138\" class=\"plotly-graph-div\" style=\"height:525px; width:100%;\"></div>            <script type=\"text/javascript\">                require([\"plotly\"], function(Plotly) {                    window.PLOTLYENV=window.PLOTLYENV || {};                                    if (document.getElementById(\"24182685-e876-4a4e-9706-8f490d900138\")) {                    Plotly.newPlot(                        \"24182685-e876-4a4e-9706-8f490d900138\",                        [{\"alignmentgroup\":\"True\",\"hovertemplate\":\"variable=Profit\\u003cbr\\u003eCategory=%{x}\\u003cbr\\u003evalue=%{y}\\u003cextra\\u003e\\u003c\\u002fextra\\u003e\",\"legendgroup\":\"Profit\",\"marker\":{\"color\":\"#636efa\",\"pattern\":{\"shape\":\"\"}},\"name\":\"Profit\",\"offsetgroup\":\"Profit\",\"orientation\":\"v\",\"showlegend\":true,\"textposition\":\"auto\",\"x\":[\"Furniture\",\"Office Supplies\",\"Technology\"],\"xaxis\":\"x\",\"y\":[18451.2728,122490.8008,145454.9481],\"yaxis\":\"y\",\"type\":\"bar\"},{\"alignmentgroup\":\"True\",\"hovertemplate\":\"variable=Sales\\u003cbr\\u003eCategory=%{x}\\u003cbr\\u003evalue=%{y}\\u003cextra\\u003e\\u003c\\u002fextra\\u003e\",\"legendgroup\":\"Sales\",\"marker\":{\"color\":\"#EF553B\",\"pattern\":{\"shape\":\"\"}},\"name\":\"Sales\",\"offsetgroup\":\"Sales\",\"orientation\":\"v\",\"showlegend\":true,\"textposition\":\"auto\",\"x\":[\"Furniture\",\"Office Supplies\",\"Technology\"],\"xaxis\":\"x\",\"y\":[741999.7953,719047.032,836154.033],\"yaxis\":\"y\",\"type\":\"bar\"}],                        {\"template\":{\"data\":{\"histogram2dcontour\":[{\"type\":\"histogram2dcontour\",\"colorbar\":{\"outlinewidth\":0,\"ticks\":\"\"},\"colorscale\":[[0.0,\"#0d0887\"],[0.1111111111111111,\"#46039f\"],[0.2222222222222222,\"#7201a8\"],[0.3333333333333333,\"#9c179e\"],[0.4444444444444444,\"#bd3786\"],[0.5555555555555556,\"#d8576b\"],[0.6666666666666666,\"#ed7953\"],[0.7777777777777778,\"#fb9f3a\"],[0.8888888888888888,\"#fdca26\"],[1.0,\"#f0f921\"]]}],\"choropleth\":[{\"type\":\"choropleth\",\"colorbar\":{\"outlinewidth\":0,\"ticks\":\"\"}}],\"histogram2d\":[{\"type\":\"histogram2d\",\"colorbar\":{\"outlinewidth\":0,\"ticks\":\"\"},\"colorscale\":[[0.0,\"#0d0887\"],[0.1111111111111111,\"#46039f\"],[0.2222222222222222,\"#7201a8\"],[0.3333333333333333,\"#9c179e\"],[0.4444444444444444,\"#bd3786\"],[0.5555555555555556,\"#d8576b\"],[0.6666666666666666,\"#ed7953\"],[0.7777777777777778,\"#fb9f3a\"],[0.8888888888888888,\"#fdca26\"],[1.0,\"#f0f921\"]]}],\"heatmap\":[{\"type\":\"heatmap\",\"colorbar\":{\"outlinewidth\":0,\"ticks\":\"\"},\"colorscale\":[[0.0,\"#0d0887\"],[0.1111111111111111,\"#46039f\"],[0.2222222222222222,\"#7201a8\"],[0.3333333333333333,\"#9c179e\"],[0.4444444444444444,\"#bd3786\"],[0.5555555555555556,\"#d8576b\"],[0.6666666666666666,\"#ed7953\"],[0.7777777777777778,\"#fb9f3a\"],[0.8888888888888888,\"#fdca26\"],[1.0,\"#f0f921\"]]}],\"heatmapgl\":[{\"type\":\"heatmapgl\",\"colorbar\":{\"outlinewidth\":0,\"ticks\":\"\"},\"colorscale\":[[0.0,\"#0d0887\"],[0.1111111111111111,\"#46039f\"],[0.2222222222222222,\"#7201a8\"],[0.3333333333333333,\"#9c179e\"],[0.4444444444444444,\"#bd3786\"],[0.5555555555555556,\"#d8576b\"],[0.6666666666666666,\"#ed7953\"],[0.7777777777777778,\"#fb9f3a\"],[0.8888888888888888,\"#fdca26\"],[1.0,\"#f0f921\"]]}],\"contourcarpet\":[{\"type\":\"contourcarpet\",\"colorbar\":{\"outlinewidth\":0,\"ticks\":\"\"}}],\"contour\":[{\"type\":\"contour\",\"colorbar\":{\"outlinewidth\":0,\"ticks\":\"\"},\"colorscale\":[[0.0,\"#0d0887\"],[0.1111111111111111,\"#46039f\"],[0.2222222222222222,\"#7201a8\"],[0.3333333333333333,\"#9c179e\"],[0.4444444444444444,\"#bd3786\"],[0.5555555555555556,\"#d8576b\"],[0.6666666666666666,\"#ed7953\"],[0.7777777777777778,\"#fb9f3a\"],[0.8888888888888888,\"#fdca26\"],[1.0,\"#f0f921\"]]}],\"surface\":[{\"type\":\"surface\",\"colorbar\":{\"outlinewidth\":0,\"ticks\":\"\"},\"colorscale\":[[0.0,\"#0d0887\"],[0.1111111111111111,\"#46039f\"],[0.2222222222222222,\"#7201a8\"],[0.3333333333333333,\"#9c179e\"],[0.4444444444444444,\"#bd3786\"],[0.5555555555555556,\"#d8576b\"],[0.6666666666666666,\"#ed7953\"],[0.7777777777777778,\"#fb9f3a\"],[0.8888888888888888,\"#fdca26\"],[1.0,\"#f0f921\"]]}],\"mesh3d\":[{\"type\":\"mesh3d\",\"colorbar\":{\"outlinewidth\":0,\"ticks\":\"\"}}],\"scatter\":[{\"fillpattern\":{\"fillmode\":\"overlay\",\"size\":10,\"solidity\":0.2},\"type\":\"scatter\"}],\"parcoords\":[{\"type\":\"parcoords\",\"line\":{\"colorbar\":{\"outlinewidth\":0,\"ticks\":\"\"}}}],\"scatterpolargl\":[{\"type\":\"scatterpolargl\",\"marker\":{\"colorbar\":{\"outlinewidth\":0,\"ticks\":\"\"}}}],\"bar\":[{\"error_x\":{\"color\":\"#2a3f5f\"},\"error_y\":{\"color\":\"#2a3f5f\"},\"marker\":{\"line\":{\"color\":\"#E5ECF6\",\"width\":0.5},\"pattern\":{\"fillmode\":\"overlay\",\"size\":10,\"solidity\":0.2}},\"type\":\"bar\"}],\"scattergeo\":[{\"type\":\"scattergeo\",\"marker\":{\"colorbar\":{\"outlinewidth\":0,\"ticks\":\"\"}}}],\"scatterpolar\":[{\"type\":\"scatterpolar\",\"marker\":{\"colorbar\":{\"outlinewidth\":0,\"ticks\":\"\"}}}],\"histogram\":[{\"marker\":{\"pattern\":{\"fillmode\":\"overlay\",\"size\":10,\"solidity\":0.2}},\"type\":\"histogram\"}],\"scattergl\":[{\"type\":\"scattergl\",\"marker\":{\"colorbar\":{\"outlinewidth\":0,\"ticks\":\"\"}}}],\"scatter3d\":[{\"type\":\"scatter3d\",\"line\":{\"colorbar\":{\"outlinewidth\":0,\"ticks\":\"\"}},\"marker\":{\"colorbar\":{\"outlinewidth\":0,\"ticks\":\"\"}}}],\"scattermapbox\":[{\"type\":\"scattermapbox\",\"marker\":{\"colorbar\":{\"outlinewidth\":0,\"ticks\":\"\"}}}],\"scatterternary\":[{\"type\":\"scatterternary\",\"marker\":{\"colorbar\":{\"outlinewidth\":0,\"ticks\":\"\"}}}],\"scattercarpet\":[{\"type\":\"scattercarpet\",\"marker\":{\"colorbar\":{\"outlinewidth\":0,\"ticks\":\"\"}}}],\"carpet\":[{\"aaxis\":{\"endlinecolor\":\"#2a3f5f\",\"gridcolor\":\"white\",\"linecolor\":\"white\",\"minorgridcolor\":\"white\",\"startlinecolor\":\"#2a3f5f\"},\"baxis\":{\"endlinecolor\":\"#2a3f5f\",\"gridcolor\":\"white\",\"linecolor\":\"white\",\"minorgridcolor\":\"white\",\"startlinecolor\":\"#2a3f5f\"},\"type\":\"carpet\"}],\"table\":[{\"cells\":{\"fill\":{\"color\":\"#EBF0F8\"},\"line\":{\"color\":\"white\"}},\"header\":{\"fill\":{\"color\":\"#C8D4E3\"},\"line\":{\"color\":\"white\"}},\"type\":\"table\"}],\"barpolar\":[{\"marker\":{\"line\":{\"color\":\"#E5ECF6\",\"width\":0.5},\"pattern\":{\"fillmode\":\"overlay\",\"size\":10,\"solidity\":0.2}},\"type\":\"barpolar\"}],\"pie\":[{\"automargin\":true,\"type\":\"pie\"}]},\"layout\":{\"autotypenumbers\":\"strict\",\"colorway\":[\"#636efa\",\"#EF553B\",\"#00cc96\",\"#ab63fa\",\"#FFA15A\",\"#19d3f3\",\"#FF6692\",\"#B6E880\",\"#FF97FF\",\"#FECB52\"],\"font\":{\"color\":\"#2a3f5f\"},\"hovermode\":\"closest\",\"hoverlabel\":{\"align\":\"left\"},\"paper_bgcolor\":\"white\",\"plot_bgcolor\":\"#E5ECF6\",\"polar\":{\"bgcolor\":\"#E5ECF6\",\"angularaxis\":{\"gridcolor\":\"white\",\"linecolor\":\"white\",\"ticks\":\"\"},\"radialaxis\":{\"gridcolor\":\"white\",\"linecolor\":\"white\",\"ticks\":\"\"}},\"ternary\":{\"bgcolor\":\"#E5ECF6\",\"aaxis\":{\"gridcolor\":\"white\",\"linecolor\":\"white\",\"ticks\":\"\"},\"baxis\":{\"gridcolor\":\"white\",\"linecolor\":\"white\",\"ticks\":\"\"},\"caxis\":{\"gridcolor\":\"white\",\"linecolor\":\"white\",\"ticks\":\"\"}},\"coloraxis\":{\"colorbar\":{\"outlinewidth\":0,\"ticks\":\"\"}},\"colorscale\":{\"sequential\":[[0.0,\"#0d0887\"],[0.1111111111111111,\"#46039f\"],[0.2222222222222222,\"#7201a8\"],[0.3333333333333333,\"#9c179e\"],[0.4444444444444444,\"#bd3786\"],[0.5555555555555556,\"#d8576b\"],[0.6666666666666666,\"#ed7953\"],[0.7777777777777778,\"#fb9f3a\"],[0.8888888888888888,\"#fdca26\"],[1.0,\"#f0f921\"]],\"sequentialminus\":[[0.0,\"#0d0887\"],[0.1111111111111111,\"#46039f\"],[0.2222222222222222,\"#7201a8\"],[0.3333333333333333,\"#9c179e\"],[0.4444444444444444,\"#bd3786\"],[0.5555555555555556,\"#d8576b\"],[0.6666666666666666,\"#ed7953\"],[0.7777777777777778,\"#fb9f3a\"],[0.8888888888888888,\"#fdca26\"],[1.0,\"#f0f921\"]],\"diverging\":[[0,\"#8e0152\"],[0.1,\"#c51b7d\"],[0.2,\"#de77ae\"],[0.3,\"#f1b6da\"],[0.4,\"#fde0ef\"],[0.5,\"#f7f7f7\"],[0.6,\"#e6f5d0\"],[0.7,\"#b8e186\"],[0.8,\"#7fbc41\"],[0.9,\"#4d9221\"],[1,\"#276419\"]]},\"xaxis\":{\"gridcolor\":\"white\",\"linecolor\":\"white\",\"ticks\":\"\",\"title\":{\"standoff\":15},\"zerolinecolor\":\"white\",\"automargin\":true,\"zerolinewidth\":2},\"yaxis\":{\"gridcolor\":\"white\",\"linecolor\":\"white\",\"ticks\":\"\",\"title\":{\"standoff\":15},\"zerolinecolor\":\"white\",\"automargin\":true,\"zerolinewidth\":2},\"scene\":{\"xaxis\":{\"backgroundcolor\":\"#E5ECF6\",\"gridcolor\":\"white\",\"linecolor\":\"white\",\"showbackground\":true,\"ticks\":\"\",\"zerolinecolor\":\"white\",\"gridwidth\":2},\"yaxis\":{\"backgroundcolor\":\"#E5ECF6\",\"gridcolor\":\"white\",\"linecolor\":\"white\",\"showbackground\":true,\"ticks\":\"\",\"zerolinecolor\":\"white\",\"gridwidth\":2},\"zaxis\":{\"backgroundcolor\":\"#E5ECF6\",\"gridcolor\":\"white\",\"linecolor\":\"white\",\"showbackground\":true,\"ticks\":\"\",\"zerolinecolor\":\"white\",\"gridwidth\":2}},\"shapedefaults\":{\"line\":{\"color\":\"#2a3f5f\"}},\"annotationdefaults\":{\"arrowcolor\":\"#2a3f5f\",\"arrowhead\":0,\"arrowwidth\":1},\"geo\":{\"bgcolor\":\"white\",\"landcolor\":\"#E5ECF6\",\"subunitcolor\":\"white\",\"showland\":true,\"showlakes\":true,\"lakecolor\":\"white\"},\"title\":{\"x\":0.05},\"mapbox\":{\"style\":\"light\"}}},\"xaxis\":{\"anchor\":\"y\",\"domain\":[0.0,1.0],\"title\":{\"text\":\"Category\"}},\"yaxis\":{\"anchor\":\"x\",\"domain\":[0.0,1.0],\"title\":{\"text\":\"Value\"}},\"legend\":{\"title\":{\"text\":\"variable\"},\"tracegroupgap\":0},\"margin\":{\"t\":60},\"barmode\":\"group\",\"title\":{\"text\":\"Profit and Sales by Category\"}},                        {\"responsive\": true}                    ).then(function(){\n",
       "                            \n",
       "var gd = document.getElementById('24182685-e876-4a4e-9706-8f490d900138');\n",
       "var x = new MutationObserver(function (mutations, observer) {{\n",
       "        var display = window.getComputedStyle(gd).display;\n",
       "        if (!display || display === 'none') {{\n",
       "            console.log([gd, 'removed!']);\n",
       "            Plotly.purge(gd);\n",
       "            observer.disconnect();\n",
       "        }}\n",
       "}});\n",
       "\n",
       "// Listen for the removal of the full notebook cells\n",
       "var notebookContainer = gd.closest('#notebook-container');\n",
       "if (notebookContainer) {{\n",
       "    x.observe(notebookContainer, {childList: true});\n",
       "}}\n",
       "\n",
       "// Listen for the clearing of the current output cell\n",
       "var outputEl = gd.closest('.output');\n",
       "if (outputEl) {{\n",
       "    x.observe(outputEl, {childList: true});\n",
       "}}\n",
       "\n",
       "                        })                };                });            </script>        </div>"
      ]
     },
     "metadata": {},
     "output_type": "display_data"
    }
   ],
   "source": [
    "fig = px.bar(df_category_profit_sales, x='Category', y=['Profit', 'Sales'], barmode='group')\n",
    "fig.update_layout(\n",
    "    xaxis_title='Category',\n",
    "    yaxis_title='Value',\n",
    "    title='Profit and Sales by Category',\n",
    ")\n"
   ]
  },
  {
   "cell_type": "markdown",
   "id": "ad4e5359",
   "metadata": {
    "papermill": {
     "duration": 0.00834,
     "end_time": "2023-10-14T10:52:58.922552",
     "exception": false,
     "start_time": "2023-10-14T10:52:58.914212",
     "status": "completed"
    },
    "tags": []
   },
   "source": [
    "## Number of Orders for each State"
   ]
  },
  {
   "cell_type": "code",
   "execution_count": 17,
   "id": "f9b03345",
   "metadata": {
    "execution": {
     "iopub.execute_input": "2023-10-14T10:52:58.941711Z",
     "iopub.status.busy": "2023-10-14T10:52:58.940571Z",
     "iopub.status.idle": "2023-10-14T10:52:58.993264Z",
     "shell.execute_reply": "2023-10-14T10:52:58.992532Z"
    },
    "papermill": {
     "duration": 0.063956,
     "end_time": "2023-10-14T10:52:58.995154",
     "exception": false,
     "start_time": "2023-10-14T10:52:58.931198",
     "status": "completed"
    },
    "tags": []
   },
   "outputs": [
    {
     "data": {
      "text/html": [
       "<div>                            <div id=\"b72ae3dd-2358-4827-b6e7-928fe3e7fd3f\" class=\"plotly-graph-div\" style=\"height:525px; width:100%;\"></div>            <script type=\"text/javascript\">                require([\"plotly\"], function(Plotly) {                    window.PLOTLYENV=window.PLOTLYENV || {};                                    if (document.getElementById(\"b72ae3dd-2358-4827-b6e7-928fe3e7fd3f\")) {                    Plotly.newPlot(                        \"b72ae3dd-2358-4827-b6e7-928fe3e7fd3f\",                        [{\"alignmentgroup\":\"True\",\"hovertemplate\":\"variable=count\\u003cbr\\u003eState=%{x}\\u003cbr\\u003evalue=%{y}\\u003cextra\\u003e\\u003c\\u002fextra\\u003e\",\"legendgroup\":\"count\",\"marker\":{\"color\":\"#636efa\",\"pattern\":{\"shape\":\"\"}},\"name\":\"count\",\"offsetgroup\":\"count\",\"orientation\":\"v\",\"showlegend\":true,\"textposition\":\"auto\",\"x\":[\"California\",\"New York\",\"Texas\",\"Pennsylvania\",\"Washington\",\"Illinois\",\"Ohio\",\"Florida\",\"Michigan\",\"North Carolina\",\"Arizona\",\"Virginia\",\"Georgia\",\"Tennessee\",\"Colorado\",\"Indiana\",\"Kentucky\",\"Massachusetts\",\"New Jersey\",\"Oregon\",\"Wisconsin\",\"Maryland\",\"Delaware\",\"Minnesota\",\"Connecticut\",\"Oklahoma\",\"Missouri\",\"Alabama\",\"Arkansas\",\"Rhode Island\",\"Utah\",\"Mississippi\",\"Louisiana\",\"South Carolina\",\"Nevada\",\"Nebraska\",\"New Mexico\",\"Iowa\",\"New Hampshire\",\"Kansas\",\"Idaho\",\"Montana\",\"South Dakota\",\"Vermont\",\"District of Columbia\",\"Maine\",\"North Dakota\",\"West Virginia\",\"Wyoming\"],\"xaxis\":\"x\",\"y\":[2001,1128,985,587,506,492,469,383,255,249,224,224,184,183,182,149,139,135,130,124,110,105,96,89,82,66,66,61,60,56,53,53,42,42,39,38,37,30,27,24,21,15,12,11,10,8,7,4,1],\"yaxis\":\"y\",\"type\":\"bar\"}],                        {\"template\":{\"data\":{\"histogram2dcontour\":[{\"type\":\"histogram2dcontour\",\"colorbar\":{\"outlinewidth\":0,\"ticks\":\"\"},\"colorscale\":[[0.0,\"#0d0887\"],[0.1111111111111111,\"#46039f\"],[0.2222222222222222,\"#7201a8\"],[0.3333333333333333,\"#9c179e\"],[0.4444444444444444,\"#bd3786\"],[0.5555555555555556,\"#d8576b\"],[0.6666666666666666,\"#ed7953\"],[0.7777777777777778,\"#fb9f3a\"],[0.8888888888888888,\"#fdca26\"],[1.0,\"#f0f921\"]]}],\"choropleth\":[{\"type\":\"choropleth\",\"colorbar\":{\"outlinewidth\":0,\"ticks\":\"\"}}],\"histogram2d\":[{\"type\":\"histogram2d\",\"colorbar\":{\"outlinewidth\":0,\"ticks\":\"\"},\"colorscale\":[[0.0,\"#0d0887\"],[0.1111111111111111,\"#46039f\"],[0.2222222222222222,\"#7201a8\"],[0.3333333333333333,\"#9c179e\"],[0.4444444444444444,\"#bd3786\"],[0.5555555555555556,\"#d8576b\"],[0.6666666666666666,\"#ed7953\"],[0.7777777777777778,\"#fb9f3a\"],[0.8888888888888888,\"#fdca26\"],[1.0,\"#f0f921\"]]}],\"heatmap\":[{\"type\":\"heatmap\",\"colorbar\":{\"outlinewidth\":0,\"ticks\":\"\"},\"colorscale\":[[0.0,\"#0d0887\"],[0.1111111111111111,\"#46039f\"],[0.2222222222222222,\"#7201a8\"],[0.3333333333333333,\"#9c179e\"],[0.4444444444444444,\"#bd3786\"],[0.5555555555555556,\"#d8576b\"],[0.6666666666666666,\"#ed7953\"],[0.7777777777777778,\"#fb9f3a\"],[0.8888888888888888,\"#fdca26\"],[1.0,\"#f0f921\"]]}],\"heatmapgl\":[{\"type\":\"heatmapgl\",\"colorbar\":{\"outlinewidth\":0,\"ticks\":\"\"},\"colorscale\":[[0.0,\"#0d0887\"],[0.1111111111111111,\"#46039f\"],[0.2222222222222222,\"#7201a8\"],[0.3333333333333333,\"#9c179e\"],[0.4444444444444444,\"#bd3786\"],[0.5555555555555556,\"#d8576b\"],[0.6666666666666666,\"#ed7953\"],[0.7777777777777778,\"#fb9f3a\"],[0.8888888888888888,\"#fdca26\"],[1.0,\"#f0f921\"]]}],\"contourcarpet\":[{\"type\":\"contourcarpet\",\"colorbar\":{\"outlinewidth\":0,\"ticks\":\"\"}}],\"contour\":[{\"type\":\"contour\",\"colorbar\":{\"outlinewidth\":0,\"ticks\":\"\"},\"colorscale\":[[0.0,\"#0d0887\"],[0.1111111111111111,\"#46039f\"],[0.2222222222222222,\"#7201a8\"],[0.3333333333333333,\"#9c179e\"],[0.4444444444444444,\"#bd3786\"],[0.5555555555555556,\"#d8576b\"],[0.6666666666666666,\"#ed7953\"],[0.7777777777777778,\"#fb9f3a\"],[0.8888888888888888,\"#fdca26\"],[1.0,\"#f0f921\"]]}],\"surface\":[{\"type\":\"surface\",\"colorbar\":{\"outlinewidth\":0,\"ticks\":\"\"},\"colorscale\":[[0.0,\"#0d0887\"],[0.1111111111111111,\"#46039f\"],[0.2222222222222222,\"#7201a8\"],[0.3333333333333333,\"#9c179e\"],[0.4444444444444444,\"#bd3786\"],[0.5555555555555556,\"#d8576b\"],[0.6666666666666666,\"#ed7953\"],[0.7777777777777778,\"#fb9f3a\"],[0.8888888888888888,\"#fdca26\"],[1.0,\"#f0f921\"]]}],\"mesh3d\":[{\"type\":\"mesh3d\",\"colorbar\":{\"outlinewidth\":0,\"ticks\":\"\"}}],\"scatter\":[{\"fillpattern\":{\"fillmode\":\"overlay\",\"size\":10,\"solidity\":0.2},\"type\":\"scatter\"}],\"parcoords\":[{\"type\":\"parcoords\",\"line\":{\"colorbar\":{\"outlinewidth\":0,\"ticks\":\"\"}}}],\"scatterpolargl\":[{\"type\":\"scatterpolargl\",\"marker\":{\"colorbar\":{\"outlinewidth\":0,\"ticks\":\"\"}}}],\"bar\":[{\"error_x\":{\"color\":\"#2a3f5f\"},\"error_y\":{\"color\":\"#2a3f5f\"},\"marker\":{\"line\":{\"color\":\"#E5ECF6\",\"width\":0.5},\"pattern\":{\"fillmode\":\"overlay\",\"size\":10,\"solidity\":0.2}},\"type\":\"bar\"}],\"scattergeo\":[{\"type\":\"scattergeo\",\"marker\":{\"colorbar\":{\"outlinewidth\":0,\"ticks\":\"\"}}}],\"scatterpolar\":[{\"type\":\"scatterpolar\",\"marker\":{\"colorbar\":{\"outlinewidth\":0,\"ticks\":\"\"}}}],\"histogram\":[{\"marker\":{\"pattern\":{\"fillmode\":\"overlay\",\"size\":10,\"solidity\":0.2}},\"type\":\"histogram\"}],\"scattergl\":[{\"type\":\"scattergl\",\"marker\":{\"colorbar\":{\"outlinewidth\":0,\"ticks\":\"\"}}}],\"scatter3d\":[{\"type\":\"scatter3d\",\"line\":{\"colorbar\":{\"outlinewidth\":0,\"ticks\":\"\"}},\"marker\":{\"colorbar\":{\"outlinewidth\":0,\"ticks\":\"\"}}}],\"scattermapbox\":[{\"type\":\"scattermapbox\",\"marker\":{\"colorbar\":{\"outlinewidth\":0,\"ticks\":\"\"}}}],\"scatterternary\":[{\"type\":\"scatterternary\",\"marker\":{\"colorbar\":{\"outlinewidth\":0,\"ticks\":\"\"}}}],\"scattercarpet\":[{\"type\":\"scattercarpet\",\"marker\":{\"colorbar\":{\"outlinewidth\":0,\"ticks\":\"\"}}}],\"carpet\":[{\"aaxis\":{\"endlinecolor\":\"#2a3f5f\",\"gridcolor\":\"white\",\"linecolor\":\"white\",\"minorgridcolor\":\"white\",\"startlinecolor\":\"#2a3f5f\"},\"baxis\":{\"endlinecolor\":\"#2a3f5f\",\"gridcolor\":\"white\",\"linecolor\":\"white\",\"minorgridcolor\":\"white\",\"startlinecolor\":\"#2a3f5f\"},\"type\":\"carpet\"}],\"table\":[{\"cells\":{\"fill\":{\"color\":\"#EBF0F8\"},\"line\":{\"color\":\"white\"}},\"header\":{\"fill\":{\"color\":\"#C8D4E3\"},\"line\":{\"color\":\"white\"}},\"type\":\"table\"}],\"barpolar\":[{\"marker\":{\"line\":{\"color\":\"#E5ECF6\",\"width\":0.5},\"pattern\":{\"fillmode\":\"overlay\",\"size\":10,\"solidity\":0.2}},\"type\":\"barpolar\"}],\"pie\":[{\"automargin\":true,\"type\":\"pie\"}]},\"layout\":{\"autotypenumbers\":\"strict\",\"colorway\":[\"#636efa\",\"#EF553B\",\"#00cc96\",\"#ab63fa\",\"#FFA15A\",\"#19d3f3\",\"#FF6692\",\"#B6E880\",\"#FF97FF\",\"#FECB52\"],\"font\":{\"color\":\"#2a3f5f\"},\"hovermode\":\"closest\",\"hoverlabel\":{\"align\":\"left\"},\"paper_bgcolor\":\"white\",\"plot_bgcolor\":\"#E5ECF6\",\"polar\":{\"bgcolor\":\"#E5ECF6\",\"angularaxis\":{\"gridcolor\":\"white\",\"linecolor\":\"white\",\"ticks\":\"\"},\"radialaxis\":{\"gridcolor\":\"white\",\"linecolor\":\"white\",\"ticks\":\"\"}},\"ternary\":{\"bgcolor\":\"#E5ECF6\",\"aaxis\":{\"gridcolor\":\"white\",\"linecolor\":\"white\",\"ticks\":\"\"},\"baxis\":{\"gridcolor\":\"white\",\"linecolor\":\"white\",\"ticks\":\"\"},\"caxis\":{\"gridcolor\":\"white\",\"linecolor\":\"white\",\"ticks\":\"\"}},\"coloraxis\":{\"colorbar\":{\"outlinewidth\":0,\"ticks\":\"\"}},\"colorscale\":{\"sequential\":[[0.0,\"#0d0887\"],[0.1111111111111111,\"#46039f\"],[0.2222222222222222,\"#7201a8\"],[0.3333333333333333,\"#9c179e\"],[0.4444444444444444,\"#bd3786\"],[0.5555555555555556,\"#d8576b\"],[0.6666666666666666,\"#ed7953\"],[0.7777777777777778,\"#fb9f3a\"],[0.8888888888888888,\"#fdca26\"],[1.0,\"#f0f921\"]],\"sequentialminus\":[[0.0,\"#0d0887\"],[0.1111111111111111,\"#46039f\"],[0.2222222222222222,\"#7201a8\"],[0.3333333333333333,\"#9c179e\"],[0.4444444444444444,\"#bd3786\"],[0.5555555555555556,\"#d8576b\"],[0.6666666666666666,\"#ed7953\"],[0.7777777777777778,\"#fb9f3a\"],[0.8888888888888888,\"#fdca26\"],[1.0,\"#f0f921\"]],\"diverging\":[[0,\"#8e0152\"],[0.1,\"#c51b7d\"],[0.2,\"#de77ae\"],[0.3,\"#f1b6da\"],[0.4,\"#fde0ef\"],[0.5,\"#f7f7f7\"],[0.6,\"#e6f5d0\"],[0.7,\"#b8e186\"],[0.8,\"#7fbc41\"],[0.9,\"#4d9221\"],[1,\"#276419\"]]},\"xaxis\":{\"gridcolor\":\"white\",\"linecolor\":\"white\",\"ticks\":\"\",\"title\":{\"standoff\":15},\"zerolinecolor\":\"white\",\"automargin\":true,\"zerolinewidth\":2},\"yaxis\":{\"gridcolor\":\"white\",\"linecolor\":\"white\",\"ticks\":\"\",\"title\":{\"standoff\":15},\"zerolinecolor\":\"white\",\"automargin\":true,\"zerolinewidth\":2},\"scene\":{\"xaxis\":{\"backgroundcolor\":\"#E5ECF6\",\"gridcolor\":\"white\",\"linecolor\":\"white\",\"showbackground\":true,\"ticks\":\"\",\"zerolinecolor\":\"white\",\"gridwidth\":2},\"yaxis\":{\"backgroundcolor\":\"#E5ECF6\",\"gridcolor\":\"white\",\"linecolor\":\"white\",\"showbackground\":true,\"ticks\":\"\",\"zerolinecolor\":\"white\",\"gridwidth\":2},\"zaxis\":{\"backgroundcolor\":\"#E5ECF6\",\"gridcolor\":\"white\",\"linecolor\":\"white\",\"showbackground\":true,\"ticks\":\"\",\"zerolinecolor\":\"white\",\"gridwidth\":2}},\"shapedefaults\":{\"line\":{\"color\":\"#2a3f5f\"}},\"annotationdefaults\":{\"arrowcolor\":\"#2a3f5f\",\"arrowhead\":0,\"arrowwidth\":1},\"geo\":{\"bgcolor\":\"white\",\"landcolor\":\"#E5ECF6\",\"subunitcolor\":\"white\",\"showland\":true,\"showlakes\":true,\"lakecolor\":\"white\"},\"title\":{\"x\":0.05},\"mapbox\":{\"style\":\"light\"}}},\"xaxis\":{\"anchor\":\"y\",\"domain\":[0.0,1.0],\"title\":{\"text\":\"State\"}},\"yaxis\":{\"anchor\":\"x\",\"domain\":[0.0,1.0],\"title\":{\"text\":\"value\"}},\"legend\":{\"title\":{\"text\":\"variable\"},\"tracegroupgap\":0},\"title\":{\"text\":\"Number of Orders for each State\"},\"barmode\":\"relative\"},                        {\"responsive\": true}                    ).then(function(){\n",
       "                            \n",
       "var gd = document.getElementById('b72ae3dd-2358-4827-b6e7-928fe3e7fd3f');\n",
       "var x = new MutationObserver(function (mutations, observer) {{\n",
       "        var display = window.getComputedStyle(gd).display;\n",
       "        if (!display || display === 'none') {{\n",
       "            console.log([gd, 'removed!']);\n",
       "            Plotly.purge(gd);\n",
       "            observer.disconnect();\n",
       "        }}\n",
       "}});\n",
       "\n",
       "// Listen for the removal of the full notebook cells\n",
       "var notebookContainer = gd.closest('#notebook-container');\n",
       "if (notebookContainer) {{\n",
       "    x.observe(notebookContainer, {childList: true});\n",
       "}}\n",
       "\n",
       "// Listen for the clearing of the current output cell\n",
       "var outputEl = gd.closest('.output');\n",
       "if (outputEl) {{\n",
       "    x.observe(outputEl, {childList: true});\n",
       "}}\n",
       "\n",
       "                        })                };                });            </script>        </div>"
      ]
     },
     "metadata": {},
     "output_type": "display_data"
    }
   ],
   "source": [
    "states_orders =df['State'].value_counts()\n",
    "px.bar(states_orders,title='Number of Orders for each State')"
   ]
  },
  {
   "cell_type": "markdown",
   "id": "30fec9db",
   "metadata": {
    "papermill": {
     "duration": 0.008381,
     "end_time": "2023-10-14T10:52:59.070415",
     "exception": false,
     "start_time": "2023-10-14T10:52:59.062034",
     "status": "completed"
    },
    "tags": []
   },
   "source": [
    "## Profit and Sales for each State"
   ]
  },
  {
   "cell_type": "code",
   "execution_count": 18,
   "id": "507704b7",
   "metadata": {
    "execution": {
     "iopub.execute_input": "2023-10-14T10:52:59.089506Z",
     "iopub.status.busy": "2023-10-14T10:52:59.089160Z",
     "iopub.status.idle": "2023-10-14T10:52:59.150748Z",
     "shell.execute_reply": "2023-10-14T10:52:59.149693Z"
    },
    "papermill": {
     "duration": 0.073894,
     "end_time": "2023-10-14T10:52:59.153060",
     "exception": false,
     "start_time": "2023-10-14T10:52:59.079166",
     "status": "completed"
    },
    "tags": []
   },
   "outputs": [
    {
     "data": {
      "text/html": [
       "<div>                            <div id=\"513b62b7-3659-44c8-8542-6fd336a0a39e\" class=\"plotly-graph-div\" style=\"height:525px; width:100%;\"></div>            <script type=\"text/javascript\">                require([\"plotly\"], function(Plotly) {                    window.PLOTLYENV=window.PLOTLYENV || {};                                    if (document.getElementById(\"513b62b7-3659-44c8-8542-6fd336a0a39e\")) {                    Plotly.newPlot(                        \"513b62b7-3659-44c8-8542-6fd336a0a39e\",                        [{\"alignmentgroup\":\"True\",\"hovertemplate\":\"variable=Profit\\u003cbr\\u003eState=%{x}\\u003cbr\\u003evalue=%{y}\\u003cextra\\u003e\\u003c\\u002fextra\\u003e\",\"legendgroup\":\"Profit\",\"marker\":{\"color\":\"#636efa\",\"pattern\":{\"shape\":\"\"}},\"name\":\"Profit\",\"offsetgroup\":\"Profit\",\"orientation\":\"v\",\"showlegend\":true,\"textposition\":\"auto\",\"x\":[\"Alabama\",\"Arizona\",\"Arkansas\",\"California\",\"Colorado\",\"Connecticut\",\"Delaware\",\"District of Columbia\",\"Florida\",\"Georgia\",\"Idaho\",\"Illinois\",\"Indiana\",\"Iowa\",\"Kansas\",\"Kentucky\",\"Louisiana\",\"Maine\",\"Maryland\",\"Massachusetts\",\"Michigan\",\"Minnesota\",\"Mississippi\",\"Missouri\",\"Montana\",\"Nebraska\",\"Nevada\",\"New Hampshire\",\"New Jersey\",\"New Mexico\",\"New York\",\"North Carolina\",\"North Dakota\",\"Ohio\",\"Oklahoma\",\"Oregon\",\"Pennsylvania\",\"Rhode Island\",\"South Carolina\",\"South Dakota\",\"Tennessee\",\"Texas\",\"Utah\",\"Vermont\",\"Virginia\",\"Washington\",\"West Virginia\",\"Wisconsin\",\"Wyoming\"],\"xaxis\":\"x\",\"y\":[5786.8253,-3427.9246,4008.6871,76381.38709999999,-6527.8579,3511.4918,9977.3748,1059.5892999999999,-3399.3017000000004,16250.0433,826.7231,-12607.887,18382.9363,1183.8119,836.4435,11199.6966,2196.1023,454.4862,7031.1788,6785.5016000000005,24463.1876,10823.1874,3172.9762,6436.2105,1833.3285,2037.0942000000002,3316.7659,1706.5028,9772.9138,1157.1161,74038.5486,-7490.9122,230.1497,-16971.3766,4853.956,-1190.4705,-15559.9603,7285.6293000000005,1769.0566,394.8283,-5341.6936,-25729.3563,2546.5335,2244.9782999999998,18597.9504,33402.6517,185.9216,8401.8004,100.196],\"yaxis\":\"y\",\"type\":\"bar\"},{\"alignmentgroup\":\"True\",\"hovertemplate\":\"variable=Sales\\u003cbr\\u003eState=%{x}\\u003cbr\\u003evalue=%{y}\\u003cextra\\u003e\\u003c\\u002fextra\\u003e\",\"legendgroup\":\"Sales\",\"marker\":{\"color\":\"#EF553B\",\"pattern\":{\"shape\":\"\"}},\"name\":\"Sales\",\"offsetgroup\":\"Sales\",\"orientation\":\"v\",\"showlegend\":true,\"textposition\":\"auto\",\"x\":[\"Alabama\",\"Arizona\",\"Arkansas\",\"California\",\"Colorado\",\"Connecticut\",\"Delaware\",\"District of Columbia\",\"Florida\",\"Georgia\",\"Idaho\",\"Illinois\",\"Indiana\",\"Iowa\",\"Kansas\",\"Kentucky\",\"Louisiana\",\"Maine\",\"Maryland\",\"Massachusetts\",\"Michigan\",\"Minnesota\",\"Mississippi\",\"Missouri\",\"Montana\",\"Nebraska\",\"Nevada\",\"New Hampshire\",\"New Jersey\",\"New Mexico\",\"New York\",\"North Carolina\",\"North Dakota\",\"Ohio\",\"Oklahoma\",\"Oregon\",\"Pennsylvania\",\"Rhode Island\",\"South Carolina\",\"South Dakota\",\"Tennessee\",\"Texas\",\"Utah\",\"Vermont\",\"Virginia\",\"Washington\",\"West Virginia\",\"Wisconsin\",\"Wyoming\"],\"xaxis\":\"x\",\"y\":[19510.64,35282.001,11678.13,457687.6315,32108.118,13384.357,27451.069,2865.02,89473.708,49095.84,4382.486,80166.101,53555.36,4579.76,2914.31,36591.75,9217.03,1270.53,23705.523,28634.434,76269.614,29863.15,10771.34,22205.15,5589.352,7464.93,16729.102,7292.524,35764.312,4783.522,310876.271,55603.164,919.91,78258.136,19683.39,17431.15,116511.914,22627.956,8481.71,1315.56,30661.873,170188.0458,11220.056,8929.369999999999,70636.72,138641.27,1209.824,32114.61,1603.136],\"yaxis\":\"y\",\"type\":\"bar\"}],                        {\"template\":{\"data\":{\"histogram2dcontour\":[{\"type\":\"histogram2dcontour\",\"colorbar\":{\"outlinewidth\":0,\"ticks\":\"\"},\"colorscale\":[[0.0,\"#0d0887\"],[0.1111111111111111,\"#46039f\"],[0.2222222222222222,\"#7201a8\"],[0.3333333333333333,\"#9c179e\"],[0.4444444444444444,\"#bd3786\"],[0.5555555555555556,\"#d8576b\"],[0.6666666666666666,\"#ed7953\"],[0.7777777777777778,\"#fb9f3a\"],[0.8888888888888888,\"#fdca26\"],[1.0,\"#f0f921\"]]}],\"choropleth\":[{\"type\":\"choropleth\",\"colorbar\":{\"outlinewidth\":0,\"ticks\":\"\"}}],\"histogram2d\":[{\"type\":\"histogram2d\",\"colorbar\":{\"outlinewidth\":0,\"ticks\":\"\"},\"colorscale\":[[0.0,\"#0d0887\"],[0.1111111111111111,\"#46039f\"],[0.2222222222222222,\"#7201a8\"],[0.3333333333333333,\"#9c179e\"],[0.4444444444444444,\"#bd3786\"],[0.5555555555555556,\"#d8576b\"],[0.6666666666666666,\"#ed7953\"],[0.7777777777777778,\"#fb9f3a\"],[0.8888888888888888,\"#fdca26\"],[1.0,\"#f0f921\"]]}],\"heatmap\":[{\"type\":\"heatmap\",\"colorbar\":{\"outlinewidth\":0,\"ticks\":\"\"},\"colorscale\":[[0.0,\"#0d0887\"],[0.1111111111111111,\"#46039f\"],[0.2222222222222222,\"#7201a8\"],[0.3333333333333333,\"#9c179e\"],[0.4444444444444444,\"#bd3786\"],[0.5555555555555556,\"#d8576b\"],[0.6666666666666666,\"#ed7953\"],[0.7777777777777778,\"#fb9f3a\"],[0.8888888888888888,\"#fdca26\"],[1.0,\"#f0f921\"]]}],\"heatmapgl\":[{\"type\":\"heatmapgl\",\"colorbar\":{\"outlinewidth\":0,\"ticks\":\"\"},\"colorscale\":[[0.0,\"#0d0887\"],[0.1111111111111111,\"#46039f\"],[0.2222222222222222,\"#7201a8\"],[0.3333333333333333,\"#9c179e\"],[0.4444444444444444,\"#bd3786\"],[0.5555555555555556,\"#d8576b\"],[0.6666666666666666,\"#ed7953\"],[0.7777777777777778,\"#fb9f3a\"],[0.8888888888888888,\"#fdca26\"],[1.0,\"#f0f921\"]]}],\"contourcarpet\":[{\"type\":\"contourcarpet\",\"colorbar\":{\"outlinewidth\":0,\"ticks\":\"\"}}],\"contour\":[{\"type\":\"contour\",\"colorbar\":{\"outlinewidth\":0,\"ticks\":\"\"},\"colorscale\":[[0.0,\"#0d0887\"],[0.1111111111111111,\"#46039f\"],[0.2222222222222222,\"#7201a8\"],[0.3333333333333333,\"#9c179e\"],[0.4444444444444444,\"#bd3786\"],[0.5555555555555556,\"#d8576b\"],[0.6666666666666666,\"#ed7953\"],[0.7777777777777778,\"#fb9f3a\"],[0.8888888888888888,\"#fdca26\"],[1.0,\"#f0f921\"]]}],\"surface\":[{\"type\":\"surface\",\"colorbar\":{\"outlinewidth\":0,\"ticks\":\"\"},\"colorscale\":[[0.0,\"#0d0887\"],[0.1111111111111111,\"#46039f\"],[0.2222222222222222,\"#7201a8\"],[0.3333333333333333,\"#9c179e\"],[0.4444444444444444,\"#bd3786\"],[0.5555555555555556,\"#d8576b\"],[0.6666666666666666,\"#ed7953\"],[0.7777777777777778,\"#fb9f3a\"],[0.8888888888888888,\"#fdca26\"],[1.0,\"#f0f921\"]]}],\"mesh3d\":[{\"type\":\"mesh3d\",\"colorbar\":{\"outlinewidth\":0,\"ticks\":\"\"}}],\"scatter\":[{\"fillpattern\":{\"fillmode\":\"overlay\",\"size\":10,\"solidity\":0.2},\"type\":\"scatter\"}],\"parcoords\":[{\"type\":\"parcoords\",\"line\":{\"colorbar\":{\"outlinewidth\":0,\"ticks\":\"\"}}}],\"scatterpolargl\":[{\"type\":\"scatterpolargl\",\"marker\":{\"colorbar\":{\"outlinewidth\":0,\"ticks\":\"\"}}}],\"bar\":[{\"error_x\":{\"color\":\"#2a3f5f\"},\"error_y\":{\"color\":\"#2a3f5f\"},\"marker\":{\"line\":{\"color\":\"#E5ECF6\",\"width\":0.5},\"pattern\":{\"fillmode\":\"overlay\",\"size\":10,\"solidity\":0.2}},\"type\":\"bar\"}],\"scattergeo\":[{\"type\":\"scattergeo\",\"marker\":{\"colorbar\":{\"outlinewidth\":0,\"ticks\":\"\"}}}],\"scatterpolar\":[{\"type\":\"scatterpolar\",\"marker\":{\"colorbar\":{\"outlinewidth\":0,\"ticks\":\"\"}}}],\"histogram\":[{\"marker\":{\"pattern\":{\"fillmode\":\"overlay\",\"size\":10,\"solidity\":0.2}},\"type\":\"histogram\"}],\"scattergl\":[{\"type\":\"scattergl\",\"marker\":{\"colorbar\":{\"outlinewidth\":0,\"ticks\":\"\"}}}],\"scatter3d\":[{\"type\":\"scatter3d\",\"line\":{\"colorbar\":{\"outlinewidth\":0,\"ticks\":\"\"}},\"marker\":{\"colorbar\":{\"outlinewidth\":0,\"ticks\":\"\"}}}],\"scattermapbox\":[{\"type\":\"scattermapbox\",\"marker\":{\"colorbar\":{\"outlinewidth\":0,\"ticks\":\"\"}}}],\"scatterternary\":[{\"type\":\"scatterternary\",\"marker\":{\"colorbar\":{\"outlinewidth\":0,\"ticks\":\"\"}}}],\"scattercarpet\":[{\"type\":\"scattercarpet\",\"marker\":{\"colorbar\":{\"outlinewidth\":0,\"ticks\":\"\"}}}],\"carpet\":[{\"aaxis\":{\"endlinecolor\":\"#2a3f5f\",\"gridcolor\":\"white\",\"linecolor\":\"white\",\"minorgridcolor\":\"white\",\"startlinecolor\":\"#2a3f5f\"},\"baxis\":{\"endlinecolor\":\"#2a3f5f\",\"gridcolor\":\"white\",\"linecolor\":\"white\",\"minorgridcolor\":\"white\",\"startlinecolor\":\"#2a3f5f\"},\"type\":\"carpet\"}],\"table\":[{\"cells\":{\"fill\":{\"color\":\"#EBF0F8\"},\"line\":{\"color\":\"white\"}},\"header\":{\"fill\":{\"color\":\"#C8D4E3\"},\"line\":{\"color\":\"white\"}},\"type\":\"table\"}],\"barpolar\":[{\"marker\":{\"line\":{\"color\":\"#E5ECF6\",\"width\":0.5},\"pattern\":{\"fillmode\":\"overlay\",\"size\":10,\"solidity\":0.2}},\"type\":\"barpolar\"}],\"pie\":[{\"automargin\":true,\"type\":\"pie\"}]},\"layout\":{\"autotypenumbers\":\"strict\",\"colorway\":[\"#636efa\",\"#EF553B\",\"#00cc96\",\"#ab63fa\",\"#FFA15A\",\"#19d3f3\",\"#FF6692\",\"#B6E880\",\"#FF97FF\",\"#FECB52\"],\"font\":{\"color\":\"#2a3f5f\"},\"hovermode\":\"closest\",\"hoverlabel\":{\"align\":\"left\"},\"paper_bgcolor\":\"white\",\"plot_bgcolor\":\"#E5ECF6\",\"polar\":{\"bgcolor\":\"#E5ECF6\",\"angularaxis\":{\"gridcolor\":\"white\",\"linecolor\":\"white\",\"ticks\":\"\"},\"radialaxis\":{\"gridcolor\":\"white\",\"linecolor\":\"white\",\"ticks\":\"\"}},\"ternary\":{\"bgcolor\":\"#E5ECF6\",\"aaxis\":{\"gridcolor\":\"white\",\"linecolor\":\"white\",\"ticks\":\"\"},\"baxis\":{\"gridcolor\":\"white\",\"linecolor\":\"white\",\"ticks\":\"\"},\"caxis\":{\"gridcolor\":\"white\",\"linecolor\":\"white\",\"ticks\":\"\"}},\"coloraxis\":{\"colorbar\":{\"outlinewidth\":0,\"ticks\":\"\"}},\"colorscale\":{\"sequential\":[[0.0,\"#0d0887\"],[0.1111111111111111,\"#46039f\"],[0.2222222222222222,\"#7201a8\"],[0.3333333333333333,\"#9c179e\"],[0.4444444444444444,\"#bd3786\"],[0.5555555555555556,\"#d8576b\"],[0.6666666666666666,\"#ed7953\"],[0.7777777777777778,\"#fb9f3a\"],[0.8888888888888888,\"#fdca26\"],[1.0,\"#f0f921\"]],\"sequentialminus\":[[0.0,\"#0d0887\"],[0.1111111111111111,\"#46039f\"],[0.2222222222222222,\"#7201a8\"],[0.3333333333333333,\"#9c179e\"],[0.4444444444444444,\"#bd3786\"],[0.5555555555555556,\"#d8576b\"],[0.6666666666666666,\"#ed7953\"],[0.7777777777777778,\"#fb9f3a\"],[0.8888888888888888,\"#fdca26\"],[1.0,\"#f0f921\"]],\"diverging\":[[0,\"#8e0152\"],[0.1,\"#c51b7d\"],[0.2,\"#de77ae\"],[0.3,\"#f1b6da\"],[0.4,\"#fde0ef\"],[0.5,\"#f7f7f7\"],[0.6,\"#e6f5d0\"],[0.7,\"#b8e186\"],[0.8,\"#7fbc41\"],[0.9,\"#4d9221\"],[1,\"#276419\"]]},\"xaxis\":{\"gridcolor\":\"white\",\"linecolor\":\"white\",\"ticks\":\"\",\"title\":{\"standoff\":15},\"zerolinecolor\":\"white\",\"automargin\":true,\"zerolinewidth\":2},\"yaxis\":{\"gridcolor\":\"white\",\"linecolor\":\"white\",\"ticks\":\"\",\"title\":{\"standoff\":15},\"zerolinecolor\":\"white\",\"automargin\":true,\"zerolinewidth\":2},\"scene\":{\"xaxis\":{\"backgroundcolor\":\"#E5ECF6\",\"gridcolor\":\"white\",\"linecolor\":\"white\",\"showbackground\":true,\"ticks\":\"\",\"zerolinecolor\":\"white\",\"gridwidth\":2},\"yaxis\":{\"backgroundcolor\":\"#E5ECF6\",\"gridcolor\":\"white\",\"linecolor\":\"white\",\"showbackground\":true,\"ticks\":\"\",\"zerolinecolor\":\"white\",\"gridwidth\":2},\"zaxis\":{\"backgroundcolor\":\"#E5ECF6\",\"gridcolor\":\"white\",\"linecolor\":\"white\",\"showbackground\":true,\"ticks\":\"\",\"zerolinecolor\":\"white\",\"gridwidth\":2}},\"shapedefaults\":{\"line\":{\"color\":\"#2a3f5f\"}},\"annotationdefaults\":{\"arrowcolor\":\"#2a3f5f\",\"arrowhead\":0,\"arrowwidth\":1},\"geo\":{\"bgcolor\":\"white\",\"landcolor\":\"#E5ECF6\",\"subunitcolor\":\"white\",\"showland\":true,\"showlakes\":true,\"lakecolor\":\"white\"},\"title\":{\"x\":0.05},\"mapbox\":{\"style\":\"light\"}}},\"xaxis\":{\"anchor\":\"y\",\"domain\":[0.0,1.0],\"title\":{\"text\":\"States\"}},\"yaxis\":{\"anchor\":\"x\",\"domain\":[0.0,1.0],\"title\":{\"text\":\"Value\"}},\"legend\":{\"title\":{\"text\":\"variable\"},\"tracegroupgap\":0},\"margin\":{\"t\":60},\"barmode\":\"group\",\"title\":{\"text\":\"Profit and Sales by State\"}},                        {\"responsive\": true}                    ).then(function(){\n",
       "                            \n",
       "var gd = document.getElementById('513b62b7-3659-44c8-8542-6fd336a0a39e');\n",
       "var x = new MutationObserver(function (mutations, observer) {{\n",
       "        var display = window.getComputedStyle(gd).display;\n",
       "        if (!display || display === 'none') {{\n",
       "            console.log([gd, 'removed!']);\n",
       "            Plotly.purge(gd);\n",
       "            observer.disconnect();\n",
       "        }}\n",
       "}});\n",
       "\n",
       "// Listen for the removal of the full notebook cells\n",
       "var notebookContainer = gd.closest('#notebook-container');\n",
       "if (notebookContainer) {{\n",
       "    x.observe(notebookContainer, {childList: true});\n",
       "}}\n",
       "\n",
       "// Listen for the clearing of the current output cell\n",
       "var outputEl = gd.closest('.output');\n",
       "if (outputEl) {{\n",
       "    x.observe(outputEl, {childList: true});\n",
       "}}\n",
       "\n",
       "                        })                };                });            </script>        </div>"
      ]
     },
     "metadata": {},
     "output_type": "display_data"
    }
   ],
   "source": [
    "df_states_profit_sales = df.groupby('State')[['Profit', 'Sales']].sum().reset_index()\n",
    "\n",
    "fig = px.bar(df_states_profit_sales, x='State', y=['Profit', 'Sales'], barmode='group')\n",
    "fig.update_layout(\n",
    "    xaxis_title='States',\n",
    "    yaxis_title='Value',\n",
    "    title='Profit and Sales by State',\n",
    ")\n",
    "\n",
    "fig.show()"
   ]
  },
  {
   "cell_type": "markdown",
   "id": "13b89dee",
   "metadata": {
    "papermill": {
     "duration": 0.008679,
     "end_time": "2023-10-14T10:52:59.170984",
     "exception": false,
     "start_time": "2023-10-14T10:52:59.162305",
     "status": "completed"
    },
    "tags": []
   },
   "source": [
    "## Number of Orders for each Sub-Category"
   ]
  },
  {
   "cell_type": "code",
   "execution_count": 19,
   "id": "bbec7f5d",
   "metadata": {
    "execution": {
     "iopub.execute_input": "2023-10-14T10:52:59.190600Z",
     "iopub.status.busy": "2023-10-14T10:52:59.190043Z",
     "iopub.status.idle": "2023-10-14T10:52:59.244183Z",
     "shell.execute_reply": "2023-10-14T10:52:59.243073Z"
    },
    "papermill": {
     "duration": 0.066585,
     "end_time": "2023-10-14T10:52:59.246397",
     "exception": false,
     "start_time": "2023-10-14T10:52:59.179812",
     "status": "completed"
    },
    "tags": []
   },
   "outputs": [
    {
     "data": {
      "text/html": [
       "<div>                            <div id=\"0092367b-f484-4141-b6e3-75106459b374\" class=\"plotly-graph-div\" style=\"height:525px; width:100%;\"></div>            <script type=\"text/javascript\">                require([\"plotly\"], function(Plotly) {                    window.PLOTLYENV=window.PLOTLYENV || {};                                    if (document.getElementById(\"0092367b-f484-4141-b6e3-75106459b374\")) {                    Plotly.newPlot(                        \"0092367b-f484-4141-b6e3-75106459b374\",                        [{\"alignmentgroup\":\"True\",\"hovertemplate\":\"variable=count\\u003cbr\\u003eSub-Category=%{x}\\u003cbr\\u003evalue=%{y}\\u003cextra\\u003e\\u003c\\u002fextra\\u003e\",\"legendgroup\":\"count\",\"marker\":{\"color\":\"#636efa\",\"pattern\":{\"shape\":\"\"}},\"name\":\"count\",\"offsetgroup\":\"count\",\"orientation\":\"v\",\"showlegend\":true,\"textposition\":\"auto\",\"x\":[\"Binders\",\"Paper\",\"Furnishings\",\"Phones\",\"Storage\",\"Art\",\"Accessories\",\"Chairs\",\"Appliances\",\"Labels\",\"Tables\",\"Envelopes\",\"Bookcases\",\"Fasteners\",\"Supplies\",\"Machines\",\"Copiers\"],\"xaxis\":\"x\",\"y\":[1523,1370,957,889,846,796,775,617,466,364,319,254,228,217,190,115,68],\"yaxis\":\"y\",\"type\":\"bar\"}],                        {\"template\":{\"data\":{\"histogram2dcontour\":[{\"type\":\"histogram2dcontour\",\"colorbar\":{\"outlinewidth\":0,\"ticks\":\"\"},\"colorscale\":[[0.0,\"#0d0887\"],[0.1111111111111111,\"#46039f\"],[0.2222222222222222,\"#7201a8\"],[0.3333333333333333,\"#9c179e\"],[0.4444444444444444,\"#bd3786\"],[0.5555555555555556,\"#d8576b\"],[0.6666666666666666,\"#ed7953\"],[0.7777777777777778,\"#fb9f3a\"],[0.8888888888888888,\"#fdca26\"],[1.0,\"#f0f921\"]]}],\"choropleth\":[{\"type\":\"choropleth\",\"colorbar\":{\"outlinewidth\":0,\"ticks\":\"\"}}],\"histogram2d\":[{\"type\":\"histogram2d\",\"colorbar\":{\"outlinewidth\":0,\"ticks\":\"\"},\"colorscale\":[[0.0,\"#0d0887\"],[0.1111111111111111,\"#46039f\"],[0.2222222222222222,\"#7201a8\"],[0.3333333333333333,\"#9c179e\"],[0.4444444444444444,\"#bd3786\"],[0.5555555555555556,\"#d8576b\"],[0.6666666666666666,\"#ed7953\"],[0.7777777777777778,\"#fb9f3a\"],[0.8888888888888888,\"#fdca26\"],[1.0,\"#f0f921\"]]}],\"heatmap\":[{\"type\":\"heatmap\",\"colorbar\":{\"outlinewidth\":0,\"ticks\":\"\"},\"colorscale\":[[0.0,\"#0d0887\"],[0.1111111111111111,\"#46039f\"],[0.2222222222222222,\"#7201a8\"],[0.3333333333333333,\"#9c179e\"],[0.4444444444444444,\"#bd3786\"],[0.5555555555555556,\"#d8576b\"],[0.6666666666666666,\"#ed7953\"],[0.7777777777777778,\"#fb9f3a\"],[0.8888888888888888,\"#fdca26\"],[1.0,\"#f0f921\"]]}],\"heatmapgl\":[{\"type\":\"heatmapgl\",\"colorbar\":{\"outlinewidth\":0,\"ticks\":\"\"},\"colorscale\":[[0.0,\"#0d0887\"],[0.1111111111111111,\"#46039f\"],[0.2222222222222222,\"#7201a8\"],[0.3333333333333333,\"#9c179e\"],[0.4444444444444444,\"#bd3786\"],[0.5555555555555556,\"#d8576b\"],[0.6666666666666666,\"#ed7953\"],[0.7777777777777778,\"#fb9f3a\"],[0.8888888888888888,\"#fdca26\"],[1.0,\"#f0f921\"]]}],\"contourcarpet\":[{\"type\":\"contourcarpet\",\"colorbar\":{\"outlinewidth\":0,\"ticks\":\"\"}}],\"contour\":[{\"type\":\"contour\",\"colorbar\":{\"outlinewidth\":0,\"ticks\":\"\"},\"colorscale\":[[0.0,\"#0d0887\"],[0.1111111111111111,\"#46039f\"],[0.2222222222222222,\"#7201a8\"],[0.3333333333333333,\"#9c179e\"],[0.4444444444444444,\"#bd3786\"],[0.5555555555555556,\"#d8576b\"],[0.6666666666666666,\"#ed7953\"],[0.7777777777777778,\"#fb9f3a\"],[0.8888888888888888,\"#fdca26\"],[1.0,\"#f0f921\"]]}],\"surface\":[{\"type\":\"surface\",\"colorbar\":{\"outlinewidth\":0,\"ticks\":\"\"},\"colorscale\":[[0.0,\"#0d0887\"],[0.1111111111111111,\"#46039f\"],[0.2222222222222222,\"#7201a8\"],[0.3333333333333333,\"#9c179e\"],[0.4444444444444444,\"#bd3786\"],[0.5555555555555556,\"#d8576b\"],[0.6666666666666666,\"#ed7953\"],[0.7777777777777778,\"#fb9f3a\"],[0.8888888888888888,\"#fdca26\"],[1.0,\"#f0f921\"]]}],\"mesh3d\":[{\"type\":\"mesh3d\",\"colorbar\":{\"outlinewidth\":0,\"ticks\":\"\"}}],\"scatter\":[{\"fillpattern\":{\"fillmode\":\"overlay\",\"size\":10,\"solidity\":0.2},\"type\":\"scatter\"}],\"parcoords\":[{\"type\":\"parcoords\",\"line\":{\"colorbar\":{\"outlinewidth\":0,\"ticks\":\"\"}}}],\"scatterpolargl\":[{\"type\":\"scatterpolargl\",\"marker\":{\"colorbar\":{\"outlinewidth\":0,\"ticks\":\"\"}}}],\"bar\":[{\"error_x\":{\"color\":\"#2a3f5f\"},\"error_y\":{\"color\":\"#2a3f5f\"},\"marker\":{\"line\":{\"color\":\"#E5ECF6\",\"width\":0.5},\"pattern\":{\"fillmode\":\"overlay\",\"size\":10,\"solidity\":0.2}},\"type\":\"bar\"}],\"scattergeo\":[{\"type\":\"scattergeo\",\"marker\":{\"colorbar\":{\"outlinewidth\":0,\"ticks\":\"\"}}}],\"scatterpolar\":[{\"type\":\"scatterpolar\",\"marker\":{\"colorbar\":{\"outlinewidth\":0,\"ticks\":\"\"}}}],\"histogram\":[{\"marker\":{\"pattern\":{\"fillmode\":\"overlay\",\"size\":10,\"solidity\":0.2}},\"type\":\"histogram\"}],\"scattergl\":[{\"type\":\"scattergl\",\"marker\":{\"colorbar\":{\"outlinewidth\":0,\"ticks\":\"\"}}}],\"scatter3d\":[{\"type\":\"scatter3d\",\"line\":{\"colorbar\":{\"outlinewidth\":0,\"ticks\":\"\"}},\"marker\":{\"colorbar\":{\"outlinewidth\":0,\"ticks\":\"\"}}}],\"scattermapbox\":[{\"type\":\"scattermapbox\",\"marker\":{\"colorbar\":{\"outlinewidth\":0,\"ticks\":\"\"}}}],\"scatterternary\":[{\"type\":\"scatterternary\",\"marker\":{\"colorbar\":{\"outlinewidth\":0,\"ticks\":\"\"}}}],\"scattercarpet\":[{\"type\":\"scattercarpet\",\"marker\":{\"colorbar\":{\"outlinewidth\":0,\"ticks\":\"\"}}}],\"carpet\":[{\"aaxis\":{\"endlinecolor\":\"#2a3f5f\",\"gridcolor\":\"white\",\"linecolor\":\"white\",\"minorgridcolor\":\"white\",\"startlinecolor\":\"#2a3f5f\"},\"baxis\":{\"endlinecolor\":\"#2a3f5f\",\"gridcolor\":\"white\",\"linecolor\":\"white\",\"minorgridcolor\":\"white\",\"startlinecolor\":\"#2a3f5f\"},\"type\":\"carpet\"}],\"table\":[{\"cells\":{\"fill\":{\"color\":\"#EBF0F8\"},\"line\":{\"color\":\"white\"}},\"header\":{\"fill\":{\"color\":\"#C8D4E3\"},\"line\":{\"color\":\"white\"}},\"type\":\"table\"}],\"barpolar\":[{\"marker\":{\"line\":{\"color\":\"#E5ECF6\",\"width\":0.5},\"pattern\":{\"fillmode\":\"overlay\",\"size\":10,\"solidity\":0.2}},\"type\":\"barpolar\"}],\"pie\":[{\"automargin\":true,\"type\":\"pie\"}]},\"layout\":{\"autotypenumbers\":\"strict\",\"colorway\":[\"#636efa\",\"#EF553B\",\"#00cc96\",\"#ab63fa\",\"#FFA15A\",\"#19d3f3\",\"#FF6692\",\"#B6E880\",\"#FF97FF\",\"#FECB52\"],\"font\":{\"color\":\"#2a3f5f\"},\"hovermode\":\"closest\",\"hoverlabel\":{\"align\":\"left\"},\"paper_bgcolor\":\"white\",\"plot_bgcolor\":\"#E5ECF6\",\"polar\":{\"bgcolor\":\"#E5ECF6\",\"angularaxis\":{\"gridcolor\":\"white\",\"linecolor\":\"white\",\"ticks\":\"\"},\"radialaxis\":{\"gridcolor\":\"white\",\"linecolor\":\"white\",\"ticks\":\"\"}},\"ternary\":{\"bgcolor\":\"#E5ECF6\",\"aaxis\":{\"gridcolor\":\"white\",\"linecolor\":\"white\",\"ticks\":\"\"},\"baxis\":{\"gridcolor\":\"white\",\"linecolor\":\"white\",\"ticks\":\"\"},\"caxis\":{\"gridcolor\":\"white\",\"linecolor\":\"white\",\"ticks\":\"\"}},\"coloraxis\":{\"colorbar\":{\"outlinewidth\":0,\"ticks\":\"\"}},\"colorscale\":{\"sequential\":[[0.0,\"#0d0887\"],[0.1111111111111111,\"#46039f\"],[0.2222222222222222,\"#7201a8\"],[0.3333333333333333,\"#9c179e\"],[0.4444444444444444,\"#bd3786\"],[0.5555555555555556,\"#d8576b\"],[0.6666666666666666,\"#ed7953\"],[0.7777777777777778,\"#fb9f3a\"],[0.8888888888888888,\"#fdca26\"],[1.0,\"#f0f921\"]],\"sequentialminus\":[[0.0,\"#0d0887\"],[0.1111111111111111,\"#46039f\"],[0.2222222222222222,\"#7201a8\"],[0.3333333333333333,\"#9c179e\"],[0.4444444444444444,\"#bd3786\"],[0.5555555555555556,\"#d8576b\"],[0.6666666666666666,\"#ed7953\"],[0.7777777777777778,\"#fb9f3a\"],[0.8888888888888888,\"#fdca26\"],[1.0,\"#f0f921\"]],\"diverging\":[[0,\"#8e0152\"],[0.1,\"#c51b7d\"],[0.2,\"#de77ae\"],[0.3,\"#f1b6da\"],[0.4,\"#fde0ef\"],[0.5,\"#f7f7f7\"],[0.6,\"#e6f5d0\"],[0.7,\"#b8e186\"],[0.8,\"#7fbc41\"],[0.9,\"#4d9221\"],[1,\"#276419\"]]},\"xaxis\":{\"gridcolor\":\"white\",\"linecolor\":\"white\",\"ticks\":\"\",\"title\":{\"standoff\":15},\"zerolinecolor\":\"white\",\"automargin\":true,\"zerolinewidth\":2},\"yaxis\":{\"gridcolor\":\"white\",\"linecolor\":\"white\",\"ticks\":\"\",\"title\":{\"standoff\":15},\"zerolinecolor\":\"white\",\"automargin\":true,\"zerolinewidth\":2},\"scene\":{\"xaxis\":{\"backgroundcolor\":\"#E5ECF6\",\"gridcolor\":\"white\",\"linecolor\":\"white\",\"showbackground\":true,\"ticks\":\"\",\"zerolinecolor\":\"white\",\"gridwidth\":2},\"yaxis\":{\"backgroundcolor\":\"#E5ECF6\",\"gridcolor\":\"white\",\"linecolor\":\"white\",\"showbackground\":true,\"ticks\":\"\",\"zerolinecolor\":\"white\",\"gridwidth\":2},\"zaxis\":{\"backgroundcolor\":\"#E5ECF6\",\"gridcolor\":\"white\",\"linecolor\":\"white\",\"showbackground\":true,\"ticks\":\"\",\"zerolinecolor\":\"white\",\"gridwidth\":2}},\"shapedefaults\":{\"line\":{\"color\":\"#2a3f5f\"}},\"annotationdefaults\":{\"arrowcolor\":\"#2a3f5f\",\"arrowhead\":0,\"arrowwidth\":1},\"geo\":{\"bgcolor\":\"white\",\"landcolor\":\"#E5ECF6\",\"subunitcolor\":\"white\",\"showland\":true,\"showlakes\":true,\"lakecolor\":\"white\"},\"title\":{\"x\":0.05},\"mapbox\":{\"style\":\"light\"}}},\"xaxis\":{\"anchor\":\"y\",\"domain\":[0.0,1.0],\"title\":{\"text\":\"Sub-Category\"}},\"yaxis\":{\"anchor\":\"x\",\"domain\":[0.0,1.0],\"title\":{\"text\":\"value\"}},\"legend\":{\"title\":{\"text\":\"variable\"},\"tracegroupgap\":0},\"title\":{\"text\":\"Number of Orders for each Sub Category\"},\"barmode\":\"relative\"},                        {\"responsive\": true}                    ).then(function(){\n",
       "                            \n",
       "var gd = document.getElementById('0092367b-f484-4141-b6e3-75106459b374');\n",
       "var x = new MutationObserver(function (mutations, observer) {{\n",
       "        var display = window.getComputedStyle(gd).display;\n",
       "        if (!display || display === 'none') {{\n",
       "            console.log([gd, 'removed!']);\n",
       "            Plotly.purge(gd);\n",
       "            observer.disconnect();\n",
       "        }}\n",
       "}});\n",
       "\n",
       "// Listen for the removal of the full notebook cells\n",
       "var notebookContainer = gd.closest('#notebook-container');\n",
       "if (notebookContainer) {{\n",
       "    x.observe(notebookContainer, {childList: true});\n",
       "}}\n",
       "\n",
       "// Listen for the clearing of the current output cell\n",
       "var outputEl = gd.closest('.output');\n",
       "if (outputEl) {{\n",
       "    x.observe(outputEl, {childList: true});\n",
       "}}\n",
       "\n",
       "                        })                };                });            </script>        </div>"
      ]
     },
     "metadata": {},
     "output_type": "display_data"
    }
   ],
   "source": [
    "sub_categories_order = df['Sub-Category'].value_counts()\n",
    "px.bar(sub_categories_order,title='Number of Orders for each Sub Category')"
   ]
  },
  {
   "cell_type": "markdown",
   "id": "c66111b5",
   "metadata": {
    "papermill": {
     "duration": 0.009026,
     "end_time": "2023-10-14T10:52:59.265569",
     "exception": false,
     "start_time": "2023-10-14T10:52:59.256543",
     "status": "completed"
    },
    "tags": []
   },
   "source": [
    "## Profit and Sales for each Sub-Category"
   ]
  },
  {
   "cell_type": "code",
   "execution_count": 20,
   "id": "51936a8d",
   "metadata": {
    "execution": {
     "iopub.execute_input": "2023-10-14T10:52:59.284989Z",
     "iopub.status.busy": "2023-10-14T10:52:59.284594Z",
     "iopub.status.idle": "2023-10-14T10:52:59.343753Z",
     "shell.execute_reply": "2023-10-14T10:52:59.342678Z"
    },
    "papermill": {
     "duration": 0.071403,
     "end_time": "2023-10-14T10:52:59.345930",
     "exception": false,
     "start_time": "2023-10-14T10:52:59.274527",
     "status": "completed"
    },
    "tags": []
   },
   "outputs": [
    {
     "data": {
      "text/html": [
       "<div>                            <div id=\"0ebaf95c-e5d3-4256-8ae4-8dfbce8d2bcf\" class=\"plotly-graph-div\" style=\"height:525px; width:100%;\"></div>            <script type=\"text/javascript\">                require([\"plotly\"], function(Plotly) {                    window.PLOTLYENV=window.PLOTLYENV || {};                                    if (document.getElementById(\"0ebaf95c-e5d3-4256-8ae4-8dfbce8d2bcf\")) {                    Plotly.newPlot(                        \"0ebaf95c-e5d3-4256-8ae4-8dfbce8d2bcf\",                        [{\"alignmentgroup\":\"True\",\"hovertemplate\":\"variable=Sales\\u003cbr\\u003eSub-Category=%{x}\\u003cbr\\u003evalue=%{y}\\u003cextra\\u003e\\u003c\\u002fextra\\u003e\",\"legendgroup\":\"Sales\",\"marker\":{\"color\":\"#636efa\",\"pattern\":{\"shape\":\"\"}},\"name\":\"Sales\",\"offsetgroup\":\"Sales\",\"orientation\":\"v\",\"showlegend\":true,\"textposition\":\"auto\",\"x\":[\"Accessories\",\"Appliances\",\"Art\",\"Binders\",\"Bookcases\",\"Chairs\",\"Copiers\",\"Envelopes\",\"Fasteners\",\"Furnishings\",\"Labels\",\"Machines\",\"Paper\",\"Phones\",\"Storage\",\"Supplies\",\"Tables\"],\"xaxis\":\"x\",\"y\":[167380.318,107532.16100000001,27118.792,203412.733,114879.9963,328449.103,149528.03,16476.402,3024.28,91705.164,12486.312,189238.631,78479.206,330007.054,223843.608,46673.538,206965.532],\"yaxis\":\"y\",\"type\":\"bar\"},{\"alignmentgroup\":\"True\",\"hovertemplate\":\"variable=Profit\\u003cbr\\u003eSub-Category=%{x}\\u003cbr\\u003evalue=%{y}\\u003cextra\\u003e\\u003c\\u002fextra\\u003e\",\"legendgroup\":\"Profit\",\"marker\":{\"color\":\"#EF553B\",\"pattern\":{\"shape\":\"\"}},\"name\":\"Profit\",\"offsetgroup\":\"Profit\",\"orientation\":\"v\",\"showlegend\":true,\"textposition\":\"auto\",\"x\":[\"Accessories\",\"Appliances\",\"Art\",\"Binders\",\"Bookcases\",\"Chairs\",\"Copiers\",\"Envelopes\",\"Fasteners\",\"Furnishings\",\"Labels\",\"Machines\",\"Paper\",\"Phones\",\"Storage\",\"Supplies\",\"Tables\"],\"xaxis\":\"x\",\"y\":[41936.6357,18138.005400000002,6527.787,30221.7633,-3472.556,26590.1663,55617.8249,6964.1767,949.5182,13059.1436,5546.254,3384.7569,34053.5693,44515.7306,21278.8264,-1189.0995,-17725.4811],\"yaxis\":\"y\",\"type\":\"bar\"}],                        {\"template\":{\"data\":{\"histogram2dcontour\":[{\"type\":\"histogram2dcontour\",\"colorbar\":{\"outlinewidth\":0,\"ticks\":\"\"},\"colorscale\":[[0.0,\"#0d0887\"],[0.1111111111111111,\"#46039f\"],[0.2222222222222222,\"#7201a8\"],[0.3333333333333333,\"#9c179e\"],[0.4444444444444444,\"#bd3786\"],[0.5555555555555556,\"#d8576b\"],[0.6666666666666666,\"#ed7953\"],[0.7777777777777778,\"#fb9f3a\"],[0.8888888888888888,\"#fdca26\"],[1.0,\"#f0f921\"]]}],\"choropleth\":[{\"type\":\"choropleth\",\"colorbar\":{\"outlinewidth\":0,\"ticks\":\"\"}}],\"histogram2d\":[{\"type\":\"histogram2d\",\"colorbar\":{\"outlinewidth\":0,\"ticks\":\"\"},\"colorscale\":[[0.0,\"#0d0887\"],[0.1111111111111111,\"#46039f\"],[0.2222222222222222,\"#7201a8\"],[0.3333333333333333,\"#9c179e\"],[0.4444444444444444,\"#bd3786\"],[0.5555555555555556,\"#d8576b\"],[0.6666666666666666,\"#ed7953\"],[0.7777777777777778,\"#fb9f3a\"],[0.8888888888888888,\"#fdca26\"],[1.0,\"#f0f921\"]]}],\"heatmap\":[{\"type\":\"heatmap\",\"colorbar\":{\"outlinewidth\":0,\"ticks\":\"\"},\"colorscale\":[[0.0,\"#0d0887\"],[0.1111111111111111,\"#46039f\"],[0.2222222222222222,\"#7201a8\"],[0.3333333333333333,\"#9c179e\"],[0.4444444444444444,\"#bd3786\"],[0.5555555555555556,\"#d8576b\"],[0.6666666666666666,\"#ed7953\"],[0.7777777777777778,\"#fb9f3a\"],[0.8888888888888888,\"#fdca26\"],[1.0,\"#f0f921\"]]}],\"heatmapgl\":[{\"type\":\"heatmapgl\",\"colorbar\":{\"outlinewidth\":0,\"ticks\":\"\"},\"colorscale\":[[0.0,\"#0d0887\"],[0.1111111111111111,\"#46039f\"],[0.2222222222222222,\"#7201a8\"],[0.3333333333333333,\"#9c179e\"],[0.4444444444444444,\"#bd3786\"],[0.5555555555555556,\"#d8576b\"],[0.6666666666666666,\"#ed7953\"],[0.7777777777777778,\"#fb9f3a\"],[0.8888888888888888,\"#fdca26\"],[1.0,\"#f0f921\"]]}],\"contourcarpet\":[{\"type\":\"contourcarpet\",\"colorbar\":{\"outlinewidth\":0,\"ticks\":\"\"}}],\"contour\":[{\"type\":\"contour\",\"colorbar\":{\"outlinewidth\":0,\"ticks\":\"\"},\"colorscale\":[[0.0,\"#0d0887\"],[0.1111111111111111,\"#46039f\"],[0.2222222222222222,\"#7201a8\"],[0.3333333333333333,\"#9c179e\"],[0.4444444444444444,\"#bd3786\"],[0.5555555555555556,\"#d8576b\"],[0.6666666666666666,\"#ed7953\"],[0.7777777777777778,\"#fb9f3a\"],[0.8888888888888888,\"#fdca26\"],[1.0,\"#f0f921\"]]}],\"surface\":[{\"type\":\"surface\",\"colorbar\":{\"outlinewidth\":0,\"ticks\":\"\"},\"colorscale\":[[0.0,\"#0d0887\"],[0.1111111111111111,\"#46039f\"],[0.2222222222222222,\"#7201a8\"],[0.3333333333333333,\"#9c179e\"],[0.4444444444444444,\"#bd3786\"],[0.5555555555555556,\"#d8576b\"],[0.6666666666666666,\"#ed7953\"],[0.7777777777777778,\"#fb9f3a\"],[0.8888888888888888,\"#fdca26\"],[1.0,\"#f0f921\"]]}],\"mesh3d\":[{\"type\":\"mesh3d\",\"colorbar\":{\"outlinewidth\":0,\"ticks\":\"\"}}],\"scatter\":[{\"fillpattern\":{\"fillmode\":\"overlay\",\"size\":10,\"solidity\":0.2},\"type\":\"scatter\"}],\"parcoords\":[{\"type\":\"parcoords\",\"line\":{\"colorbar\":{\"outlinewidth\":0,\"ticks\":\"\"}}}],\"scatterpolargl\":[{\"type\":\"scatterpolargl\",\"marker\":{\"colorbar\":{\"outlinewidth\":0,\"ticks\":\"\"}}}],\"bar\":[{\"error_x\":{\"color\":\"#2a3f5f\"},\"error_y\":{\"color\":\"#2a3f5f\"},\"marker\":{\"line\":{\"color\":\"#E5ECF6\",\"width\":0.5},\"pattern\":{\"fillmode\":\"overlay\",\"size\":10,\"solidity\":0.2}},\"type\":\"bar\"}],\"scattergeo\":[{\"type\":\"scattergeo\",\"marker\":{\"colorbar\":{\"outlinewidth\":0,\"ticks\":\"\"}}}],\"scatterpolar\":[{\"type\":\"scatterpolar\",\"marker\":{\"colorbar\":{\"outlinewidth\":0,\"ticks\":\"\"}}}],\"histogram\":[{\"marker\":{\"pattern\":{\"fillmode\":\"overlay\",\"size\":10,\"solidity\":0.2}},\"type\":\"histogram\"}],\"scattergl\":[{\"type\":\"scattergl\",\"marker\":{\"colorbar\":{\"outlinewidth\":0,\"ticks\":\"\"}}}],\"scatter3d\":[{\"type\":\"scatter3d\",\"line\":{\"colorbar\":{\"outlinewidth\":0,\"ticks\":\"\"}},\"marker\":{\"colorbar\":{\"outlinewidth\":0,\"ticks\":\"\"}}}],\"scattermapbox\":[{\"type\":\"scattermapbox\",\"marker\":{\"colorbar\":{\"outlinewidth\":0,\"ticks\":\"\"}}}],\"scatterternary\":[{\"type\":\"scatterternary\",\"marker\":{\"colorbar\":{\"outlinewidth\":0,\"ticks\":\"\"}}}],\"scattercarpet\":[{\"type\":\"scattercarpet\",\"marker\":{\"colorbar\":{\"outlinewidth\":0,\"ticks\":\"\"}}}],\"carpet\":[{\"aaxis\":{\"endlinecolor\":\"#2a3f5f\",\"gridcolor\":\"white\",\"linecolor\":\"white\",\"minorgridcolor\":\"white\",\"startlinecolor\":\"#2a3f5f\"},\"baxis\":{\"endlinecolor\":\"#2a3f5f\",\"gridcolor\":\"white\",\"linecolor\":\"white\",\"minorgridcolor\":\"white\",\"startlinecolor\":\"#2a3f5f\"},\"type\":\"carpet\"}],\"table\":[{\"cells\":{\"fill\":{\"color\":\"#EBF0F8\"},\"line\":{\"color\":\"white\"}},\"header\":{\"fill\":{\"color\":\"#C8D4E3\"},\"line\":{\"color\":\"white\"}},\"type\":\"table\"}],\"barpolar\":[{\"marker\":{\"line\":{\"color\":\"#E5ECF6\",\"width\":0.5},\"pattern\":{\"fillmode\":\"overlay\",\"size\":10,\"solidity\":0.2}},\"type\":\"barpolar\"}],\"pie\":[{\"automargin\":true,\"type\":\"pie\"}]},\"layout\":{\"autotypenumbers\":\"strict\",\"colorway\":[\"#636efa\",\"#EF553B\",\"#00cc96\",\"#ab63fa\",\"#FFA15A\",\"#19d3f3\",\"#FF6692\",\"#B6E880\",\"#FF97FF\",\"#FECB52\"],\"font\":{\"color\":\"#2a3f5f\"},\"hovermode\":\"closest\",\"hoverlabel\":{\"align\":\"left\"},\"paper_bgcolor\":\"white\",\"plot_bgcolor\":\"#E5ECF6\",\"polar\":{\"bgcolor\":\"#E5ECF6\",\"angularaxis\":{\"gridcolor\":\"white\",\"linecolor\":\"white\",\"ticks\":\"\"},\"radialaxis\":{\"gridcolor\":\"white\",\"linecolor\":\"white\",\"ticks\":\"\"}},\"ternary\":{\"bgcolor\":\"#E5ECF6\",\"aaxis\":{\"gridcolor\":\"white\",\"linecolor\":\"white\",\"ticks\":\"\"},\"baxis\":{\"gridcolor\":\"white\",\"linecolor\":\"white\",\"ticks\":\"\"},\"caxis\":{\"gridcolor\":\"white\",\"linecolor\":\"white\",\"ticks\":\"\"}},\"coloraxis\":{\"colorbar\":{\"outlinewidth\":0,\"ticks\":\"\"}},\"colorscale\":{\"sequential\":[[0.0,\"#0d0887\"],[0.1111111111111111,\"#46039f\"],[0.2222222222222222,\"#7201a8\"],[0.3333333333333333,\"#9c179e\"],[0.4444444444444444,\"#bd3786\"],[0.5555555555555556,\"#d8576b\"],[0.6666666666666666,\"#ed7953\"],[0.7777777777777778,\"#fb9f3a\"],[0.8888888888888888,\"#fdca26\"],[1.0,\"#f0f921\"]],\"sequentialminus\":[[0.0,\"#0d0887\"],[0.1111111111111111,\"#46039f\"],[0.2222222222222222,\"#7201a8\"],[0.3333333333333333,\"#9c179e\"],[0.4444444444444444,\"#bd3786\"],[0.5555555555555556,\"#d8576b\"],[0.6666666666666666,\"#ed7953\"],[0.7777777777777778,\"#fb9f3a\"],[0.8888888888888888,\"#fdca26\"],[1.0,\"#f0f921\"]],\"diverging\":[[0,\"#8e0152\"],[0.1,\"#c51b7d\"],[0.2,\"#de77ae\"],[0.3,\"#f1b6da\"],[0.4,\"#fde0ef\"],[0.5,\"#f7f7f7\"],[0.6,\"#e6f5d0\"],[0.7,\"#b8e186\"],[0.8,\"#7fbc41\"],[0.9,\"#4d9221\"],[1,\"#276419\"]]},\"xaxis\":{\"gridcolor\":\"white\",\"linecolor\":\"white\",\"ticks\":\"\",\"title\":{\"standoff\":15},\"zerolinecolor\":\"white\",\"automargin\":true,\"zerolinewidth\":2},\"yaxis\":{\"gridcolor\":\"white\",\"linecolor\":\"white\",\"ticks\":\"\",\"title\":{\"standoff\":15},\"zerolinecolor\":\"white\",\"automargin\":true,\"zerolinewidth\":2},\"scene\":{\"xaxis\":{\"backgroundcolor\":\"#E5ECF6\",\"gridcolor\":\"white\",\"linecolor\":\"white\",\"showbackground\":true,\"ticks\":\"\",\"zerolinecolor\":\"white\",\"gridwidth\":2},\"yaxis\":{\"backgroundcolor\":\"#E5ECF6\",\"gridcolor\":\"white\",\"linecolor\":\"white\",\"showbackground\":true,\"ticks\":\"\",\"zerolinecolor\":\"white\",\"gridwidth\":2},\"zaxis\":{\"backgroundcolor\":\"#E5ECF6\",\"gridcolor\":\"white\",\"linecolor\":\"white\",\"showbackground\":true,\"ticks\":\"\",\"zerolinecolor\":\"white\",\"gridwidth\":2}},\"shapedefaults\":{\"line\":{\"color\":\"#2a3f5f\"}},\"annotationdefaults\":{\"arrowcolor\":\"#2a3f5f\",\"arrowhead\":0,\"arrowwidth\":1},\"geo\":{\"bgcolor\":\"white\",\"landcolor\":\"#E5ECF6\",\"subunitcolor\":\"white\",\"showland\":true,\"showlakes\":true,\"lakecolor\":\"white\"},\"title\":{\"x\":0.05},\"mapbox\":{\"style\":\"light\"}}},\"xaxis\":{\"anchor\":\"y\",\"domain\":[0.0,1.0],\"title\":{\"text\":\"Sub-Category\"}},\"yaxis\":{\"anchor\":\"x\",\"domain\":[0.0,1.0],\"title\":{\"text\":\"value\"}},\"legend\":{\"title\":{\"text\":\"variable\"},\"tracegroupgap\":0},\"title\":{\"text\":\"Sales and Profit for each Sub-Category\"},\"barmode\":\"group\"},                        {\"responsive\": true}                    ).then(function(){\n",
       "                            \n",
       "var gd = document.getElementById('0ebaf95c-e5d3-4256-8ae4-8dfbce8d2bcf');\n",
       "var x = new MutationObserver(function (mutations, observer) {{\n",
       "        var display = window.getComputedStyle(gd).display;\n",
       "        if (!display || display === 'none') {{\n",
       "            console.log([gd, 'removed!']);\n",
       "            Plotly.purge(gd);\n",
       "            observer.disconnect();\n",
       "        }}\n",
       "}});\n",
       "\n",
       "// Listen for the removal of the full notebook cells\n",
       "var notebookContainer = gd.closest('#notebook-container');\n",
       "if (notebookContainer) {{\n",
       "    x.observe(notebookContainer, {childList: true});\n",
       "}}\n",
       "\n",
       "// Listen for the clearing of the current output cell\n",
       "var outputEl = gd.closest('.output');\n",
       "if (outputEl) {{\n",
       "    x.observe(outputEl, {childList: true});\n",
       "}}\n",
       "\n",
       "                        })                };                });            </script>        </div>"
      ]
     },
     "metadata": {},
     "output_type": "display_data"
    }
   ],
   "source": [
    "sub_categories_sales_profit = df.groupby('Sub-Category')[['Sales','Profit']].sum().reset_index()\n",
    "\n",
    "px.bar(data_frame=sub_categories_sales_profit,x='Sub-Category',y=['Sales','Profit'],barmode ='group',title='Sales and Profit for each Sub-Category')"
   ]
  },
  {
   "cell_type": "markdown",
   "id": "7c340edb",
   "metadata": {
    "papermill": {
     "duration": 0.008893,
     "end_time": "2023-10-14T10:52:59.364165",
     "exception": false,
     "start_time": "2023-10-14T10:52:59.355272",
     "status": "completed"
    },
    "tags": []
   },
   "source": [
    "## Number of Orders for Cities with more than 50 order"
   ]
  },
  {
   "cell_type": "code",
   "execution_count": 21,
   "id": "3dcbe044",
   "metadata": {
    "execution": {
     "iopub.execute_input": "2023-10-14T10:52:59.383978Z",
     "iopub.status.busy": "2023-10-14T10:52:59.383638Z",
     "iopub.status.idle": "2023-10-14T10:52:59.441441Z",
     "shell.execute_reply": "2023-10-14T10:52:59.440738Z"
    },
    "papermill": {
     "duration": 0.070104,
     "end_time": "2023-10-14T10:52:59.443335",
     "exception": false,
     "start_time": "2023-10-14T10:52:59.373231",
     "status": "completed"
    },
    "tags": []
   },
   "outputs": [
    {
     "data": {
      "text/html": [
       "<div>                            <div id=\"83016765-696d-4b04-b857-b7786fece9d2\" class=\"plotly-graph-div\" style=\"height:525px; width:100%;\"></div>            <script type=\"text/javascript\">                require([\"plotly\"], function(Plotly) {                    window.PLOTLYENV=window.PLOTLYENV || {};                                    if (document.getElementById(\"83016765-696d-4b04-b857-b7786fece9d2\")) {                    Plotly.newPlot(                        \"83016765-696d-4b04-b857-b7786fece9d2\",                        [{\"alignmentgroup\":\"True\",\"hovertemplate\":\"variable=count\\u003cbr\\u003eCity=%{x}\\u003cbr\\u003evalue=%{y}\\u003cextra\\u003e\\u003c\\u002fextra\\u003e\",\"legendgroup\":\"count\",\"marker\":{\"color\":\"#636efa\",\"pattern\":{\"shape\":\"\"}},\"name\":\"count\",\"offsetgroup\":\"count\",\"orientation\":\"v\",\"showlegend\":true,\"textposition\":\"auto\",\"x\":[\"New York City\",\"Los Angeles\",\"Philadelphia\",\"San Francisco\",\"Seattle\",\"Houston\",\"Chicago\",\"Columbus\",\"San Diego\",\"Springfield\",\"Dallas\",\"Jacksonville\",\"Detroit\",\"Newark\",\"Richmond\",\"Jackson\",\"Columbia\",\"Aurora\",\"Phoenix\",\"Long Beach\",\"Arlington\",\"San Antonio\",\"Miami\",\"Louisville\",\"Rochester\",\"Charlotte\",\"Henderson\"],\"xaxis\":\"x\",\"y\":[915,747,537,510,428,377,314,222,170,163,157,125,115,95,90,82,81,68,63,61,60,59,57,57,53,52,51],\"yaxis\":\"y\",\"type\":\"bar\"}],                        {\"template\":{\"data\":{\"histogram2dcontour\":[{\"type\":\"histogram2dcontour\",\"colorbar\":{\"outlinewidth\":0,\"ticks\":\"\"},\"colorscale\":[[0.0,\"#0d0887\"],[0.1111111111111111,\"#46039f\"],[0.2222222222222222,\"#7201a8\"],[0.3333333333333333,\"#9c179e\"],[0.4444444444444444,\"#bd3786\"],[0.5555555555555556,\"#d8576b\"],[0.6666666666666666,\"#ed7953\"],[0.7777777777777778,\"#fb9f3a\"],[0.8888888888888888,\"#fdca26\"],[1.0,\"#f0f921\"]]}],\"choropleth\":[{\"type\":\"choropleth\",\"colorbar\":{\"outlinewidth\":0,\"ticks\":\"\"}}],\"histogram2d\":[{\"type\":\"histogram2d\",\"colorbar\":{\"outlinewidth\":0,\"ticks\":\"\"},\"colorscale\":[[0.0,\"#0d0887\"],[0.1111111111111111,\"#46039f\"],[0.2222222222222222,\"#7201a8\"],[0.3333333333333333,\"#9c179e\"],[0.4444444444444444,\"#bd3786\"],[0.5555555555555556,\"#d8576b\"],[0.6666666666666666,\"#ed7953\"],[0.7777777777777778,\"#fb9f3a\"],[0.8888888888888888,\"#fdca26\"],[1.0,\"#f0f921\"]]}],\"heatmap\":[{\"type\":\"heatmap\",\"colorbar\":{\"outlinewidth\":0,\"ticks\":\"\"},\"colorscale\":[[0.0,\"#0d0887\"],[0.1111111111111111,\"#46039f\"],[0.2222222222222222,\"#7201a8\"],[0.3333333333333333,\"#9c179e\"],[0.4444444444444444,\"#bd3786\"],[0.5555555555555556,\"#d8576b\"],[0.6666666666666666,\"#ed7953\"],[0.7777777777777778,\"#fb9f3a\"],[0.8888888888888888,\"#fdca26\"],[1.0,\"#f0f921\"]]}],\"heatmapgl\":[{\"type\":\"heatmapgl\",\"colorbar\":{\"outlinewidth\":0,\"ticks\":\"\"},\"colorscale\":[[0.0,\"#0d0887\"],[0.1111111111111111,\"#46039f\"],[0.2222222222222222,\"#7201a8\"],[0.3333333333333333,\"#9c179e\"],[0.4444444444444444,\"#bd3786\"],[0.5555555555555556,\"#d8576b\"],[0.6666666666666666,\"#ed7953\"],[0.7777777777777778,\"#fb9f3a\"],[0.8888888888888888,\"#fdca26\"],[1.0,\"#f0f921\"]]}],\"contourcarpet\":[{\"type\":\"contourcarpet\",\"colorbar\":{\"outlinewidth\":0,\"ticks\":\"\"}}],\"contour\":[{\"type\":\"contour\",\"colorbar\":{\"outlinewidth\":0,\"ticks\":\"\"},\"colorscale\":[[0.0,\"#0d0887\"],[0.1111111111111111,\"#46039f\"],[0.2222222222222222,\"#7201a8\"],[0.3333333333333333,\"#9c179e\"],[0.4444444444444444,\"#bd3786\"],[0.5555555555555556,\"#d8576b\"],[0.6666666666666666,\"#ed7953\"],[0.7777777777777778,\"#fb9f3a\"],[0.8888888888888888,\"#fdca26\"],[1.0,\"#f0f921\"]]}],\"surface\":[{\"type\":\"surface\",\"colorbar\":{\"outlinewidth\":0,\"ticks\":\"\"},\"colorscale\":[[0.0,\"#0d0887\"],[0.1111111111111111,\"#46039f\"],[0.2222222222222222,\"#7201a8\"],[0.3333333333333333,\"#9c179e\"],[0.4444444444444444,\"#bd3786\"],[0.5555555555555556,\"#d8576b\"],[0.6666666666666666,\"#ed7953\"],[0.7777777777777778,\"#fb9f3a\"],[0.8888888888888888,\"#fdca26\"],[1.0,\"#f0f921\"]]}],\"mesh3d\":[{\"type\":\"mesh3d\",\"colorbar\":{\"outlinewidth\":0,\"ticks\":\"\"}}],\"scatter\":[{\"fillpattern\":{\"fillmode\":\"overlay\",\"size\":10,\"solidity\":0.2},\"type\":\"scatter\"}],\"parcoords\":[{\"type\":\"parcoords\",\"line\":{\"colorbar\":{\"outlinewidth\":0,\"ticks\":\"\"}}}],\"scatterpolargl\":[{\"type\":\"scatterpolargl\",\"marker\":{\"colorbar\":{\"outlinewidth\":0,\"ticks\":\"\"}}}],\"bar\":[{\"error_x\":{\"color\":\"#2a3f5f\"},\"error_y\":{\"color\":\"#2a3f5f\"},\"marker\":{\"line\":{\"color\":\"#E5ECF6\",\"width\":0.5},\"pattern\":{\"fillmode\":\"overlay\",\"size\":10,\"solidity\":0.2}},\"type\":\"bar\"}],\"scattergeo\":[{\"type\":\"scattergeo\",\"marker\":{\"colorbar\":{\"outlinewidth\":0,\"ticks\":\"\"}}}],\"scatterpolar\":[{\"type\":\"scatterpolar\",\"marker\":{\"colorbar\":{\"outlinewidth\":0,\"ticks\":\"\"}}}],\"histogram\":[{\"marker\":{\"pattern\":{\"fillmode\":\"overlay\",\"size\":10,\"solidity\":0.2}},\"type\":\"histogram\"}],\"scattergl\":[{\"type\":\"scattergl\",\"marker\":{\"colorbar\":{\"outlinewidth\":0,\"ticks\":\"\"}}}],\"scatter3d\":[{\"type\":\"scatter3d\",\"line\":{\"colorbar\":{\"outlinewidth\":0,\"ticks\":\"\"}},\"marker\":{\"colorbar\":{\"outlinewidth\":0,\"ticks\":\"\"}}}],\"scattermapbox\":[{\"type\":\"scattermapbox\",\"marker\":{\"colorbar\":{\"outlinewidth\":0,\"ticks\":\"\"}}}],\"scatterternary\":[{\"type\":\"scatterternary\",\"marker\":{\"colorbar\":{\"outlinewidth\":0,\"ticks\":\"\"}}}],\"scattercarpet\":[{\"type\":\"scattercarpet\",\"marker\":{\"colorbar\":{\"outlinewidth\":0,\"ticks\":\"\"}}}],\"carpet\":[{\"aaxis\":{\"endlinecolor\":\"#2a3f5f\",\"gridcolor\":\"white\",\"linecolor\":\"white\",\"minorgridcolor\":\"white\",\"startlinecolor\":\"#2a3f5f\"},\"baxis\":{\"endlinecolor\":\"#2a3f5f\",\"gridcolor\":\"white\",\"linecolor\":\"white\",\"minorgridcolor\":\"white\",\"startlinecolor\":\"#2a3f5f\"},\"type\":\"carpet\"}],\"table\":[{\"cells\":{\"fill\":{\"color\":\"#EBF0F8\"},\"line\":{\"color\":\"white\"}},\"header\":{\"fill\":{\"color\":\"#C8D4E3\"},\"line\":{\"color\":\"white\"}},\"type\":\"table\"}],\"barpolar\":[{\"marker\":{\"line\":{\"color\":\"#E5ECF6\",\"width\":0.5},\"pattern\":{\"fillmode\":\"overlay\",\"size\":10,\"solidity\":0.2}},\"type\":\"barpolar\"}],\"pie\":[{\"automargin\":true,\"type\":\"pie\"}]},\"layout\":{\"autotypenumbers\":\"strict\",\"colorway\":[\"#636efa\",\"#EF553B\",\"#00cc96\",\"#ab63fa\",\"#FFA15A\",\"#19d3f3\",\"#FF6692\",\"#B6E880\",\"#FF97FF\",\"#FECB52\"],\"font\":{\"color\":\"#2a3f5f\"},\"hovermode\":\"closest\",\"hoverlabel\":{\"align\":\"left\"},\"paper_bgcolor\":\"white\",\"plot_bgcolor\":\"#E5ECF6\",\"polar\":{\"bgcolor\":\"#E5ECF6\",\"angularaxis\":{\"gridcolor\":\"white\",\"linecolor\":\"white\",\"ticks\":\"\"},\"radialaxis\":{\"gridcolor\":\"white\",\"linecolor\":\"white\",\"ticks\":\"\"}},\"ternary\":{\"bgcolor\":\"#E5ECF6\",\"aaxis\":{\"gridcolor\":\"white\",\"linecolor\":\"white\",\"ticks\":\"\"},\"baxis\":{\"gridcolor\":\"white\",\"linecolor\":\"white\",\"ticks\":\"\"},\"caxis\":{\"gridcolor\":\"white\",\"linecolor\":\"white\",\"ticks\":\"\"}},\"coloraxis\":{\"colorbar\":{\"outlinewidth\":0,\"ticks\":\"\"}},\"colorscale\":{\"sequential\":[[0.0,\"#0d0887\"],[0.1111111111111111,\"#46039f\"],[0.2222222222222222,\"#7201a8\"],[0.3333333333333333,\"#9c179e\"],[0.4444444444444444,\"#bd3786\"],[0.5555555555555556,\"#d8576b\"],[0.6666666666666666,\"#ed7953\"],[0.7777777777777778,\"#fb9f3a\"],[0.8888888888888888,\"#fdca26\"],[1.0,\"#f0f921\"]],\"sequentialminus\":[[0.0,\"#0d0887\"],[0.1111111111111111,\"#46039f\"],[0.2222222222222222,\"#7201a8\"],[0.3333333333333333,\"#9c179e\"],[0.4444444444444444,\"#bd3786\"],[0.5555555555555556,\"#d8576b\"],[0.6666666666666666,\"#ed7953\"],[0.7777777777777778,\"#fb9f3a\"],[0.8888888888888888,\"#fdca26\"],[1.0,\"#f0f921\"]],\"diverging\":[[0,\"#8e0152\"],[0.1,\"#c51b7d\"],[0.2,\"#de77ae\"],[0.3,\"#f1b6da\"],[0.4,\"#fde0ef\"],[0.5,\"#f7f7f7\"],[0.6,\"#e6f5d0\"],[0.7,\"#b8e186\"],[0.8,\"#7fbc41\"],[0.9,\"#4d9221\"],[1,\"#276419\"]]},\"xaxis\":{\"gridcolor\":\"white\",\"linecolor\":\"white\",\"ticks\":\"\",\"title\":{\"standoff\":15},\"zerolinecolor\":\"white\",\"automargin\":true,\"zerolinewidth\":2},\"yaxis\":{\"gridcolor\":\"white\",\"linecolor\":\"white\",\"ticks\":\"\",\"title\":{\"standoff\":15},\"zerolinecolor\":\"white\",\"automargin\":true,\"zerolinewidth\":2},\"scene\":{\"xaxis\":{\"backgroundcolor\":\"#E5ECF6\",\"gridcolor\":\"white\",\"linecolor\":\"white\",\"showbackground\":true,\"ticks\":\"\",\"zerolinecolor\":\"white\",\"gridwidth\":2},\"yaxis\":{\"backgroundcolor\":\"#E5ECF6\",\"gridcolor\":\"white\",\"linecolor\":\"white\",\"showbackground\":true,\"ticks\":\"\",\"zerolinecolor\":\"white\",\"gridwidth\":2},\"zaxis\":{\"backgroundcolor\":\"#E5ECF6\",\"gridcolor\":\"white\",\"linecolor\":\"white\",\"showbackground\":true,\"ticks\":\"\",\"zerolinecolor\":\"white\",\"gridwidth\":2}},\"shapedefaults\":{\"line\":{\"color\":\"#2a3f5f\"}},\"annotationdefaults\":{\"arrowcolor\":\"#2a3f5f\",\"arrowhead\":0,\"arrowwidth\":1},\"geo\":{\"bgcolor\":\"white\",\"landcolor\":\"#E5ECF6\",\"subunitcolor\":\"white\",\"showland\":true,\"showlakes\":true,\"lakecolor\":\"white\"},\"title\":{\"x\":0.05},\"mapbox\":{\"style\":\"light\"}}},\"xaxis\":{\"anchor\":\"y\",\"domain\":[0.0,1.0],\"title\":{\"text\":\"City\"}},\"yaxis\":{\"anchor\":\"x\",\"domain\":[0.0,1.0],\"title\":{\"text\":\"value\"}},\"legend\":{\"title\":{\"text\":\"variable\"},\"tracegroupgap\":0},\"title\":{\"text\":\"Number of Orders for Cities with more than 50 order\"},\"barmode\":\"relative\"},                        {\"responsive\": true}                    ).then(function(){\n",
       "                            \n",
       "var gd = document.getElementById('83016765-696d-4b04-b857-b7786fece9d2');\n",
       "var x = new MutationObserver(function (mutations, observer) {{\n",
       "        var display = window.getComputedStyle(gd).display;\n",
       "        if (!display || display === 'none') {{\n",
       "            console.log([gd, 'removed!']);\n",
       "            Plotly.purge(gd);\n",
       "            observer.disconnect();\n",
       "        }}\n",
       "}});\n",
       "\n",
       "// Listen for the removal of the full notebook cells\n",
       "var notebookContainer = gd.closest('#notebook-container');\n",
       "if (notebookContainer) {{\n",
       "    x.observe(notebookContainer, {childList: true});\n",
       "}}\n",
       "\n",
       "// Listen for the clearing of the current output cell\n",
       "var outputEl = gd.closest('.output');\n",
       "if (outputEl) {{\n",
       "    x.observe(outputEl, {childList: true});\n",
       "}}\n",
       "\n",
       "                        })                };                });            </script>        </div>"
      ]
     },
     "metadata": {},
     "output_type": "display_data"
    }
   ],
   "source": [
    "cities_orders = df['City'].value_counts()\n",
    "cities_orders = cities_orders[cities_orders.values >= 50]\n",
    "px.bar(cities_orders,title='Number of Orders for Cities with more than 50 order')"
   ]
  },
  {
   "cell_type": "markdown",
   "id": "1adae9f9",
   "metadata": {
    "papermill": {
     "duration": 0.011457,
     "end_time": "2023-10-14T10:52:59.470940",
     "exception": false,
     "start_time": "2023-10-14T10:52:59.459483",
     "status": "completed"
    },
    "tags": []
   },
   "source": [
    "## Sales and Profit for Cities with more than 50 Order"
   ]
  },
  {
   "cell_type": "code",
   "execution_count": 22,
   "id": "fe3f4d3f",
   "metadata": {
    "execution": {
     "iopub.execute_input": "2023-10-14T10:52:59.492262Z",
     "iopub.status.busy": "2023-10-14T10:52:59.491594Z",
     "iopub.status.idle": "2023-10-14T10:52:59.551319Z",
     "shell.execute_reply": "2023-10-14T10:52:59.550659Z"
    },
    "papermill": {
     "duration": 0.072674,
     "end_time": "2023-10-14T10:52:59.553372",
     "exception": false,
     "start_time": "2023-10-14T10:52:59.480698",
     "status": "completed"
    },
    "tags": []
   },
   "outputs": [
    {
     "data": {
      "text/html": [
       "<div>                            <div id=\"549d1fac-4e8b-4ef1-9fbb-c14cbdcca01a\" class=\"plotly-graph-div\" style=\"height:525px; width:100%;\"></div>            <script type=\"text/javascript\">                require([\"plotly\"], function(Plotly) {                    window.PLOTLYENV=window.PLOTLYENV || {};                                    if (document.getElementById(\"549d1fac-4e8b-4ef1-9fbb-c14cbdcca01a\")) {                    Plotly.newPlot(                        \"549d1fac-4e8b-4ef1-9fbb-c14cbdcca01a\",                        [{\"alignmentgroup\":\"True\",\"hovertemplate\":\"variable=Sales\\u003cbr\\u003eCity=%{x}\\u003cbr\\u003evalue=%{y}\\u003cextra\\u003e\\u003c\\u002fextra\\u003e\",\"legendgroup\":\"Sales\",\"marker\":{\"color\":\"#636efa\",\"pattern\":{\"shape\":\"\"}},\"name\":\"Sales\",\"offsetgroup\":\"Sales\",\"orientation\":\"v\",\"showlegend\":true,\"textposition\":\"auto\",\"x\":[\"Arlington\",\"Aurora\",\"Charlotte\",\"Chicago\",\"Columbia\",\"Columbus\",\"Dallas\",\"Detroit\",\"Henderson\",\"Houston\",\"Jackson\",\"Jacksonville\",\"Long Beach\",\"Los Angeles\",\"Louisville\",\"Miami\",\"New York City\",\"Newark\",\"Philadelphia\",\"Phoenix\",\"Richmond\",\"Rochester\",\"San Antonio\",\"San Diego\",\"San Francisco\",\"Seattle\",\"Springfield\"],\"xaxis\":\"x\",\"y\":[20214.532000000003,11656.478,13693.339,48539.541,25283.324,38706.243,20131.9322,42446.944,17549.068,64504.7604,24963.858,44713.183,13455.03,175851.34100000001,12345.806,8673.0745,256368.161,28576.119,109077.013,11000.257,18137.93,7974.53,21843.528,47521.029,112669.092,119540.742,43054.342],\"yaxis\":\"y\",\"type\":\"bar\"},{\"alignmentgroup\":\"True\",\"hovertemplate\":\"variable=Profit\\u003cbr\\u003eCity=%{x}\\u003cbr\\u003evalue=%{y}\\u003cextra\\u003e\\u003c\\u002fextra\\u003e\",\"legendgroup\":\"Profit\",\"marker\":{\"color\":\"#EF553B\",\"pattern\":{\"shape\":\"\"}},\"name\":\"Profit\",\"offsetgroup\":\"Profit\",\"orientation\":\"v\",\"showlegend\":true,\"textposition\":\"auto\",\"x\":[\"Arlington\",\"Aurora\",\"Charlotte\",\"Chicago\",\"Columbia\",\"Columbus\",\"Dallas\",\"Detroit\",\"Henderson\",\"Houston\",\"Jackson\",\"Jacksonville\",\"Long Beach\",\"Los Angeles\",\"Louisville\",\"Miami\",\"New York City\",\"Newark\",\"Philadelphia\",\"Phoenix\",\"Richmond\",\"Rochester\",\"San Antonio\",\"San Diego\",\"San Francisco\",\"Seattle\",\"Springfield\"],\"xaxis\":\"x\",\"y\":[4169.6969,-2691.7386,-429.7824,-6654.5688,5606.1167,5897.1013,-2846.5257,13181.790799999999,4911.8609,-10153.548499999999,7581.6828,-2323.835,2108.9306,30440.7579,-1430.3129000000001,-1150.3704,62036.9837,5793.7588,-13837.7674,-2790.8831999999998,5567.2486,1743.4191,-7299.050200000001,6377.196,17507.3854,29156.0967,6200.6974],\"yaxis\":\"y\",\"type\":\"bar\"}],                        {\"template\":{\"data\":{\"histogram2dcontour\":[{\"type\":\"histogram2dcontour\",\"colorbar\":{\"outlinewidth\":0,\"ticks\":\"\"},\"colorscale\":[[0.0,\"#0d0887\"],[0.1111111111111111,\"#46039f\"],[0.2222222222222222,\"#7201a8\"],[0.3333333333333333,\"#9c179e\"],[0.4444444444444444,\"#bd3786\"],[0.5555555555555556,\"#d8576b\"],[0.6666666666666666,\"#ed7953\"],[0.7777777777777778,\"#fb9f3a\"],[0.8888888888888888,\"#fdca26\"],[1.0,\"#f0f921\"]]}],\"choropleth\":[{\"type\":\"choropleth\",\"colorbar\":{\"outlinewidth\":0,\"ticks\":\"\"}}],\"histogram2d\":[{\"type\":\"histogram2d\",\"colorbar\":{\"outlinewidth\":0,\"ticks\":\"\"},\"colorscale\":[[0.0,\"#0d0887\"],[0.1111111111111111,\"#46039f\"],[0.2222222222222222,\"#7201a8\"],[0.3333333333333333,\"#9c179e\"],[0.4444444444444444,\"#bd3786\"],[0.5555555555555556,\"#d8576b\"],[0.6666666666666666,\"#ed7953\"],[0.7777777777777778,\"#fb9f3a\"],[0.8888888888888888,\"#fdca26\"],[1.0,\"#f0f921\"]]}],\"heatmap\":[{\"type\":\"heatmap\",\"colorbar\":{\"outlinewidth\":0,\"ticks\":\"\"},\"colorscale\":[[0.0,\"#0d0887\"],[0.1111111111111111,\"#46039f\"],[0.2222222222222222,\"#7201a8\"],[0.3333333333333333,\"#9c179e\"],[0.4444444444444444,\"#bd3786\"],[0.5555555555555556,\"#d8576b\"],[0.6666666666666666,\"#ed7953\"],[0.7777777777777778,\"#fb9f3a\"],[0.8888888888888888,\"#fdca26\"],[1.0,\"#f0f921\"]]}],\"heatmapgl\":[{\"type\":\"heatmapgl\",\"colorbar\":{\"outlinewidth\":0,\"ticks\":\"\"},\"colorscale\":[[0.0,\"#0d0887\"],[0.1111111111111111,\"#46039f\"],[0.2222222222222222,\"#7201a8\"],[0.3333333333333333,\"#9c179e\"],[0.4444444444444444,\"#bd3786\"],[0.5555555555555556,\"#d8576b\"],[0.6666666666666666,\"#ed7953\"],[0.7777777777777778,\"#fb9f3a\"],[0.8888888888888888,\"#fdca26\"],[1.0,\"#f0f921\"]]}],\"contourcarpet\":[{\"type\":\"contourcarpet\",\"colorbar\":{\"outlinewidth\":0,\"ticks\":\"\"}}],\"contour\":[{\"type\":\"contour\",\"colorbar\":{\"outlinewidth\":0,\"ticks\":\"\"},\"colorscale\":[[0.0,\"#0d0887\"],[0.1111111111111111,\"#46039f\"],[0.2222222222222222,\"#7201a8\"],[0.3333333333333333,\"#9c179e\"],[0.4444444444444444,\"#bd3786\"],[0.5555555555555556,\"#d8576b\"],[0.6666666666666666,\"#ed7953\"],[0.7777777777777778,\"#fb9f3a\"],[0.8888888888888888,\"#fdca26\"],[1.0,\"#f0f921\"]]}],\"surface\":[{\"type\":\"surface\",\"colorbar\":{\"outlinewidth\":0,\"ticks\":\"\"},\"colorscale\":[[0.0,\"#0d0887\"],[0.1111111111111111,\"#46039f\"],[0.2222222222222222,\"#7201a8\"],[0.3333333333333333,\"#9c179e\"],[0.4444444444444444,\"#bd3786\"],[0.5555555555555556,\"#d8576b\"],[0.6666666666666666,\"#ed7953\"],[0.7777777777777778,\"#fb9f3a\"],[0.8888888888888888,\"#fdca26\"],[1.0,\"#f0f921\"]]}],\"mesh3d\":[{\"type\":\"mesh3d\",\"colorbar\":{\"outlinewidth\":0,\"ticks\":\"\"}}],\"scatter\":[{\"fillpattern\":{\"fillmode\":\"overlay\",\"size\":10,\"solidity\":0.2},\"type\":\"scatter\"}],\"parcoords\":[{\"type\":\"parcoords\",\"line\":{\"colorbar\":{\"outlinewidth\":0,\"ticks\":\"\"}}}],\"scatterpolargl\":[{\"type\":\"scatterpolargl\",\"marker\":{\"colorbar\":{\"outlinewidth\":0,\"ticks\":\"\"}}}],\"bar\":[{\"error_x\":{\"color\":\"#2a3f5f\"},\"error_y\":{\"color\":\"#2a3f5f\"},\"marker\":{\"line\":{\"color\":\"#E5ECF6\",\"width\":0.5},\"pattern\":{\"fillmode\":\"overlay\",\"size\":10,\"solidity\":0.2}},\"type\":\"bar\"}],\"scattergeo\":[{\"type\":\"scattergeo\",\"marker\":{\"colorbar\":{\"outlinewidth\":0,\"ticks\":\"\"}}}],\"scatterpolar\":[{\"type\":\"scatterpolar\",\"marker\":{\"colorbar\":{\"outlinewidth\":0,\"ticks\":\"\"}}}],\"histogram\":[{\"marker\":{\"pattern\":{\"fillmode\":\"overlay\",\"size\":10,\"solidity\":0.2}},\"type\":\"histogram\"}],\"scattergl\":[{\"type\":\"scattergl\",\"marker\":{\"colorbar\":{\"outlinewidth\":0,\"ticks\":\"\"}}}],\"scatter3d\":[{\"type\":\"scatter3d\",\"line\":{\"colorbar\":{\"outlinewidth\":0,\"ticks\":\"\"}},\"marker\":{\"colorbar\":{\"outlinewidth\":0,\"ticks\":\"\"}}}],\"scattermapbox\":[{\"type\":\"scattermapbox\",\"marker\":{\"colorbar\":{\"outlinewidth\":0,\"ticks\":\"\"}}}],\"scatterternary\":[{\"type\":\"scatterternary\",\"marker\":{\"colorbar\":{\"outlinewidth\":0,\"ticks\":\"\"}}}],\"scattercarpet\":[{\"type\":\"scattercarpet\",\"marker\":{\"colorbar\":{\"outlinewidth\":0,\"ticks\":\"\"}}}],\"carpet\":[{\"aaxis\":{\"endlinecolor\":\"#2a3f5f\",\"gridcolor\":\"white\",\"linecolor\":\"white\",\"minorgridcolor\":\"white\",\"startlinecolor\":\"#2a3f5f\"},\"baxis\":{\"endlinecolor\":\"#2a3f5f\",\"gridcolor\":\"white\",\"linecolor\":\"white\",\"minorgridcolor\":\"white\",\"startlinecolor\":\"#2a3f5f\"},\"type\":\"carpet\"}],\"table\":[{\"cells\":{\"fill\":{\"color\":\"#EBF0F8\"},\"line\":{\"color\":\"white\"}},\"header\":{\"fill\":{\"color\":\"#C8D4E3\"},\"line\":{\"color\":\"white\"}},\"type\":\"table\"}],\"barpolar\":[{\"marker\":{\"line\":{\"color\":\"#E5ECF6\",\"width\":0.5},\"pattern\":{\"fillmode\":\"overlay\",\"size\":10,\"solidity\":0.2}},\"type\":\"barpolar\"}],\"pie\":[{\"automargin\":true,\"type\":\"pie\"}]},\"layout\":{\"autotypenumbers\":\"strict\",\"colorway\":[\"#636efa\",\"#EF553B\",\"#00cc96\",\"#ab63fa\",\"#FFA15A\",\"#19d3f3\",\"#FF6692\",\"#B6E880\",\"#FF97FF\",\"#FECB52\"],\"font\":{\"color\":\"#2a3f5f\"},\"hovermode\":\"closest\",\"hoverlabel\":{\"align\":\"left\"},\"paper_bgcolor\":\"white\",\"plot_bgcolor\":\"#E5ECF6\",\"polar\":{\"bgcolor\":\"#E5ECF6\",\"angularaxis\":{\"gridcolor\":\"white\",\"linecolor\":\"white\",\"ticks\":\"\"},\"radialaxis\":{\"gridcolor\":\"white\",\"linecolor\":\"white\",\"ticks\":\"\"}},\"ternary\":{\"bgcolor\":\"#E5ECF6\",\"aaxis\":{\"gridcolor\":\"white\",\"linecolor\":\"white\",\"ticks\":\"\"},\"baxis\":{\"gridcolor\":\"white\",\"linecolor\":\"white\",\"ticks\":\"\"},\"caxis\":{\"gridcolor\":\"white\",\"linecolor\":\"white\",\"ticks\":\"\"}},\"coloraxis\":{\"colorbar\":{\"outlinewidth\":0,\"ticks\":\"\"}},\"colorscale\":{\"sequential\":[[0.0,\"#0d0887\"],[0.1111111111111111,\"#46039f\"],[0.2222222222222222,\"#7201a8\"],[0.3333333333333333,\"#9c179e\"],[0.4444444444444444,\"#bd3786\"],[0.5555555555555556,\"#d8576b\"],[0.6666666666666666,\"#ed7953\"],[0.7777777777777778,\"#fb9f3a\"],[0.8888888888888888,\"#fdca26\"],[1.0,\"#f0f921\"]],\"sequentialminus\":[[0.0,\"#0d0887\"],[0.1111111111111111,\"#46039f\"],[0.2222222222222222,\"#7201a8\"],[0.3333333333333333,\"#9c179e\"],[0.4444444444444444,\"#bd3786\"],[0.5555555555555556,\"#d8576b\"],[0.6666666666666666,\"#ed7953\"],[0.7777777777777778,\"#fb9f3a\"],[0.8888888888888888,\"#fdca26\"],[1.0,\"#f0f921\"]],\"diverging\":[[0,\"#8e0152\"],[0.1,\"#c51b7d\"],[0.2,\"#de77ae\"],[0.3,\"#f1b6da\"],[0.4,\"#fde0ef\"],[0.5,\"#f7f7f7\"],[0.6,\"#e6f5d0\"],[0.7,\"#b8e186\"],[0.8,\"#7fbc41\"],[0.9,\"#4d9221\"],[1,\"#276419\"]]},\"xaxis\":{\"gridcolor\":\"white\",\"linecolor\":\"white\",\"ticks\":\"\",\"title\":{\"standoff\":15},\"zerolinecolor\":\"white\",\"automargin\":true,\"zerolinewidth\":2},\"yaxis\":{\"gridcolor\":\"white\",\"linecolor\":\"white\",\"ticks\":\"\",\"title\":{\"standoff\":15},\"zerolinecolor\":\"white\",\"automargin\":true,\"zerolinewidth\":2},\"scene\":{\"xaxis\":{\"backgroundcolor\":\"#E5ECF6\",\"gridcolor\":\"white\",\"linecolor\":\"white\",\"showbackground\":true,\"ticks\":\"\",\"zerolinecolor\":\"white\",\"gridwidth\":2},\"yaxis\":{\"backgroundcolor\":\"#E5ECF6\",\"gridcolor\":\"white\",\"linecolor\":\"white\",\"showbackground\":true,\"ticks\":\"\",\"zerolinecolor\":\"white\",\"gridwidth\":2},\"zaxis\":{\"backgroundcolor\":\"#E5ECF6\",\"gridcolor\":\"white\",\"linecolor\":\"white\",\"showbackground\":true,\"ticks\":\"\",\"zerolinecolor\":\"white\",\"gridwidth\":2}},\"shapedefaults\":{\"line\":{\"color\":\"#2a3f5f\"}},\"annotationdefaults\":{\"arrowcolor\":\"#2a3f5f\",\"arrowhead\":0,\"arrowwidth\":1},\"geo\":{\"bgcolor\":\"white\",\"landcolor\":\"#E5ECF6\",\"subunitcolor\":\"white\",\"showland\":true,\"showlakes\":true,\"lakecolor\":\"white\"},\"title\":{\"x\":0.05},\"mapbox\":{\"style\":\"light\"}}},\"xaxis\":{\"anchor\":\"y\",\"domain\":[0.0,1.0],\"title\":{\"text\":\"City\"}},\"yaxis\":{\"anchor\":\"x\",\"domain\":[0.0,1.0],\"title\":{\"text\":\"value\"}},\"legend\":{\"title\":{\"text\":\"variable\"},\"tracegroupgap\":0},\"title\":{\"text\":\"Sales and Profit for cities with more than 50 order\"},\"barmode\":\"group\"},                        {\"responsive\": true}                    ).then(function(){\n",
       "                            \n",
       "var gd = document.getElementById('549d1fac-4e8b-4ef1-9fbb-c14cbdcca01a');\n",
       "var x = new MutationObserver(function (mutations, observer) {{\n",
       "        var display = window.getComputedStyle(gd).display;\n",
       "        if (!display || display === 'none') {{\n",
       "            console.log([gd, 'removed!']);\n",
       "            Plotly.purge(gd);\n",
       "            observer.disconnect();\n",
       "        }}\n",
       "}});\n",
       "\n",
       "// Listen for the removal of the full notebook cells\n",
       "var notebookContainer = gd.closest('#notebook-container');\n",
       "if (notebookContainer) {{\n",
       "    x.observe(notebookContainer, {childList: true});\n",
       "}}\n",
       "\n",
       "// Listen for the clearing of the current output cell\n",
       "var outputEl = gd.closest('.output');\n",
       "if (outputEl) {{\n",
       "    x.observe(outputEl, {childList: true});\n",
       "}}\n",
       "\n",
       "                        })                };                });            </script>        </div>"
      ]
     },
     "metadata": {},
     "output_type": "display_data"
    }
   ],
   "source": [
    "city_sales_profit = df.groupby('City')[['Sales','Profit']].sum().reset_index()\n",
    "city_sales_profit =city_sales_profit[city_sales_profit['City'].isin(cities_orders.index)]\n",
    "px.bar(data_frame=city_sales_profit,x='City',y=['Sales','Profit'],barmode ='group',title='Sales and Profit for cities with more than 50 order')"
   ]
  },
  {
   "cell_type": "markdown",
   "id": "f39a82fb",
   "metadata": {
    "papermill": {
     "duration": 0.00965,
     "end_time": "2023-10-14T10:52:59.572908",
     "exception": false,
     "start_time": "2023-10-14T10:52:59.563258",
     "status": "completed"
    },
    "tags": []
   },
   "source": [
    "## Sales vs Profit for each Customer"
   ]
  },
  {
   "cell_type": "code",
   "execution_count": 23,
   "id": "23abc34f",
   "metadata": {
    "execution": {
     "iopub.execute_input": "2023-10-14T10:52:59.596330Z",
     "iopub.status.busy": "2023-10-14T10:52:59.595605Z",
     "iopub.status.idle": "2023-10-14T10:52:59.676866Z",
     "shell.execute_reply": "2023-10-14T10:52:59.675798Z"
    },
    "papermill": {
     "duration": 0.095699,
     "end_time": "2023-10-14T10:52:59.679916",
     "exception": false,
     "start_time": "2023-10-14T10:52:59.584217",
     "status": "completed"
    },
    "tags": []
   },
   "outputs": [
    {
     "data": {
      "text/html": [
       "<div>                            <div id=\"31180845-0c06-4def-ac73-c2fb9b104828\" class=\"plotly-graph-div\" style=\"height:525px; width:100%;\"></div>            <script type=\"text/javascript\">                require([\"plotly\"], function(Plotly) {                    window.PLOTLYENV=window.PLOTLYENV || {};                                    if (document.getElementById(\"31180845-0c06-4def-ac73-c2fb9b104828\")) {                    Plotly.newPlot(                        \"31180845-0c06-4def-ac73-c2fb9b104828\",                        [{\"hovertemplate\":\"color=True\\u003cbr\\u003eSales=%{x}\\u003cbr\\u003eProfit=%{y}\\u003cextra\\u003e\\u003c\\u002fextra\\u003e\",\"legendgroup\":\"True\",\"marker\":{\"color\":\"#636efa\",\"symbol\":\"circle\"},\"mode\":\"markers\",\"name\":\"True\",\"showlegend\":true,\"x\":[261.96,731.94,14.62,22.368,48.86,7.28,907.152,18.504,114.9,1706.184,911.424,15.552,407.976,665.88,55.5,8.56,213.48,22.72,19.46,60.34,1044.63,11.648,90.57,124.2,3.264,86.304,15.76,29.472,1097.544,113.328,371.168,147.168,77.88,95.616,45.98,17.46,211.96,45.0,21.8,38.22,75.18,6.16,89.99,15.26,1029.95,208.56,32.4,319.41,14.56,30.0,48.48,1.68,13.98,25.824,146.73,79.76,1113.024,167.968,75.88,4.616,19.05,97.04,27.24,208.16,16.74,14.9,21.39,200.984,301.96,19.99,6.16,158.368,20.1,73.584,6.48,12.96,53.34,32.96,96.53,51.312,77.88,64.624,23.92,74.112,27.992,3.304,339.96,41.96,75.96,27.24,40.096,4.72,23.976,130.464,787.53,47.04,30.84,226.56,115.02,68.04,243.992,238.56,78.304,21.456,20.04,35.44,11.52,4.02,76.176,65.88,43.12,82.8,8.82,10.86,143.7,839.43,671.93,93.888,384.45,149.97,1951.84,171.55,157.92,203.184,58.38,105.52,80.88,6.63,457.568,14.62,944.93,5.98,54.384,28.4,27.68,9.936,32.064,143.976,20.94,110.96,340.144,20.16,3.28,24.816,408.744,503.96,149.95,29.0,7.16,176.8,37.224,20.016,899.136,71.76,51.84,626.352,19.9,14.28,7.408,6.048,46.26,16.056,21.744,2.6,35.168,444.768,83.92,131.98,15.92,52.29,91.99,20.8,23.68,89.584,93.06,302.376,5.584,22.704,72.704,27.168,2.2,622.45,21.98,389.696,10.56,25.92,31.984,7.408,2001.86,166.72,47.88,1503.25,25.92,321.568,7.61,3347.37,80.58,361.92,53.92,647.904,20.37,221.55,17.52,328.224,79.9,14.016,7.56,57.576,725.84,209.93,5.28,10.92,8.82,5.98,11.648,18.176,59.712,24.84,1114.4,1038.84,141.76,239.8,31.104,194.528,19.096,18.496,255.984,300.416,230.352,27.552,32.4,1082.48,56.91,77.6,14.28,26.8,9.84,45.48,289.2,4.89,15.136,466.768,15.232,6.264,87.54,178.384,15.552,99.136,135.882,3991.98,275.94,360.0,43.57,7.16,251.52,99.99,15.992,54.224,100.24,4.752,959.984,14.368,7.712,4.96,17.856,30.992,71.928,47.976,7.56,24.56,12.96,6.79,24.56,3.048,49.12,4355.168,8.26,17.04,34.4,36.24,647.84,20.7,20.7,488.646,5.56,47.12,211.96,23.2,7.36,104.79,1043.92,25.92,53.424,1023.936,9.24,99.136,23.832,50.96,49.536,41.9,2.96,2.624,23.36,39.98,246.384,1799.97,75.792,49.96,12.96,70.12,35.952,57.584,9.568,39.072,35.91,179.95,1199.976,27.15,9.68,28.35,55.98,1336.829,139.86,307.136,95.92,383.8,5.78,9.32,15.25,196.752,56.56,32.7,866.4,28.4,287.92,69.99,6.672,408.744,291.96,714.3,1007.979,313.488,31.872,207.846,12.22,194.94,70.95,91.36,242.94,22.05,2.91,59.52,161.94,263.88,30.48,9.84,35.12,665.408,63.88,8.928,103.92,899.91,51.312,23.56,78.272,55.48,340.92,222.666,703.968,92.52,62.65,94.85,95.76,40.2,14.7,704.25,9.09,5.96,159.98,29.6,279.96,2735.952,7.992,63.984,70.368,449.15,11.07,93.98,105.42,119.616,255.76,241.568,69.3,801.568,32.792,15.92,2.74,8.34,46.74,6354.95,126.3,38.04,7.152,6.63,5.88,2999.95,51.45,11.96,1126.02,18.392,210.98,66.26,22.2,683.952,45.696,52.512,190.72,47.94,979.95,22.75,16.768,10.752,152.94,283.92,468.9,380.864,58.112,100.792,41.28,13.36,250.272,34.504,10.824,1295.78,19.456,20.7,32.4,42.6,84.056,13.0,13.128,2.61,374.376,91.84,81.088,19.44,72.45,13.96,33.264,14.85,8.82,160.72,19.92,7.3,69.712,51.52,470.376,105.584,31.152,406.368,70.98,294.93,20.736,10.368,9.344,31.2,76.12,1199.976,445.96,327.76,11.632,5.84,142.776,45.696,131.904,21.168,369.576,15.712,8.448,119.94,40.48,9.94,107.424,37.91,88.02,301.96,555.21,523.48,161.82,35.56,97.16,15.24,13.23,119.8,300.768,17.88,235.944,392.94,122.328,1049.2,15.424,18.84,330.4,26.25,132.52,6.48,209.3,31.56,30.144,14.8,302.376,316.0,379.4,97.82,103.12,113.552,134.288,999.432,459.95,10.74,23.76,85.056,381.576,30.36,36.352,19.56,61.44,38.9,99.39,27.816,14.352,64.96,68.6,167.44,479.97,14.62,19.44,191.984,104.01,284.82,36.84,166.24,33.4,198.272,47.36,200.984,97.696,2.696,15.072,209.88,10.368,166.84,15.216,119.96,46.72,55.48,24.448,281.34,307.98,299.97,19.92,9.94,103.056,59.808,73.32,146.82,1652.94,296.37,129.92,45.584,17.568,55.992,182.72,33.63,542.646,6.3,242.94,179.97,99.696,27.936,84.98,18.72,49.98,11.784,3.528,4.624,55.168,359.32,11.992,58.05,157.74,56.98,2.88,1199.976,79.92,24.56,119.8,13.128,22.72,58.32,12.39,11.36,50.94,646.74,5.64,572.58,310.88,641.96,18.28,207.0,32.35,7.71,40.3,34.58,32.76,544.008,59.94,23.92,4.28,47.984,186.69,17.456,348.928,143.96,15.42,43.04,332.94,1363.96,9.96,21.72,20.16,132.79,12.96,21.56,283.92,22.23,215.968,355.32,12.96,18.28,43.176,1983.968,28.4,149.97,11.52,1298.55,213.92,25.78,18.28,1399.93,51.84,5.344,41.472,335.52,239.97,9.82,67.8,167.97,35.0,37.24,15.28,301.96,180.66,191.98,65.99,35.216,23.696,9.664,21.072,60.45,11.52,186.048,37.44,26.976,11.36,14.62,83.72,287.94,48.896,115.36,5.16,38.88,185.88,44.46,242.94,39.96,102.3,21.36,7.61,7.16,7.36,23.1,191.472,5.248,59.184,2.89,51.94,15.936,34.44,11.36,106.344,192.16,322.59,29.99,371.97,68.472,1242.9,30.84,13.48,31.4,17.46,13.944,83.76,37.66,34.68,149.95,51.312,4.54,15.92,543.92,155.82,70.008,15.648,103.6,46.96,10.44,323.976,20.04,64.96,12.96,323.136,90.93,52.776,1199.8,1928.78,352.38,22.2,46.94,143.73,149.352,24.56,85.14,21.99,406.6,841.568,15.552,252.0,46.2,28.84,14.592,89.856,13.872,12.192,45.056,15.552,447.696,159.99,12.96,134.48,17.12,6.096,1114.272,32.4,540.57,167.76,1007.232,15.552,25.344,25.472,27.168,173.8,29.592,15.552,204.6,321.568,6.24,21.88,4.608,9.82,35.97,12.96,191.6,8.64,127.104,30.072,160.93,75.792,3059.982,34.02,599.292,3.392,559.984,603.92,7.968,27.968,336.51,520.05,17.97,1166.92,14.624,10.23,154.9,2715.93,617.97,10.67,36.63,24.1,33.11,44.02,2309.65,19.44,484.65,115.296,7.08,44.75,95.984,151.72,155.25,14.03,1618.37,99.6,32.4,13.96,155.82,124.95,601.65,22.74,1267.53,1379.92,6.208,11.808,15.552,63.312,177.2,197.97,854.94,124.11,14.4,15.696,86.62,36.624,23.968,28.728,697.16,31.86,722.352,8.84,1363.96,1113.504,99.99,6.72,282.888,11.16,108.4,82.344,9.088,19.936,65.568,4.416,45.216,7.872,1.448,194.848,19.46,29.472,8.64,31.984,40.88,119.96,31.44,6.88,19.92,1106.91,26.38,362.92,4899.93,6.48,71.976,3.15,31.984,71.984,120.15,219.184,28.9,355.96,348.208,447.84,7.04,8.73,29.29,8.64,22.92,58.368,40.968,71.96,10.368,46.672,119.98,6.3,279.9,619.95,4.36,15.28,699.93,22.96,38.6,6.63,23.34,1067.94,10.16,101.88,343.92,40.99,63.9,19.44,7.56,85.224,287.52,37.68,19.98,20.58,17.38,204.6,8.72,6.48,686.32,62.18,644.076,5.84,12.76,10.95,599.98,8.352,3.64,159.768,2244.48,62.31,455.1,195.184,362.94,11.54,53.94,9.99,125.76,25.32,46.8,447.93,109.48,19.44,31.92,22.38,16.52,50.112,27.93,11.56,172.5,179.97,258.696,1322.93,3.76,21.744,7.92,12.096,485.88,25.92,197.58,81.92,889.536,892.224,223.92,23.12,15.552,15.712,24.672,431.928,544.008,854.352,271.96,11.21,9.144,14.07,41.86,8.544,579.136,4.672,95.88,17.024,258.696,249.75,255.936,113.79,78.15,1.728,40.56,182.94,193.86,15.28,8.73,5.68,2.78,79.96,839.988,47.952,165.048,12.35,40.97,22.96,22.0,398.352,8.72,48.69,764.688,3610.848,254.9745,38.82,1141.938,1704.56,3.2,1099.96,5.248,6.696,43.872,255.68,863.88,17.472,69.9,41.85,6.57,142.86,292.272,29.328,12.48,10.368,14.352,86.352,32.97,83.88,278.4,15.12,251.64,14.9,15.48,39.88,12.192,20.82,13.216,32.4,32.94,114.2,3.08,845.728,13.904,20.72,114.95,26.96,572.76,286.38,61.96,23.99,287.97,419.944,46.76,17.712,21.78,161.94,3.69,122.12,38.88,183.84,579.3,14.2,575.92,285.552,72.8,10.816,46.26,51.072,11.34,87.92,37.05,27.44,140.736,25.11,29.78,677.58,75.04,47.82,13.05,93.78,47.18,19.68,53.4,35.88,31.4,183.96,17.61,300.904,79.14,123.256,23.68,201.584,145.9,14.04,49.08,29.6,17.088,912.75,1089.75,447.84,16.4,399.96,158.9,13.184,80.98,348.84,9.45,18.84,239.98,167.96,104.85,484.83,122.97,154.44,342.37,9.552,17.216,11.56,88.4,6.48,21.8,251.79,419.4,116.784,75.48,39.98,23.68,408.006,165.28,334.768,239.97,37.74,946.344,151.2,86.272,60.672,263.96,9.728,14.75,29.8,427.42,152.76,7.27,1819.86,33.9,31.104,5.248,263.88,29.7,39.96,36.672,13.76,139.424,1979.928,47.984,88.752,70.98,91.68,33.75,3040.0,91.2,452.94,52.2,15.936,27.46,55.424,159.984,3.68,255.968,872.94,41.54,12.96,6.848,8.67,17.28,17.712,28.91,52.136,31.968,25.92,40.46,33.87,9.728,3.424,177.0,3.76,1212.848,89.97,42.6,5.04,62.96,5.88,977.292,9.64,40.05,10.192,13.12,18.16,16.056,223.056,33.52,9.94,6.72,17.88,396.0,34.5,8.36,385.6,35.82,200.064,1669.6,83.84,13.272,21.336,16.52,206.112,19.92,198.272,86.304,4.16,11.648,26.18,7.3,74.352,10.744,8.376,203.983,40.74,11.67,39.99,16.28,782.94,242.48,8.32,10.464,82.896,34.24,1573.488,335.52,27.056,559.992,111.96,21.56,124.75,5.28,91.96,9.344,79.36,171.96,35.352,18.9,2.78,11.352,354.9,453.576,122.97,12.84,21.84,29.99,381.44,23.952,4.98,170.88,307.98,41.96,1217.568,47.04,6.16,979.95,143.7,10.65,247.8,10.96,33.488,8.04,201.568,13.44,547.3,16.896,6.672,99.136,211.96,6.672,155.94,39.96,5.46,73.2,5.84,22.72,9.336,290.666,201.584,83.984,1000.02,3.75,41.4,29.79,59.48,6.69,198.46,786.48,23.168,50.0,675.96,1265.85,523.25,517.5,17.92,1006.056,10.688,10.368,25.12,58.112,15.552,19.44,9.64,12.7,41.37,12.624,1247.64,3149.93,209.7,109.92,13.36,169.68,132.52,2.96,8.448,95.94,34.79,160.776,88.752,13.904,41.92,4.344,74.352,14.04,16.68,58.58,167.968,196.62,104.28,17.94,32.382,42.368,18.97,14.82,99.28,10.368,310.88,33.45,10.4,21.88,13.616,63.96,14.46,104.98,106.96,21.56,515.88,11.808,1931.04,9.96,12.35,43.86,148.48,7.42,19.9,1702.12,14.304,7.712,242.9,35.92,39.76,47.744,159.984,255.968,434.352,3.552,88.832,100.0,7.83,96.256,10.688,154.24,34.848,22.0,4.368,31.44,17.9,129.45,20.88,20.736,7.168,13.36,10.272,10.368,6.24,9.46,559.62,109.92,8.56,360.712,1718.4,46.864,19.536,28.752,35.06,4.13,109.8,9.82,62.4,20.86,497.61,5.34,3.15,368.91,14.7,59.97,83.36,6.58,122.94,219.84,98.16,33.04,86.97,134.97,699.98,139.95,48.94,2807.84,46.64,60.416,107.94,63.84,347.97,37.008,215.65,11.168,53.952,4.18,79.984,2575.944,45.36,254.24,69.93,54.816,1441.3,77.6,4.656,7.38,9.26,9.96,6.976,5.184,11.84,22.784,1127.976,38.88,1439.92,262.11,207.0,36.288,21.4,1245.86,17.544,44.128,62.92,78.304,140.81,40.096,90.57,40.08,37.68,362.352,7.184,34.76,831.2,26.4,106.75,97.82,141.4,14.52,137.62,100.49,119.96,49.632,24.96,196.45,31.104,6.48,99.2,801.568,272.848,70.98,16.224,470.376,302.376,29.34,383.607,563.4,217.056,6.0,31.56,7.104,121.792,10.56,3.38,7.824,24.784,34.65,487.984,1793.98,29.808,191.88,14.78,5.184,478.48,28.4,909.12,136.92,18.96,99.39,273.896,597.132,149.95,4.608,15.528,11.952,11.65,299.9,895.92,462.564,15.008,863.64,47.616,92.94,199.98,177.48,88.768,6.48,46.51,659.976,271.992,145.74,15.4,244.55,166.16,14.73,662.88,47.36,27.44,95.968,10.368,23.1,11.54,12.98,26.432,197.97,18.9,1282.41,4.92,238.0,167.97,17.12,16.2,33.99,296.85,112.8,13.71,24.9,286.29,24.18,281.97,69.5,166.44,291.96,6.408,408.744,2.896,275.97,1394.95,545.88,5.248,933.536,42.976,3.76,479.96,320.88,23.88,26.76,1439.976,17.22,1024.38,26.22,17.34,71.04,5.344,15.0,161.61,144.95,199.95,41.86,95.94,304.45,29.68,47.53,4.224,333.056,24.896,159.984,46.344,350.98,13.08,900.08,17.568,14.62,33.36,40.14,1606.23,17.04,49.53,872.32,239.12,141.96,33.024,67.136,14.73,104.9,61.04,10.95,9.392,9.328,8.26,269.97,29.04,14.62,11.952,75.36,57.504,38.864,15.552,162.64,597.0,55.48,289.8,11.12,25.344,17.31,199.95,1586.69,84.99,411.8,11.34,80.3,15.968,64.74,19.296,405.64,251.91,12.39,199.96,7.312,59.97,761.544,58.2,39.9,90.86,94.85,106.232,111.984,7.712,37.44,23.68,122.12,18.45,324.9,146.73,3.96,5.76,26.55,479.9,12.88,13.12,511.84,91.96,8.34,37.68,279.944,83.168,221.92,26.0,15.552,19.98,398.352,5.04,17.45,323.136,29.7,1295.84,46.84,425.833,159.88,5.28,895.92,241.96,27.72,104.68,62.958,86.376,64.944,20.736,33.28,38.52,139.86,19.65,94.92,146.82,149.544,17.14,30.48,16.688,43.31,84.95,111.79,14.94,14.16,21.48,161.94,17.856,79.384,34.58,314.55,191.976,8.288,15.872,14.016,19.752,61.792,45.68,60.12,41.72,71.6,85.232,44.4,442.764,3999.95,199.95,63.68,54.896,29.0,70.08,121.3,1454.49,60.81,153.552,65.34,123.92,35.1,44.75,4.704,14.67,15.552,5.232,22.2,881.93,6.096,191.82,20.104,67.56,38.272,16.52,832.93,43.8,167.292,27.42,1.44,61.776,241.96,108.608,2.816,9.984,14.98,1145.6,37.376,54.816,2.896,124.792,673.568,52.98,526.45,228.92,319.968,205.03,190.86,24.32,44.4,1016.792,38.136,56.56,5.56,9.02,8.62,659.976,13.36,41.72,11.52,541.44,19.44,143.7,43.26,43.56,437.85,109.48,1212.96,18.54,5.0,371.97,166.24,359.97,499.98,5.28,8.26,7.968,12.96,6.48,6.984,47.96,199.74,435.26,1119.984,143.432,122.352,85.98,223.96,199.98,48.16,23.92,60.69,14.352,35.04,17.48,16.4,892.98,287.97,595.38,12.96,4.95,181.95,13.52,259.7,42.95,1399.93,503.96,12.72,11.52,316.0,723.92,106.32,27.216,390.75,280.792,68.448,88.04,15.872,14.62,416.32,43.0,182.94,60.83,389.97,194.32,265.93,94.74,60.64,76.3,364.8,79.872,46.384,12.96,14.352,41.96,41.7,277.4,5.78,69.216,10.86,426.79,25.92,45.92,10.72,41.86,63.2,113.97,490.32,70.08,9.024,69.456,10.86,79.47,10.08,1552.831,137.24,36.51,239.976,34.86,155.04,127.88,160.32,46.0,23.12,4.912,252.0,2.632,23.688,5.67,9.184,32.75,7.216,49.568,54.712,176.04,16.02,185.92,211.168,479.984,7.86,24.448,6.48,41.86,1619.91,113.92,39.68,37.6,59.9,37.0,5.76,16.68,628.81,56.45,94.2,28.4,1115.91,79.92,24.2,359.976,211.84,5.68,7.52,11.96,629.064,754.45,301.96,595.0,79.872,2396.4,63.56,99.99,9.664,158.928,39.312,58.48,7.4,366.786,54.368,33.96,826.11,545.85,35.808,7.904,345.0,662.84,95.1,26.88,257.98,17.48,269.49,29.12,18.75,119.7,9.144,57.06,71.6,107.44,7.31,59.1,46.53,97.84,29.97,98.352,83.92,14.624,136.99,3.15,9.11,571.44,32.4,16.91,14.272,64.864,82.95,87.71,1101.48,5.46,11.184,35.168,1137.75,99.68,5.56,85.52,9.84,20.04,631.96,23.92,90.24,4548.81,719.96,647.84,64.17,124.46,9.584,37.608,12.224,7.38,53.72,8187.65,77.92,196.776,479.94,1117.92,106.5,95.968,264.32,604.656,129.93,20.16,29.46,868.59,12.96,5.5,121.6,42.048,25.488,7.968,10.368,114.2,17.96,12.67,339.96,46.32,700.152,111.888,143.952,173.94,14.76,205.92,2.304,1879.96,313.024,5.04,821.88,21.96,25.92,705.544,50.0,6.992,1406.86,15.75,323.1,9.216,10.368,15.02,33.82,71.0,25.12,2665.62,478.08,13.248,2.912,1399.944,526.45,16.23,319.9,11.36,675.12,62.82,19.44,16.68,12.42,187.98,6.608,248.57,22.23,5.98,246.168,79.1,327.84,180.96,914.97,587.97,530.34,14.94,121.94,122.71,14.94,1349.85,136.784,61.12,16.99,2.52,5.904,15.696,41.568,230.28,18.288,5.78,121.68,4.17,67.04,37.32,18.45,25.92,11199.968,2399.6,63.9,52.99,60.864,14.94,39.96,42.624,220.96,4.928,323.1,19.04,13.128,64.14,858.24,29.99,186.048,36.792,18.624,57.69,42.81,12.96,821.88,104.85,424.9575,10.776,11.784,164.88,1292.94,25.584,261.74,14.4,10.86,883.84,1979.89,79.96,8.76,3.984,79.512,28.352,40.784,105.96,166.44,785.88,26.2,1325.85,166.44,8.76,43.584,14.4,619.95,89.52,350.973,164.99,312.552,95.952,15.7,5.248,15.48,108.576,109.9,15.384,30.352,21.376,8.016,30.768,18.936,122.352,116.28,132.6,16.68,19.44,192.16,227.36,1919.976,45.888,60.12,302.376,13.9,129.98,71.98,377.97,124.36,8.376,58.24,81.2,14.45,95.648,629.958,6.63,799.96,107.53,73.98,5.58,49.12,377.97,42.28,299.97,89.98,477.24,25.98,46.72,35.34,257.64,125.976,79.992,585.552,423.28,225.296,5.56,323.37,783.96,1447.65,11.96,239.97,76.92,481.32,48.4,0.99,101.84,8.928,34.384,1924.16,47.976,54.5,19.104,49.44,10.368,154.44,60.984,23.68,2.376,59.2,22.0,257.98,7.9,16.464,25.96,36.27,6.48,1075.088,438.368,18.088,13.36,39.96,145.85,783.96,7.88,41.37,12.84,25.68,9.42,12.96,704.9,561.568,179.82,185.58,214.11,999.96,653.55,114.6,60.74,124.36,1088.76,6.72,298.776,302.376,8.928,33.792,3.264,108.336,55.92,78.304,155.976,15.47,7.16,10.89,19.44,121.6,120.33,1139.92,229.544,50.94,56.28,2690.97,28.16,14.98,20.32,40.29,20.23,1603.136,225.296,67.8,377.97,1628.82,286.93,20.736,31.44,83.79,59.52,31.92,17.088,74.352,4.26,811.28,6.03,1013.488,52.34,4.66,254.97,25.44,27.93,6.96,17.456,6.63,12.96,32.4,23.85,51.96,17.94,11.56,26.4,69.08,35.88,49.65,959.968,479.984,12.6,184.66,23.12,37.464,310.12,8.56,52.4,14.94,11.22,387.136,41.4,35.0,39.552,135.72,12.56,263.96,5.952,15.8,14.368,70.448,129.3,6.08,19.9,70.71,18.84,8.64,19.76,6.608,7.28,144.784,156.792,431.976,35.89,47.208,248.08,189.7,59.808,90.99,1526.56,368.97,305.01,18.7,38.29,26.25,64.96,43.7,41.6,23.12,113.888,7.92,671.984,39.99,191.646,19.936,45.92,20.34,39.28,81.568,97.184,24.32,18.96,30.016,499.584,31.104,28.272,10.8,15.936,22.58,545.94,20.736,43.296,123.136,11.264,53.424,24.96,19.36,1267.65,12.99,18.56,449.15,31.248,61.44,895.92,55.36,55.92,24.896,3.984,95.968,44.416,19.0,33.376,207.48,91.68,904.9,34.272,191.82,243.88,20.736,5.04,92.94,66.69,91.68,52.272,17.94,8.288,504.9,403.168,194.32,25.99,20.736,53.7,36.26,56.3,32.4,29.16,16.72,12.96,22.18,2054.272,13.9,26.38,43.176,411.8,360.0,41.96,227.84,37.94,517.9,5.28,2799.96,8.96,31.5,30.56,119.976,26.88,83.97,104.97,90.8,140.736,214.95,45.36,288.24,663.936,2934.33,124.41,57.75,114.46,120.666,342.864,31.84,12.96,43.176,58.34,539.97,3.928,127.984,61.0,671.93,447.86,479.95,166.44,31.68,10.368,12.032,33.12,10.776,242.352,695.16,220.98,25.68,15.712,298.464,21.93,242.94,7.64,51.84,265.17,837.6,135.9,34.68,43.1,15.88,249.584,48.672,60.768,1036.624,563.808,49.12,44.46,241.568,395.0,627.168,13.28,12.672,67.992,12.224,206.43,119.96,10.608,963.136,88.776,32.4,32.4,31.05,2025.36,262.864,735.98,93.024,26.0,67.64,15.56,78.35,59.52,38.52,239.984,19.35,67.0,62.192,23.88,13.392,181.86,47.984,18.76,20.94,58.68,254.9,9.64,826.62,1633.14,544.38,74.352,69.93,3.75,20.928,65.99,31.104,23.34,29.97,95.968,18.704,149.232,15.936,601.536,10.99,39.88,62.24,53.2,39.84,349.95,377.928,13.392,207.24,1.504,34.848,75.18,149.97,931.176,430.88,94.85,51.12,90.0,9.408,4.672,318.4,12.768,230.376,375.34,114.9,3.984,44.94,45.576,122.92,56.45,219.8,49.08,324.9,18.24,113.888,105.584,24.85,60.312,7.056,27.184,107.984,19.296,4.608,20.736,99.98,733.95,241.44,10.08,281.904,201.432,135.98,44.95,2.97,6.54,7.92,203.92,3359.952,18.24,27.78,22.96,28.99,12.96,22.96,4164.05,47.984,4.624,15.24,6.56,13.11,494.376,29.2,248.85,36.24,11.68,11.91,3.48,1704.89,121.792,1919.976,60.312,12.984,217.584,328.776,47.984,25.344,232.4,86.45,603.92,81.98,271.764,14.376,181.35,8.64,43.512,662.88,25.92,68.94,128.82,67.56,21.72,262.336,148.48,241.176,227.976,52.68,17.12,431.968,129.92,568.728,117.144,203.52,51.75,122.97,244.615,59.97,81.54,11.68,29.0,50.8,15.712,89.97,435.999,83.984,359.98,20.88,3.81,73.008,30.44,35.28,19.44,37.88,290.666,10.368,14.352,141.96,66.048,1287.45,25.824,160.96,28.44,364.41,39.96,361.764,111.672,10.272,24.048,2.896,17.94,384.174,1799.75,580.672,18.936,222.384,6.848,1091.168,40.032,443.92,169.99,25.92,36.99,629.1,193.95,5.46,77.88,22.336,10.368,65.79,271.984,11.76,77.52,48.64,1.81,8.26,43.56,5.84,271.764,262.24,182.72,131.6,22.72,558.4,15.24,1408.1,32.896,30.96,29.79,128.9,60.12,24.816,14.976,54.192,4.304,108.92,16.74,2504.74,29.9,70.88,3.76,27.264,56.65,14.97,4.02,471.92,58.72,5.16,16.496,71.976,22.512,47.984,492.768,286.79,5.08,47.992,61.96,361.96,278.82,133.38,47.952,16.74,10.848,18.544,180.98,99.98,34.95,152.0,92.52,8.56,45.36,8.96,579.95,29.12,1202.94,7.92,36.192,68.6,435.504,11.168,72.0,655.9,603.92,513.024,487.92,15.24,209.97,62.94,25.92,10.368,95.736,900.08,201.584,15.552,11.648,17.76,6.912,66.3,30.816,44.784,569.536,12.832,40.46,404.94,116.0,657.552,599.97,38.97,45.84,87.168,21.4,54.9,287.968,13.12,10.75,11.62,40.74,83.25,9.45,20.65,45.36,5.352,2.672,28.672,105.98,35.06,33.94,30.0,45.528,812.736,330.4,604.752,45.36,10.128,21.792,439.8,8.256,11.52,12.96,3.96,1577.94,59.98,2395.2,1687.8,7.992,5.184,11.68,104.8,14.496,4.784,4.73,7.89,65.5,2430.08,104.85,3.9,801.96,191.96,2.61,5.96,1665.62,2.88,1443.96,2.92,465.18,37.52,2.624,15.552,17.472,431.928,12.448,277.4,25.16,91.92,29.34,139.44,6.912,27.096,58.416,16.448,36.784,31.776,487.984,5.56,217.85,40.776,63.936,142.4,7.16,681.408,3.52,5.58,36.32,2060.744,52.272,213.136,69.52,763.44,9.216,89.568,22.248,334.88,148.288,4.624,487.984,47.3,4.13,155.12,6.48,15.52,55.104,104.88,34.7,33.72,14.94,638.73,9.096,8.688,30.88,6.408,33.8,377.97,258.9,24.56,27.888,52.68,11.52,10.368,39.072,8.872,47.952,44.46,15.8,464.97,181.96,12.39,84.09,79.36,153.36,43.68,98.21,9.84,25.344,43.92,439.992,87.96,15.488,232.96,66.54,43.26,141.96,79.4,163.96,37.93,15.168,24.78,19.14,899.97,32.4,23.832,5.544,510.24,204.95,11.54,162.6,45.68,603.92,23.55,5.04,249.95,33.4,18.92,15.42,35.712,7.056,18.72,360.38,11.16,14.94,41.96,499.99,1259.93,65.08,26.38,71.97,129.98,32.54,10.9,59.98,61.929,16.52,60.12,49.536,11.85,118.25,368.97,198.46,321.92,879.984,28.4,230.28,116.28,841.568,354.9,42.784,111.104,11.68,16.9,24.4,87.6,241.96,8.52,1.344,119.96,1013.832,1.984,62.91,6.912,383.976,10.368,335.944,665.88,71.976,37.94,273.96,269.982,8.904,41.424,1085.42,3.912,62.376,29.05,180.96,16.032,29.79,57.23,36.44,251.64,1359.96,102.592,22.704,93.024,12.768,35.008,39.152,11.76,100.792,146.136,25.06,19.824,823.96,15.984,801.96,1056.86,12.816,18.98,18.24,991.2,879.984,12.96,107.44,1458.65,26.64,476.8,87.444,76.14,19.96,2.368,19.008,911.984,134.01,170.97,170.352,7.184,6.28,480.74,141.4,691.96,34.95,85.96,85.3,4.95,823.96,10.272,447.944,124.792,40.176,10.896,10.64,238.0,155.34,148.32,240.784,191.968,11.56,11.8,842.352,23.472,108.784,10.272,49.632,52.096,9.568,40.256,4.368,134.85,8.56,239.97,356.94,659.9,1684.752,559.92,279.944,48.9,3.552,15.552,2.368,127.984,10.368,270.34,98.112,563.808,7.584,470.376,19.44,9.82,161.568,16.096,61.68,63.96,359.976,25.344,26.72,30.28,57.93,35.34,137.24,5.184,145.544,5.472,47.984,9.4,74.0,201.584,28.752,27.216,1424.9,14.56,3.048,25.92,835.17,17.34,44.384,6.368,48.848,19.648,17.248,159.984,12.7,5.47,79.36,22.14,4.448,44.76,38.28,149.95,12.84,44.67,7.872,7.872,88.04,42.24,53.82,79.36,13.48,29.8,414.0,41.328,39.92,8.94,56.52,22.77,2799.96,48.94,257.499,2591.56,41.95,79.12,52.96,63.552,41.376,172.704,512.94,860.93,769.95,14.98,373.08,231.92,63.47,345.0,287.91,36.6,1.78,25.92,101.94,6.848,474.43,8.448,39.296,17.12,542.94,8.64,193.8,21.4,97.88,251.91,25.86,556.665,95.84,29.664,9.184,153.584,479.97,232.88,236.88,29.9,100.0,383.952,24.816,24.9,21.12,767.952,14.352,191.976,274.77,70.56,204.85,80.88,599.9,276.69,172.764,4.224,55.44,20.928,572.16,68.112,25.032,39.992,20.016,3.104,7.52,10.272,47.808,978.84,999.98,821.94,220.064,7.04,5.04,116.28,47.976,60.048,10.272,302.384,20.952,11.784,638.82,20.7,10.95,14.352,3080.0,79.96,587.97,32.4,404.9,9449.95,12.94,146.176,15.92,159.96,13.76,13.96,73.98,160.98,17.34,3.28,8.856,158.376,1219.96,3.168,19.44,454.86,91.392,37.44,37.59,26.032,35.91,54.66,67.344,73.28,11.952,15.552,45.0,209.97,112.12,1575.14,25.06,37.392,79.12,18.9,57.42,12.74,8.82,322.59,13.72,29.24,15.552,4.896,47.984,15.696,12.84,539.97,22.58,16.52,671.94,168.624,19.44,31.92,31.104,54.816,48.86,14.2,12.96,58.34,56.3,629.95,122.97,46.35,14.976,319.96,17.04,344.91,81.94,98.16,8.928,9.99,10499.97,21.12,696.42,304.776,51.98,24.7,21.93,394.816,7.31,799.984,41.28,184.66,49.25,10.16,14.76,34.08,17.67,1604.9,15.984,9.42,6.56,24.56,128.4,62.28,9.24,482.664,4799.984,37.94,18.288,385.8,102.96,174.42,45.92,22.48,15.552,31.104,11.352,20.808,9.408,19.83,209.7,43.92,20.232,149.97,27.81,66.3,1.64,1049.2,20.9,88.08,751.92,887.103,10.688,11.824,63.312,47.98,13.05,63.96,80.48,171.96,871.4,692.472,207.76,71.928,25.99,3.592,323.1,9099.93,9.96,25.3,11.36,69.264,3.69,1103.97,11.696,439.992,14.088,11.16,896.328,189.0,129.39,54.32,4367.896,49.568,161.376,2.784,8.72,3.912,59.752,63.92,383.96,7.752,33.568,666.344,21.936,19.44,447.968,16.78,20.96,88.752,304.23,167.86,82.38,33.29,14.352,71.976,9.21,18.0,42.93,15.552,17.92,19.99,22.92,50.88,27.312,7.92,14.368,107.97,113.82,5.184,16.28,544.38,19.824,99.54,199.96,631.782,60.72,16.768,95.84,12.96,36.96,10.368,111.96,29.16,131.94,25.92,704.76,7.41,21.5,10.528,20.544,104.9,39.68,51.75,11.68,159.75,103.968,303.25,270.72,1487.04,17.48,71.88,60.45,153.584,43.92,25.032,46.76,1259.97,68.97,70.368,59.96,361.376,69.008,199.9,901.95,971.5,11.328,21.24,34.8,9.08,314.55,4.91,5.78,107.94,19.65,617.97,59.7,387.99,575.92,30.4,478.24,40.92,15.552,17.24,302.94,34.75,113.94,55.98,27.18,1805.88,70.95,20.0,7.98,24.1,8.75,842.94,27.384,10.368,23.68,109.95,965.85,29.2,32.4,78.35,31.68,29.12,169.45,12.56,6.48,186.69,25.4,43.96,1279.165,27.92,6.368,244.55,32.776,54.384,14.352,209.792,3.304,16.38,167.96,12.96,239.976,15.552,21.248,8.448,333.09,248.98,24.9,15.26,43.32,43.584,116.28,9.296,19.44,314.55,418.296,659.988,8.128,36.288,917.9235,38.88,12.96,12.96,23.2,25.92,21.312,173.656,361.96,62.85,818.376,20.34,23.99,37.3,81.96,10.784,290.98,36.44,21.4,48.664,16.56,1347.52,62.31,20.32,9.432,34.86,89.34,269.98,99.9,39.08,116.832,408.006,40.44,122.352,15.28,11.96,15.84,86.376,18.24,13.12,105.98,325.86,148.48,537.544,6.912,659.168,5.76,351.216,230.28,12.84,56.82,31.56,27.92,49.568,271.44,110.352,36.4,45.216,24.448,76.14,21.24,127.96,479.984,657.93,33.48,13.9,26.86,9.584,113.1,65.78,239.7,25.632,23.616,8.26,76.58,8.8,590.352,5.58,25.02,452.55,17.76,302.384,7.9,902.712,53.97,33.92,21.81,91.6,150.98,137.25,11.52,18.272,153.728,12.224,167.944,45.99,535.41,6.096,45.36,47.12,31.36,47.616,23.48,28.44,134.376,589.9,542.94,2879.952,90.48,77.55,177.536,14.136,77.55,24.88,140.75,36.63,17.14,51.75,123.96,586.398,80.98,242.94,123.92,12.39,47.3,1599.92,11.09,6.368,558.4,13.62,434.646,440.19,64.4,244.55,195.76,11.76,166.45,2.88,45.248,59.904,23.696,7.968,18.2,3.0,16.56,79.92,69.98,283.14,635.96,118.99,272.94,15.008,33.088,80.98,82.8,21.36,62.048,29.61,863.928,440.91,51.968,71.976,221.92,8.448,29.52,302.94,142.36,546.66,212.13,5.248,6.848,65.17,14.62,173.24,895.92,130.71,11.68,62.31,36.288,344.704,201.584,521.96,8.22,45.36,947.17,61.96,7.58,14.73,671.544,1117.92,123.144,15.576,212.64,9.87,53.25,19.92,658.746,8.26,29.84,67.98,61.06,9.96,9.21,27.93,7.9,221.16,127.96,18.69,25.35,35.28,33.4,837.6,22.368,115.296,783.96,48.896,7.856,5.904,13.712,182.94,27.76,25.99,113.52,359.88,25.344,11.952,6.24,742.336,11.52,222.384,23.36,8.67,25.71,100.94,63.882,40.712,279.9,13.12,4.224,52.416,54.92,85.056,27.696,24.96,43.13,5.64,31.104,30.192,43.6,4.768,91.008,37.94,42.8,33.63,62.808,195.64,239.9,1199.976,48.576,17.94,18.264,34.656,81.552,10.36,383.952,77.952,14.016,69.52,5.64,13.776,245.88,36.63,22.58,12.39,39.92,61.96,19.936,27.744,27.58,14.96,7.184,10.512,263.96,71.632,9.328,5.88,975.92,303.84,485.88,12.54,8.94,9.24,70.008,77.6,464.85,10.192,1793.98,758.352,20.368,49.848,239.97,2404.704,563.024,344.91,8.64,229.544,1.824,119.8,61.568,6.192,5.32,975.92,2249.91,59.92,171.2,3.36,114.2,182.67,101.7,1126.02,1263.3,8.82,37.94,4.2,227.28,47.9,61.96,1117.92,7.968,481.32,13.98,25.92,91.59,22.92,269.9,18.336,36.288,111.984,35.96,14.952,67.144,173.94,231.98,96.08,3.62,629.1,90.48,14.88,19.44,897.15,57.75,14.94,23.1,12.536,4.512,16.776,33.74,1325.85,333.999,19.9,1268.82,283.92,5.68,375.34,96.08,11.68,4.36,29.24,117.488,18.84,12.42,12.96,69.48,85.9,18.06,79.14,37.4,18.864,61.192,67.84,48.712,17.94,242.94,467.04,128.85,8.4,199.98,110.98,36.112,35.568,88.768,12.9,717.12,21.36,6.688,773.94,20.568,5.22,84.84,7.24,14.4,15.552,1325.76,6.672,689.408,55.936,18.432,20.32,52.064,48.784,109.592,56.7,79.99,69.5,191.6,10.56,47.79,714.3,2321.9,17.94,222.32,35.168,10.11,772.47,20.46,347.58,72.64,772.47,39.92,33.48,461.97,137.62,302.67,239.976,8.34,8.57,119.616,212.94,26.49,687.4,653.55,33.9,239.96,716.0,221.06,67.71,129.92,467.46,61.4,720.76,5.184,14.7,79.984,18.54,24.4,195.64,398.4,7.056,26.4,41.88,699.98,584.82,43.98,377.97,123.96,391.98,383.976,21.4,549.99,167.535,38.34,53.88,299.98,62.8,13.904,44.84,18.24,10.48,20.736,35.168,64.704,105.52,7.968,8.784,51.45,19.152,4.448,5.184,15.552,40.032,16.776,186.304,66.36,42.048,67.92,52.512,10.048,15.552,10.776,3.304,34.44,629.93,79.056,232.55,99.98,19.44,12.96,68.46,2799.96,601.3,16.99,287.97,44.82,101.12,107.976,58.73,93.344,17.05,8.096,30.36,23.34,51.55,119.9,1317.492,63.84,3.592,86.26,139.04,46.8,8.544,842.376,1214.85,67.78,39.9,2.688,6.6,28.4,212.94,1001.584,105.584,1367.84,301.96,3.9,12.84,15.84,563.94,62.94,535.41,3504.9,144.12,314.55,3.408,53.248,4.992,37.68,258.576,75.84,45.36,45.78,40.29,38.71,199.96,1516.2,45.04,23.16,397.6,85.96,13.12,45.66,158.13,43.6,2.304,431.976,41.72,104.23,70.26,9.26,105.98,1.24,20.7,28.9,27.18,465.18,36.63,51.45,7.83,35.4,29.9,17.48,79.14,8.4,498.26,212.94,706.86,114.95,43.19,166.44,36.56,186.144,81.98,14.624,697.16,30.93,27.496,605.34,210.008,54.96,164.22,362.94,59.98,332.94,39.872,13.68,10.44,136.464,333.576,12.544,43.5,12.576,249.95,49.12,182.91,107.648,10.56,38.88,35.2,45.528,196.776,21.864,11.76,167.94,3.89,52.44,32.36,406.6,27.92,715.2,159.8,44.75,105.52,13.48,85.52,6.16,36.84,44.4,21.24,163.96,17.904,182.112,4.464,50.4,89.568,14.89,543.92,4.08,18.9,2275.5,1979.7,62.1,68.95,296.37,39.98,13.04,9.216,28.048,64.96,30.56,187.056,11.808,9.656,20.736,19.76,15.96,16.9,25.08,6.68,19.44,31.92,33.568,63.94,60.6,22.72,10.68,17.34,3.38,26.976,307.776,244.55,12.24,13.98,899.95,1.632,267.96,31.95,725.84,10.896,8.544,32.34,39.9,143.856,41.92,329.584,87.28,279.456,8.0,27.24,16.36,15.78,45.98,720.76,70.56,81.96,64.864,151.192,88.776,11.56,15.58,85.056,273.96,306.9,15.552,10.368,98.16,31.44,348.488,15.54,105.552,25.92,15.808,10.368,358.2,545.916,40.41,167.976,109.53,9.82,26.352,22.5,9.96,213.08,1025.88,21.98,63.2,39.0,556.665,71.98,79.98,24.672,3.744,445.96,36.24,10.65,87.92,22.424,90.48,42.76,10.08,101.34,224.75,20.736,15.36,36.288,150.384,31.984,11.232,26.4,3.52,1649.95,111.9,599.165,46.53,31.984,161.568,4.064,8.896,1640.7,270.0,19.52,213.216,588.784,2.064,6.368,99.6,62.296,10.71,20.936,33.0,249.95,357.93,57.4,331.96,40.56,86.2,38.016,8.384,6.848,19.6,68.46,13.344,1478.272,9.24,56.064,108.72,16.176,122.352,585.552,19.44,123.92,13.36,750.68,44.4,84.55,17.94,128.4,103.192,36.0,239.96,40.68,23.472,6.264,20.808,18.16,7.36,41.4,63.92,6.56,7.83,41.9,664.146,8.96,3.312,20.136,8.856,61.96,17.92,145.9,56.704,11.12,32.896,22.776,239.97,160.32,128.85,1319.96,54.768,13.392,23.92,21.552,58.24,80.28,9.78,1.81,37.94,79.96,115.296,2479.96,179.94,26.85,323.37,59.94,64.14,11.67,12.96,17.43,22.344,67.4,25.16,126.56,43.68,139.93,2.672,79.512,36.288,10.16,6.16,56.3,6.48,1325.85,14.94,34.54,2999.95,64.12,19.456,209.986,29.76,959.984,15.552,98.376,17.472,383.64,56.52,6.56,47.52,19.98,8.0,6.16,83.56,546.06,269.49,10.9,6.096,34.05,352.38,245.98,18.94,391.98,437.85,68.62,25.02,10.71,55.984,14.48,14.16,79.92,590.352,17.088,11.05,7.78,659.9,843.9,1496.16,117.96,21.3,1040.8,29.34,19.52,443.92,499.95,3.04,201.96,68.64,100.0,359.98,6.16,2348.82,13.872,234.45,1256.22,17.46,10.528,152.8,82.56,284.97,60.84,1325.76,572.16,28.8,11.12,7.04,17.94,34.76,74.45,192.22,19.44,32.4,57.9,1194.165,40.99,2.94,18.688,11.648,15.936,21.44,18.656,66.688,99.488,14.62,53.984,389.97,355.36,140.376,15.84,8.448,12.96,57.408,27.6,20.44,109.92,6.38,6.48,15.84,1049.93,154.9,98.352,14.32,129.888,48.944,27.36,44.75,134.99,26.4,542.94,11.84,35.88,40.752,2.624,263.96,11.64,40.176,79.44,357.93,127.764,2799.944,19.44,36.792,5.94,177.55,619.95,29.16,57.96,29.403,81.4,8.72,91.176,159.968,12.96,899.91,946.344,178.11,1089.75,61.06,459.92,27.52,638.82,30.69,25.16,13.92,19.36,19.3,38.376,12.96,26.48,532.72,26.72,20.04,795.48,21.56,249.584,68.112,74.95,44.4,20.65,866.4,5.56,1999.96,46.152,481.32,6.384,542.94,54.92,1448.82,353.88,333.576,60.144,85.2,3.15,22.72,14.91,1158.12,599.99,23.968,13.208,15.528,104.85,30.48,112.648,71.976,2.21,15.52,36.44,39.072,95.144,12.32,35.0,97.84,51.75,46.672,1395.54,117.36,18.9,77.52,575.968,10.368,15.984,10.272,61.792,12.192,87.168,31.744,105.52,91.96,1487.976,19.44,279.96,12.912,17.088,93.15,11.52,238.62,7.77,19.168,26.136,419.4,90.801,5.56,581.96,29.98,519.96,6.264,57.568,83.7,32.4,47.98,415.968,304.9,80.96,777.21,32.4,225.568,36.6,715.64,795.51,549.99,74.76,29.22,9.64,239.666,301.96,7.968,109.92,19.44,11.16,79.47,4.56,1133.35,4.672,1603.136,1293.488,127.95,59.76,108.08,9.54,11.736,447.86,17.94,245.88,192.16,801.568,368.91,28.28,4912.59,14.352,179.97,42.76,45.68,25.06,38.432,21.568,81.576,2.78,99.87,44.4,21.4,71.12,259.96,9.78,24.192,31.56,59.94,45.36,26.4,41.4,16.95,24.704,59.7,14.52,104.184,46.53,25.5,14.9,87.71,199.764,94.6,4228.704,209.97,659.9,110.96,67.8,22.96,1099.5,1215.92,7.31,8.92,15.552,13.392,16.776,527.92,25.4,177.48,71.976,95.992,13.216,435.84,5.88,211.168,6.28,95.1,25.92,48.84,25.9,42.68,299.97,262.24,234.36,20.736,10.5,23.968,676.55,154.9,30.56,770.352,21.12,575.928,7.78,123.92,17.22,226.56,107.88,81.98,104.85,8.704,19.92,43.02,240.784,414.96,360.38,13.56,552.0,429.9,32.06,161.96,19.86,12.96,20.544,185.58,77.56,87.92,245.94,8.6,504.9,2357.488,369.544,13.52,387.136,338.352,25.92,91.36,87.96,19.76,109.764,128.85,127.95,68.52,74.94,2548.56,271.44,287.88,14.9,4158.912,91.96,33.11,19.44,55.48,91.92,17.34,71.98,7.08,69.98,646.272,10.368,8.4,71.96,18.48,9.84,239.24,21.12,54.9,15.24,42.6,113.94,129.92,5.28,859.2,506.28,14.368,27.888,238.152,692.94,173.488,57.75,272.4,11.952,28.0,83.84,11.36,36.4,27.968,142.04,14.67,1199.96,12.6,17.94,23.904,88.96,6.98,343.2,17.544,3.488,153.552,270.62,468.9,72.48,10.95,191.82,151.056,23.616,2.088,29.22,6.48,272.646,212.8,38.52,72.64,45.4,13.76,80.991,11.784,4.36,2888.127,1299.66,2254.41,104.85,59.97,13.632,6.0,110.096,16.752,41.904,2279.96,14.94,191.976,23.832,409.216,61.568,20.96,44.75,11.96,3.912,327.996,49.408,53.25,3.76,767.214,163.96,161.28,192.8,27.696,32.064,115.44,274.8,195.64,257.98,119.04,20.07,11.76,11.76,40.736,201.584,354.9,1198.33,87.92,51.968,51.336,332.704,42.408,81.54,167.28,772.68,323.976,11.808,26.16,4.992,20.016,170.24,117.456,22.96,13.36,34.248,3.52,26.7,21.2,838.38,1690.04,85.96,121.96,23.92,63.96,629.95,113.73,14.6,887.84,403.92,106.8,70.95,34.944,119.04,383.84,799.56,31.44,25.92,75.88,63.77,50.97,96.08,1439.968,563.92,7.712,51.016,25.248,2793.528,1000.02,65.94,18.24,76.12,7.64,68.16,62.24,29.97,125.7,191.98,20.86,56.7,72.704,12.264,88.776,55.176,30.32,177.568,19.44,71.28,1471.96,57.576,26.336,166.5,360.38,11.744,247.44,25.35,119.04,22.14,13.98,43.41,6.24,465.16,7.98,58.32,200.97,21.36,9.856,22.92,11.36,14.592,41.4,34.5,28.85,3.488,143.856,311.98,22.45,1159.056,179.9,116.312,12.42,428.4,24.75,87.71,69.52,12.816,5.904,63.824,304.9,563.24,239.976,196.704,915.136,327.76,701.96,88.776,64.14,33.552,1737.18,704.25,141.76,36.36,25.83,13.984,195.96,74.352,6.68,47.952,629.184,15.176,127.95,579.51,14.99,151.92,196.62,144.12,15.96,39.96,34.08,10.368,7.752,15.28,65.97,33.4,210.84,13.98,272.94,19.05,247.716,66.58,43.92,14.73,29.7,49.12,18.28,47.04,339.96,87.8,221.382,5199.96,119.85,30.44,69.28,587.97,24.55,12.176,37.32,35.06,361.376,8.39,337.98,19.68,25.92,6.48,86.352,56.3,51.016,150.8,1039.992,51.84,41.22,240.37,119.02,133.12,113.568,83.92,6.63,371.97,561.584,4.928,14.76,99.99,286.15,47.984,62.592,10.56,229.94,311.15,12.96,14.62,5.76,21.48,396.92,17.15,23.12,5.248,824.95,24.64,227.88,241.96,3.89,8.01,177.48,569.568,149.73,46.2,47.952,7.992,76.864,102.93,98.16,83.88,21.96,368.97,12.39,332.94,111.93,19.44,8399.976,10.368,23.52,180.96,35.0,477.15,302.376,34.7,99.87,37.94,24.9,82.26,7.104,2.464,8.72,10.76,45.68,6.7,158.376,3.44,56.56,36.96,135.99,15.96,3.76,14.7,37.2,89.97,261.96,74.0,13.28,84.96,68.46,2079.4,629.95,72.42,131.98,114.52,100.24,871.8,5.2,15.552,503.96,24.472,78.66,45.36,962.08,295.456,32.4,103.936,289.568,39.72,244.768,15.552,20.94,135.09,279.86,90.06,1247.64,5.304,19.136,279.9,50.352,34.02,23.88,11.52,286.93,206.384,529.9,99.3,108.96,2.688,5443.96,302.67,56.07,10.08,1999.96,216.4,6.936,8.8,142.8,399.95,2152.776,158.99,291.1,73.68,139.92,107.88,33.29,5.04,24.784,17.472,155.88,327.564,13.36,158.9,319.968,505.32,3.808,24.424,1522.638,419.9,3.15,16.14,8.64,872.32,7.12,2.688,149.352,227.976,11.96,563.4,319.92,1049.44,173.94,1007.944,6.68,8.34,101.94,179.97,101.94,271.96,8.8,19.68,302.94,14.94,231.72,9.912,34.65,19.8,33.568,125.93,5.344,62.016,60.72,146.82,239.84,15.66,45.36,211.168,371.976,89.82,19.296,191.96,21.3,469.95,209.88,239.666,22.5,219.84,32.4,209.94,4164.05,212.94,41.88,58.48,6999.96,12.96,279.86,698.352,1747.25,54.48,199.99,627.168,122.12,6.99,107.424,125.88,79.78,133.2,438.368,133.472,87.168,319.984,45.92,20.736,333.576,31.992,10.64,68.704,39.66,113.92,447.86,356.85,251.58,219.84,42.85,6.16,17.0,87.4,29.84,49.568,265.86,67.96,10.92,83.9,19.75,393.54,46.872,10.9,79.92,146.82,3.6,20.04,13.12,1117.92,111.96,12.16,17.52,155.88,477.51,164.88,47.97,415.176,35.232,54.96,16.34,225.296,50.352,163.136,217.584,5.43,143.976,519.68,7.83,883.84,230.352,273.92,9.912,95.232,30.0,25.92,159.92,34.944,149.95,23.32,16.74,14.82,10.47,11.07,20.704,177.2,50.496,643.136,20.736,177.536,32.432,11.696,113.76,579.51,150.66,48.032,102.624,13.392,35.88,479.952,23.92,629.95,14.952,17.94,116.98,121.96,8.74,61.96,7.96,275.24,47.4,512.96,395.94,32.776,253.764,29.24,15.76,196.21,35.4,419.4,7.712,4.176,38.88,17.64,449.91,344.94,14.76,12.76,58.48,20.096,37.752,20.736,129.93,69.93,140.736,8.32,9.98,62.94,21.488,239.976,100.8,47.968,99.98,9.96,3.856,98.376,127.936,6.24,17.9,3266.376,168.1,98.46,358.58,32.48,17499.95,735.98,34.37,33.96,197.97,17.48,8.016,27.88,152.65,22.72,11.12,1640.7,371.2,20.7,11.34,67.9,1059.12,478.48,32.04,55.992,76.864,59.92,1565.88,106.05,62.04,494.97,367.96,44.96,182.94,28.14,7.38,10.9,274.89,23.04,10.368,12.672,254.97,2887.056,12.96,47.52,11.952,4.98,25.06,1652.94,5.344,2003.92,32.4,1913.4,146.73,114.2,2567.84,37.056,19.05,73.344,95.68,50.96,113.94,25.92,20.32,411.98,34.48,244.55,559.93,2399.96,16.0,10.68,41.28,1001.584,14.76,115.96,186.54,159.56,55.984,132.16,124.032,1403.92,28.8,356.79,16.98,491.55,7.38,23.66,681.408,18.9,93.68,21.93,862.344,19.98,31.984,41.584,36.544,479.72,102.368,28.4,713.88,68.52,623.96,11.12,2.48,58.408,479.988,11.808,53.568,503.96,21.34,36.4,51.75,15.51,146.82,12.96,7.8,10.2,22.32,24.1,75.98,6.46,60.12,824.97,24.85,89.584,471.92,31.744,5.904,621.76,59.98,48.87,154.9,5.92,30.18,24.1,8.78,376.74,29.52,11.96,26.4,1158.12,44.43,226.2,186.54,265.86,27.9,31.08,175.872,12.96,208.44,25.76,289.24,69.456,5.184,205.164,17.96,5.04,208.16,148.257,146.76,32.96,587.97,14.94,25.83,15.552,6.8,4.224,143.64,31.104,223.056,227.46,46.24,5.22,33.9,28.14,36.0,92.94,245.646,55.008,35.232,523.392,479.984,12.96,17.94,166.72,24.816,124.36,599.97,9.184,9.248,99.592,399.96,15.552,14.576,209.6,23.32,30.98,119.96,35.808,122.688,892.136,50.22,83.42,5.872,12.144,27.792,6.208,32.67,1261.33,38.88,82.656,5.98,9.248,4.448,5.184,175.92,13.344,54.9,309.456,19.456,1012.68,3.52,1626.192,99.87,79.36,119.96,106.32,163.44,42.76,51.55,479.952,146.688,276.784,25.32,318.96,212.64,23.472,19.648,421.1,38.784,122.328,25.98,3.28,459.88,7.76,71.96,54.9,9.28,1685.88,5.728,61.96,1.344,17.94,13.904,41.86,141.96,10.02,144.12,17.94,13.89,16.45,19.92,35.168,123.088,257.94,1879.96,27.46,89.98,828.6,17.44,113.52,135.3,111.15,43.28,92.94,52.56,971.88,141.96,88.768,275.88,157.9,4.91,87.92,5.98,222.384,16.0,21.84,15.6,247.84,9.912,69.52,11.52,717.72,236.5,170.352,145.764,107.97,143.96,2399.96,74.352,32.232,89.97,12.78,40.0,23.24,908.82,8.016,203.976,30.976,1350.12,15.92,19.54,21.4,12.6,11.96,138.0,116.76,756.8,6.08,17.46,369.16,2.912,20.736,9.568,30.18,51.648,11.232,14.73,16.4,25.92,8.82,62.496,339.96,49.568,137.94,110.376,151.62,30.8,123.92,1319.8,89.712,22.83,30.88,465.16,27.12,113.6,12.96,69.456,8.64,43.96,39.76,66.36,92.88,24.14,49.56,354.9,15.12,119.98,989.97,9.216,68.52,364.74,47.4,49.76,5.56,629.1,14.7,45.36,125.99,14.7,31.68,181.86,89.568,315.776,17.48,339.96,63.98,799.92,35.984,389.97,185.528,2541.98,25.92,46.36,6.9,57.69,305.01,50.784,26.01,59.99,20.24,37.84,5.472,77.24,97.184,10.368,72.0,113.888,158.13,14.13,64.75,37.376,286.4,43.92,19.608,979.95,135.3,8.904,100.8,41.96,9.45,400.8,28.792,111.0,1279.968,1856.19,67.36,54.528,843.9,449.568,15.51,192.186,5.76,67.88,162.89,25.71,191.88,13.584,38.82,21.9,111.79,16.52,29.9,116.4,1.408,19.44,36.624,12.672,4.608,257.98,153.78,61.02,110.11,7.89,36.024,54.336,92.52,10.272,40.74,14.4,149.95,16.9,17.61,378.0,17.64,373.08,1336.44,29.97,390.368,101.52,74.352,15.7,59.52,34.4,866.646,795.408,35.856,23.84,43.13,30.87,70.12,509.9575,122.91,722.352,11.52,167.84,99.98,156.792,379.96,41.24,195.104,36.672,11.43,30.44,12.96,16.0,32.67,9.144,23.136,99.2,21.36,46.9,18.72,18.9,10.688,237.096,5.184,65.584,419.4,88.92,9.912,1415.76,148.48,9.248,1036.624,569.64,9.14,1196.86,523.26,639.968,52.76,538.92,14.88,34.24,261.74,87.84,34.92,14.94,14.56,1499.95,13.568,2573.82,609.98,5.48,391.98,755.96,31.12,6.54,12.78,18.464,2.48,25.9,29.9,2249.91,12.96,106.68,119.94,10.272,4.448,276.69,4.96,71.92,18.84,140.97,470.376,6.08,164.792,23.36,46.384,362.92,9.248,62.04,396.92,239.456,13.12,29.36,214.9,15.92,146.45,15.14,5.76,1399.98,21.728,1487.04,71.88,9.24,35.88,17.04,931.176,483.136,231.92,29.7,70.88,114.288,49.616,906.68,719.952,755.944,34.74,833.94,12.96,25.92,22.32,158.28,497.94,533.94,167.94,31.68,63.824,48.58,47.976,20.736,26.46,49.12,15.0,194.7,591.32,2.84,221.96,236.0,41.94,52.792,563.94,2625.12,17.94,422.856,127.764,3499.93,14.4,122.97,9.32,122.94,17.31,128.744,58.248,7.872,146.86,36.56,225.576,5.248,38.256,40.24,148.704,55.92,12.96,1297.368,264.32,25.92,22.96,19.44,9.54,5.81,5.76,14.91,18.54,679.96,189.576,71.96,539.92,725.344,7.44,39.48,850.5,75.33,325.632,16.52,335.72,251.944,1207.84,12.53,34.58,300.98,258.75,59.52,57.96,441.96,68.04,67.96,892.224,4.544,1352.032,19.872,19.56,80.96,25.92,106.96,187.76,53.9,99.2,15.92,129.92,30.4,5399.91,119.1,40.08,59.94,259.98,170.98,38.97,154.9,152.94,23.472,195.64,14.94,1687.8,341.96,605.88,186.732,3812.97,26.424,625.99,1568.61,17.3,160.0,179.94,872.94,12.96,88.8,319.968,167.888,163.96,1199.98,73.85,25.71,17.28,11.56,209.97,447.84,479.97,8.64,11.68,40.776,87.8,77.952,47.952,250.26,40.776,29.6,159.96,59.52,17.48,13.168,40.74,286.256,17.52,17.856,114.848,10.688,15.232,12.42,19.44,70.368,12.672,89.95,6.58,94.99,35.12,25.92,7.96,566.97,9.84,25.488,7.56,60.84,450.04,34.6,467.97,33.02,17.088,3.008,268.24,431.16,43.6,154.95,15.552,42.208,10.368,2.224,74.52,17.52,1779.9,219.9,7.152,26.72,1039.728,45.96,59.976,6.12,10.98,7.86,51.45,37.056,203.92,29.56,45.248,25.06,7.896,30.528,32.4,97.88,307.168,26.9,47.01,469.99,207.846,40.48,12.0,2.816,47.616,108.784,4.77,7.98,10.56,1497.666,113.22,35.88,4535.976,11.84,592.74,111.672,8.64,149.97,232.88,90.882,508.768,9.912,63.936,59.52,311.976,50.352,19.136,13.12,479.92,12.6,159.98,6.12,1184.72,45.96,58.05,71.28,154.9,1871.88,5.04,8.448,9.96,320.64,52.0,25.584,464.0,235.95,39.96,17.9,18.496,441.92,166.44,13.38,24.448,6.16,915.136,8.56,97.82,31.104,11.176,5.04,13.344,76.752,102.336,10.32,47.32,23.376,16.72,16.192,32.4,19.89,399.98,343.85,106.32,13.92,82.4,6.24,447.84,272.048,24.32,1.584,14.76,423.648,76.64,4.464,715.64,268.704,21.92,48.72,25.696,3404.5,101.34,30.384,22.848,38.62,59.98,174.3,383.96,22.32,103.6,2.97,569.99,50.97,59.52,230.28,105.52,23.36,71.976,8.56,13.92,2518.29,540.57,221.056,134.8,44.688,31.744,5.984,861.76,66.96,6.24,14.9,15.8,72.9,206.352,7.992,389.056,20.736,41.472,33.36,120.784,10.368,10.272,659.97,113.73,5.104,16.448,81.92,254.9,15.12,7.872,8.32,89.95,25.2,37.59,14.97,1.98,18.464,199.75,1673.184,12.18,57.68,263.96,299.94,25.76,271.9,45.84,9.82,93.36,541.24,106.32,1323.9,126.624,125.944,663.92,120.0,3.29,18.84,60.672,30.816,52.792,83.9,11.76,87.92,210.68,78.8,19.99,772.68,25.92,47.952,4.608,37.68,41.91,435.999,388.704,572.58,33.18,63.88,26.72,295.056,393.25,16.272,706.86,21.184,41.376,17.94,892.35,307.666,728.82,41.36,43.176,4.16,61.4,24.448,263.96,359.97,12.96,116.82,276.784,239.97,16.02,12.736,27.42,165.98,75.0,134.272,146.544,131.904,203.88,61.1,28.08,10.496,39.92,77.58,269.36,5.76,109.9,23.88,26.2,12.96,234.95,118.25,4.28,26.85,3357.6,8.26,2973.32,104.79,775.728,175.44,55.584,20.64,148.02,33.29,204.95,41.96,31.504,30.672,1079.976,18.528,41.94,11.96,13.12,535.41,36.84,87.71,56.52,11.264,284.08,18.496,14.73,186.54,557.728,471.9,3.52,49.12,20.16,10.68,141.96,32.48,20.04,13999.96,238.0,61.96,595.0,16.032,199.75,227.96,293.52,307.98,96.96,117.488,11.952,2036.86,108.96,264.18,2.88,41.904,23.92,156.512,128.34,474.95,999.98,63.312,7.824,62.82,19.44,7.38,38.88,187.76,98.352,335.744,8.96,71.96,15.552,67.15,549.98,11.82,4643.8,577.764,2.624,81.568,314.088,10.48,4.344,4.928,185.88,12.96,189.7,40.99,82.64,31.02,89.97,35.97,1266.86,169.45,40.68,3.328,6.672,4.448,43.936,23.744,357.0,806.336,85.44,344.91,36.784,60.416,299.99,192.16,242.624,46.74,174.95,100.704,368.91,8.02,171.04,19.44,122.94,35.448,19.98,31.68,2003.168,9.344,2563.056,387.136,3.424,1085.42,43.056,432.456,675.06,65.232,207.0,600.53,59.904,637.44,31.104,47.96,158.928,211.248,2.952,18.368,299.9,26.55,111.98,4.928,11.784,7.98,180.96,1649.95,362.352,73.584,486.368,32.4,41.86,77.56,37.17,137.352,62.72,2939.93,3.488,22.288,16.032,1.752,20.992,11.21,45.04,8.74,44.75,61.68,158.376,143.7,6.48,7.88,11.21,354.9,17.94,51.8,299.52,7.7,23.92,498.0,32.4,61.44,73.36,59.2,32.952,31.4,9.48,209.5,24.3,6.48,32.448,8.0,186.54,87.08,105.584,217.44,31.744,372.144,751.984,604.768,27.36,20.56,83.92,902.712,120.666,82.26,29.74,87.36,56.16,64.384,15.552,223.888,10.896,59.97,13.36,11.808,16.24,77.55,76.12,17.184,11.76,27.46,137.94,111.15,901.95,310.688,10.744,232.4,164.646,22.68,105.52,83.92,141.9,39.98,28.91,174.95,110.528,27.86,51.84,106.32,147.92,104.28,286.85,66.96,199.98,45.0,17.9,40.48,2154.9,10.944,4.36,129.3,274.2,6.848,45.584,25.488,136.96,49.616,10.584,84.416,35.0,210.68,43.44,2.22,1679.96,1554.936,222.384,25.3,95.94,7.5,302.376,17.94,370.14,8.928,2678.94,45.408,3.0,9.952,65.584,44.784,1035.8,5.76,19.98,35.98,16.656,20.7,83.7,199.8,45.68,110.96,11.94,8749.95,36.4,18.69,5.94,60.736,479.976,59.52,479.97,18.62,49.632,97.82,15.984,12.96,27.96,146.352,175.23,125.99,23.0,25.584,20.736,17.52,35.76,3.64,12.99,182.22,302.94,54.992,12.99,55.86,51.264,159.984,54.224,33.36,13.76,496.86,389.97,9.82,56.4,25.92,8.016,479.984,30.84,33.568,199.98,20.24,39.92,32.54,39.0,12.6,24.64,6.264,14.432,719.976,239.92,1056.86,447.944,453.576,45.36,287.88,131.88,1454.9,67.176,15.232,31.104,968.744,222.352,479.984,10.272,24.56,5.67,14.336,102.3,607.52,31.16,2.61,10.368,17.248,1287.45,168.1,4.768,7.98,18.688,11.664,191.976,499.168,11.88,35.44,67.136,4.32,14.94,40.54,7.312,475.944,180.96,23.18,56.96,15.56,13.96,82.95,39.68,479.97,7.38,14.256,81.98,39.624,65.12,20.768,39.808,15.696,70.26,90.0,6.096,7.24,9.48,174.95,826.0,139.58,399.95,12.39,31.504,5.04,4.712,194.352,97.424,704.76,5.7,14.19,7.3,199.98,144.96,118.0,48.94,22.66,30.96,619.152,127.904,94.2,49.5,16.52,55.36,11.56,17.12,18.368,28.032,159.56,2104.55,40.7,47.79,5.16,21.21,96.36,231.72,17.9,12.48,8.016,279.96,450.0,19.44,300.904,239.976,31.168,2239.936,76.608,142.776,91.36,3.552,115.136,172.764,3.52,305.9745,344.91,71.952,29.8,11.264,15.552,67.536,37.408,25.344,46.2,4.728,53.352,131.104,22.512,52.59,19.44,126.3,1287.45,64.96,535.41,13.248,73.2,10.74,11.032,17.12,59.94,210.58,30.96,239.984,3050.376,133.98,93.248,177.48,17.712,37.68,51.84,27.42,5.4,1270.99,125.36,14.03,27.96,5.344,288.0,146.952,83.136,942.784,74.352,26.88,10.896,3.536,41.472,287.976,29.304,55.328,20.416,1128.39,4.608,195.96,15.552,271.968,698.352,46.62,537.544,14.62,22.55,583.8,211.168,12.96,45.98,1294.75,1799.97,10.688,221.98,341.96,34.77,18.9,102.72,40.48,118.65,14.76,37.52,207.144,13.9,266.352,307.98,44.1,13.12,16.56,38.88,335.52,959.984,55.984,10.688,8.856,6.912,26.72,33.488,10.56,386.34,33.44,39.96,1217.568,15.51,89.9,14.28,12.72,15.75,70.95,65.568,299.97,89.97,31.86,67.15,4.824,91.36,130.112,74.24,159.84,9.392,123.92,55.6,21.312,209.94,5083.96,35.96,31.05,8.92,209.6,111.04,38.88,36.27,11.12,686.4,15.92,70.68,541.24,480.0,34.05,192.72,239.97,15.984,14.352,629.64,449.97,1927.59,121.78,2676.672,489.23,312.03,17.94,165.6,37.52,494.97,25.06,18.496,10.368,30.53,30.84,75.06,66.976,182.72,21.93,95.976,4.928,856.656,76.64,177.68,159.98,52.68,11.568,1439.968,99.2,239.976,99.95,29.34,16.74,12.672,1119.888,204.85,135.984,16.4,92.96,164.88,10.95,19.44,12.3,13.97,46.864,26.16,23.128,59.24,8.56,21.0,299.96,18.688,273.96,89.97,756.8,72.0,19.728,271.764,344.981,36.288,78.304,5.76,77.952,105.584,9.344,9.68,4899.93,104.75,18.528,91.36,152.24,35.184,56.704,274.064,5.95,15.24,239.94,23.84,92.52,37.76,7.38,5.82,3.816,26.16,100.8,135.8,13.9,19.4,13.488,11.416,17.64,17.04,99.98,29.46,98.328,117.882,20.97,139.96,37.74,14.82,191.82,13.904,314.6,283.56,487.96,1793.98,108.768,25.92,22.58,9892.74,337.088,61.44,479.97,5.984,189.95,149.95,29.95,44.4,66.03,10.86,3.36,27.936,28.784,21.96,21.98,2621.322,74.76,364.776,1115.17,89.696,50.12,36.48,322.192,19.136,23.08,90.48,65.94,11.352,24.56,16.56,279.95,27.2,89.97,318.08,5.8,143.952,19.44,5.56,146.73,29.9,276.784,246.168,348.56,15.552,299.98,403.68,41.9,28.91,32.4,369.544,10.368,791.88,23.64,287.91,22.368,32.368,207.984,36.4,22.96,315.2,15.18,623.96,31.968,21.696,22.05,99.9,90.86,7.78,8.28,18.656,27.46,125.13,555.96,10.272,180.96,475.944,159.98,43.6,8.288,1123.128,64.9,99.98,8.04,1564.29,138.56,65.52,14.576,23.2,16.464,19.312,40.08,101.96,259.74,255.42,405.86,680.01,2.376,4476.8,104.85,241.44,319.76,45.68,31.96,47.9,1112.94,22.92,71.976,19.44,13.98,23.65,707.88,11.952,31.128,55.76,24.56,51.75,207.184,1473.1,21.728,49.568,344.704,47.992,39.96,1432.0,41.04,256.784,120.98,315.98,28.752,114.95,23.04,15.48,51.84,39.816,16.06,7.28,5.4,19.44,39.88,79.44,20.664,32.4,15.28,44.688,11.07,1504.52,25.92,381.36,6.72,15.192,58.32,94.68,23.67,1091.168,18.69,568.728,7.312,56.784,6.576,14.304,119.833,5.56,32.4,9.84,2.78,3.64,881.93,115.84,107.648,199.95,12.96,60.89,14.94,9.64,332.94,51.9,64.96,25.5,389.97,269.91,64.848,14.56,102.582,20.04,32.088,4305.552,10.02,631.96,1577.94,255.85,184.704,47.92,15.936,163.88,67.9,72.224,11.696,392.94,18.176,48.91,9.84,34.5,43.8,13.872,41.424,244.768,74.352,97.968,7.872,15.552,8.4,6.56,14.88,45.48,25.44,146.688,4.928,63.488,418.32,123.858,13.36,163.764,183.92,211.04,594.816,72.96,80.96,455.712,25.98,45.28,15.56,859.2,195.68,14.2,4.608,17.9,2.992,20.064,146.73,18.75,117.576,51.184,30.144,842.72,41.96,13.216,11.424,19.44,3.64,18.54,43.12,45.98,30.576,13.02,22.14,359.32,11.56,68.48,1676.88,37.94,272.97,8.04,419.944,61.38,50.0,31.8,32.56,7.072,45.528,64.784,1.344,25.92,120.576,79.92,12.28,542.94,2.04,228.92,7.992,629.95,631.782,75.18,30.98,1349.91,14.112,31.12,4.272,1591.02,7.92,574.91,8.448,1071.0,12.07,87.92,104.696,249.584,17.94,10.11,10.368,11.952,604.752,40.7,302.376,45.0,3785.292,35.4,199.9,1099.96,5.904,36.288,10.272,12.96,22.24,14.62,48.36,16.256,219.184,95.84,12.39,35.88,477.3,12.32,8.608,136.26,186.15,81.792,47.19,27.192,144.6,34.44,321.552,701.96,19.456,17.28,31.96,164.688,12.96,110.96,99.98,11.424,128.124,101.4,5.904,173.488,13.16,18.16,319.984,19.68,30.816,6.54,572.8,197.05,2022.272,9.12,38.16,1592.85,11.88,120.0,8.67,4.41,167.94,67.8,26.94,32.04,32.13,2.88,1091.93,111.96,26.7,40.2,13.89,689.82,38.34,1649.75,91.056,54.208,26.982,6.912,435.504,81.08,93.02,323.976,15.552,83.92,199.9,172.752,9.296,12.768,52.76,55.616,427.644,40.67,33.48,9.728,477.666,16.9,39.96,191.968,35.52,56.704,1.98,75.88,6.848,453.6,13.848,577.584,151.96,68.432,71.12,3.008,184.66,132.52,51.968,6.0,11.76,1125.488,4.032,79.96,33.568,15.84,24.424,17.12,31.56,1079.85,70.98,29.95,9.648,53.72,31.008,61.12,121.536,17.472,8.56,11.56,25.86,276.784,110.352,60.84,35.208,41.472,239.5,34.2,197.72,21.6,11.07,282.84,27.72,11.68,239.984,22.98,102.13,2033.584,5.76,899.982,86.352,16.704,3.152,32.896,9.248,14.67,37.408,7.152,179.7,90.64,177.0,79.45,1628.82,137.54,730.2,11.56,20.65,436.704,481.568,89.544,221.16,281.97,3406.664,37.17,64.96,595.38,95.984,97.44,3.984,13.04,579.528,18.75,3023.928,26.96,477.6,193.95,12.96,119.94,12.42,18.088,71.97,14.94,64.68,22.0,7.968,26.632,41.6,64.02,6.99,6.84,323.1,668.16,8.64,38.88,201.04,12.96,16.59,35.1,32.4,503.96,7.04,470.36,31.08,7.3,73.536,491.55,30.336,22.83,54.32,196.776,3.62,11.54,849.95,11.01,39.624,242.136,12.39,19.96,340.92,58.416,57.584,37.312,79.96,223.96,18.96,326.646,89.97,296.712,12.224,89.97,286.86,979.95,4.36,10.048,807.75,34.24,500.24,20.12,896.99,5.88,269.98,310.12,70.464,19.68,140.67,4404.9,62.65,9.45,268.576,364.08,159.98,5.344,27.72,2.496,8.26,17.76,332.94,292.1,206.1,17.64,1403.92,4.3,239.97,81.96,238.62,139.8,9.84,7.78,54.9,50.04,339.92,10.528,42.384,123.92,135.95,437.85,673.568,274.8,62.18,8.28,48.81,149.9,39.992,56.064,4.832,10.368,26.376,10.384,97.3,3.328,135.99,7.38,45.568,194.848,25.92,120.768,25.92,34.65,204.95,79.95,173.488,173.208,4.448,9.0,42.24,152.91,92.94,17.856,46.44,129.3,11.568,242.352,319.968,3.984,895.944,10.9,29.6,4.98,479.976,44.736,5.76,483.136,15.936,132.696,43.1,511.5,147.92,39.68,12.56,90.48,13.08,214.7,50.32,24.56,43.68,3393.68,67.4,2.52,67.8,18.76,12.12,11.34,159.8,18.96,1085.42,13.11,68.704,290.336,19.152,6.48,63.968,6.36,573.174,85.056,14.04,272.61,11.16,62.31,159.98,9.96,79.99,8.94,20.62,124.25,297.55,403.56,95.2,153.824,62.016,466.32,237.096,22.752,6.672,127.984,131.88,25.032,717.72,207.35,44.67,209.7,115.36,31.05,12.96,94.85,13.48,14.91,39.98,191.968,49.848,23.99,1087.936,199.98,83.92,24.27,2799.96,9.872,29.96,164.85,33.528,36.744,102.93,60.35,35.52,11.2,223.58,998.82,51.15,40.74,3.424,151.2,1925.88,2405.2,83.97,39.89,17.38,55.264,6.48,34.248,273.568,46.35,223.92,7.3,9.344,18.0,65.584,10.368,13.4,4.98,109.69,40.2,735.98,22.75,119.56,140.75,99.568,271.96,18.69,13.36,249.584,13.376,437.472,85.98,16.52,35.56,97.98,31.5,55.6,36.24,79.99,206.1,25.248,91.96,258.576,29.6,243.16],\"xaxis\":\"x\",\"y\":[41.9136,219.582,6.8714,2.5164,14.1694,1.9656,90.7152,5.7825,34.47,85.3092,68.3568,5.4432,132.5922,13.3176,9.99,2.4824,16.011,7.384,5.0596,15.6884,240.2649,4.2224,11.7741,15.525,1.1016,9.7092,3.546,9.9468,123.4737,35.415,41.7564,16.5564,3.894,9.5616,19.7714,8.2062,8.4784,4.95,6.104,17.9634,35.3346,2.9568,17.0981,6.2566,298.6855,52.14,15.552,7.098,6.9888,3.3,16.362,0.84,6.1512,9.3612,68.9631,22.3328,111.3024,62.988,35.6636,1.731,8.763,1.213,2.724,56.2032,8.0352,4.172,6.2031,62.8075,33.2156,6.7966,2.9568,13.8572,6.633,8.2782,3.1104,6.2208,16.5354,16.1504,40.5426,17.9592,22.5852,22.6184,11.7208,17.6016,2.0994,1.0738,67.992,10.9096,22.788,13.3476,14.5348,1.652,7.4925,44.0316,165.3813,18.3456,13.878,63.4368,51.759,19.7316,30.499,26.2416,29.364,6.9732,9.6192,16.6568,3.456,1.9698,26.6616,18.4464,20.6976,10.35,2.3814,5.1042,68.976,218.2518,20.1579,12.9096,103.8015,5.9988,585.552,80.6285,17.766,15.2388,26.271,48.5392,21.0288,1.7901,51.4764,6.8714,236.2325,2.691,1.3596,13.348,9.688,2.7324,6.8136,8.9985,9.8418,53.2608,21.259,6.552,1.4104,1.8612,76.6395,131.0296,41.986,7.25,3.4368,22.984,3.7224,6.255,112.392,20.0928,24.8832,46.9764,6.567,6.7116,1.2038,1.5876,12.0276,5.8203,6.795,0.2925,9.6712,44.4768,5.8744,35.6346,7.4824,16.2099,3.6796,6.5,8.88,4.4792,26.0568,22.6782,1.8148,8.2302,19.0848,2.7168,0.968,136.939,0.2198,43.8408,4.752,9.396,11.1944,1.2038,580.5394,41.68,23.94,496.0725,12.4416,28.1372,3.5767,636.0003,22.5624,162.864,4.044,56.6916,6.9258,6.6465,6.132,28.7196,35.156,4.7304,0.3024,21.591,210.4936,92.3692,2.3232,4.095,4.0572,1.5548,4.0768,5.9072,5.9712,8.694,376.11,51.942,47.844,47.96,10.8864,24.316,6.6836,6.2424,54.3966,78.8592,20.1558,9.2988,15.552,10.8248,27.3168,38.024,6.5688,12.864,2.8536,20.9208,83.868,2.0049,3.5948,52.5114,1.7136,2.0358,37.6422,22.298,5.4432,8.6744,24.1568,1995.99,80.0226,129.6,13.071,3.58,81.744,34.9965,0.9995,3.389,33.831,1.6038,335.9944,4.49,2.7956,2.3312,1.116,10.0724,8.3916,4.7976,3.0996,11.5432,4.1472,2.3086,11.5432,1.0668,23.0864,1415.4296,3.7996,6.9864,15.824,11.325,168.4384,9.936,9.936,86.8704,1.4456,20.7328,8.4784,10.44,0.1472,29.3412,271.4192,9.396,4.6746,179.1888,0.924,30.98,2.6811,25.48,17.3376,8.799,0.777,0.4264,7.884,13.5932,27.7182,701.9883,25.5798,9.4924,6.2208,21.036,3.5952,0.7198,3.4684,9.768,9.6957,37.7895,434.9913,13.3035,4.6464,13.608,27.4302,31.4548,65.7342,26.8744,25.8984,38.38,2.8322,2.7028,7.015,56.5662,14.7056,8.502,225.264,11.076,138.2016,30.0957,0.5004,76.6395,54.7425,207.147,43.1991,113.6394,11.5536,2.3094,3.666,23.3928,20.5755,42.0256,29.1528,10.584,1.3677,15.4752,9.7164,71.2476,7.9248,2.8536,9.1312,66.5408,24.9132,3.348,36.372,377.9622,18.6006,7.068,5.8704,26.6304,3.4092,10.4784,87.996,24.9804,28.819,45.528,7.182,19.296,6.615,84.51,1.9089,1.6688,57.5928,14.8,17.4975,341.994,0.5994,10.3974,6.1572,8.983,5.0922,13.1572,51.6558,40.3704,81.8432,18.1176,22.869,50.098,11.8871,5.373,0.7398,2.1684,11.685,3177.475,40.416,12.1728,0.7152,1.7901,1.7052,1379.977,13.8915,5.382,56.301,5.2877,21.098,27.1666,10.434,42.747,5.1408,19.692,11.92,2.397,274.386,11.375,1.4672,3.36,41.2938,70.98,206.316,38.0864,7.264,6.2995,13.932,6.4128,15.642,6.0382,2.5707,310.9872,3.4048,9.936,15.552,16.614,27.3182,1.3,3.7743,1.2006,46.797,45.0016,27.3672,9.3312,34.776,6.4216,11.2266,4.0095,2.3814,78.7528,9.7608,2.19,8.714,1.5456,52.9173,9.2386,3.5046,30.4776,4.9686,144.5157,7.2576,3.6288,1.168,9.75,22.0748,434.9913,55.745,91.7728,1.0178,0.73,17.847,5.1408,47.8152,2.3814,41.5773,5.6956,2.64,15.992,15.7872,3.0814,33.57,10.9939,27.2862,87.5684,178.901,130.87,46.9278,12.0904,28.1764,5.1435,6.0858,29.95,30.0768,2.4585,85.5297,43.2234,12.2328,272.792,5.0128,6.0288,85.904,12.6,54.3332,3.1752,56.511,9.8625,3.0144,6.068,22.6782,31.6,178.318,45.9754,10.312,8.5164,45.3222,124.929,18.398,5.2626,2.079,28.7064,28.6182,8.7285,11.36,1.7115,16.5888,17.505,40.7499,4.5201,4.6644,2.5984,18.522,14.651,163.1898,6.8714,9.3312,4.7996,14.5614,74.0532,10.3152,24.936,16.032,17.3488,17.76,62.8075,31.7512,0.8088,4.1448,35.6796,3.6288,18.7695,2.2824,52.7824,15.768,26.6304,8.8624,109.7226,89.3142,113.9886,6.972,3.0814,24.4758,19.4376,21.996,73.41,231.4116,80.0199,21.112,5.1282,6.3684,5.5992,84.0512,10.089,102.4998,3.024,9.7176,86.3856,33.6474,9.4284,18.6956,6.552,8.4966,4.2717,1.1466,1.6762,6.2064,7.1864,0.8994,26.703,56.7864,22.792,1.4112,374.9925,28.7712,6.8768,47.92,4.2666,10.224,27.9936,5.6994,5.3392,25.47,258.696,2.7072,34.3548,23.316,179.7488,9.14,51.75,16.175,3.4695,10.881,14.5236,3.6855,40.8006,28.1718,11.7208,1.926,0.5998,87.7443,5.8914,34.8928,69.1008,4.1634,21.0896,79.9056,85.2475,4.5816,10.6428,9.8784,63.7392,6.2208,10.3488,17.745,7.3359,18.8972,99.4896,6.2208,6.2152,4.3176,247.996,11.076,50.9898,3.2256,311.652,62.0368,2.578,6.2152,601.9699,24.8832,1.8704,14.5152,117.432,71.991,4.8118,4.068,40.3128,16.8,10.7996,7.4872,90.588,50.5848,51.8346,17.1574,2.6412,6.5164,3.2616,1.5804,16.3215,3.3408,9.3024,11.7,8.7672,3.2944,6.8714,23.4416,77.7438,8.5568,49.6048,1.3416,18.6624,50.1876,14.6718,9.7176,18.7812,26.598,5.7672,3.5767,3.58,0.1472,10.626,40.6878,0.5904,5.1786,1.3583,21.2954,5.1792,17.22,5.2256,37.2204,67.256,64.518,13.1956,66.9546,23.1093,262.39,8.3268,5.9312,10.048,5.9364,4.5318,1.6752,18.4534,16.9932,14.995,18.6006,2.043,5.4128,135.98,42.0714,24.5028,5.0856,51.8,22.5408,3.393,20.2485,9.6192,2.5984,6.2208,12.1176,2.7279,19.791,323.946,829.3754,81.0474,9.102,19.2454,56.0547,50.4063,6.8768,34.9074,10.5552,113.848,294.5488,5.4432,53.55,12.936,9.5172,2.5536,21.3408,5.0286,4.1148,15.2064,5.4432,33.5772,54.3966,6.2208,34.9648,8.0464,2.2098,41.7852,15.552,140.5482,62.91,75.5424,5.4432,7.92,7.6416,2.7168,43.45,2.5893,5.6376,53.196,28.1372,3.0576,10.94,1.6704,4.8118,9.7119,6.2208,91.968,4.2336,28.5984,10.1493,3.2186,25.5798,679.996,16.6698,93.2232,0.8056,55.9984,75.49,2.5896,9.4392,44.868,72.807,5.2113,131.2785,5.484,4.9104,69.705,1276.4871,173.0316,4.9082,9.8901,9.158,12.9129,11.4452,762.1845,9.3312,92.0835,40.3536,2.478,20.585,5.999,27.3096,46.575,4.0687,356.0414,36.852,15.552,6.7008,63.8862,2.499,156.429,8.8686,316.8825,648.5624,2.1728,4.2804,5.4432,20.5764,83.284,57.4113,213.735,52.1262,7.056,5.1012,8.662,13.734,2.6964,1.7955,146.4036,11.151,90.294,2.9835,85.2475,125.2692,37.9962,2.436,56.5776,4.3524,22.764,27.7911,3.2944,7.2268,22.9488,1.6008,4.5216,1.2792,0.2353,12.178,5.0596,9.9468,3.024,1.999,10.6288,33.5888,8.4888,2.322,9.3624,121.7601,12.1348,105.2468,2400.9657,3.1104,7.1976,1.512,1.999,25.1944,33.642,19.1786,14.161,103.2284,30.4682,11.196,2.0416,4.1031,9.6657,2.5056,11.2308,21.888,13.8267,25.186,3.6288,16.3352,57.5904,3.024,137.151,111.591,2.0492,7.4872,181.9818,6.6584,11.58,1.7901,10.9698,224.2674,2.6416,50.94,75.6624,20.0851,28.755,9.3312,2.646,7.4571,129.384,10.5504,8.991,5.5566,8.69,53.196,2.8776,3.1104,223.054,16.7886,107.346,2.628,5.8696,0.438,209.993,1.2528,1.638,53.9217,493.7856,29.2857,100.122,19.5184,90.735,5.77,15.6426,4.5954,40.872,9.1785,21.06,49.2723,33.9388,9.3312,8.2992,10.7424,5.5755,16.2864,8.0997,5.4332,51.75,44.9925,64.674,357.1911,1.0904,7.3386,0.693,4.2336,9.7176,12.4416,53.3466,22.1184,66.7152,89.2224,109.7208,11.3288,5.4432,2.5532,2.1588,64.7892,40.8006,10.6794,16.9975,3.363,3.2004,6.8943,10.465,2.8836,21.7176,1.5768,28.764,1.7024,64.674,44.955,28.7928,20.4822,34.386,0.6048,19.8744,3.6588,11.6316,7.4872,2.9682,1.7608,0.7228,35.982,69.999,13.7862,41.262,5.434,10.6522,10.7912,5.5,124.485,3.5752,23.8581,95.586,135.4068,11.9988,17.469,139.5702,511.368,1.376,285.9896,0.5904,0.5022,11.5164,76.704,107.985,6.3336,18.873,10.881,1.7739,41.4294,18.267,3.666,5.616,3.6288,5.2026,5.397,12.8583,30.1968,80.736,4.914,88.074,1.043,4.4892,11.1664,4.1148,7.4952,4.4604,15.552,9.2232,52.532,1.4784,84.5728,4.5188,6.475,2.299,7.0096,166.1004,83.0502,4.3372,5.5177,77.7519,52.493,22.4448,6.4206,5.6628,9.7164,1.7343,56.1752,18.6624,62.5056,28.965,3.3725,71.99,35.694,19.656,3.5152,12.4902,5.1072,5.5566,26.376,16.302,2.401,52.776,6.5286,8.0406,176.1708,36.0192,14.346,6.003,36.5742,23.59,5.7072,25.098,17.2224,7.85,20.6955,8.4528,11.2839,36.4044,9.2442,7.4,15.1188,62.737,1.5795,4.908,14.8,5.5536,118.6575,305.13,219.4416,4.264,34.9965,7.945,4.7792,1.6196,170.9316,0.189,7.1592,52.7956,78.9412,28.3095,126.0558,60.2553,1.5444,160.9139,1.5522,6.0256,5.6644,11.492,3.1104,6.104,118.3413,146.79,21.897,19.6248,9.995,8.88,72.5344,14.8752,108.7996,26.3967,12.8316,118.293,32.13,31.2736,14.4096,23.0965,3.2832,7.08,9.3125,196.6132,74.8524,1.9629,163.7874,15.594,10.8864,0.5904,42.8805,13.365,17.982,11.46,6.3296,17.428,148.4946,5.998,11.094,34.7802,45.84,16.875,1459.2,41.952,67.941,23.49,5.1792,9.8856,19.3984,43.9956,1.8032,31.996,226.9644,19.5238,6.2208,0.5992,4.0749,5.0112,6.4206,13.2986,5.8653,2.3976,12.4416,19.8254,8.8062,1.7024,1.07,30.09,1.316,106.1242,37.7874,16.614,1.764,28.332,2.8812,173.7408,3.6632,11.214,3.185,3.772,6.583,5.8203,69.705,3.352,3.0814,3.36,5.5875,190.08,15.525,3.0096,111.824,11.8206,12.504,116.872,27.248,4.3134,7.7343,2.065,48.9516,6.723,61.96,9.7092,0.364,3.3488,0.5236,3.431,23.235,0.8058,2.7222,16.7986,0.4074,3.0342,11.5971,6.512,203.5644,116.3904,2.288,1.7004,29.0136,16.0928,196.686,117.432,2.3674,174.9975,54.8604,10.3488,57.385,1.5312,39.5428,3.504,9.92,44.7096,12.8151,9.072,0.7228,4.1151,17.745,39.6879,60.2553,3.7236,10.4832,6.2979,23.84,2.3952,2.4402,49.5552,89.3142,2.9372,456.588,18.3456,2.9568,274.386,68.976,5.0055,34.692,2.9592,5.8604,2.9145,22.6764,6.5856,175.136,5.28,0.5004,8.6744,42.392,1.668,45.2226,12.987,1.5288,21.228,1.971,10.224,3.2676,27.3568,20.1584,31.494,290.0058,1.8,19.872,12.5118,8.922,3.0774,99.23,385.3752,7.8192,10.5,84.495,556.974,141.2775,155.25,2.464,88.0299,3.7408,3.6288,1.57,7.264,5.4432,9.3312,4.4344,5.842,17.3754,3.945,349.3392,1480.4671,100.656,53.8608,6.4128,45.8136,54.3332,1.4208,2.9568,9.594,10.7849,10.0485,27.735,5.214,3.668,0.8688,23.235,1.5795,5.2125,19.3314,62.988,96.3438,26.07,8.7906,4.3176,8.4736,9.1056,6.2244,12.41,3.6288,23.316,15.387,5.096,6.2905,3.5742,19.8276,7.0854,52.49,31.0184,10.3488,113.4936,4.2804,321.84,4.6812,5.8045,20.6142,16.704,3.71,6.567,510.636,5.0064,2.7956,70.441,15.0864,12.3256,14.92,11.9988,51.1936,43.4352,0.444,7.7728,21.0,3.6018,31.2832,3.7408,17.352,6.534,1.375,0.3822,8.4888,3.401,46.602,9.6048,7.2576,0.9856,4.9432,3.21,3.6288,0.546,3.6894,151.0974,53.8608,3.852,130.7581,150.36,7.6154,4.884,9.7038,10.518,1.8998,46.116,4.8118,19.5,9.387,129.3786,1.4952,1.512,180.7659,6.615,14.9925,20.84,3.0268,59.0112,107.7216,9.816,15.5288,25.2213,64.7856,195.9944,26.5905,24.47,673.8816,12.5928,6.0416,26.985,16.5984,100.9113,11.565,73.321,3.6296,17.5344,1.5048,22.9954,257.5944,21.7728,76.272,0.6993,17.8152,245.021,28.13,1.5714,3.4686,3.0558,4.5816,1.8312,1.8144,3.108,4.8416,126.8973,18.6624,374.3792,62.9064,25.875,12.7008,6.206,361.2994,5.9211,12.1352,10.2245,29.364,39.4268,13.5324,11.7741,19.2384,15.8256,27.1764,2.245,9.7328,124.68,11.88,49.105,45.9754,38.178,4.7916,60.5528,25.1225,33.5888,4.9632,4.368,70.722,10.8864,3.1104,25.792,50.098,27.2848,20.5842,5.8812,47.0376,22.6782,14.67,63.9345,67.608,78.6828,2.1,10.4148,2.3976,13.7016,4.752,1.2506,2.934,7.745,10.395,152.495,843.1706,10.8054,19.188,3.9906,1.8144,47.848,6.745,9.0912,41.076,8.532,40.7499,92.4399,49.761,65.978,1.6704,4.8525,3.8844,3.3785,74.975,302.373,97.6524,1.5008,107.955,3.5712,41.823,69.993,19.9665,31.0688,3.1104,1.8604,49.4982,23.7993,23.3184,7.392,114.9385,59.8176,4.8609,74.574,17.76,2.401,26.3912,3.6288,6.468,3.462,3.7642,8.9208,57.4113,9.072,213.735,2.214,38.08,40.3128,7.704,7.776,14.6157,53.433,6.768,6.5808,11.703,17.1774,7.254,78.9516,20.155,79.8912,102.186,0.6408,76.6395,0.4706,11.0388,362.687,70.9644,0.5904,105.0228,4.2976,1.8048,134.3888,93.0552,10.5072,12.3096,191.9968,7.9212,215.1198,12.3234,8.4966,26.64,0.7348,7.2,42.0186,42.0355,21.9945,14.2324,9.594,76.1125,11.5752,16.1602,0.4752,29.1424,7.78,35.9964,4.6344,84.2352,6.0168,117.0104,6.3684,6.8714,8.6736,19.6686,481.869,7.668,23.7744,244.2496,77.714,39.7488,11.5584,23.4976,6.9231,25.176,30.52,5.1465,3.2872,0.8162,3.8822,51.2943,13.9392,6.8714,4.3326,20.724,20.1264,7.7728,5.4432,45.5392,280.59,26.6304,36.225,0.834,3.4848,5.193,63.984,412.5394,30.5964,70.006,5.2164,20.878,5.3892,30.4278,6.03,12.1692,47.8629,3.717,69.986,2.5592,13.7931,66.6351,28.518,19.95,26.3494,45.528,37.1812,11.1984,1.7352,16.848,8.88,56.1752,8.6715,38.988,68.9631,1.4652,2.6496,13.0095,81.583,0.3864,1.476,240.5648,25.7488,2.1684,2.355,80.4839,9.3564,106.5216,11.7,5.4432,9.3906,124.485,1.26,8.027,20.196,8.019,145.782,12.6468,20.0392,73.5448,2.376,302.373,41.1332,13.3056,35.3295,9.4437,1.0797,6.4944,7.2576,9.3184,11.9412,60.1398,9.039,15.82,73.41,50.4711,4.4564,9.906,5.4236,4.331,22.087,43.5981,7.0218,5.133,10.74,9.7164,2.0088,29.769,10.0282,150.984,23.997,3.0044,1.1904,1.752,6.9132,6.1792,21.0128,28.8576,13.0375,32.936,30.8966,22.2,59.0352,1159.9855,21.9945,28.0192,18.5274,7.25,35.04,25.473,378.1674,17.0268,51.8238,22.869,55.764,12.285,8.5025,0.4116,3.9609,5.4432,1.7004,9.102,229.3018,2.1336,74.8098,1.7591,8.445,3.8272,7.5992,233.2204,21.024,29.7408,11.2422,0.504,20.8494,60.49,9.5032,0.9856,3.6192,4.1944,100.24,4.672,17.8152,0.4706,15.599,252.588,14.8344,31.587,14.3075,35.9964,67.6599,11.4516,8.2688,12.432,381.297,13.3476,15.2712,1.4456,3.5178,2.2412,49.4982,6.4128,13.0375,4.176,157.0176,9.3312,68.976,14.2758,15.246,131.355,33.9388,90.972,8.7138,2.4,66.9546,24.936,79.1934,114.9954,2.376,3.8822,2.6892,6.3504,3.1104,2.3571,4.1965,47.9376,95.7572,377.9946,3.5858,13.7646,22.3548,53.7504,37.9962,22.1536,6.6976,16.3863,5.2026,12.264,1.311,4.756,80.3682,77.7519,297.69,6.2208,1.3365,38.2095,6.2192,106.477,1.2885,601.9699,125.99,6.36,5.6448,31.6,188.2192,49.9704,9.8658,171.93,35.099,7.7004,6.603,1.984,6.8714,112.4064,20.21,27.441,30.415,132.5898,56.3528,63.8232,44.5278,27.8944,38.15,167.808,29.952,1.1596,6.2208,5.2026,2.9372,20.85,133.152,2.8322,11.2476,5.1042,123.7691,12.4416,22.5008,1.742,10.465,23.384,27.3528,137.2896,24.528,3.1584,22.5732,5.3214,22.2516,5.04,200.9546,46.3185,15.6993,80.9919,16.3842,75.9696,40.9216,44.8896,20.7,11.3288,0.307,93.24,0.8225,7.6986,0.1134,1.148,15.065,1.7138,15.49,11.6263,45.7704,4.4856,62.748,15.8376,59.998,3.6156,8.8624,3.1104,20.5114,97.1946,42.1504,10.3168,2.256,23.96,16.65,2.8224,4.3368,12.5762,14.677,23.55,13.348,200.8638,26.973,7.986,130.4913,76.2624,1.917,2.632,5.8604,31.4532,60.356,60.392,95.2,29.952,179.73,3.178,43.9956,3.2616,41.7186,12.7764,27.4856,3.034,65.2064,4.0776,16.98,322.1829,114.6285,12.5328,2.1736,86.25,172.3384,30.432,12.9024,74.8142,8.2156,5.3898,9.828,9.0,31.122,3.0861,18.2592,13.604,27.9344,3.4357,22.458,12.0978,25.4384,13.4865,34.4232,29.372,5.1184,36.9873,1.512,4.0995,165.7176,15.552,4.5657,4.2816,6.4864,29.0325,41.2237,429.5772,1.4742,0.8388,11.4296,250.305,32.396,1.4456,22.2352,2.6568,9.6192,303.3408,10.764,41.5104,1228.1787,53.997,32.392,18.6093,58.4962,3.3544,12.6927,4.4312,3.4686,15.0416,327.506,34.2848,14.7582,52.7934,55.896,41.535,1.1996,19.824,204.0714,12.993,9.8784,14.4354,251.8911,6.2208,1.375,55.936,5.256,4.4604,2.8884,3.6288,52.532,8.2616,4.5612,122.3856,18.0648,78.7671,22.3776,14.3952,13.9152,6.9372,2.0592,0.2592,211.4955,105.6456,1.764,213.6888,10.7604,12.4416,70.5544,12.0,0.5244,140.686,7.56,61.389,3.3408,3.6288,2.7036,9.1314,27.69,7.85,239.9058,133.8624,3.6432,0.91,52.4979,31.587,7.9527,156.751,5.3392,290.3016,30.7818,9.3312,8.34,4.4712,52.6344,2.1476,67.1139,9.7812,1.0166,21.5397,39.55,157.3632,81.432,411.7365,158.7519,95.4612,7.3206,35.3626,36.813,7.0218,364.4595,5.1294,20.7808,4.9271,0.882,1.9926,5.1012,2.598,23.028,5.715,2.7166,38.025,1.0842,6.704,10.4496,8.6715,12.4416,3919.9888,647.892,28.755,0.5299,9.1296,7.0218,17.1828,4.2624,24.858,0.7392,61.389,9.3296,4.2666,16.6764,143.04,2.999,67.4424,4.1391,6.2856,23.6529,20.1207,6.2208,213.6888,28.3095,19.998,3.5022,4.2717,80.7912,77.5764,8.9544,65.435,7.056,5.1042,99.432,494.9725,35.982,4.2048,1.2948,20.8719,9.5688,4.5882,29.6688,79.8912,212.1876,12.838,238.653,79.8912,0.7665,4.3584,7.056,111.591,42.0744,152.0883,49.497,101.5794,29.985,7.065,1.64,5.6115,8.1432,37.366,4.0383,10.6232,7.4816,1.002,8.0766,5.9175,15.294,56.9772,17.238,4.3368,9.3312,92.2368,81.8496,215.9973,9.1776,22.2444,37.797,5.56,62.3904,15.1158,109.6113,33.5772,2.7222,5.096,12.18,6.7915,31.0856,94.4937,1.7901,343.9828,21.506,19.9746,2.1762,23.0864,94.4925,19.8716,56.9943,43.1904,9.5448,1.5588,17.52,13.4292,100.4796,47.241,21.9978,73.194,110.0528,22.5296,2.224,129.348,68.5965,419.8185,5.8604,71.991,31.5372,125.1432,23.232,0.4356,36.917,0.6696,3.8682,312.676,1.7991,14.17,5.7312,24.2256,3.6288,1.5444,4.5738,6.216,0.7425,29.6,9.68,74.8142,2.528,1.4406,7.5284,10.881,3.1104,94.0702,38.3572,6.5569,4.1416,18.7812,70.008,78.396,1.773,17.3754,5.778,11.556,0.471,6.2208,56.392,28.0784,84.5154,76.0878,36.3987,229.9908,111.1035,51.57,15.185,27.3592,315.7404,2.352,7.4694,22.6782,0.558,10.56,1.1016,37.9176,6.291,29.364,54.5916,4.1769,3.4368,2.8314,9.3312,39.52,31.2858,284.98,83.2097,14.2632,15.7584,1264.7559,13.2352,6.8908,6.9088,10.4754,9.5081,100.196,22.5296,4.068,98.2722,374.6286,140.5957,7.2576,8.4888,22.6233,15.4752,9.2568,1.068,23.235,1.7466,24.3384,2.9547,76.0116,24.5998,1.3514,91.7892,12.72,8.0997,2.2272,5.8914,1.7901,6.2208,15.552,10.7325,12.99,8.6112,5.6644,11.88,29.0136,10.0464,20.853,119.996,59.998,6.048,84.9436,8.381,12.1758,80.6312,3.852,14.148,6.8724,0.2244,24.196,19.458,10.5,14.3376,35.2872,5.652,71.2692,0.372,2.37,3.9512,12.3284,6.465,3.04,8.955,4.9497,7.9128,2.5056,8.2992,2.2302,2.73,10.8588,13.7193,26.9985,16.1505,15.3426,116.5976,89.159,19.4376,14.5584,427.4368,40.5867,76.2525,7.106,16.4647,11.025,22.736,20.539,13.0,8.381,9.9652,0.693,50.3988,11.5971,31.941,7.2268,21.5824,9.3564,19.2472,9.1764,6.074,8.208,7.584,3.0016,43.7136,10.8864,6.3612,5.184,5.3784,5.8708,87.3504,7.2576,4.3296,13.8528,3.8016,4.6746,6.24,9.2928,152.118,0.7794,6.496,8.983,10.9368,16.5888,421.0824,18.684,6.291,8.4024,0.6474,28.7904,3.8864,8.93,10.43,62.244,45.84,253.372,11.1384,74.8098,27.4365,7.2576,0.2016,41.823,22.0077,28.65,17.6418,8.073,2.6936,80.784,25.198,31.0912,7.5371,7.2576,10.203,16.6796,15.764,15.552,10.7892,3.344,6.2208,10.8682,256.784,3.614,12.1348,13.4925,70.006,129.6,2.9372,66.0736,18.2112,134.654,2.4288,874.9875,4.3008,15.12,10.3904,22.4955,9.744,23.5116,7.3479,25.424,49.2576,88.1295,21.7728,138.3552,82.992,792.2691,14.9292,26.565,28.615,18.4548,38.5722,10.5072,6.2208,15.1116,28.0032,134.9925,1.3257,15.998,25.62,188.1404,219.4514,129.5865,79.8912,2.772,3.6288,2.256,11.592,3.5022,9.0882,34.758,50.8254,11.556,5.6956,26.1156,10.0878,4.8588,3.7436,25.4016,47.7306,62.82,63.873,16.9932,11.206,0.1588,31.198,7.3008,7.596,51.8312,21.1428,23.0864,14.6718,18.1176,39.5,70.5564,6.3744,4.4352,8.499,4.4312,90.8292,35.988,0.9282,108.3528,7.7679,10.368,15.552,14.904,607.608,69.0018,331.191,33.7212,11.7,5.9185,7.3132,36.8245,15.4752,17.334,23.9984,9.4815,32.16,19.435,11.2236,1.5066,50.9208,0.5998,9.0048,6.0726,18.1908,68.823,4.4344,355.4466,473.6106,157.8702,26.9526,32.1678,1.8,7.5864,17.1574,10.8864,0.2334,14.0859,9.5968,2.338,3.7308,5.7768,60.1536,4.2861,11.1664,28.008,14.896,18.3264,118.983,141.723,5.022,58.0272,0.1692,6.534,35.3346,52.4895,314.2719,124.9552,45.528,23.004,32.4,3.4104,1.46,107.46,4.6284,20.1579,18.767,39.066,1.3944,12.5832,15.9516,46.095,14.677,24.7275,4.908,38.988,5.2896,9.9652,7.9188,11.6795,5.2773,2.205,2.0388,9.4486,6.03,1.6704,7.2576,7.9984,352.296,72.432,3.528,10.5714,67.9833,33.995,12.586,1.3068,2.6814,3.4848,22.941,1049.985,9.12,9.1674,7.5768,8.4071,6.3504,6.6584,83.281,13.1956,1.6762,5.1816,1.9024,3.4086,49.4376,9.855,27.3735,15.2208,3.504,0.1191,1.1136,767.2005,13.7016,215.9973,5.2773,4.7067,19.0386,28.7679,14.3952,8.8704,78.435,38.038,45.294,40.1702,48.3136,4.8519,48.9645,4.2336,3.8073,74.574,9.072,20.682,50.2398,6.756,7.8735,95.0968,16.704,15.0735,28.497,19.755,4.9648,37.7972,10.3936,28.4364,42.4647,54.9504,24.84,60.2553,20.967,28.7856,36.693,5.256,13.92,13.208,5.6956,18.8937,20.5176,31.494,93.5948,9.6048,1.8288,26.4654,14.3068,11.9952,9.3312,18.94,3.4196,3.6288,4.485,41.1684,23.1168,244.6155,9.0384,48.288,11.376,8.098,10.3896,68.3332,6.9795,3.21,7.2144,0.9774,8.7906,29.8802,539.925,65.3256,5.9175,16.6788,2.14,68.198,15.012,13.3176,78.1954,12.4416,9.9873,301.968,9.6975,1.4742,3.894,7.8176,3.6288,30.2634,88.3948,3.1752,37.9848,15.808,0.6516,3.8822,3.267,0.73,60.392,78.672,84.0512,7.896,7.384,41.88,6.858,394.268,11.1024,11.223,8.6391,15.468,28.8576,8.3754,5.4288,4.0644,1.5602,49.014,8.37,626.185,5.083,33.3136,1.0904,8.8608,24.3595,4.1916,1.9698,29.495,27.0112,0.8385,5.5674,19.7934,2.2512,14.3952,55.4364,74.5654,1.651,7.1988,16.1096,83.2508,125.469,58.6872,16.1838,4.3524,3.5256,3.0134,47.0548,42.9914,15.378,69.92,18.504,2.4824,21.7728,2.7776,168.1855,12.5216,300.735,3.564,2.7144,6.0025,48.9942,3.7692,12.96,275.478,181.176,12.8256,136.6176,5.334,71.3898,30.2112,7.776,3.6288,20.3439,117.0104,20.1584,5.4432,4.0768,5.55,0.864,8.619,9.63,4.4784,64.0728,4.3308,19.8254,109.3338,29.0,49.3164,257.9871,0.7794,22.0032,10.896,6.206,15.372,97.1892,3.8048,3.5475,3.6022,0.4074,14.985,4.536,9.499,21.7728,1.6056,0.3674,10.3936,4.2392,10.518,9.1638,14.4,15.9348,60.9552,85.904,37.797,21.7728,3.6714,7.6272,145.134,0.6192,3.744,6.2208,0.0792,757.4112,26.3912,209.58,742.632,2.6973,1.8144,5.4896,26.2,4.8924,1.5548,2.3177,0.3156,32.095,388.8128,50.328,1.521,200.49,32.6332,1.2006,1.6688,33.3124,1.4112,375.4296,0.365,120.9468,3.752,0.4264,5.4432,5.0232,64.7892,3.89,133.152,8.5544,31.2528,13.4964,47.061,2.5056,2.0322,16.7946,5.5512,10.5754,8.7384,152.495,1.7375,65.355,4.5873,5.5944,52.688,3.4368,42.588,1.0208,1.395,10.896,643.9825,9.801,23.9778,19.4656,45.8064,3.3408,32.4684,7.5087,29.302,29.6576,1.6762,152.495,12.298,1.1564,50.414,3.1752,4.5008,18.5976,41.952,12.492,15.5112,7.0218,166.0698,1.7055,2.9322,3.86,1.4418,4.225,94.4925,93.204,11.5432,9.0636,19.755,3.744,3.6288,2.9304,3.2161,16.1838,14.6718,5.056,209.2365,20.0156,5.6994,42.045,32.5376,70.5456,21.4032,28.4809,3.2472,7.92,15.921,164.997,30.786,3.6784,116.48,32.6046,14.2758,22.7136,5.955,70.5028,6.8274,3.792,6.9384,8.8044,314.9895,15.552,6.5538,1.6632,6.378,100.4255,3.462,34.146,21.0128,45.294,1.1775,0.1512,107.4785,12.358,7.3788,6.939,2.232,2.205,3.51,93.6988,2.79,6.8724,7.9724,129.9974,327.5818,31.8892,12.1348,16.5531,62.3904,15.9446,3.052,25.1916,23.3954,7.5992,28.8576,17.3376,3.792,34.2925,81.1734,99.23,96.576,329.994,8.236,23.028,56.9772,294.5488,17.745,15.5092,8.3328,5.4896,5.07,10.248,42.048,24.196,4.1748,0.504,11.996,101.3832,0.6696,22.6476,2.3328,81.5949,3.6288,41.993,106.5408,8.997,18.2112,10.9584,40.4973,3.339,8.2848,282.2092,1.0269,7.0173,9.0055,67.86,2.2044,12.5118,14.3075,12.0252,88.074,118.9965,10.2592,5.9598,33.7212,1.4364,13.128,14.682,1.323,10.0792,16.4403,11.7782,6.4428,51.4975,4.995,200.49,306.4894,4.3254,8.9206,6.156,257.712,329.994,4.536,10.744,423.0085,7.4592,119.2,18.4604,26.649,9.3812,0.8288,6.8904,113.998,36.1827,70.0977,10.647,2.245,0.0628,14.4222,38.178,318.3016,15.378,40.4012,14.501,2.178,51.4975,0.8988,89.5888,10.9193,14.5638,3.9498,2.7664,38.08,55.9224,63.7776,27.0882,16.7972,5.6644,5.664,42.1176,7.6284,6.799,3.21,3.7224,3.9072,2.99,11.0704,0.3822,37.758,2.6536,67.1916,107.082,217.767,210.594,190.3728,48.9902,18.093,1.2432,5.4432,0.8288,25.5968,3.6288,75.6952,18.396,21.1428,2.37,52.9173,9.3312,3.2406,10.098,5.2312,16.6536,30.7008,35.9976,7.92,9.352,1.2112,16.2204,13.4292,46.3185,1.8792,16.3737,1.6416,13.1956,2.726,37.0,12.599,9.3444,9.8658,356.225,6.2608,1.0287,9.072,16.7034,8.4966,15.5344,1.0348,15.8756,6.6312,6.0368,13.9986,5.842,2.3521,23.808,6.4206,0.3336,14.547,17.6088,44.985,3.4668,12.0609,0.8856,0.8856,22.8904,13.2,24.219,20.6336,6.74,9.3125,124.2,14.9814,11.1776,4.1124,15.8256,9.7911,944.9865,24.47,24.2352,621.9744,10.4875,13.846,20.1248,14.2992,4.6548,10.794,97.4586,189.4046,223.2855,4.494,82.0776,5.798,19.041,58.65,33.5895,11.895,0.4984,12.4416,21.4074,0.5992,199.2606,2.64,3.9296,4.9648,152.0232,4.2336,94.962,9.63,48.94,47.8629,6.7236,6.549,34.742,10.0116,2.87,13.4386,239.985,60.5488,66.3264,14.651,21.0,76.7904,1.551,8.217,9.504,287.982,4.6644,19.1976,126.3942,23.9904,57.358,39.6312,191.968,49.8042,32.6332,1.4784,18.018,6.8016,35.76,17.8794,7.8225,7.4985,1.7514,0.3492,1.41,0.8988,15.5376,110.1195,449.991,213.7044,55.016,3.3088,0.2016,56.9772,4.7976,22.518,3.21,30.2384,7.0713,3.9771,172.4814,9.936,3.285,4.6644,1416.8,18.3908,170.5113,15.552,16.196,4630.4755,6.47,47.5072,7.0048,17.9955,4.644,0.2792,19.9746,20.9274,8.4966,0.9512,2.9889,13.8579,381.2375,0.99,9.3312,54.5832,29.7024,16.848,17.6673,9.4366,9.6957,18.0378,7.5762,21.2512,4.0338,5.6376,21.6,90.2871,42.045,204.7682,12.53,2.337,13.846,8.694,26.4132,5.733,2.3814,64.518,1.2005,9.8685,5.4432,1.6524,0.5998,5.1012,3.7236,134.9925,5.8708,7.5992,315.8118,14.7546,9.3312,8.2992,10.8864,17.8152,0.9772,6.532,6.2208,28.0032,15.764,163.787,60.2553,21.7845,5.4288,115.1856,7.668,10.3473,20.485,9.816,0.6696,4.4955,5039.9856,6.6,160.1766,22.8582,15.0742,10.374,10.3071,93.7688,3.4357,249.995,18.9888,84.9436,18.715,4.7752,4.2804,15.6768,7.7748,481.47,4.995,4.239,1.9024,11.5432,64.2,29.2716,4.4352,85.176,359.9988,18.2112,6.6294,130.2075,1.0296,41.8608,21.5824,10.3408,5.6376,11.2752,4.1151,7.0227,0.7056,5.949,100.656,11.8584,6.5754,5.9988,13.0707,8.619,0.738,272.792,7.524,40.5168,150.384,177.4206,2.2712,1.0346,20.5764,23.99,6.003,19.8276,24.144,45.1395,148.138,190.4298,85.1816,6.2937,7.5371,1.1225,61.389,2365.9818,3.2868,11.891,5.2256,14.6224,1.7343,496.7865,3.9474,164.997,4.9308,2.79,22.4082,68.04,54.3438,0.5432,327.5922,15.49,12.1032,0.4176,2.943,1.0269,19.4194,3.196,38.396,2.8101,11.7488,66.6344,8.226,9.3312,139.99,4.195,5.24,27.735,9.1269,78.8942,25.5378,7.9896,0.897,0.8997,2.3025,8.28,19.3185,5.4432,1.12,6.7966,8.022,14.628,9.2178,2.772,3.9512,22.6737,53.4954,1.8144,6.512,157.8702,6.6906,10.9494,85.9828,140.396,26.1096,1.4672,34.742,6.2208,12.012,3.6288,54.8604,8.4564,35.6238,8.2944,162.0948,3.4827,7.095,3.29,6.42,50.352,16.2688,24.84,5.4896,11.1825,16.8948,63.6825,78.5088,148.704,8.2156,32.346,16.3215,13.4386,11.8584,7.8225,22.4448,327.5922,19.3116,6.1572,21.7355,27.1032,12.0764,89.955,297.6435,252.59,2.5488,8.0712,2.175,4.086,150.984,2.3077,2.7166,30.2232,9.039,160.6722,26.865,182.3553,71.99,15.2,219.9904,3.069,2.3328,4.4824,75.735,15.6375,54.6912,15.6744,12.231,523.7052,18.447,9.6,2.0748,9.158,2.625,160.1586,2.7384,3.6288,7.4,36.2835,135.219,10.512,15.552,36.8245,14.256,14.2688,42.3625,4.0192,3.1104,87.7443,8.636,20.6612,225.735,0.5584,2.1492,114.9385,3.2776,1.3596,5.2026,26.224,1.1151,7.371,78.9412,6.2208,65.9934,5.4432,7.4368,2.64,23.3163,54.7756,11.703,5.0358,14.2956,15.7992,56.9772,3.0212,9.3312,150.984,5.2287,109.998,1.4224,12.7008,75.5937,19.0512,6.2208,6.2208,8.12,9.072,7.1928,17.3656,101.3488,13.1985,51.1485,0.2034,5.5177,17.158,39.3408,0.8088,75.6548,12.0252,10.058,15.8158,6.9552,84.22,22.4316,6.9088,3.0654,16.0356,24.1218,67.495,47.952,14.4596,33.5892,72.5344,10.5144,13.7646,7.4872,5.8604,4.9104,30.2316,6.2016,4.3296,1.0598,149.8956,16.704,53.7544,0.6912,49.4376,2.8224,4.3902,23.028,5.778,28.41,14.202,0.5584,17.9684,122.148,8.2764,13.832,4.5216,8.8624,26.649,8.0712,60.1412,89.997,184.2204,8.7048,3.614,6.715,3.3544,56.55,32.2322,105.468,3.8448,7.9704,3.7996,38.29,4.224,206.6232,0.1674,10.5084,22.6275,4.9728,30.2384,2.054,33.8517,15.1116,13.2288,5.8887,26.564,43.7842,63.135,5.4144,5.9384,53.8048,4.4312,50.3832,13.3371,160.623,2.0574,21.7728,20.7328,15.68,3.5712,8.218,4.266,6.7188,147.475,141.1644,1007.9832,33.93,21.714,62.1376,4.2408,20.163,6.9664,39.41,9.8901,6.1704,24.84,11.1564,34.494,3.2392,9.7176,33.4584,5.6994,12.298,751.9624,5.4341,2.1492,41.88,6.129,62.7822,206.8893,1.932,114.9385,97.88,5.7624,39.948,1.3536,3.9592,14.2272,6.5164,2.8884,2.0475,1.05,5.796,34.3656,13.2962,72.358,165.3496,33.3172,30.0234,1.5008,11.1672,3.2392,6.624,5.7672,20.1656,13.3245,86.3928,123.4548,10.3936,21.5928,77.672,2.64,14.4648,48.4704,38.4372,136.665,14.8491,0.5904,2.14,18.8993,6.8714,17.324,302.373,39.213,3.0368,22.4316,12.7008,38.7792,20.1584,88.7332,2.2194,21.7728,9.4717,27.882,2.9562,7.2177,50.3658,55.896,46.179,3.3099,99.9408,4.5402,20.7675,9.5616,146.388,3.8822,13.428,14.9556,28.0876,4.5816,2.3025,8.0997,2.528,57.5016,62.7004,9.1581,7.605,11.9952,16.032,62.82,6.4308,40.3536,219.5088,18.336,2.8478,1.9926,1.0284,85.9818,9.9936,7.5371,29.799,22.4925,9.1872,4.1832,1.872,83.5128,4.176,16.6788,6.0736,4.0749,6.6846,33.3102,10.647,3.5623,137.151,1.148,0.4752,15.0696,10.984,28.7064,9.6936,11.232,18.1146,2.7072,10.8864,8.3028,4.36,0.4172,19.3392,18.2112,19.26,10.089,21.1977,91.9508,71.97,179.9964,9.7152,8.073,6.1641,5.6316,8.1552,5.0764,47.994,15.5904,4.9056,19.4656,1.6356,4.4772,68.8464,9.8901,5.8708,5.8233,13.473,27.882,7.2268,10.0572,11.5836,0.2992,2.245,3.6792,19.797,17.908,0.8162,2.646,121.99,91.152,19.4352,4.5144,0.6258,4.4352,24.5028,38.024,92.97,1.0192,843.1706,265.4232,7.3834,16.8237,67.1916,150.294,190.0206,10.3473,4.2336,83.2097,0.6156,29.95,4.6176,0.4644,2.6068,292.776,517.4793,16.7776,64.2,0.8736,52.532,52.9743,6.102,56.301,315.825,2.5578,18.2112,1.176,2.2728,22.992,30.3604,55.896,2.8884,125.1432,3.6348,9.072,42.1314,11.0016,16.194,6.6468,12.7008,6.999,10.4284,5.4201,5.8751,38.2668,67.2742,46.1184,1.1946,301.968,23.5248,3.72,9.3312,251.202,16.17,7.0218,6.93,4.2309,0.846,1.6776,15.5204,238.653,3.9294,6.567,266.4522,82.3368,1.7608,18.767,46.1184,3.942,1.7876,13.7428,41.1208,6.0288,5.2164,6.2208,20.844,2.577,4.6956,36.4044,14.212,6.1308,6.1192,18.3168,5.4801,4.6644,4.8588,58.38,3.8655,4.116,83.9916,15.5372,12.6392,5.7798,31.0688,6.321,152.388,7.209,2.3408,224.4426,1.5426,2.4012,22.9068,1.1765,7.056,5.4432,149.148,2.1684,77.5584,18.8784,5.9904,3.556,18.8732,3.6588,8.2194,27.783,28.7964,20.155,91.968,5.0688,16.2486,207.147,1114.512,3.0498,25.011,9.6712,3.2352,146.7693,5.3196,17.379,21.792,146.7693,11.1776,16.4052,133.9713,60.5528,72.6408,53.9946,2.1684,2.2282,40.3704,25.5528,7.4172,48.118,111.1035,2.034,83.986,193.32,103.8982,32.5008,38.976,191.6586,28.858,187.3976,1.8144,3.969,13.9972,8.7138,7.93,91.9508,84.66,0.7938,11.88,0.8376,195.9944,70.1784,21.99,105.8316,11.1564,113.6742,81.5949,6.206,274.995,37.23,17.253,22.6296,83.9944,15.7,4.5188,5.605,8.5728,2.8296,7.2576,8.3524,23.4552,48.5392,2.8884,3.1842,13.8915,6.4638,0.3336,1.8792,5.4432,12.51,5.0328,13.9728,23.226,5.256,6.792,19.692,3.14,5.4432,3.3675,1.0738,16.1868,296.0671,28.6578,9.302,42.9914,9.3312,6.3504,31.4916,1371.9804,198.429,4.4174,80.6316,21.0654,37.4144,37.7916,14.6825,32.6704,8.184,2.7324,13.0548,10.9698,24.2285,43.164,292.776,18.5136,1.1225,29.3284,38.9312,16.38,1.9224,105.297,352.3065,16.945,10.374,0.84,2.904,13.064,34.0704,125.198,9.2386,259.8896,33.2156,1.521,5.778,7.128,112.788,11.9586,160.623,700.98,69.1776,150.984,0.8946,19.968,1.6848,15.8256,19.3932,29.5776,21.7728,22.89,10.0725,17.8066,15.9968,394.212,4.504,11.58,43.736,40.4012,4.3296,22.3734,77.4837,4.36,0.7776,32.3982,5.7365,28.1421,18.9702,3.0558,4.2392,0.5828,9.936,14.161,12.7746,120.9468,9.8901,13.8915,3.6018,13.452,13.455,8.2156,36.4044,4.2,134.5302,57.4938,197.9208,2.299,20.7312,79.8912,12.796,60.4968,40.1702,5.1184,8.7145,12.6813,9.2799,145.2816,2.6251,15.9384,50.9082,36.294,26.3912,6.6588,12.9584,3.6936,4.8024,15.3522,33.3576,4.704,10.875,4.0872,19.996,23.0864,53.0439,33.64,4.752,18.6624,16.544,15.9348,14.7582,3.5529,5.7624,82.2906,1.0114,24.1224,11.6496,113.848,8.0968,178.8,70.312,8.5025,48.5392,1.8872,22.2352,2.9568,17.3148,22.2,7.434,80.3404,6.2664,61.4628,0.3348,23.184,32.4684,4.0203,135.98,1.9176,8.694,386.835,653.301,29.808,28.959,80.0199,1.999,3.912,3.3408,3.506,21.4368,14.9744,11.691,1.3284,1.5691,7.2576,5.928,7.98,6.253,9.0288,2.004,9.3312,2.394,11.7488,24.9366,20.4525,6.5888,4.0584,8.4966,1.5548,8.7672,111.5688,4.891,5.7528,6.0114,53.997,0.5508,16.7475,2.2365,210.4936,3.9498,2.8836,15.5232,19.95,48.5514,15.196,37.0782,41.0216,20.9592,3.84,9.534,1.636,0.6312,12.8744,54.057,23.9904,22.9488,6.4864,13.2293,7.7679,5.4332,3.895,28.7064,71.2296,79.794,5.4432,3.6288,9.816,7.86,117.6147,7.6146,35.6238,9.072,5.3352,3.7584,41.79,72.7888,18.5886,10.4985,47.0979,4.8118,9.5526,10.8,4.5816,102.2784,235.9524,9.891,23.384,11.31,6.549,15.1158,26.3934,7.71,1.3104,55.745,15.2208,5.0055,40.4432,8.409,33.93,11.1176,3.528,8.1072,62.93,7.2576,7.68,12.7008,15.0384,1.1994,3.9312,11.88,1.0208,659.98,51.474,35.245,12.0978,1.999,16.1568,1.3716,0.6672,459.396,97.2,5.368,15.9912,183.995,0.1548,2.388,36.852,21.0249,2.7846,7.0659,8.25,87.4825,7.1586,10.906,149.382,12.9792,24.998,13.7808,0.7336,0.7704,9.604,20.538,4.3368,92.392,4.4352,19.6224,36.693,6.066,13.7646,73.194,9.3312,9.294,4.008,37.534,22.2,22.8285,8.7906,62.916,11.6091,6.48,115.1808,0.4068,7.6284,2.0358,1.8207,1.816,0.1472,19.872,19.176,1.9024,3.6018,8.799,88.5528,4.3904,0.6624,1.2585,2.8782,27.882,8.6016,62.737,19.1376,3.475,11.1024,7.6869,2.3997,44.8896,3.8655,527.984,6.846,3.1806,8.671,7.0044,15.7248,36.9288,4.0098,0.6516,18.2112,27.986,40.3536,743.988,75.5748,5.1015,129.348,28.1718,30.7872,5.6016,6.2208,8.0178,2.5137,17.524,10.5672,47.46,11.7936,34.9825,0.334,20.8719,12.7008,3.4544,1.9712,15.764,3.1104,238.653,6.8724,17.27,1439.976,30.7776,2.1888,8.9994,1.86,335.9944,5.6376,35.6613,5.6784,122.7648,15.8256,1.9024,22.8096,8.5914,3.44,1.9712,1.6712,163.818,5.3898,3.597,2.2098,9.534,81.0474,27.0578,9.47,109.7544,131.355,32.2514,6.5052,2.7846,4.1988,4.887,1.062,27.972,206.6232,1.068,2.9835,2.0228,217.767,371.316,224.424,5.898,8.733,281.016,7.9218,5.368,8.8784,174.9825,1.0336,50.49,17.16,21.0,21.5988,2.9568,399.2994,4.6818,103.158,75.3732,8.2062,3.6848,76.4,28.896,85.491,23.1192,149.148,35.76,10.08,2.8912,3.0976,8.7906,11.297,20.1015,69.1992,9.3312,15.552,28.95,210.735,20.0851,0.7938,2.336,3.7856,5.1792,7.504,1.3992,4.168,8.7052,6.8714,17.5448,132.5898,92.3936,8.7735,5.544,2.64,6.2208,5.7408,2.208,9.198,53.8608,2.9348,3.1104,7.128,293.9804,40.274,35.6526,5.191,12.9888,16.5186,9.3024,20.585,36.4473,12.672,141.1644,4.44,17.5812,15.282,0.2952,42.8935,3.3756,14.5638,30.1872,7.1586,21.294,1014.9797,9.3312,4.1391,1.6038,47.9385,111.591,8.4564,27.2412,5.2272,21.164,2.289,4.5588,29.994,6.2208,395.9604,118.293,32.0598,305.13,28.0876,41.3928,12.6592,185.2578,7.9794,8.5544,4.872,9.2928,5.79,13.4316,6.3504,10.0624,53.272,12.8256,9.6192,7.9548,6.8992,31.198,17.8794,36.7255,22.2,9.499,225.264,1.4456,624.9875,12.1149,125.1432,2.1546,152.0232,19.7712,209.274,17.694,25.0182,20.2986,20.235,1.512,10.224,4.6221,335.8548,233.9961,2.3968,4.6228,5.823,50.328,7.9248,11.2648,24.2919,0.5967,7.4496,16.398,4.3956,10.7037,1.848,16.8,25.4384,15.525,16.3352,362.8404,36.3816,8.694,37.9848,43.1976,3.6288,1.1988,1.1556,6.1792,4.1148,8.7168,8.3328,48.5392,15.6332,185.997,9.3312,78.3888,4.6806,5.7672,44.712,5.6448,4.7724,2.0979,6.4692,1.9602,201.312,14.1246,2.224,104.7528,8.0946,176.7864,2.0358,5.7568,3.348,15.552,11.0354,51.996,6.098,29.1456,54.4047,15.552,2.8196,15.372,178.91,143.1918,274.995,34.3896,12.8568,4.7236,14.098,45.294,2.8884,53.8608,9.3312,4.3524,22.2516,2.0064,294.671,0.584,100.196,80.843,21.7515,16.7328,54.04,4.3884,1.0269,219.4514,8.7906,68.8464,92.2368,50.098,180.7659,7.3528,196.5036,5.0232,86.3856,11.1176,21.0128,11.7782,13.4512,1.6176,2.0394,1.3622,23.9688,22.2,9.63,22.0472,124.7808,4.89,7.56,10.4148,28.1718,22.2264,12.672,19.872,1.017,9.264,26.865,5.6628,33.8598,13.0284,6.63,1.043,41.2237,8.8784,27.434,158.5764,58.7916,217.767,53.2608,1.356,6.6584,362.835,316.1392,3.4357,3.9248,5.4432,1.0044,4.8231,85.787,8.636,19.9665,8.997,9.5992,4.2952,130.752,1.5876,18.4772,2.6376,30.432,12.4416,13.1868,12.691,19.6328,125.9874,78.672,112.4928,7.2576,2.94,7.7896,6.7655,40.274,14.9744,77.0352,6.5472,57.5928,2.0228,55.764,5.166,63.4368,10.788,40.1702,50.328,3.1552,9.7608,15.4872,30.098,124.488,93.6988,6.2376,34.5,111.774,15.3888,45.3488,5.7594,6.3504,6.42,76.0878,35.6776,0.8792,120.5106,4.042,126.225,884.058,32.3351,1.69,24.196,4.2294,12.4416,42.0256,7.6965,8.2992,8.5372,3.8655,21.7515,31.5192,14.2386,286.713,122.148,35.985,7.152,363.9048,15.6332,12.9129,9.3312,26.6304,11.49,4.6818,15.1158,2.478,4.8986,64.6272,3.7584,0.336,25.186,6.006,2.8536,23.924,6.5472,15.372,5.1816,16.614,54.6912,5.1968,2.5344,75.18,177.198,3.9512,10.1094,89.307,173.235,54.215,16.17,76.272,4.0338,7.7,30.392,5.3392,17.472,6.992,38.3508,6.0147,224.9925,6.174,8.073,7.7688,10.008,3.3504,38.61,5.9211,0.5668,51.8238,2.7062,206.316,30.4416,3.285,61.3824,7.5528,2.6568,0.6786,12.8568,3.1104,18.1764,95.76,18.1044,21.792,12.712,6.3296,8.0991,3.9771,1.7876,609.7157,350.9082,375.735,28.3095,20.3898,3.5784,2.1,33.0288,5.4444,14.1426,592.7896,6.8724,19.1976,6.5538,61.3824,4.6176,6.812,8.5025,5.382,1.2714,54.666,18.528,20.7675,1.316,161.9674,59.4355,12.096,55.912,3.462,11.2224,30.0144,134.652,3.9128,74.8142,48.8064,9.2322,3.1752,3.1752,14.7668,12.599,88.725,70.49,0.8792,10.3936,5.7753,33.2704,9.5418,38.3238,23.4192,108.1752,28.3479,3.9852,1.962,1.3728,5.5044,53.2,44.046,11.2504,6.4128,11.5587,1.0208,12.549,9.116,226.3626,422.51,24.0688,57.3212,11.7208,6.396,176.386,32.9817,6.862,17.7568,25.245,10.68,20.5755,11.7936,35.712,47.98,207.8856,8.4888,9.072,26.558,28.6965,13.2522,46.1184,485.9892,7.049,1.7352,15.9425,7.89,942.8157,290.0058,22.4196,9.12,22.0748,3.7436,27.9456,29.2528,0.2997,35.196,51.8346,1.4602,26.082,19.0848,1.0731,7.7679,15.8631,11.8248,8.8784,9.3312,34.2144,459.9875,21.591,9.2176,21.645,93.6988,3.8168,101.4504,7.605,30.9504,6.4206,6.0114,19.9686,2.6208,120.9416,3.99,27.9936,50.2425,8.1168,3.4496,11.2308,5.5664,4.9248,19.872,15.525,14.425,1.1772,48.5514,93.594,10.327,43.4646,44.975,23.2624,4.4712,89.964,10.89,41.2237,17.38,4.1652,1.9926,9.5736,143.303,56.324,17.9982,68.8464,102.9528,91.7728,168.4704,7.7679,16.6764,12.582,503.7822,84.51,66.6272,12.2715,9.5571,4.7196,19.596,23.235,3.2064,16.7832,228.0792,5.3116,21.7515,81.1314,7.3451,45.576,96.3438,69.1776,7.98,3.4965,15.336,3.6288,2.8101,7.4872,31.0059,16.032,103.3116,4.0542,30.0234,8.9535,93.5816,15.9792,12.7368,4.8609,13.365,23.0864,6.398,15.9936,42.495,43.9,2.4598,1351.9896,52.734,14.9156,33.2544,170.5113,12.0295,4.4138,10.4496,10.518,27.1032,2.0975,101.394,6.888,12.4416,3.1104,8.6352,15.764,8.2901,56.55,103.9992,24.8832,11.1294,7.2111,33.3256,49.92,12.7764,21.8192,3.1161,66.9546,70.198,1.7248,4.2804,41.9958,71.5375,14.3952,13.3008,4.752,6.8982,146.2405,6.3504,6.7252,2.8224,10.5252,198.46,4.6305,7.803,0.5904,247.485,11.8272,68.364,33.8744,1.8672,3.0438,19.9665,7.1196,43.4217,5.775,16.1838,0.6993,26.9024,48.3771,9.816,29.358,6.1488,81.1734,3.4692,9.9882,34.6983,9.3312,1119.9968,3.6288,8.526,13.572,14.7,28.629,22.6782,12.492,23.9688,18.2112,11.454,33.7266,2.4864,0.8624,0.654,5.1648,21.0128,2.211,13.8579,0.559,15.2712,11.4576,36.7173,7.0224,1.0904,6.615,9.3,18.8937,23.5764,37.0,6.3744,6.372,25.3302,582.232,176.386,23.8986,35.6346,11.452,33.831,87.18,0.585,5.4432,50.396,1.8354,36.1836,22.2264,156.338,96.0232,15.552,16.8896,10.8588,4.4685,24.4768,5.4432,6.0726,62.1414,64.3678,41.4276,349.3392,0.4641,5.98,137.151,17.6232,16.6698,8.1192,5.6448,140.5957,23.2182,105.98,41.706,30.5088,0.84,2504.2216,72.6408,25.2315,3.276,899.982,56.264,2.3409,2.552,29.988,143.982,726.5619,41.3374,75.686,34.6296,23.7864,10.788,7.9896,1.764,7.745,5.6784,38.97,21.8376,6.4128,7.945,71.9928,31.5825,1.2376,7.9378,169.182,197.353,1.512,7.9086,2.5056,244.2496,0.712,1.008,50.4063,28.497,5.8604,67.608,118.3704,440.7648,50.4426,75.5958,3.2064,2.2518,30.582,86.3856,29.5626,67.99,3.872,5.7072,69.6762,7.1712,11.586,3.2214,9.702,1.7325,11.7488,35.2604,1.8704,22.4808,23.6808,73.41,64.7568,7.2036,21.7728,23.7564,116.2425,25.1496,6.03,51.8292,9.798,131.586,35.6796,14.098,10.8,107.7216,15.552,54.5844,83.281,53.235,12.1452,27.4856,2239.9872,6.2208,134.3328,52.3764,629.01,15.2544,85.9957,70.5564,39.689,2.0271,36.2556,60.4224,29.5186,66.6,38.3572,15.0156,8.7168,107.9946,15.498,7.2576,25.0182,4.7988,3.857,16.3172,11.898,33.0368,210.4942,60.6645,113.211,79.692,15.426,2.9568,4.42,34.96,13.428,17.3488,79.758,12.2328,4.914,22.653,5.135,165.2868,3.5154,2.834,37.5624,73.41,1.728,8.8176,1.476,55.896,21.2724,2.128,8.4096,54.558,219.6546,80.7912,14.8707,134.9322,11.4504,26.9304,7.6798,22.5296,17.6232,20.392,19.0386,1.7919,8.9985,58.464,3.6018,99.432,20.1558,99.296,1.239,24.9984,14.4,12.7008,31.984,3.0576,31.4895,6.0632,4.8546,6.9654,4.8162,5.2029,7.764,83.284,8.2056,56.2744,7.2576,62.1376,3.2432,3.9474,44.3664,81.1314,6.0264,15.6104,7.6968,3.1806,16.146,107.9892,1.794,163.787,5.0463,8.073,29.245,20.7332,2.2724,27.882,3.7412,121.1056,18.96,143.6288,102.9444,2.4582,31.0156,9.8685,3.546,98.105,13.452,146.79,2.7956,1.305,18.6624,8.1144,157.4685,31.0446,4.2804,5.8696,27.4856,3.0144,4.2471,7.2576,12.993,31.4685,12.3144,2.808,2.7944,30.2112,1.6116,26.9973,21.42,4.1972,34.993,4.8804,1.3978,35.6613,4.7976,2.6208,8.95,1061.5722,43.706,49.23,39.4438,4.872,8399.976,331.191,16.8413,9.5088,53.4519,4.5448,1.002,3.9032,70.219,9.3152,2.8912,459.396,41.76,1.656,5.2164,0.679,307.1448,47.848,14.418,3.4995,26.9024,27.5632,407.1288,49.8435,17.3712,148.491,14.7184,20.6816,85.9818,13.5072,3.4686,3.597,46.7313,11.2896,3.6288,4.752,91.7892,180.441,6.2208,21.384,3.8844,2.3406,11.7782,314.0586,1.8704,125.245,15.552,401.814,2.9346,52.532,770.352,8.8008,8.763,27.504,26.7904,24.4608,34.182,12.4416,6.9088,119.4742,9.9992,114.9385,167.979,839.986,5.6,2.8836,19.8144,125.198,4.2804,25.5112,50.3658,59.0372,4.1988,9.912,44.9616,70.196,0.864,99.9012,8.49,240.8595,3.3948,10.8836,42.588,8.694,25.2936,10.3071,97.0137,9.3906,1.1994,4.6782,11.8768,52.7692,37.1084,8.236,214.164,31.5192,38.9975,5.4488,1.1656,18.2525,55.9986,4.1328,19.4184,50.396,9.8164,17.108,15.525,4.3428,73.41,6.2208,2.106,4.794,5.58,11.086,18.2352,3.1654,28.8576,214.4922,7.7035,4.4792,29.495,8.3328,1.9926,46.632,17.994,23.9463,69.705,2.8416,13.8828,11.086,2.2828,71.162,14.4648,2.99,12.672,130.2885,18.6606,58.812,41.0388,79.758,6.975,8.3916,63.7536,6.3504,62.532,0.7728,26.0316,22.5732,1.8144,13.6776,5.837,0.1512,56.2032,15.6978,38.1576,14.1728,164.6316,7.0218,12.1401,5.4432,0.51,1.2672,10.773,10.8864,69.705,65.9634,15.606,2.4012,15.594,7.8792,6.48,25.0938,8.1882,17.19,11.4504,52.3392,89.997,6.2208,6.4584,41.68,8.3754,27.3592,69.9965,1.148,3.3524,2.4898,139.986,5.4432,2.3686,68.12,6.0632,13.941,25.1916,11.19,39.8736,111.517,2.0088,24.1918,2.1286,4.0986,10.422,0.6984,8.4942,327.9458,18.6624,30.996,2.691,3.3524,0.3336,1.8144,15.393,1.0008,26.901,34.8138,3.4048,303.804,1.6896,121.9644,23.9688,23.808,7.4975,49.9704,45.7632,11.1176,24.2285,89.991,55.008,89.9548,9.1785,149.9112,99.9408,8.802,6.6312,105.275,7.272,1.5291,0.7794,1.476,13.7964,2.2504,17.99,15.372,3.248,320.3172,2.0048,27.882,0.4704,8.7906,4.5188,18.837,41.1684,4.4088,69.1776,8.7906,4.5837,7.567,6.5736,8.3524,40.0036,67.0644,545.1884,9.8856,43.1904,240.294,1.308,46.5432,37.884,48.906,3.246,41.823,18.396,109.3365,35.49,31.0688,46.8996,74.213,2.4059,0.8792,2.9302,16.6788,5.6,10.92,7.644,121.4416,3.3453,17.38,3.2256,71.772,68.585,19.1646,3.2392,22.6737,1.7995,569.9905,23.235,2.4174,25.1916,5.2398,0.5,7.553,227.205,1.002,25.497,5.0336,175.5156,7.4824,7.2298,6.206,5.796,3.1096,34.5,14.595,75.68,2.0672,5.9364,32.3015,0.91,7.2576,2.99,13.8828,18.7224,3.9312,7.2177,4.756,12.4416,2.5578,21.8736,122.3856,17.3488,35.8644,12.4173,50.0346,10.164,38.725,214.4675,30.2778,10.7301,15.44,120.9416,12.4752,44.304,6.3504,22.5732,2.4192,18.4632,18.6872,26.544,30.186,7.9662,18.8328,17.745,4.914,35.994,395.988,3.3408,31.5192,109.422,21.33,13.9328,1.4456,301.968,3.969,21.7728,35.2772,4.116,11.088,50.9208,32.4684,31.5776,4.5448,42.495,21.7532,239.976,4.498,132.5898,48.7011,1270.99,3.888,15.2988,0.552,23.6529,76.2525,17.7744,12.2247,21.5964,7.8936,2.838,1.8468,7.724,6.074,3.6288,12.96,9.9652,77.4837,0.7065,29.1375,7.4752,25.06,12.7368,6.6177,264.5865,37.884,3.339,21.42,10.9096,4.536,112.224,10.0772,14.43,415.9896,334.1142,10.104,14.3136,371.316,56.196,3.8775,36.3018,1.6128,18.3276,76.5583,9.2556,19.188,1.3584,19.41,10.512,43.5981,5.369,13.455,52.38,0.1584,9.3312,13.734,2.6928,1.6704,74.8142,44.5962,0.6102,31.9319,3.5505,11.7078,5.4336,24.9804,1.1556,0.4074,7.056,41.986,5.07,8.4528,136.08,8.6436,100.7316,387.5676,0.2997,48.796,19.035,23.235,7.065,15.4752,15.824,173.3292,59.6556,12.9978,3.278,14.6642,14.2002,21.036,41.9965,34.4148,81.2646,4.176,11.7488,7.9984,17.6391,47.495,13.9185,21.9492,6.4176,5.3721,14.9156,6.3504,7.68,8.4942,3.0861,8.3868,25.792,7.209,13.132,6.552,8.694,3.7408,20.7459,1.8144,23.7742,146.79,14.4495,3.2214,88.485,16.704,3.1212,51.8312,148.1064,4.57,119.686,125.5824,215.9892,24.2696,80.838,3.72,15.408,65.435,23.7168,11.8728,7.0218,6.2608,449.985,3.2224,746.4078,274.491,1.4796,113.6742,204.1092,0.3112,3.0084,5.751,6.924,0.868,12.691,14.651,517.4793,6.2208,33.0708,5.997,3.21,1.4456,49.8042,2.3312,20.8568,7.9128,19.7358,52.9173,2.0672,18.5391,11.68,5.2182,105.2468,3.3524,4.653,148.845,17.9592,2.132,13.5056,62.321,7.4824,48.3285,0.6056,2.6496,629.991,7.6048,148.704,33.0648,2.9568,16.146,5.538,314.2719,54.3528,5.798,8.019,33.3136,12.8574,4.9616,68.001,71.9952,66.1451,17.37,216.8244,4.536,12.4416,5.301,72.8088,224.073,154.8426,82.2906,9.8208,13.5626,7.7728,8.3958,7.2576,11.907,23.0864,7.2,9.735,112.3508,0.8804,4.4392,40.12,15.0984,4.6193,112.788,735.0336,4.485,15.8571,2.8392,909.9818,6.624,60.2553,2.7028,59.0112,5.193,12.8744,11.6496,0.5904,70.4928,18.28,22.5576,0.4592,4.782,13.078,46.47,16.776,6.2208,97.3026,19.824,12.4416,6.6584,9.3312,4.293,1.8011,1.728,4.6221,8.7138,220.987,9.4788,7.196,47.243,54.4008,2.604,11.0544,245.7,19.5858,28.4928,5.369,113.3055,88.1804,314.0384,5.8891,10.0282,87.2842,77.625,15.4752,27.2412,101.6508,33.3396,0.8495,89.2224,1.6472,84.502,6.7068,5.4768,29.1456,12.4416,31.0184,76.9816,25.872,25.792,2.786,10.3936,13.984,2591.9568,34.539,19.2384,28.1718,88.3932,32.4862,4.6764,69.705,41.2938,4.9878,91.9508,7.0218,742.632,78.6508,151.47,41.496,1906.485,9.5787,187.797,329.4081,8.304,62.4,50.3832,157.1292,6.2208,44.4,35.9964,14.6902,59.4355,467.9922,2.2155,6.6846,8.1216,5.6644,58.7916,98.5248,163.1898,2.5056,4.2048,0.5097,32.925,15.5904,16.1838,72.5754,0.5097,9.25,51.1872,15.4752,8.2156,4.6088,12.222,17.891,6.3072,4.2408,35.89,3.7408,5.5216,5.2164,9.3312,26.388,1.4256,43.176,3.0268,28.497,13.17,12.4416,3.7412,153.0819,2.8536,4.779,0.3024,19.4688,58.5052,16.608,140.391,15.8496,1.068,0.3384,93.884,107.79,12.208,30.99,5.4432,13.7176,3.6288,0.556,35.0244,5.256,373.779,59.373,0.7152,9.352,90.9762,13.788,11.9952,2.8764,2.9646,3.6156,13.8915,13.896,55.0584,7.9812,3.9592,11.7782,2.4675,9.54,15.876,48.94,30.7168,13.181,22.0947,136.2971,2.3094,14.5728,4.2,0.3168,5.952,10.8784,2.1465,2.0748,4.6464,140.9568,29.4372,17.5812,1644.2913,5.6832,160.0398,6.9795,2.5056,52.4895,17.466,15.147,38.1576,3.2214,6.3936,15.4752,38.997,17.6232,1.9136,2.132,41.993,5.796,57.5928,2.8764,106.6248,13.788,26.703,34.2144,69.705,561.564,1.764,2.9568,4.8804,89.7792,23.4,8.9544,134.56,77.8635,17.982,3.401,6.7048,49.716,79.8912,6.1548,8.8624,2.9568,102.9528,3.852,45.9754,11.2752,0.8382,1.764,1.0008,10.5534,14.0712,3.741,5.915,7.0128,3.344,4.6552,15.552,5.3703,171.9914,137.54,49.9704,4.35,40.376,3.0576,219.4416,30.6054,9.12,0.4752,4.797,47.6604,26.824,1.674,178.91,6.7176,5.9184,7.308,1.9272,1668.205,8.1072,3.798,7.4256,10.8136,10.7964,81.921,38.396,10.7136,51.8,1.3365,170.997,9.1746,17.856,23.028,34.294,11.68,8.997,3.852,4.872,654.7554,140.5482,77.3696,35.048,5.0274,2.3808,2.244,249.9104,2.6784,3.0576,6.854,4.108,26.973,5.1588,2.6973,48.632,7.2576,14.5152,16.68,13.5882,3.6288,3.21,197.991,32.9817,1.6588,5.5512,22.1184,76.47,4.914,0.8856,2.808,43.176,11.592,17.6673,4.1916,0.891,2.308,87.89,20.9148,3.8976,19.0344,76.5484,128.9742,0.5152,78.851,15.5856,3.2406,0.9336,5.4124,49.9704,383.931,41.1528,15.743,207.475,13.2,1.4805,6.0288,12.8928,2.6964,4.6193,20.975,5.7624,29.673,50.5632,1.576,6.7966,108.1752,9.072,16.1838,1.6704,16.956,10.8966,5.1294,38.8704,34.3548,11.613,24.9132,11.7568,106.9578,129.7725,5.2884,197.9208,4.7664,3.1032,4.485,267.705,28.9568,29.1528,13.959,15.1116,1.7472,28.858,8.8624,71.2692,100.7916,6.2208,5.841,89.9548,86.3892,6.0876,2.2288,9.3228,74.691,18.0,46.9952,47.6268,47.8152,20.388,18.33,5.265,1.1808,12.974,20.1708,70.0336,2.8224,32.97,10.5072,12.052,6.2208,32.893,34.2925,1.926,5.1015,377.73,3.7996,334.4985,29.3412,58.1796,52.632,20.844,2.322,41.4456,7.9896,100.4255,10.9096,11.0264,9.585,125.9972,4.4004,15.0984,5.8604,3.8048,160.623,17.3148,41.2237,21.4776,1.2672,24.857,6.7048,7.2177,50.3658,6.9716,155.727,1.6896,23.0864,9.8784,5.0196,39.7488,4.872,9.6192,6719.9808,38.08,27.882,95.2,5.6112,87.89,36.4736,76.3152,89.3142,33.936,41.1208,4.1832,366.6348,32.688,68.6868,1.4112,14.1426,4.0664,52.8228,37.2186,142.485,449.991,20.5764,2.934,29.5254,9.3312,3.6162,18.6624,76.9816,9.8352,25.1808,4.3904,7.196,5.4432,16.7875,142.9948,4.728,2229.024,115.5528,0.4264,7.1372,19.6305,3.799,0.8688,1.7248,83.646,6.2208,91.056,20.0851,7.4376,8.0652,37.7874,9.7119,291.3778,42.3625,0.4068,0.416,2.502,1.112,6.0412,8.3104,57.12,50.396,31.6128,10.3473,3.6784,6.0416,89.997,92.2368,27.2952,11.685,12.2465,37.764,180.7659,3.7694,44.4704,9.3312,30.735,12.8499,5.1948,2.772,250.396,3.1536,313.2624,4.8392,0.2996,282.2092,15.6078,32.4342,87.7578,22.0158,25.875,137.264,14.2272,135.456,10.8864,4.1965,41.7186,15.8436,0.9963,5.9696,74.975,12.744,26.8752,0.7392,4.2717,2.0748,81.432,659.98,45.294,8.2782,36.4776,15.552,19.2556,35.6776,11.151,8.5845,24.4608,764.3818,0.5668,3.9004,5.6112,0.1533,2.3616,3.363,4.504,2.2724,20.585,5.397,13.8579,68.976,3.1104,2.5216,3.363,88.725,8.7906,23.31,149.76,3.157,11.7208,184.26,15.552,16.5888,19.8072,22.2,6.5904,13.188,3.792,58.66,10.449,3.1104,7.3008,2.8,41.0388,24.3824,9.2386,91.3248,3.968,27.9108,84.5982,60.4768,7.3872,9.6632,31.47,33.8517,21.294,33.7266,4.461,23.5872,17.55,8.048,5.6376,69.965,3.405,14.9925,6.4128,4.1328,2.436,21.714,22.0748,6.2292,5.7624,9.8856,35.8644,48.906,297.6435,108.7408,0.8058,78.435,12.8058,11.1132,48.5392,5.8744,58.179,9.1954,8.673,45.487,38.6848,9.1938,18.144,49.9704,46.225,26.07,63.107,2.6784,87.9912,4.95,8.771,17.4064,129.294,0.9576,0.1744,6.465,112.422,2.14,16.5242,4.4604,51.36,4.9616,3.4398,27.4352,14.7,50.5632,21.2856,0.666,125.997,77.7468,22.2384,11.891,9.594,3.6,22.6782,3.0498,144.3546,3.1248,241.1046,11.9196,1.05,0.9952,23.7742,16.2342,269.308,1.6704,8.991,10.0744,3.3312,9.936,41.013,71.928,21.0128,53.2608,5.97,2799.984,18.2,7.1022,0.1188,20.4984,161.9919,15.4752,177.5889,5.3998,16.7508,45.9754,1.1988,6.2208,8.388,49.3938,61.3305,31.4975,10.35,8.9544,7.2576,8.2344,10.0128,0.9828,1.5588,45.555,18.1764,8.9362,0.2598,27.93,7.6896,43.9956,3.389,16.68,6.3296,24.843,35.0973,4.8118,3.384,9.072,1.002,59.998,9.6375,1.6784,83.9916,8.7032,11.1776,15.9446,17.55,6.048,4.004,2.0358,3.4276,134.9955,23.992,158.529,89.5888,39.6879,14.742,35.985,14.8365,378.274,6.7176,5.5216,10.8864,314.8418,77.8232,89.997,3.21,11.5432,0.1134,0.896,26.598,97.2032,7.79,1.2006,3.6288,6.0368,244.6155,43.706,0.4768,3.9102,7.008,3.3534,38.3952,31.198,5.346,16.6568,25.176,1.512,7.0218,11.3512,2.5592,59.493,13.572,7.6494,21.0752,4.0456,6.7008,29.0325,10.3168,177.5889,3.4686,4.455,40.1702,13.8684,16.9312,2.3364,3.9808,5.1012,18.9702,16.2,2.0574,2.3892,0.711,45.487,214.76,39.0824,143.982,5.8233,11.814,1.638,1.4136,19.4352,10.9602,26.4285,2.679,5.5341,2.19,75.9924,60.8832,20.06,24.47,9.7438,11.223,69.6546,41.5688,39.564,13.365,1.652,19.376,3.757,7.704,6.1992,3.504,33.9065,694.5015,11.803,16.2486,1.3416,4.4541,25.0536,11.586,8.95,5.616,1.1022,48.993,162.0,9.5256,11.2839,26.9973,9.3504,223.9936,6.7032,17.847,29.692,0.444,11.5136,13.4372,1.6896,25.1979,10.3473,5.3964,9.3125,3.9424,5.6376,6.7536,13.0928,8.8704,21.252,0.7092,16.0056,8.194,2.2512,15.777,9.3312,40.416,244.6155,9.744,160.623,3.6432,21.228,5.1552,3.0338,4.9648,28.1718,12.6348,10.062,38.9974,1143.891,33.495,31.4712,19.9665,5.9778,10.5504,24.8832,9.3228,2.592,635.495,58.9192,4.0687,7.2696,0.7348,57.6,9.1845,5.196,94.2784,23.235,6.72,3.8136,0.3094,14.5152,7.1994,2.5641,6.2244,6.6352,259.5297,1.6704,19.596,5.4432,54.3936,52.3764,21.4452,47.0351,6.8714,8.7945,72.975,15.8376,6.2208,12.8744,336.635,239.996,3.7408,62.1544,54.7136,11.4741,8.694,37.236,14.5728,19.775,4.9815,18.0096,48.3336,3.753,13.3176,89.3142,20.727,5.6416,7.7832,18.6624,117.432,311.9948,4.1988,3.7408,2.8782,2.5056,9.352,10.465,4.752,54.0876,11.704,14.3856,456.588,3.8775,25.172,3.7128,4.9608,7.56,18.447,23.7684,131.9868,39.5868,11.151,16.7875,1.7487,29.692,13.0112,8.352,45.954,3.2872,55.764,6.255,7.992,39.8886,1906.485,3.596,14.904,3.9248,96.416,29.9808,18.6624,10.881,3.475,77.22,5.373,31.0992,5.4124,225.6,9.534,92.5056,86.3892,1.3986,4.485,107.0388,220.4853,751.7601,30.445,267.6672,41.934,43.6842,3.0498,10.35,18.0096,148.491,11.7782,6.7048,3.6288,14.0438,6.168,33.777,6.6976,84.0512,10.3071,15.5961,1.7248,107.082,26.824,46.1968,57.5928,19.755,2.6028,143.9968,25.792,17.9982,22.9885,10.8558,4.3524,3.96,209.979,53.261,16.998,7.052,31.374,80.7912,3.285,9.3312,6.15,3.6322,7.6154,1.962,2.891,16.291,3.852,5.775,37.495,3.7376,71.2296,18.8937,75.68,14.4,1.7262,60.392,28.4102,12.7008,29.364,2.8224,12.6672,9.2386,1.168,3.7752,2302.9671,21.9975,4.4004,29.692,17.127,12.3144,19.1376,102.774,0.833,7.1628,26.3934,6.4368,24.9804,10.5728,3.4686,2.7354,1.1925,12.8184,21.42,66.542,3.753,9.312,4.3836,3.8529,8.6436,5.538,7.9984,9.7218,9.8328,1.3098,9.0171,9.7972,12.8316,6.2244,61.3824,4.5188,103.818,45.3696,146.388,843.1706,2.7192,12.4416,5.8708,4946.37,16.8544,16.5888,163.1898,2.244,45.588,31.4895,8.6855,22.2,17.1678,5.3214,0.84,9.4284,2.8784,6.1488,8.5722,553.3902,23.9232,27.3582,334.551,33.636,23.5564,18.24,100.685,6.9368,6.924,23.5248,30.9918,2.6961,6.8768,7.7832,67.188,2.04,18.8937,34.9888,2.61,17.994,9.3312,1.4456,2.9346,13.455,89.9548,21.5397,104.568,5.4432,83.9944,181.656,11.732,13.2986,15.552,27.7158,3.7584,128.6805,5.319,33.5895,1.6776,11.7334,36.3972,17.472,4.3624,6.304,7.1346,38.9975,6.3936,7.0512,10.584,46.953,26.3494,3.501,3.4776,1.6324,9.8856,36.2877,41.697,3.4668,13.572,95.1888,47.994,12.208,3.0044,70.1955,18.821,42.9914,2.7336,406.7154,66.5088,12.376,2.3686,1.45,1.8522,3.1382,19.2384,27.5292,124.6752,104.7222,32.4688,176.8026,0.7425,503.64,50.328,72.432,147.0896,21.0128,1.598,22.992,222.588,11.2308,8.997,9.3312,3.9144,6.149,44.2425,4.1832,11.673,7.8064,11.5432,15.525,25.898,412.468,3.8024,15.49,38.7792,3.5994,19.1808,125.3,11.0808,32.098,12.098,148.5106,10.0632,32.186,6.912,4.4892,24.8832,7.4655,4.1756,3.4944,2.592,9.3312,11.1664,28.5984,6.9741,15.552,7.4872,3.3516,5.2029,346.0396,12.4416,106.7808,3.36,5.5071,27.9936,31.2444,0.9468,68.198,5.2332,28.4364,2.5592,20.5842,0.5754,4.6488,7.049,2.224,15.552,2.8536,0.7228,1.365,220.4825,54.4448,33.64,63.984,6.2208,15.2225,6.8724,4.4344,53.2704,24.393,2.5984,6.63,35.0973,53.982,24.318,5.5328,6.8388,9.6192,11.2308,1453.1238,4.4088,303.3408,757.4112,112.574,13.8528,11.98,5.1792,40.97,20.37,25.2784,3.9474,43.2234,4.7712,22.9877,2.8536,15.525,20.586,5.0286,8.2848,24.4768,6.5058,6.123,0.8856,5.4432,2.184,1.9024,3.72,15.918,9.9216,45.84,1.7248,4.7616,117.1296,46.7908,6.4128,25.4744,31.2664,97.0784,59.4816,23.712,34.8128,34.1784,7.2744,15.3952,7.3132,75.18,50.8768,6.674,1.4976,8.771,1.122,7.0224,68.9631,9.0,11.7576,19.194,8.2896,202.2528,10.9096,4.4604,3.7128,9.3312,1.0192,8.7138,15.092,7.8166,10.3194,0.3906,6.4206,7.1864,5.6644,25.68,83.844,18.2112,43.6752,2.9145,52.493,15.9588,10.5,13.674,8.4656,2.3868,15.9348,6.4784,0.504,12.4416,33.1584,37.5624,5.7716,152.0232,0.9588,14.3075,2.5974,157.4875,140.396,35.3346,8.0548,661.4559,1.2348,14.6264,0.9612,286.3836,1.683,156.047,2.64,171.36,3.9831,15.386,6.5435,15.599,8.7906,3.2352,3.6288,4.0338,60.4752,11.803,37.797,4.95,420.588,13.452,39.98,82.497,1.9926,12.7008,1.1556,6.2208,2.502,6.7252,6.045,1.2192,19.1786,34.742,5.6994,16.146,138.417,5.9136,3.0128,5.4504,55.845,26.5824,13.6851,0.3399,41.934,17.22,20.097,168.4704,3.4048,7.9488,1.598,55.5822,6.2208,53.2608,3.9992,3.7128,24.2012,38.532,1.9926,54.215,4.1125,1.816,91.9954,6.4944,9.63,2.1582,50.12,59.115,682.5168,3.1008,19.08,350.427,5.346,46.8,2.3409,2.0286,82.2906,31.188,11.3148,8.01,8.3538,0.8064,272.9825,54.8604,7.476,18.09,4.5837,20.6946,15.7194,544.4175,31.8696,8.8088,4.0473,2.5056,48.9942,22.7024,3.7208,36.4473,5.4432,29.372,39.98,60.4632,3.0212,0.9576,24.2696,5.5616,80.7772,12.6077,1.3392,3.2832,84.294,7.774,18.7812,16.7972,13.32,19.1376,0.891,35.6636,2.14,90.72,5.193,43.3188,36.4704,8.554,9.779,0.564,84.9436,34.7865,10.3936,2.1,5.7624,98.4802,1.0584,22.3888,1.6784,5.544,7.9378,1.926,10.4148,323.955,3.549,8.6855,3.4974,13.9672,11.2404,22.156,15.192,5.6784,3.852,5.6644,6.7236,89.9548,8.2764,19.4688,2.6406,14.5152,114.96,9.234,55.3616,9.936,5.2029,19.7988,13.3056,5.256,23.9984,6.894,15.3195,762.594,1.6704,74.9985,5.397,1.2528,0.4728,11.1024,3.3524,6.7482,13.0928,2.3244,88.053,38.9752,30.09,22.246,260.6112,55.016,94.926,5.6644,9.499,21.8352,54.1764,12.3123,57.5016,78.9516,160.3136,10.4076,19.488,297.69,11.998,35.0784,1.3944,5.7376,83.7096,9.0,226.7946,3.7744,161.19,9.6975,6.2208,23.988,4.4712,6.5569,35.985,6.8724,8.085,1.375,2.6892,1.3316,14.144,29.4492,2.0271,1.8468,61.389,75.168,4.2336,18.6624,54.2808,6.3504,5.8065,10.179,15.552,125.99,2.0416,122.2936,15.2292,2.19,9.192,240.8595,9.48,10.7301,16.296,14.7582,1.1946,5.5392,390.977,5.3949,13.8684,12.1068,5.6994,5.5888,3.4092,16.7946,20.1544,2.7984,7.996,11.198,7.584,39.9234,39.5868,100.1403,4.4312,37.7874,80.3208,284.1855,0.1744,3.14,153.4725,9.9296,145.0696,9.2552,421.5853,1.9845,72.8946,80.6312,22.9008,6.888,54.8613,1013.127,29.4455,4.536,90.6444,9.102,57.5928,0.668,3.465,0.9048,3.7996,8.88,9.9882,58.42,55.647,8.1144,70.196,1.419,86.3892,22.9488,4.7724,12.2325,4.7232,3.501,26.901,25.02,8.498,3.4216,4.2384,38.725,39.4255,131.355,252.588,134.652,16.7886,2.9808,23.9169,40.473,6.9986,21.024,1.6308,1.5552,2.6376,2.2066,28.217,1.2064,36.7173,2.1402,9.6832,12.178,9.072,9.0576,12.4416,9.702,100.4255,38.376,54.215,45.4671,0.3336,3.15,13.2,42.8148,41.823,6.2496,15.093,6.465,3.7596,15.147,95.9904,1.4442,190.3881,5.123,14.8,2.2908,161.9919,4.4736,1.6704,60.392,5.1792,9.9522,11.206,132.99,46.225,16.2688,4.0192,33.93,6.0168,83.733,21.1344,11.5432,20.9664,610.8624,17.524,0.1008,1.356,5.2528,2.5452,5.5566,70.312,8.532,282.2092,3.4086,16.3172,32.6628,1.197,3.1104,19.99,0.0636,63.686,28.7064,6.7392,98.1396,5.58,22.4316,57.5928,4.6812,28.7964,2.4138,9.6914,48.4575,83.314,96.8544,27.608,38.456,22.4808,34.974,20.7459,7.11,2.085,25.5968,55.3896,7.8225,71.772,24.882,12.0609,100.656,56.5264,14.904,6.2208,45.528,3.5048,4.6221,17.991,28.7952,16.8237,11.995,353.5792,53.9946,20.1408,8.7372,944.9865,3.4552,13.482,47.8065,2.5146,3.6744,48.3771,19.9155,9.9456,4.816,87.1962,29.9646,13.299,0.4074,1.07,32.13,539.2464,793.716,15.9543,14.7593,8.69,20.724,3.1104,11.5587,10.2588,21.7845,109.7208,2.19,1.8688,3.24,23.7742,3.6288,6.432,2.3406,51.5543,18.09,331.191,6.5975,54.9976,42.225,33.6042,27.196,5.2332,6.4128,31.198,4.6816,153.1152,22.3548,5.369,16.7132,27.4344,15.12,16.124,15.2208,28.7964,55.647,4.1028,15.6332,19.3932,13.32,72.948],\"yaxis\":\"y\",\"type\":\"scattergl\"},{\"hovertemplate\":\"color=False\\u003cbr\\u003eSales=%{x}\\u003cbr\\u003eProfit=%{y}\\u003cextra\\u003e\\u003c\\u002fextra\\u003e\",\"legendgroup\":\"False\",\"marker\":{\"color\":\"#EF553B\",\"symbol\":\"circle\"},\"mode\":\"markers\",\"name\":\"False\",\"showlegend\":true,\"x\":[957.5775,68.81,2.544,71.372,3083.43,9.618,6.858,190.92,532.3992,212.058,213.115,831.936,72.784,1.248,9.708,19.3,230.376,5.682,95.976,1.788,238.896,102.36,36.882,157.794,600.558,617.7,2.388,81.424,59.97,8159.952,275.928,1740.06,177.98,52.448,97.264,396.802,15.88,2.946,218.75,66.284,452.45,62.982,1188.0,19.776,479.988,161.568,18.648,233.86,620.6145,5.328,258.072,617.976,419.68,11.688,177.225,4.044,12.132,82.368,1.624,3059.982,2519.958,37.208,2.08,254.058,961.48,86.97,218.352,78.6,219.075,290.898,786.744,37.764,82.8,20.724,4.896,698.352,509.97,88.8,388.704,8.16,479.04,1488.424,8.652,12.176,375.4575,83.976,482.34,12.462,2396.2656,131.136,1004.024,113.568,189.588,4.768,4.812,247.8,284.364,129.568,747.558,1272.63,28.485,185.376,254.744,205.3328,4.788,514.165,189.882,22.62,14.952,2.376,129.568,14.112,55.176,36.336,666.248,42.616,646.776,66.112,11.364,8.72,1121.568,1335.68,3.96,451.152,8.792,6.783,84.784,16.821,143.982,494.376,7.218,43.188,3.282,55.188,728.946,3.648,8.69,243.384,18.882,3.318,701.372,2.308,724.08,918.785,2.724,23.976,108.925,2.688,82.524,182.994,7999.98,18.588,4.896,369.912,883.92,400.032,272.736,3.54,51.52,567.12,383.438,107.982,32.07,24.0,35.49,3.168,1228.465,31.086,265.475,51.184,44.91,1141.47,280.782,5.892,8.904,18.336,99.918,797.944,8.568,12.992,29.718,393.165,516.488,2065.32,78.8528,4.752,501.81,124.2,18.588,1.08,3.282,1.112,1090.782,4.401,15.588,2.628,14.427,58.464,254.604,102.36,168.464,107.772,10.416,118.782,55.47,1.744,25.176,6.27,4.368,836.592,35.784,2.694,2.934,100.704,2.328,10.78,1.192,119.833,124.608,122.48,272.94,5.176,55.968,95.984,1088.792,1.872,593.568,338.04,141.372,3.036,4.503,1931.958,37.425,63.968,35.91,27.882,540.048,17.616,102.336,48.792,44.848,388.43,63.992,17.43,2.772,161.568,155.372,5.184,5.229,17.46,2.97,1.08,7.96,552.56,695.7,15.66,28.854,258.279,220.776,281.424,1.988,145.568,309.576,38.388,95.994,239.952,899.136,590.058,83.952,652.45,66.645,205.176,10.304,154.764,393.165,4.928,72.588,77.031,119.904,363.648,220.752,2453.43,164.736,470.302,2.502,2.025,244.006,1024.716,121.376,95.976,6.688,16.784,540.048,1004.976,21.38,6.744,63.686,247.104,212.88,23.912,9.324,1044.63,21.48,8.784,603.92,40.68,763.28,382.806,359.058,47.992,15.992,83.976,41.256,669.08,438.336,35.36,3.168,121.104,45.894,677.58,13.896,297.576,94.992,1018.104,21.936,6.588,64.784,399.54,1.188,7.518,853.092,9.702,11.61,71.992,765.625,307.666,454.9,359.058,1048.35,338.04,11.168,442.4,11.232,206.962,41.568,411.332,293.199,7.644,51.465,6.976,12.222,97.984,5.607,4663.736,16.156,170.136,75.6,29.32,92.064,62.958,31.32,779.796,1439.982,40.784,127.92,34.24,257.568,727.45,370.782,78.256,176.784,393.568,68.742,398.352,409.59,505.176,174.0585,2.952,27.018,19.968,33.488,8.736,3.24,254.526,5.104,35.016,4.956,11.304,294.62,8.752,11.364,183.372,4.536,9.156,2.502,6.48,341.488,146.352,710.832,1.941,283.92,310.443,636.408,259.136,0.876,209.67,2.808,215.976,152.991,10.584,14.76,3.656,991.764,23.988,422.058,38.088,254.352,233.058,22.608,501.81,8.808,139.92,6.286,71.976,107.982,305.312,9.264,29.932,485.94,70.686,72.294,330.588,44.4,494.982,306.2,97.568,614.272,141.372,215.592,547.136,123.552,1.272,557.585,1579.746,1071.576,613.908,13.71,120.712,532.704,60.288,253.372,76.776,956.6648,128.744,230.376,13.023,273.06,1.344,8.272,12.544,145.98,174.286,492.835,451.136,217.584,1322.352,153.584,1003.62,300.93,2.304,9.36,32.784,45.66,47.992,6.9,9.648,1801.632,181.986,431.976,155.37,1348.704,102.833,51.712,164.388,489.92,155.35,14.136,601.47,1.167,24.672,1218.735,6.096,652.995,11.22,7.23,370.62,2.742,11.088,25.164,3.204,3.98,5.346,821.3,22638.48,12.828,23.976,359.97,350.352,1.641,700.056,27.168,8.226,10.332,31.155,32.192,50.12,195.466,23.988,23.976,601.536,58.36,39.96,308.499,47.516,47.584,300.5328,2.724,443.92,695.7,143.728,36.048,845.488,762.594,7.434,64.784,14.72,38.976,314.352,153.568,8.85,307.92,408.422,539.658,3.882,1633.188,113.568,2.313,32.952,13.272,259.136,244.006,188.552,275.49,206.991,9.006,12.03,2549.985,21.594,8.964,344.22,727.296,22.608,666.4,327.7328,254.352,195.136,171.288,1022.97,24.368,16.74,981.372,252.784,3.984,12.992,5.768,220.2656,12.957,532.704,1123.92,78.6,3.768,258.528,30.56,77.952,44.784,22.848,210.392,347.802,1799.994,101.988,284.364,119.976,5.18,390.272,3.168,528.43,180.588,26.046,12.672,6.37,3.648,3.366,11.228,15.36,7.16,26.046,2.896,32.544,181.797,318.43,7.068,13.468,317.058,79.974,2.946,3.136,63.924,30.96,19.194,50.997,76.792,539.964,1.944,2.286,341.96,896.99,1.234,2.032,16.03,70.56,3.208,26.176,9.552,13.776,50.454,154.764,219.168,6.928,22.288,65.424,281.372,281.372,7.488,215.148,15.08,24.288,16.192,251.006,84.784,3.444,538.194,1421.664,147.184,408.422,382.116,3.392,193.0656,418.8,509.488,825.174,796.425,38.24,99.372,29.312,844.116,7.476,25.56,4.368,15.008,1169.694,22.428,64.704,135.516,657.93,177.568,718.116,9.555,41.958,178.92,69.888,2.946,113.568,6.456,13.88,103.92,121.104,127.372,2.694,59.994,6.368,34.176,551.985,636.86,563.43,1.788,99.372,2003.52,82.368,720.064,3.132,4.419,333.0,523.764,5.238,4.662,523.92,59.97,314.352,1049.97,611.058,674.352,616.998,501.81,33.568,26.4,3.564,480.96,151.96,86.058,38.19,82.368,364.704,12.128,9.98,47.984,10.428,547.136,14.85,41.988,352.45,801.6,7.656,311.976,241.332,197.372,2.944,255.108,11.277,40.635,5.728,84.784,53.316,287.968,286.344,637.896,170.058,82.782,853.93,12.864,18.693,9.156,23.992,409.272,1801.632,67.176,646.2,72.744,13.14,10.024,156.3728,339.136,5.022,182.994,7.857,221.024,2.264,0.444,4.312,27.414,19.04,91.032,2624.985,14.48,6.924,120.784,9.762,55.2,259.136,38.088,2.808,26.064,169.064,433.568,4.24,6.874,1.996,18.192,385.686,1.964,94.428,61.584,332.028,11.394,6.316,11.416,55.944,96.784,10.476,9.762,196.784,11.673,863.128,3.564,956.6648,12.588,48.632,246.1328,64.784,33.28,53.982,177.225,573.728,23.976,14.952,323.982,2.286,657.504,20.724,415.872,27.12,19.008,1598.058,77.72,520.464,253.176,2.88,384.944,913.43,183.968,25.984,27.36,172.186,38.976,190.848,5.484,2.182,26.406,129.568,1332.496,147.184,76.776,321.568,128.058,63.686,344.22,16.27,69.12,4.47,909.72,631.176,171.288,54.792,2.296,493.92,5.936,383.607,1.928,7.76,8.559,127.869,419.136,100.704,28.782,10.476,146.352,62.79,8.832,258.48,3.168,579.136,145.764,27.552,844.116,76.752,7.506,11.06,623.4648,772.68,241.92,163.88,3.486,10.584,5.715,242.352,74.416,7.996,8.712,0.852,56.568,268.935,9.888,275.952,35.544,40.68,209.568,3.882,1.908,43.372,6.464,683.144,1.476,69.576,58.08,364.95,57.582,10.38,13.392,39.594,380.058,227.136,463.248,44.856,30.345,127.554,3.798,158.376,5.553,243.92,89.988,18.32,48.816,1.188,2.214,183.372,26.352,674.058,11.808,9.588,5.97,2.508,254.058,2.296,91.275,1.08,2.512,7.764,207.984,4.356,19.04,3.108,1889.99,13.092,9.522,791.964,4.923,209.979,33.93,210.564,1502.376,199.836,8.134,1352.3976,99.846,1781.682,744.1,401.59,359.499,5.792,466.158,10.312,2.556,3.024,14.016,214.95,35.04,10.776,4.6,35.168,186.912,17.496,35.48,464.292,569.058,14.224,68.72,170.352,2.072,328.3992,1801.632,748.752,167.952,3930.072,353.568,3.318,20.768,99.372,33.568,2.92,200.795,46.688,399.672,3.744,340.116,15.84,9.552,89.991,966.7,51.588,37.296,8.544,191.058,1525.188,27.36,2314.116,34.236,198.272,347.361,172.736,2.907,73.176,39.984,280.782,6.216,9.81,16.272,32.34,181.47,78.256,102.018,1.869,419.136,3.592,23.976,218.352,411.332,7.656,859.2,239.96,255.968,181.986,1.592,455.97,10.44,5.214,16.656,67.9932,89.768,34.36,29.94,36.738,179.94,243.92,59.913,142.488,98.392,53.04,273.552,815.292,10.56,45.24,112.776,377.45,28.68,511.056,11.088,38.976,275.058,71.088,27.396,13.456,139.96,136.53,331.536,16.56,355.455,3.16,32.985,638.288,217.764,22.638,4.419,72.784,421.372,205.9992,132.224,11.672,285.48,181.764,363.92,64.2,38.52,72.6,33.488,23.04,1.362,14.76,104.58,885.528,2003.92,313.176,87.21,683.988,521.96,387.72,184.752,64.96,458.43,328.59,5.214,12.294,19.568,310.392,314.352,16.146,1345.485,12.201,2.068,518.272,152.688,5.888,25.16,6.216,24.032,4.488,1.188,314.532,19.432,65.44,1.908,1474.802,1537.074,449.372,72.588,73.164,205.666,340.704,33.57,6.33,329.988,71.376,43.56,235.152,56.686,51.168,218.352,66.294,291.168,110.376,79.96,18.24,2.394,3.444,384.592,442.372,39.992,20.784,141.552,661.176,502.488,24.588,17.584,104.784,650.352,156.512,108.4,2.412,83.92,38.08,99.92,49.792,299.975,158.376,32.784,4.276,899.43,11.52,108.576,5.984,454.272,6.294,122.382,25.984,945.036,14.301,410.352,974.988,589.41,103.5,61.96,4.554,205.992,241.568,110.4,384.768,12.843,24.0,26.176,539.964,50.232,19.242,332.832,218.352,59.994,5.715,9.42,4.428,4007.84,328.59,98.352,58.17,634.116,8.682,33.62,194.25,243.992,317.058,170.352,11.76,1.365,146.352,5.94,484.704,102.438,199.304,7.38,68.541,1421.664,139.944,564.195,42.616,21.184,213.43,51.168,386.91,180.016,41.552,6.408,266.352,56.328,39.264,6.129,359.772,122.136,81.96,272.94,35.168,1362.9,317.058,14.56,13.005,93.456,138.588,259.92,34.504,20.104,3.798,7.88,35.445,269.97,45.12,22.38,3.882,12.585,113.372,18.312,241.17,1.68,7.968,113.372,2.96,146.04,14.832,218.352,91.96,31.984,10.78,119.976,131.376,259.896,10.782,602.651,7.656,5.588,235.92,2.502,17.904,24.588,13.494,23.988,95.976,84.272,523.92,221.024,128.058,79.974,12.624,18.18,1.392,13.84,366.744,8.544,12.828,598.458,25.984,198.744,363.92,1.964,4.752,22.911,472.518,17.22,8.595,190.896,6.57,760.116,67.194,7.23,62.88,290.352,776.85,12.294,154.764,182.55,53.088,87.168,2.202,9.396,5.552,74.592,16.784,38.864,674.352,5.388,331.023,8.736,274.491,40.68,341.991,4416.174,302.45,44.672,32.7,155.372,13.428,67.136,273.666,20.608,4.095,599.985,3.036,66.112,559.71,649.0,292.1,8.544,424.116,2.892,381.72,890.841,1.872,11.214,142.182,4.158,22.752,61.542,81.438,721.875,73.568,64.784,176.772,445.44,169.568,251.964,523.764,194.352,340.182,6.888,32.544,347.802,15.57,313.176,97.568,172.11,35.36,13.592,386.68,539.91,51.897,552.56,23.16,126.08,449.1,85.246,32.712,4.464,9.345,236.528,22.2,318.43,5.8,3.576,147.184,445.802,1053.164,512.19,1.556,12.176,1889.946,8.952,8.856,85.246,266.352,196.784,13.592,36.624,242.352,508.704,57.36,11.98,0.898,21.204,349.965,170.786,198.744,435.168,71.246,887.271,29.925,25.176,5.584,6.642,23.344,127.302,703.71,17.904,11.976,1299.99,1548.99,119.448,118.16,76.776,76.728,10.43,446.068,5.232,526.582,13.698,147.184,1.938,179.886,24.224,331.536,431.976,291.136,456.588,4499.985,8.568,876.3,185.376,2.89,22.608,4.842,1.8,39.984,324.744,720.064,25.424,3.204,30.828,550.431,17.52,241.568,307.136,124.404,16.192,18.936,12.672,20.388,18.528,81.96,272.736,127.764,24.0,242.176,337.176,1614.582,31.984,3.96,205.666,30.344,344.372,15.57,298.116,81.424,39.582,40.98,3.168,18.84,362.25,63.552,129.552,435.168,81.36,20.232,90.882,15.992,519.792,31.176,2.724,254.352,3.762,39.936,4.896,145.764,9.612,4.992,657.93,1.044,106.08,23.076,0.984,75.384,2.214,5.97,2.655,454.56,141.42,310.744,6.47,13.748,15.224,14.301,718.64,89.0664,438.336,215.544,127.386,248.43,11.648,85.246,526.344,451.152,161.568,2.934,670.752,64.96,72.78,562.2925,159.968,239.372,512.499,863.128,449.568,277.5,1252.704,110.97,22.608,1.892,170.072,6.048,89.568,10.43,72.784,191.5155,1369.764,294.368,44.46,6.336,2.469,3.264,31.776,1.788,15.072,12.624,933.262,2803.92,4.768,70.97,743.988,11.212,4.712,180.98,13.092,69.375,3.762,34.86,51.756,5.552,10.332,376.509,512.358,15.624,2.864,94.192,436.704,218.376,26.388,373.47,64.2,5.432,913.43,4.984,64.784,84.784,241.5,366.009,7.68,155.372,630.024,933.408,165.6,18.432,62.352,303.92,6.048,9.96,8.552,431.94,2.043,68.238,240.744,637.896,344.372,127.88,106.869,3.564,25.68,12.384,46.688,387.136,77.952,37.896,6.08,165.6,184.752,366.744,8.856,73.784,30.336,44.376,5.193,241.424,18.312,422.625,150.408,2.328,4.842,220.704,998.85,10.332,20.784,66.96,11.088,51.968,30.08,165.6,353.568,399.672,30.56,121.104,111.96,481.176,177.45,1369.764,130.98,760.98,67.86,39.879,27.396,0.836,723.92,21.968,182.352,118.16,600.558,50.352,7.692,517.405,8.608,259.896,247.188,120.96,4.71,79.968,626.352,359.499,1.824,64.384,6.984,379.372,1.524,72.744,8.1,83.988,53.04,4.86,6.258,1.696,24.588,7.98,528.43,1227.9984,77.728,33.282,4.086,7.236,2.892,617.976,31.984,493.43,101.994,18.264,21.99,185.376,58.924,50.12,6.528,2.862,20.856,276.28,32.064,191.079,143.928,3.564,13.184,48.784,18.528,4.572,1.728,626.1,609.98,211.372,7.632,4.158,179.991,239.358,934.956,155.456,120.0,67.84,853.93,1.248,470.155,39.128,151.188,47.496,127.785,6.104,1.72,8.952,2.334,1.728,159.04,145.98,95.97,1875.258,458.43,8.226,166.92,2.992,55.176,73.915,2.946,215.976,828.84,7.218,93.032,454.965,295.4,482.94,84.784,64.96,32.06,177.648,429.6,887.271,78.759,9.552,5.344,50.136,88.074,301.47,129.552,51.984,18.336,2.808,4.338,11.88,143.128,31.086,3.488,663.072,99.588,29.372,102.24,13.762,301.47,7.536,1.408,4.144,52.752,946.764,147.568,5.607,215.976,11.673,8.001,398.972,6.888,457.485,1079.316,0.556,115.96,4.312,56.686,1.476,118.782,769.184,47.904,11.376,66.112,314.352,455.97,5.715,57.594,899.43,184.752,520.464,313.722,428.68,41.568,317.058,424.272,83.92,582.336,801.568,209.148,3.273,2803.92,6.816,15.224,21.984,1212.96,103.481,30.08,252.8,2.946,285.576,36.784,91.475,12.06,15.992,166.5,51.56,3.564,3.828,304.99,781.864,673.344,9.264,204.6664,32.592,31.176,8.856,6.23,369.1992,4.626,5.312,195.64,431.976,224.937,12.645,6.732,105.686,399.54,104.93,589.41,400.784,195.136,104.58,24.7,302.72,376.866,70.72,194.352,139.96,21.392,307.314,409.9992,3.438,4297.644,204.9,35.168,72.588,4.938,1499.97,11.646,613.9992,273.568,13.194,1080.096,51.56,221.024,71.088,10.984,797.944,2177.584,17.496,16.784,431.136,8.88,4.836,1023.332,600.558,211.246,107.772,18.24,3.798,235.188,107.118,28.752,2.112,516.96,18.264,195.136,8.624,14.0,16.392,61.544,3.132,22.428,848.544,8.7,122.382,5.94,82.64,330.588,25.128,362.136,528.43,22.386,5.742,683.332,71.088,383.4656,13.86],\"xaxis\":\"x\",\"y\":[-383.031,-123.858,-3.816,-1.0196,-1665.0522,-7.0532,-5.715,-147.963,-46.9764,-15.147,-15.2225,-114.3912,-18.196,-1.9344,-5.8248,-14.475,-48.9549,-3.788,-10.7973,-3.0396,-26.8758,-3.8385,-25.8174,-115.7156,-8.5794,-407.682,-1.8308,-9.1602,-11.994,-1359.992,-58.6347,-24.858,-453.849,-131.12,-243.16,-11.3372,-3.7715,-2.2586,-161.875,-178.9668,-244.323,-14.6958,-950.4,-13.8432,-383.9904,-28.2744,-12.432,-102.048,-248.2458,-3.552,0.0,-7.7247,-356.728,-4.6752,-120.513,-2.8308,-8.4924,-19.5624,-4.466,-509.997,-251.9958,-7.4416,-3.432,-169.372,-204.3145,-48.7032,-24.5646,-62.88,-131.445,-67.8762,-258.5016,-27.6936,-20.7,-13.816,-3.4272,-17.4588,-407.976,-2.22,-4.8588,-5.712,-29.94,-297.6848,-20.3322,-18.8728,-157.0095,-1.0497,-337.638,-20.5623,-317.1528,-32.784,-112.9527,-18.4548,-145.3508,-0.7748,-3.6892,-18.585,-75.8304,-24.294,-96.1146,-814.4832,-20.889,-34.758,-312.0614,-36.2352,-7.9002,-30.245,-94.941,-15.08,-11.9616,-1.9008,-25.9136,-21.168,-12.4146,-7.2672,-149.9058,-68.1856,-145.5246,-84.2928,-17.046,-1.744,0.0,-217.048,0.0,0.0,-5.7148,-4.7481,-20.1362,-12.8961,-28.7964,-115.3544,-5.5338,-31.6712,-2.6256,-10.1178,-157.9383,-2.7968,-14.773,-51.7191,-13.8468,-2.6544,-50.098,-3.462,-135.765,-118.1295,-4.2222,-14.3856,-71.8905,-7.392,-41.262,-320.2395,-3839.9904,-13.6312,-3.4272,-13.8717,-110.49,-153.3456,-64.7748,-5.487,-10.948,-28.356,-167.3184,-26.9955,-22.449,-2.7,-15.6156,-2.4288,0.0,-22.7964,-111.4995,-79.3352,-35.928,-760.98,-46.797,-4.1244,-6.5296,-32.088,-18.5562,-56.996,-14.5656,-0.812,-21.7932,-204.4458,-12.9122,-619.596,-11.596,-3.168,0.0,-31.05,-13.6312,-0.792,-2.6256,-1.8904,-290.8752,-3.5208,-9.8724,-1.9272,-10.5798,-146.16,-18.186,-3.8385,-29.4812,-29.2524,-2.2134,-27.7158,-46.225,-0.3488,-18.4624,-4.598,-3.3488,-264.9208,-28.6272,-4.7145,-4.9878,-16.3644,-0.7566,-17.248,-2.0264,-12.6882,-23.364,0.0,0.0,-7.764,-2.0988,-4.1136,-1850.9464,-1.4352,0.0,-33.804,-48.4704,-2.3276,-3.6024,-386.3916,-29.94,0.0,-8.379,-20.4468,-47.2542,-14.0928,-12.792,-126.8592,-67.272,-88.784,-7.1991,-13.363,-4.851,-8.0784,-13.3176,-3.6288,-4.1832,-30.555,-0.6435,-1.728,-13.93,0.0,-27.828,-12.528,-21.1596,-70.1043,-44.1552,-35.178,-1.4413,0.0,-56.7556,-25.592,-63.996,-35.9928,-146.1096,-786.744,-90.2484,-430.617,-42.6528,-58.1332,-2.1896,-36.1116,-204.4458,-1.4784,-48.392,-59.0571,-1.4988,-86.3664,-40.4712,-350.49,-39.1248,-87.3418,-1.7514,-1.35,-31.3722,-29.2776,-3.0344,-10.7973,-4.0128,-0.2098,-47.2542,-175.8708,-33.139,-11.4648,-9.098,-58.6872,0.0,-40.6504,-24.7086,-295.9785,-0.2685,-13.6152,-67.941,-9.153,-21.808,-153.1224,-35.9058,-2.0568,-13.993,-13.6461,-34.38,-167.27,-87.6672,-3.094,-0.7128,-100.92,-9.1788,-158.102,-9.264,-7.4394,-2.3748,-373.3048,-10.4196,-10.2114,-14.5764,-559.356,-0.99,-5.7638,-227.4912,-7.1148,-9.288,-0.8999,-566.5625,-14.4784,0.0,-71.8116,-69.89,-33.804,-2.5128,-55.3,-8.2368,-32.5226,-66.5088,-4.8392,-20.6964,-5.8604,-39.4565,-1.3952,-20.1663,-24.496,-4.2987,-1049.3406,-12.117,-8.5068,-166.32,-24.189,-225.5568,-2.6982,-25.056,-168.9558,-263.9967,-30.588,-15.99,-53.072,-28.9764,-465.568,-92.6955,-17.6076,-22.098,-44.2764,-48.1194,-331.96,-122.877,-336.784,-110.7645,-2.1648,-21.6144,-13.312,-1.2558,-6.1152,-5.184,-93.3262,-8.6768,-2.1885,-3.7996,-2.1195,-766.012,-3.7196,-17.046,-36.6744,-3.3264,-6.104,-2.0016,-4.752,-73.176,-9.147,-97.7394,-1.294,-46.137,-48.7839,-15.9102,-25.9136,-1.4016,-13.978,-1.9656,-2.6997,-122.3928,-2.3814,-11.439,-5.8496,-347.1174,-4.7976,-18.0882,-27.9312,-50.8704,-53.2704,-10.1736,0.0,-14.9736,-150.414,-11.0005,-8.997,-26.9955,-8.7232,-13.896,-46.3946,-89.089,-24.2352,-98.8018,-115.7058,-52.17,-115.4958,0.0,-6.098,-23.0352,-14.1372,-48.5082,-68.392,-29.3436,-2.1624,0.0,-447.5947,-553.6476,-122.7816,-10.054,-18.1068,-26.6352,-27.1296,-14.4784,-58.8616,-225.0976,-28.9674,-48.9549,-10.4184,-104.673,-2.1504,-13.6488,-9.0944,-99.2664,-19.9184,-14.081,-67.6704,-29.9178,-99.1764,-32.6366,0.0,-34.392,-3.5712,-16.38,-85.2384,-33.484,-2.0568,-12.075,-16.884,-337.806,-54.5958,-100.7944,-36.253,-219.1644,-6.049,-32.32,-35.6174,0.0,0.0,-7.7748,-300.735,-0.8558,0.0,-121.8735,-3.9624,-935.9595,-7.48,-5.784,-142.071,-2.0108,-8.1312,-16.776,-2.4564,-6.567,-4.455,-16.426,-1811.0784,-8.9796,-14.3856,-71.994,-140.1408,-1.3128,-130.0104,-1.3584,-6.0324,-7.5768,-23.8855,-80.48,-0.6265,-13.7976,-15.992,-15.5844,0.0,-24.803,-23.976,-18.147,-2.0364,-2.974,-97.2312,-4.3584,-94.333,-27.828,-32.3388,-0.9012,-12.0784,-1143.891,-5.6994,-12.9568,-3.312,-2.436,-35.3646,-5.7588,-13.7175,-34.641,-5.8346,-7.7094,-5.823,-1306.5504,-5.6784,-1.9275,-19.7712,-10.6176,-51.8272,-31.3722,-2.6936,-170.8038,-172.4925,-7.2048,-9.223,-3399.98,-15.8356,-6.5736,-103.266,-172.7328,-10.1736,-33.32,-14.4588,0.0,-12.196,-6.4233,-255.7425,-3.3506,-14.229,-140.196,-417.0936,-2.6892,-32.48,-13.5548,-42.1096,-9.5018,-39.9528,-182.637,-62.88,-3.14,-47.3968,-45.84,-15.5904,-0.5598,-17.7072,-336.6272,-24.843,-2639.9912,-16.998,-75.8304,-17.9964,-8.029,-24.392,-4.752,0.0,-240.784,-44.2782,-3.168,-9.555,-6.0192,-2.244,-18.5262,-3.264,-0.0895,-44.2782,-4.7784,-7.7292,-15.5826,-77.333,-2.8272,-22.8956,-18.1176,-29.3238,-2.0622,-4.704,-46.8776,-52.632,-12.796,-40.7976,-16.3183,-107.9928,-1.4256,-3.6576,-427.45,-1480.0335,-1.9744,-1.3208,-25.648,-4.032,-5.2932,-3.272,-3.8208,-22.0416,-33.636,-36.1116,-43.8336,-11.0848,-8.9152,-52.3392,-12.0588,-12.0588,-5.2416,-103.9882,-22.62,-12.7512,-8.5008,-68.1302,-16.9568,-2.7552,-412.6154,-195.4788,-29.4368,-5.8346,-92.7996,-5.088,-19.8744,-97.72,-127.372,-117.882,-525.6405,-9.56,-7.098,-74.7456,-36.1764,-5.9808,-20.448,-3.0576,-12.0064,-253.4337,-17.9424,-4.8528,-31.6204,-93.99,-37.7332,-71.8116,-7.3255,-9.7902,-29.0745,-46.592,-2.0622,-21.294,-4.5192,-2.6025,-18.186,-100.92,-30.9332,-2.245,-45.9954,-2.5472,-87.1488,-459.9875,0.0,-56.343,-3.0396,-1.4196,-325.572,-19.5624,-63.0056,-2.61,-3.3879,-16.65,-192.0468,-4.0158,-3.7296,-72.039,0.0,-15.7176,-209.994,-34.9176,-109.5822,-36.294,0.0,-53.7088,0.0,-6.237,-269.3376,-182.352,-63.1092,-26.733,-19.5624,-36.4704,-20.6176,-16.467,-1.1996,-6.952,-68.392,-3.2175,-9.7972,-211.47,-448.896,-6.1248,-42.8967,-14.196,-25.3764,-0.6624,-18.222,-8.6457,-32.508,-9.1648,-20.1362,-19.5492,-3.5996,-64.4274,-127.5792,-4.8588,-15.1767,0.0,-22.512,-14.3313,-13.734,-62.3792,-81.8544,-337.806,-20.1528,-8.0775,-15.4581,-21.681,-16.5396,-52.8908,0.0,-3.5154,-320.2395,-6.0237,-55.256,-5.2072,-1.11,-6.8992,-14.1639,-1.428,-2.2758,-944.9946,-23.892,-10.386,-13.5882,-15.1311,-2.07,-58.3056,-27.9312,-1.9656,-19.9824,-14.7931,-65.0352,-6.36,-10.6547,-3.2934,-14.5536,-60.6078,-3.2406,-42.4926,-6.9282,-348.6294,-17.6607,-10.4214,-18.8364,-13.2867,-145.176,-6.8094,-6.8334,-22.1382,-7.782,-160.2952,-6.237,-225.0976,-20.1408,-121.58,-76.0116,-12.9568,-49.92,-10.7964,-120.513,-64.5444,-5.6943,-11.9616,-80.9955,-1.6764,-131.5008,-15.1976,-41.5872,-4.746,-12.672,-1065.372,-66.062,-14.8704,-31.647,-4.464,-126.4816,-52.196,-25.2956,-5.1968,-21.888,-46.7362,-2.436,-21.4704,-4.0216,-3.6003,-71.2962,-12.9568,-299.8116,-29.4368,-58.8616,-16.0784,-23.7822,-15.4666,-189.321,-25.2185,-14.688,-7.8225,-51.984,-462.8624,-6.4233,-40.1808,-3.9032,-28.224,-8.904,-5.4801,-2.9884,-2.134,-6.5619,-9.1335,-57.6312,-1.2588,-21.1068,-17.2854,-5.4882,-166.3935,-1.9872,-3.231,-2.5344,-28.9568,-8.098,-0.3444,-36.1764,-9.594,-6.0048,-18.802,-119.1918,-57.951,-56.448,-81.94,-2.7888,-2.3814,-4.7625,-42.4116,-14.8832,-6.9965,-19.602,-0.5964,-74.9526,-209.7693,-6.9216,-37.9434,-0.8886,-9.153,-23.5764,-2.588,-1.5264,-69.3952,-4.04,0.0,-2.214,-143.7904,-6.534,-248.166,-44.1462,-7.612,-9.8208,-7.2589,-21.7176,-42.588,-1181.2824,-35.8848,-24.276,-9.111,-2.6586,-34.3148,-4.0722,-54.882,-14.998,-46.716,-11.5938,-1.9602,-1.476,-7.8588,-18.4464,-19.2588,-8.6592,-2.0774,-4.577,-1.8392,-32.6646,-3.9032,-67.5435,-0.792,-4.396,-5.176,-28.5978,-11.7612,-1.428,-2.1756,-2929.4845,-10.0372,-6.9828,-131.994,-3.9384,-356.9643,-22.62,-52.641,-250.396,-37.1124,-13.8278,-437.5404,-83.205,-653.2834,-95.67,-131.951,-29.6058,-9.5568,-93.2316,-1.289,-1.7892,-0.6048,-31.536,-120.372,-7.008,-4.8492,-8.05,-8.3524,-35.046,-7.4358,0.0,-108.3348,-178.8468,-10.3124,-14.603,-17.0352,-3.5224,-91.7586,-337.806,-162.2296,-27.2922,-786.0144,-44.196,-5.6406,-52.9584,-7.098,-5.4548,-4.818,-22.948,-2.918,-14.9877,-2.6208,-9.7176,0.0,-7.3232,-152.9847,-13.81,-15.4764,-1.0656,-7.476,-46.3998,-2287.782,-21.888,-1002.7836,-26.2476,-32.2192,-69.4722,-30.2288,-2.0349,-197.5752,-8.9964,-60.8361,-4.9728,-6.867,-3.8646,-23.716,-320.597,-17.6076,-183.6324,-1.3083,-68.1096,-6.286,-5.6943,-19.1058,-4.8392,-6.1248,-186.16,-10.284,-28.7964,-54.5958,-2.6268,-218.8656,-7.656,-4.1712,-3.123,-12.9987,-2.5648,-7.3015,-23.952,-9.1845,-44.985,-15.245,-45.9333,-3.5622,-11.0691,-4.641,-13.6776,-339.705,0.0,-30.16,-8.4582,-264.215,-7.17,-95.823,-8.1312,-50.6688,-90.3762,-1.7772,-42.4638,-23.548,-22.7435,-52.3365,-82.884,-2.484,-184.8366,-8.532,-1.9791,-31.9144,-384.7164,-16.6012,-3.0933,0.0,-6.0196,-27.2646,-18.1808,-0.7295,-10.7055,-8.0784,0.0,-42.8,-26.964,-8.1675,-1.2558,-4.896,-2.1792,-11.439,-80.178,-99.6219,-25.049,-120.0508,-45.3492,-113.998,-250.5408,-67.851,-20.7846,-4.06,-137.529,-147.8655,-4.1712,-8.6058,-52.8336,-512.1468,-35.3646,-12.9168,-1031.5385,-9.7608,-3.4122,-97.176,-26.7204,-1.3248,-11.322,-9.6348,-0.6008,-6.732,-0.99,-83.8752,-49.5516,-8.18,-3.2436,-21.0686,0.0,-12.8392,-128.2388,-186.5682,-12.098,-34.0704,-25.737,-9.8115,-76.9972,-4.461,-4.9005,-47.0304,-14.5764,-6.396,-54.588,-103.8606,-14.5584,-20.2356,-17.991,-14.592,-6.3441,-2.5256,-81.7258,-729.9138,-7.9984,-4.6764,-26.541,-231.4116,-87.9354,-38.1114,-4.1762,-14.4078,-97.5528,-35.2152,-105.69,-2.01,-13.637,-29.512,-1.249,-11.8256,-167.986,-36.9544,-52.4544,-6.6278,-12.849,-7.68,-25.3344,-1.3464,-73.8192,-4.196,-24.4764,-1.624,-299.2614,-10.4874,-51.294,-97.4988,-6.549,-77.625,-53.2856,-3.4914,-2.5749,0.0,-4.14,-115.4304,-9.8463,-2.7,-3.272,-107.9928,-10.0464,-13.4694,-24.9624,0.0,-12.9987,-4.7625,-7.85,-6.8634,-50.098,-147.8655,-24.588,-46.536,-172.1172,-14.7594,-90.774,-38.85,-426.986,-18.1176,-17.0352,-7.84,-0.91,-32.9292,0.0,-84.8232,-13.1706,-8.5416,-5.412,-52.5481,-734.5264,-31.4874,-304.6653,-68.1856,-11.6512,-39.637,-6.396,-185.7168,-15.7514,-19.7372,-4.9128,-292.9872,-26.7558,-4.908,-4.4946,-5.1396,-13.7403,0.0,0.0,-8.3524,-19.47,-18.1176,-6.188,-9.9705,-17.523,-34.647,-25.992,-15.5268,-16.5858,-6.0768,-3.94,-24.1026,-386.957,-7.896,-7.833,-2.588,-18.0385,-29.1528,-12.208,-168.819,-2.688,-2.3904,-3.2392,-1.406,-12.7785,-10.3824,-19.1058,-20.691,-7.996,-17.248,-17.9964,-95.2476,-56.3108,-7.9068,-163.5767,-13.0152,-15.0876,-44.235,-2.0016,-31.332,-18.0312,-2.249,-13.993,-10.7973,-75.8448,-26.196,-55.256,-23.7822,-29.3238,-2.5248,-13.938,-3.7584,-22.144,-110.0232,-7.476,-8.9796,-42.747,-3.8976,-14.196,-31.843,-3.2406,-8.316,-17.5651,-149.6307,-12.628,-6.303,-42.9516,-5.037,-43.4352,-51.5154,-5.784,-50.304,-36.294,-181.265,-8.6058,-46.4292,-135.087,-108.8304,-226.6368,-1.5414,-7.5168,-1.041,-2.1312,-22.2388,-99.1032,-8.4294,-4.49,-114.3534,-4.8048,-228.7425,-7.119,-319.1916,-630.882,-199.617,-10.0512,-6.54,-35.5136,-11.19,-0.8392,-12.8784,-4.3792,-2.73,-479.988,-5.0094,-9.0904,-121.2705,-272.58,-175.26,-7.476,-30.294,-4.9164,-66.801,-152.7156,-1.3104,-8.5974,-37.9152,-3.465,-8.532,-13.3341,-65.1504,-420.0,-16.5528,-12.147,-459.6072,-81.664,0.0,-50.3928,-192.0468,-36.441,-73.7061,-5.0512,-7.7292,-24.843,-11.937,-120.0508,-6.098,-94.6605,-3.094,-0.3398,-5.524,-116.9805,-41.5176,-138.14,-15.44,-28.368,-643.71,-6.089,-26.1696,-0.9486,-6.5415,-2.9566,-26.085,-77.333,-10.15,-2.8608,-29.4368,-108.2662,-105.3164,-65.853,-4.2012,-18.8728,-377.9892,-7.46,-6.4944,-1.2178,-13.3176,-22.1382,-14.2716,-24.416,-363.528,0.0,-14.34,-19.168,-1.5715,-11.6622,-216.9783,0.0,0.0,-59.8356,-19.3382,-63.3765,-21.945,-33.3582,-1.6752,-4.428,-1.459,-9.093,-938.28,-14.92,-9.1816,-571.9956,-464.697,-13.4379,-25.109,-53.7432,-53.7096,-18.2525,0.0,-8.1096,-52.6582,-9.5886,-29.4368,-1.3566,-2.5698,-4.8448,-82.884,-75.5958,-25.4744,-304.392,-6599.978,-14.5656,-292.1,-34.758,-4.7685,-10.1736,-3.3894,-2.88,-1.4994,-77.1267,-63.0056,-4.767,-2.5632,-24.6624,-47.1798,-3.504,-15.098,-11.5176,-21.3264,-6.8816,-3.7872,-3.168,-53.0088,-12.352,0.0,-64.7748,-191.646,-2.7,-302.72,-118.0116,-1237.8462,0.0,-6.93,-12.098,-31.8612,-93.4724,-11.418,-4.2588,-9.1602,-59.373,-65.568,-5.0688,-3.5325,0.0,-34.9536,-22.6716,-59.8356,-19.323,-16.1856,-190.8522,-2.9985,-112.6216,-5.4558,-1.9068,0.0,-2.7588,-26.624,-3.4272,-247.7988,-7.3692,-12.9792,-93.99,-1.827,-9.282,-10.9611,-1.476,-20.7306,-1.476,-4.577,-1.8585,-107.958,-187.3815,-26.6352,-9.705,-22.6842,-38.8212,-10.4874,-161.694,-17.0274,-87.6672,-58.5048,-25.4772,-17.745,-30.8672,-1.2178,-75.192,0.0,-28.2744,-4.9878,-125.766,-43.848,-70.9605,-255.5875,-31.9936,-23.9372,-30.147,-32.3673,-73.0548,-188.7,-480.2032,-24.0435,-10.1736,-0.9933,-12.148,-4.2336,-1.1196,-18.2525,-18.196,-76.6062,-913.176,-58.8736,-17.784,-4.6464,-1.8106,-2.2848,-19.0656,-3.0396,-3.768,-2.5248,-458.1468,0.0,-0.7748,-191.619,-123.998,-16.818,-1.8848,-470.548,-10.0372,-47.175,-2.7588,-26.726,-33.6414,-1.041,-7.5768,-43.0296,-14.6388,-24.9984,-4.5824,-164.836,-38.2116,-10.9188,-17.592,-112.041,-44.94,-13.58,-169.637,-8.4728,-14.5764,-20.1362,0.0,-47.0583,-11.52,-35.5136,-199.5076,-173.3472,-6.21,-12.288,-10.9116,-30.392,-1.3608,-6.723,-13.6832,-71.99,-1.4982,-12.5103,-13.7568,-127.5792,-93.4724,-67.137,-29.0073,-6.237,-39.804,-19.8144,-2.918,-14.5176,-11.6928,-29.0536,-10.336,-6.21,-20.7846,-110.0232,-14.1696,-77.4732,-17.4432,-7.396,-3.462,-36.2136,-12.208,0.0,-33.8418,-0.7566,-3.5508,-8.2764,-199.77,-5.9409,-3.6372,-13.392,-8.1312,-10.3936,-5.264,-6.21,-44.196,-14.9877,-19.864,-100.92,-1.3995,-120.294,-78.078,-913.176,-89.0664,-1141.47,-45.24,-29.2446,-20.0904,-1.3376,-81.441,-15.9268,-18.2352,-25.109,-8.5794,-8.1822,-3.6537,-81.3065,-13.3424,-56.3108,-49.4376,-28.224,0.0,-17.9928,-23.4882,-29.6058,-1.3984,-160.96,-4.5396,-119.2312,-2.667,-12.7302,-5.94,-20.997,-4.641,-3.564,-5.215,-2.544,-67.617,-13.167,0.0,-36.1176,-3.8864,-27.735,-2.9964,-6.03,-2.3136,-7.7247,-7.996,-70.49,-71.3958,-13.3936,-32.985,-34.758,-153.2024,-0.6265,-4.5696,-2.2896,-16.6848,0.0,-12.8256,-38.2158,-32.3838,-2.97,-20.4352,-131.7168,-27.792,-3.81,-2.6784,-538.446,-113.282,-45.294,-1.8126,-3.465,-251.9874,-47.8716,-249.3216,-7.7728,-7.2,-179.776,-24.398,-1.9344,-13.433,-8.8038,-25.198,-1.1874,-31.0335,-9.156,-2.838,-14.7708,-6.3018,-2.7648,-194.824,-99.2664,-73.577,-968.8833,-124.431,-6.0324,-116.844,-4.488,-12.4146,-45.8273,-4.8609,-2.6997,0.0,-5.5338,-251.1864,-136.4895,-62.7725,-376.6932,-16.9568,-84.448,-51.296,-28.8678,-93.08,-63.3765,-57.7566,-3.8208,-2.1376,-11.2806,-58.716,-241.176,-22.6716,-5.1984,-12.224,-4.4928,-3.0366,-7.92,-393.602,-20.724,-0.6976,-165.768,-82.99,-46.9952,-16.614,-24.7716,-204.9996,-13.188,-2.3232,-6.4232,-12.5286,-694.2936,-3.6892,-3.9249,-2.6997,-7.782,-5.6007,-28.498,-11.0208,-84.9615,-15.4188,-0.9452,-64.9376,-6.8992,-20.245,-2.2878,-27.7158,-163.4516,-2.994,-5.688,-84.2928,-15.7176,-106.393,-4.7625,-11.5188,-12.849,-20.7846,-14.8704,-99.3453,0.0,-4.1568,-86.0586,-10.6068,-1.049,-29.1168,-10.0196,-66.2302,-2.5093,0.0,-11.5872,-38.8212,-56.0592,-69.312,-16.2613,-5.264,-31.6,-2.0622,-57.1152,-8.2764,-1.8295,-10.05,-2.9985,-66.6,-61.872,-6.237,-6.5076,-533.7325,-137.976,-76.9536,-13.896,-6.0196,-7.7406,-7.0146,-6.8634,-9.6565,-114.0174,-3.855,-1.5936,-44.019,-75.5958,-164.9538,-10.116,-4.488,-28.6862,-79.908,-4.497,-6.549,-5.0098,-43.9056,-172.557,-9.88,-378.4,-213.5574,-6.188,-43.7292,-1.7495,-54.5496,-39.5118,-96.4704,-2.5212,-1862.3124,0.0,-8.3524,-48.392,-3.6212,-374.9925,-17.469,-18.0588,-34.196,-8.796,-94.5084,-6.445,-55.256,-1.7772,-7.9634,-56.996,-3701.8928,-10.0602,-26.8544,-26.946,-13.32,-12.09,-30.098,-8.5794,-66.3916,-29.2524,-31.008,-5.8869,-43.1178,-21.4236,-21.0848,-3.3792,-6.462,-13.3936,-12.196,-2.5872,-6.3,-26.2272,-40.0036,-2.61,-17.9424,-21.2136,-6.38,-24.4764,0.0,0.0,-143.2548,-6.9102,-54.3204,-143.431,-35.8176,-4.5936,-40.196,-1.7772,-67.6704,0.0],\"yaxis\":\"y\",\"type\":\"scattergl\"}],                        {\"template\":{\"data\":{\"histogram2dcontour\":[{\"type\":\"histogram2dcontour\",\"colorbar\":{\"outlinewidth\":0,\"ticks\":\"\"},\"colorscale\":[[0.0,\"#0d0887\"],[0.1111111111111111,\"#46039f\"],[0.2222222222222222,\"#7201a8\"],[0.3333333333333333,\"#9c179e\"],[0.4444444444444444,\"#bd3786\"],[0.5555555555555556,\"#d8576b\"],[0.6666666666666666,\"#ed7953\"],[0.7777777777777778,\"#fb9f3a\"],[0.8888888888888888,\"#fdca26\"],[1.0,\"#f0f921\"]]}],\"choropleth\":[{\"type\":\"choropleth\",\"colorbar\":{\"outlinewidth\":0,\"ticks\":\"\"}}],\"histogram2d\":[{\"type\":\"histogram2d\",\"colorbar\":{\"outlinewidth\":0,\"ticks\":\"\"},\"colorscale\":[[0.0,\"#0d0887\"],[0.1111111111111111,\"#46039f\"],[0.2222222222222222,\"#7201a8\"],[0.3333333333333333,\"#9c179e\"],[0.4444444444444444,\"#bd3786\"],[0.5555555555555556,\"#d8576b\"],[0.6666666666666666,\"#ed7953\"],[0.7777777777777778,\"#fb9f3a\"],[0.8888888888888888,\"#fdca26\"],[1.0,\"#f0f921\"]]}],\"heatmap\":[{\"type\":\"heatmap\",\"colorbar\":{\"outlinewidth\":0,\"ticks\":\"\"},\"colorscale\":[[0.0,\"#0d0887\"],[0.1111111111111111,\"#46039f\"],[0.2222222222222222,\"#7201a8\"],[0.3333333333333333,\"#9c179e\"],[0.4444444444444444,\"#bd3786\"],[0.5555555555555556,\"#d8576b\"],[0.6666666666666666,\"#ed7953\"],[0.7777777777777778,\"#fb9f3a\"],[0.8888888888888888,\"#fdca26\"],[1.0,\"#f0f921\"]]}],\"heatmapgl\":[{\"type\":\"heatmapgl\",\"colorbar\":{\"outlinewidth\":0,\"ticks\":\"\"},\"colorscale\":[[0.0,\"#0d0887\"],[0.1111111111111111,\"#46039f\"],[0.2222222222222222,\"#7201a8\"],[0.3333333333333333,\"#9c179e\"],[0.4444444444444444,\"#bd3786\"],[0.5555555555555556,\"#d8576b\"],[0.6666666666666666,\"#ed7953\"],[0.7777777777777778,\"#fb9f3a\"],[0.8888888888888888,\"#fdca26\"],[1.0,\"#f0f921\"]]}],\"contourcarpet\":[{\"type\":\"contourcarpet\",\"colorbar\":{\"outlinewidth\":0,\"ticks\":\"\"}}],\"contour\":[{\"type\":\"contour\",\"colorbar\":{\"outlinewidth\":0,\"ticks\":\"\"},\"colorscale\":[[0.0,\"#0d0887\"],[0.1111111111111111,\"#46039f\"],[0.2222222222222222,\"#7201a8\"],[0.3333333333333333,\"#9c179e\"],[0.4444444444444444,\"#bd3786\"],[0.5555555555555556,\"#d8576b\"],[0.6666666666666666,\"#ed7953\"],[0.7777777777777778,\"#fb9f3a\"],[0.8888888888888888,\"#fdca26\"],[1.0,\"#f0f921\"]]}],\"surface\":[{\"type\":\"surface\",\"colorbar\":{\"outlinewidth\":0,\"ticks\":\"\"},\"colorscale\":[[0.0,\"#0d0887\"],[0.1111111111111111,\"#46039f\"],[0.2222222222222222,\"#7201a8\"],[0.3333333333333333,\"#9c179e\"],[0.4444444444444444,\"#bd3786\"],[0.5555555555555556,\"#d8576b\"],[0.6666666666666666,\"#ed7953\"],[0.7777777777777778,\"#fb9f3a\"],[0.8888888888888888,\"#fdca26\"],[1.0,\"#f0f921\"]]}],\"mesh3d\":[{\"type\":\"mesh3d\",\"colorbar\":{\"outlinewidth\":0,\"ticks\":\"\"}}],\"scatter\":[{\"fillpattern\":{\"fillmode\":\"overlay\",\"size\":10,\"solidity\":0.2},\"type\":\"scatter\"}],\"parcoords\":[{\"type\":\"parcoords\",\"line\":{\"colorbar\":{\"outlinewidth\":0,\"ticks\":\"\"}}}],\"scatterpolargl\":[{\"type\":\"scatterpolargl\",\"marker\":{\"colorbar\":{\"outlinewidth\":0,\"ticks\":\"\"}}}],\"bar\":[{\"error_x\":{\"color\":\"#2a3f5f\"},\"error_y\":{\"color\":\"#2a3f5f\"},\"marker\":{\"line\":{\"color\":\"#E5ECF6\",\"width\":0.5},\"pattern\":{\"fillmode\":\"overlay\",\"size\":10,\"solidity\":0.2}},\"type\":\"bar\"}],\"scattergeo\":[{\"type\":\"scattergeo\",\"marker\":{\"colorbar\":{\"outlinewidth\":0,\"ticks\":\"\"}}}],\"scatterpolar\":[{\"type\":\"scatterpolar\",\"marker\":{\"colorbar\":{\"outlinewidth\":0,\"ticks\":\"\"}}}],\"histogram\":[{\"marker\":{\"pattern\":{\"fillmode\":\"overlay\",\"size\":10,\"solidity\":0.2}},\"type\":\"histogram\"}],\"scattergl\":[{\"type\":\"scattergl\",\"marker\":{\"colorbar\":{\"outlinewidth\":0,\"ticks\":\"\"}}}],\"scatter3d\":[{\"type\":\"scatter3d\",\"line\":{\"colorbar\":{\"outlinewidth\":0,\"ticks\":\"\"}},\"marker\":{\"colorbar\":{\"outlinewidth\":0,\"ticks\":\"\"}}}],\"scattermapbox\":[{\"type\":\"scattermapbox\",\"marker\":{\"colorbar\":{\"outlinewidth\":0,\"ticks\":\"\"}}}],\"scatterternary\":[{\"type\":\"scatterternary\",\"marker\":{\"colorbar\":{\"outlinewidth\":0,\"ticks\":\"\"}}}],\"scattercarpet\":[{\"type\":\"scattercarpet\",\"marker\":{\"colorbar\":{\"outlinewidth\":0,\"ticks\":\"\"}}}],\"carpet\":[{\"aaxis\":{\"endlinecolor\":\"#2a3f5f\",\"gridcolor\":\"white\",\"linecolor\":\"white\",\"minorgridcolor\":\"white\",\"startlinecolor\":\"#2a3f5f\"},\"baxis\":{\"endlinecolor\":\"#2a3f5f\",\"gridcolor\":\"white\",\"linecolor\":\"white\",\"minorgridcolor\":\"white\",\"startlinecolor\":\"#2a3f5f\"},\"type\":\"carpet\"}],\"table\":[{\"cells\":{\"fill\":{\"color\":\"#EBF0F8\"},\"line\":{\"color\":\"white\"}},\"header\":{\"fill\":{\"color\":\"#C8D4E3\"},\"line\":{\"color\":\"white\"}},\"type\":\"table\"}],\"barpolar\":[{\"marker\":{\"line\":{\"color\":\"#E5ECF6\",\"width\":0.5},\"pattern\":{\"fillmode\":\"overlay\",\"size\":10,\"solidity\":0.2}},\"type\":\"barpolar\"}],\"pie\":[{\"automargin\":true,\"type\":\"pie\"}]},\"layout\":{\"autotypenumbers\":\"strict\",\"colorway\":[\"#636efa\",\"#EF553B\",\"#00cc96\",\"#ab63fa\",\"#FFA15A\",\"#19d3f3\",\"#FF6692\",\"#B6E880\",\"#FF97FF\",\"#FECB52\"],\"font\":{\"color\":\"#2a3f5f\"},\"hovermode\":\"closest\",\"hoverlabel\":{\"align\":\"left\"},\"paper_bgcolor\":\"white\",\"plot_bgcolor\":\"#E5ECF6\",\"polar\":{\"bgcolor\":\"#E5ECF6\",\"angularaxis\":{\"gridcolor\":\"white\",\"linecolor\":\"white\",\"ticks\":\"\"},\"radialaxis\":{\"gridcolor\":\"white\",\"linecolor\":\"white\",\"ticks\":\"\"}},\"ternary\":{\"bgcolor\":\"#E5ECF6\",\"aaxis\":{\"gridcolor\":\"white\",\"linecolor\":\"white\",\"ticks\":\"\"},\"baxis\":{\"gridcolor\":\"white\",\"linecolor\":\"white\",\"ticks\":\"\"},\"caxis\":{\"gridcolor\":\"white\",\"linecolor\":\"white\",\"ticks\":\"\"}},\"coloraxis\":{\"colorbar\":{\"outlinewidth\":0,\"ticks\":\"\"}},\"colorscale\":{\"sequential\":[[0.0,\"#0d0887\"],[0.1111111111111111,\"#46039f\"],[0.2222222222222222,\"#7201a8\"],[0.3333333333333333,\"#9c179e\"],[0.4444444444444444,\"#bd3786\"],[0.5555555555555556,\"#d8576b\"],[0.6666666666666666,\"#ed7953\"],[0.7777777777777778,\"#fb9f3a\"],[0.8888888888888888,\"#fdca26\"],[1.0,\"#f0f921\"]],\"sequentialminus\":[[0.0,\"#0d0887\"],[0.1111111111111111,\"#46039f\"],[0.2222222222222222,\"#7201a8\"],[0.3333333333333333,\"#9c179e\"],[0.4444444444444444,\"#bd3786\"],[0.5555555555555556,\"#d8576b\"],[0.6666666666666666,\"#ed7953\"],[0.7777777777777778,\"#fb9f3a\"],[0.8888888888888888,\"#fdca26\"],[1.0,\"#f0f921\"]],\"diverging\":[[0,\"#8e0152\"],[0.1,\"#c51b7d\"],[0.2,\"#de77ae\"],[0.3,\"#f1b6da\"],[0.4,\"#fde0ef\"],[0.5,\"#f7f7f7\"],[0.6,\"#e6f5d0\"],[0.7,\"#b8e186\"],[0.8,\"#7fbc41\"],[0.9,\"#4d9221\"],[1,\"#276419\"]]},\"xaxis\":{\"gridcolor\":\"white\",\"linecolor\":\"white\",\"ticks\":\"\",\"title\":{\"standoff\":15},\"zerolinecolor\":\"white\",\"automargin\":true,\"zerolinewidth\":2},\"yaxis\":{\"gridcolor\":\"white\",\"linecolor\":\"white\",\"ticks\":\"\",\"title\":{\"standoff\":15},\"zerolinecolor\":\"white\",\"automargin\":true,\"zerolinewidth\":2},\"scene\":{\"xaxis\":{\"backgroundcolor\":\"#E5ECF6\",\"gridcolor\":\"white\",\"linecolor\":\"white\",\"showbackground\":true,\"ticks\":\"\",\"zerolinecolor\":\"white\",\"gridwidth\":2},\"yaxis\":{\"backgroundcolor\":\"#E5ECF6\",\"gridcolor\":\"white\",\"linecolor\":\"white\",\"showbackground\":true,\"ticks\":\"\",\"zerolinecolor\":\"white\",\"gridwidth\":2},\"zaxis\":{\"backgroundcolor\":\"#E5ECF6\",\"gridcolor\":\"white\",\"linecolor\":\"white\",\"showbackground\":true,\"ticks\":\"\",\"zerolinecolor\":\"white\",\"gridwidth\":2}},\"shapedefaults\":{\"line\":{\"color\":\"#2a3f5f\"}},\"annotationdefaults\":{\"arrowcolor\":\"#2a3f5f\",\"arrowhead\":0,\"arrowwidth\":1},\"geo\":{\"bgcolor\":\"white\",\"landcolor\":\"#E5ECF6\",\"subunitcolor\":\"white\",\"showland\":true,\"showlakes\":true,\"lakecolor\":\"white\"},\"title\":{\"x\":0.05},\"mapbox\":{\"style\":\"light\"}}},\"xaxis\":{\"anchor\":\"y\",\"domain\":[0.0,1.0],\"title\":{\"text\":\"Sales\"}},\"yaxis\":{\"anchor\":\"x\",\"domain\":[0.0,1.0],\"title\":{\"text\":\"Profit\"}},\"legend\":{\"title\":{\"text\":\"color\"},\"tracegroupgap\":0},\"title\":{\"text\":\"Sales with +ve Profit (blue) and -ve Profit (red)\"}},                        {\"responsive\": true}                    ).then(function(){\n",
       "                            \n",
       "var gd = document.getElementById('31180845-0c06-4def-ac73-c2fb9b104828');\n",
       "var x = new MutationObserver(function (mutations, observer) {{\n",
       "        var display = window.getComputedStyle(gd).display;\n",
       "        if (!display || display === 'none') {{\n",
       "            console.log([gd, 'removed!']);\n",
       "            Plotly.purge(gd);\n",
       "            observer.disconnect();\n",
       "        }}\n",
       "}});\n",
       "\n",
       "// Listen for the removal of the full notebook cells\n",
       "var notebookContainer = gd.closest('#notebook-container');\n",
       "if (notebookContainer) {{\n",
       "    x.observe(notebookContainer, {childList: true});\n",
       "}}\n",
       "\n",
       "// Listen for the clearing of the current output cell\n",
       "var outputEl = gd.closest('.output');\n",
       "if (outputEl) {{\n",
       "    x.observe(outputEl, {childList: true});\n",
       "}}\n",
       "\n",
       "                        })                };                });            </script>        </div>"
      ]
     },
     "metadata": {},
     "output_type": "display_data"
    }
   ],
   "source": [
    " px.scatter(data_frame=df, x='Sales', y='Profit', color=df['Profit'] > 0,title='Sales with +ve Profit (blue) and -ve Profit (red)')"
   ]
  }
 ],
 "metadata": {
  "kernelspec": {
   "display_name": "Python 3",
   "language": "python",
   "name": "python3"
  },
  "language_info": {
   "codemirror_mode": {
    "name": "ipython",
    "version": 3
   },
   "file_extension": ".py",
   "mimetype": "text/x-python",
   "name": "python",
   "nbconvert_exporter": "python",
   "pygments_lexer": "ipython3",
   "version": "3.10.12"
  },
  "papermill": {
   "default_parameters": {},
   "duration": 9.519851,
   "end_time": "2023-10-14T10:53:00.412842",
   "environment_variables": {},
   "exception": null,
   "input_path": "__notebook__.ipynb",
   "output_path": "__notebook__.ipynb",
   "parameters": {},
   "start_time": "2023-10-14T10:52:50.892991",
   "version": "2.4.0"
  }
 },
 "nbformat": 4,
 "nbformat_minor": 5
}
