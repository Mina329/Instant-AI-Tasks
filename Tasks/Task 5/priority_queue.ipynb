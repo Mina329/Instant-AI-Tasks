{
 "cells": [
  {
   "cell_type": "code",
   "execution_count": 1,
   "metadata": {},
   "outputs": [],
   "source": [
    "import queue"
   ]
  },
  {
   "cell_type": "code",
   "execution_count": 2,
   "metadata": {},
   "outputs": [],
   "source": [
    "mypq = queue.PriorityQueue()\n"
   ]
  },
  {
   "cell_type": "code",
   "execution_count": 8,
   "metadata": {},
   "outputs": [],
   "source": [
    "# put elements with priority\n",
    "# put element in tuple (priority , element) it will be arranged in ascending order\n",
    "mypq.put((5,\"Mina\"))\n",
    "mypq.put((3,\"Emil\"))\n",
    "mypq.put((9,\"Fakhry\"))\n",
    "mypq.put((7,5))\n",
    "mypq.put((6,6))\n",
    "mypq.put((2,9))\n"
   ]
  },
  {
   "cell_type": "code",
   "execution_count": 9,
   "metadata": {},
   "outputs": [
    {
     "name": "stdout",
     "output_type": "stream",
     "text": [
      "(2, 9)\n",
      "(3, 'Emil')\n",
      "(5, 'Mina')\n",
      "(6, 6)\n",
      "(7, 5)\n",
      "(9, 'Fakhry')\n"
     ]
    }
   ],
   "source": [
    "while not mypq.empty():\n",
    "    print(mypq.get())"
   ]
  }
 ],
 "metadata": {
  "kernelspec": {
   "display_name": "Python 3",
   "language": "python",
   "name": "python3"
  },
  "language_info": {
   "codemirror_mode": {
    "name": "ipython",
    "version": 3
   },
   "file_extension": ".py",
   "mimetype": "text/x-python",
   "name": "python",
   "nbconvert_exporter": "python",
   "pygments_lexer": "ipython3",
   "version": "3.11.4"
  },
  "orig_nbformat": 4
 },
 "nbformat": 4,
 "nbformat_minor": 2
}
