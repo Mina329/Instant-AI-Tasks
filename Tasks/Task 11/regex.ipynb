{
 "cells": [
  {
   "cell_type": "markdown",
   "metadata": {},
   "source": [
    "# Read from the file"
   ]
  },
  {
   "cell_type": "code",
   "execution_count": 42,
   "metadata": {},
   "outputs": [],
   "source": [
    "regex_txt = open(\"regex.txt\", \"r\").read()"
   ]
  },
  {
   "cell_type": "code",
   "execution_count": 43,
   "metadata": {},
   "outputs": [
    {
     "data": {
      "text/plain": [
       "'My name is Mina.\\nI was born in Cairo, Egypt.\\nI am 22 years old.\\nMy birth date is 30/9/2001.\\nmy email is mina.emil.fakhry@gmail.com\\n'"
      ]
     },
     "execution_count": 43,
     "metadata": {},
     "output_type": "execute_result"
    }
   ],
   "source": [
    "regex_txt"
   ]
  },
  {
   "cell_type": "markdown",
   "metadata": {},
   "source": [
    "# Import Regular Expression"
   ]
  },
  {
   "cell_type": "code",
   "execution_count": 44,
   "metadata": {},
   "outputs": [],
   "source": [
    "import re"
   ]
  },
  {
   "cell_type": "markdown",
   "metadata": {},
   "source": [
    "# Apply Pattern for Email"
   ]
  },
  {
   "cell_type": "code",
   "execution_count": 45,
   "metadata": {},
   "outputs": [
    {
     "name": "stdout",
     "output_type": "stream",
     "text": [
      "mina.emil.fakhry@gmail.com\n"
     ]
    }
   ],
   "source": [
    "email = re.search(\"[a-zA-Z0-9._%]+@.+(.com)\",regex_txt)\n",
    "print(email.group())"
   ]
  },
  {
   "cell_type": "markdown",
   "metadata": {},
   "source": [
    "# Apply pattern for Birth date"
   ]
  },
  {
   "cell_type": "code",
   "execution_count": 46,
   "metadata": {},
   "outputs": [
    {
     "name": "stdout",
     "output_type": "stream",
     "text": [
      "birth date :\n",
      "daye : 30\n",
      "month : 9\n",
      "year : 2001\n"
     ]
    }
   ],
   "source": [
    "birth_date = re.search(\"(\\d+)/(\\d+)/(\\d+)\",regex_txt)\n",
    "day = birth_date.group(1)\n",
    "month = birth_date.group(2)\n",
    "year = birth_date.group(3)\n",
    "print(\"birth date :\")\n",
    "print(\"daye : \" + day + \"\\nmonth : \" + month + \"\\nyear : \" + year)\n"
   ]
  }
 ],
 "metadata": {
  "kernelspec": {
   "display_name": "Python 3",
   "language": "python",
   "name": "python3"
  },
  "language_info": {
   "codemirror_mode": {
    "name": "ipython",
    "version": 3
   },
   "file_extension": ".py",
   "mimetype": "text/x-python",
   "name": "python",
   "nbconvert_exporter": "python",
   "pygments_lexer": "ipython3",
   "version": "3.11.4"
  },
  "orig_nbformat": 4
 },
 "nbformat": 4,
 "nbformat_minor": 2
}
