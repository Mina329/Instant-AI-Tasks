{
 "cells": [
  {
   "cell_type": "code",
   "execution_count": 1,
   "metadata": {},
   "outputs": [],
   "source": [
    "import pandas as pd"
   ]
  },
  {
   "cell_type": "markdown",
   "metadata": {},
   "source": [
    "# read all sheets names"
   ]
  },
  {
   "cell_type": "code",
   "execution_count": 4,
   "metadata": {},
   "outputs": [
    {
     "data": {
      "text/plain": [
       "['egypt', 'us']"
      ]
     },
     "execution_count": 4,
     "metadata": {},
     "output_type": "execute_result"
    }
   ],
   "source": [
    "excel_file = pd.ExcelFile('C:\\\\Users\\\\Mina\\\\Desktop\\\\Tasks\\\\Instant-AI-Tasks\\\\Tasks\\\\Task 16\\\\weather.xlsx')\n",
    "sheet_names = excel_file.sheet_names\n",
    "sheet_names"
   ]
  },
  {
   "cell_type": "markdown",
   "metadata": {},
   "source": [
    "# print each sheet name with its dataframe"
   ]
  },
  {
   "cell_type": "code",
   "execution_count": 5,
   "metadata": {},
   "outputs": [
    {
     "name": "stdout",
     "output_type": "stream",
     "text": [
      "egypt\n",
      "       city  temprature  event  humidity\n",
      "0     cairo          30  sunny         8\n",
      "1      alex          25   rain         5\n",
      "2     luxor          35  sunny        10\n",
      "3  hurghada          29  sunny         4\n",
      "us\n",
      "            city  temprature  event  humdity\n",
      "0     california          30  sunny        9\n",
      "1        orlando          25   rain        5\n",
      "2  san fransisco          35  sunny        7\n"
     ]
    }
   ],
   "source": [
    "for sheet_name in sheet_names:\n",
    "    df = pd.read_excel(excel_file,sheet_name=sheet_name)\n",
    "\n",
    "    print(sheet_name)\n",
    "    print(df)"
   ]
  }
 ],
 "metadata": {
  "kernelspec": {
   "display_name": "Python 3",
   "language": "python",
   "name": "python3"
  },
  "language_info": {
   "codemirror_mode": {
    "name": "ipython",
    "version": 3
   },
   "file_extension": ".py",
   "mimetype": "text/x-python",
   "name": "python",
   "nbconvert_exporter": "python",
   "pygments_lexer": "ipython3",
   "version": "3.11.4"
  },
  "orig_nbformat": 4
 },
 "nbformat": 4,
 "nbformat_minor": 2
}
