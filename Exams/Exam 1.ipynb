{
 "cells": [
  {
   "cell_type": "markdown",
   "id": "6a576a3d",
   "metadata": {},
   "source": [
    "### Question 1: \n",
    "\n",
    "What is AI? "
   ]
  },
  {
   "cell_type": "markdown",
   "id": "163aad5c",
   "metadata": {},
   "source": [
    "- training the machine to do tasks that human can do \n",
    "- training the machine to take thier ow n decision"
   ]
  },
  {
   "cell_type": "markdown",
   "id": "d2d0fdf8",
   "metadata": {},
   "source": [
    "### Question 2: \n",
    "Why AI is used ? "
   ]
  },
  {
   "cell_type": "markdown",
   "id": "cc6832f9",
   "metadata": {},
   "source": [
    "- to facilitate the role of the human"
   ]
  },
  {
   "cell_type": "markdown",
   "id": "218581f4",
   "metadata": {},
   "source": [
    "### Question 3:\n",
    "When to use AI ? "
   ]
  },
  {
   "cell_type": "markdown",
   "id": "1e7a0135",
   "metadata": {},
   "source": [
    "When we need to solve a problem that will be difficult to done by human or time consuming"
   ]
  },
  {
   "cell_type": "markdown",
   "id": "3a9ccfac",
   "metadata": {},
   "source": [
    "### Question 4:\n",
    "\n",
    "Define the AI pipeline"
   ]
  },
  {
   "cell_type": "markdown",
   "id": "fa39d490",
   "metadata": {},
   "source": [
    "1. Data Analysis\n",
    "2. Data Visualization\n",
    "3. Preprocessing\n",
    "4. Feature Extraction\n",
    "5. Training the model\n",
    "6. Testing the model\n",
    "7. Deploying the model"
   ]
  },
  {
   "cell_type": "markdown",
   "id": "accceeb3",
   "metadata": {},
   "source": [
    "### Question 5:\n",
    "\n",
    "Define the general sequence of Software Engineering..."
   ]
  },
  {
   "cell_type": "markdown",
   "id": "28bb2b7e",
   "metadata": {},
   "source": [
    "1. Requirment Specification\n",
    "2. Planning\n",
    "3. Coding\n",
    "4. Testing\n",
    "5. Deploying\n"
   ]
  },
  {
   "attachments": {},
   "cell_type": "markdown",
   "id": "a293f056",
   "metadata": {},
   "source": [
    "### Question 6: \n",
    "\n",
    "Why DevOps is one of the most used cycles in software engineering?"
   ]
  },
  {
   "cell_type": "markdown",
   "id": "d6453ecf",
   "metadata": {},
   "source": [
    "Because it allow delivering of the product at any time of the sprint"
   ]
  },
  {
   "cell_type": "markdown",
   "id": "ac346297",
   "metadata": {},
   "source": [
    "### Question 7\n",
    "What is software Engineering ?"
   ]
  },
  {
   "cell_type": "markdown",
   "id": "4af8cd8c",
   "metadata": {},
   "source": [
    "it is the life cycle of product during the development phase"
   ]
  },
  {
   "cell_type": "markdown",
   "id": "1c2fb447",
   "metadata": {},
   "source": [
    "### Question 8\n",
    "\n",
    "Define MLOPS "
   ]
  },
  {
   "cell_type": "markdown",
   "id": "be247d87",
   "metadata": {},
   "source": [
    "it is similar to DevOps software engineering but used by machine learning engineers"
   ]
  },
  {
   "cell_type": "markdown",
   "id": "bc99c5e6",
   "metadata": {},
   "source": [
    "### Question 9\n",
    "Define DataOps"
   ]
  },
  {
   "cell_type": "markdown",
   "id": "6c2e2d51",
   "metadata": {},
   "source": [
    "it is similar to DevOps software engineering but used by Big Data engineer"
   ]
  },
  {
   "cell_type": "markdown",
   "id": "02613a0f",
   "metadata": {},
   "source": [
    "### Question 10\n",
    "\n",
    "AI is ....% Data Operations , and ..... Model Creation "
   ]
  },
  {
   "cell_type": "markdown",
   "id": "d4648503",
   "metadata": {},
   "source": [
    "90 - 10"
   ]
  },
  {
   "cell_type": "markdown",
   "id": "a13df1ff",
   "metadata": {},
   "source": [
    "### Question 11\n",
    "\n",
    "Give 5 Examples of AI driven Companies in Egypt\n"
   ]
  },
  {
   "cell_type": "markdown",
   "id": "8db77a51",
   "metadata": {},
   "source": [
    "1. Valeo\n",
    "2. Vodafone\n",
    "3. Talabat\n",
    "4. Amazon\n",
    "5. Etislat"
   ]
  },
  {
   "cell_type": "markdown",
   "id": "01dbf289",
   "metadata": {
    "heading_collapsed": true
   },
   "source": [
    "### Question 12\n",
    "What are the main fields of AI in Egypt?\n"
   ]
  },
  {
   "cell_type": "markdown",
   "id": "c5e470bd",
   "metadata": {
    "hidden": true
   },
   "source": [
    "1. Machine learning\n",
    "2. Deep Learning\n",
    "3. Neural Network\n",
    "4. Data Analysis\n",
    "5. Data Science"
   ]
  },
  {
   "cell_type": "markdown",
   "id": "c6395f95",
   "metadata": {},
   "source": [
    "### Question 13\n",
    "Define Data Science"
   ]
  },
  {
   "cell_type": "markdown",
   "id": "d00e59fb",
   "metadata": {},
   "source": [
    "it is the science that analysis big data and prepairing it to make a model to learn from it"
   ]
  },
  {
   "cell_type": "markdown",
   "id": "73bba650",
   "metadata": {},
   "source": [
    "### Question 14 \n",
    "What is the difference between Data Engineer, Data Analyst and Data Scientist "
   ]
  },
  {
   "cell_type": "markdown",
   "id": "0f491cb9",
   "metadata": {},
   "source": [
    "- Data Engineer : is the one how perform operation on the structure of the data\n",
    "- Data Analyst : is the one how perfom anlaysis and visualization on the data\n",
    "- Data Scientist : is the one trian the model on the data "
   ]
  },
  {
   "cell_type": "markdown",
   "id": "1d334500",
   "metadata": {},
   "source": [
    "### Question 15\n",
    "What are the most important skills an AI Engineer must have? "
   ]
  },
  {
   "cell_type": "markdown",
   "id": "4a1bec93",
   "metadata": {},
   "source": [
    "- Critical Thinking\n",
    "- Domain Knowledge\n",
    "- Search"
   ]
  },
  {
   "cell_type": "markdown",
   "id": "af356a7e",
   "metadata": {},
   "source": [
    "### Question 16: ( Bonus ) \n",
    "Who is my favorite Character in My favoirte Show "
   ]
  },
  {
   "cell_type": "markdown",
   "id": "c8036275",
   "metadata": {},
   "source": [
    "Naruto"
   ]
  },
  {
   "cell_type": "markdown",
   "id": "3f5f4f84",
   "metadata": {
    "heading_collapsed": true
   },
   "source": [
    "### Question 17: ( Bonus )\n",
    "What is my favorite TV Show"
   ]
  },
  {
   "cell_type": "markdown",
   "id": "63b63b6e",
   "metadata": {
    "hidden": true
   },
   "source": [
    "One piece"
   ]
  },
  {
   "cell_type": "markdown",
   "id": "9b32666b",
   "metadata": {},
   "source": [
    "### Question 18: \n",
    "What are all the possible methods to collect our data? "
   ]
  },
  {
   "cell_type": "markdown",
   "id": "e4cd67ab",
   "metadata": {},
   "source": [
    "- Web Scrapping\n",
    "- Data Entry\n",
    "- Forms"
   ]
  },
  {
   "cell_type": "markdown",
   "id": "bf7d6a7d",
   "metadata": {},
   "source": [
    "### Question 19: \n",
    "What is Feature Engineering? "
   ]
  },
  {
   "cell_type": "markdown",
   "id": "afbe1895",
   "metadata": {},
   "source": [
    "he is the one who is responsible on extracting the feature that will be used in training the ai"
   ]
  },
  {
   "cell_type": "markdown",
   "id": "aa1e2ea5",
   "metadata": {},
   "source": [
    "### Question 20: \n",
    "What are the main fields of mathematics used in AI? "
   ]
  },
  {
   "cell_type": "markdown",
   "id": "d13086b5",
   "metadata": {},
   "source": [
    "Statistics"
   ]
  },
  {
   "cell_type": "markdown",
   "id": "419d022b",
   "metadata": {
    "heading_collapsed": true
   },
   "source": [
    "### Question 21:\n",
    "What is Data Sampling ?"
   ]
  },
  {
   "cell_type": "markdown",
   "id": "a0d37480",
   "metadata": {
    "hidden": true
   },
   "source": [
    "Taking a small portion of the data to perform analysis on it"
   ]
  },
  {
   "cell_type": "markdown",
   "id": "458d8ee3",
   "metadata": {
    "heading_collapsed": true
   },
   "source": [
    "### Question 22: \n",
    "What is Sample Size ?"
   ]
  },
  {
   "cell_type": "markdown",
   "id": "1ee986dd",
   "metadata": {
    "hidden": true
   },
   "source": [
    "it is the suitable size that can be used to perform analysis that reflet the information of the data"
   ]
  },
  {
   "cell_type": "markdown",
   "id": "cfe6048a",
   "metadata": {},
   "source": [
    "### Question 23: \n",
    "How to avoid bad Sampling"
   ]
  },
  {
   "cell_type": "markdown",
   "id": "c77f569a",
   "metadata": {},
   "source": [
    "by choosing the suitable technique to choose the sample of the data"
   ]
  },
  {
   "cell_type": "markdown",
   "id": "c8608601",
   "metadata": {},
   "source": [
    "### Question 24:\n",
    "What are the acceptable range of sampling ?"
   ]
  },
  {
   "cell_type": "markdown",
   "id": "65ee8f45",
   "metadata": {},
   "source": [
    "20%"
   ]
  },
  {
   "cell_type": "markdown",
   "id": "1061c6a1",
   "metadata": {},
   "source": [
    "### Question 25:\n",
    "What AI is trying to find when working with data? \n"
   ]
  },
  {
   "cell_type": "code",
   "execution_count": null,
   "id": "0f3724aa",
   "metadata": {},
   "outputs": [],
   "source": []
  },
  {
   "cell_type": "markdown",
   "id": "5d8494d5",
   "metadata": {},
   "source": []
  },
  {
   "cell_type": "markdown",
   "id": "8cd6d2c8",
   "metadata": {
    "heading_collapsed": true
   },
   "source": [
    "### Question 26:\n",
    "What are the problem of generalizing a result obtained by a sample into the whole data ? "
   ]
  },
  {
   "cell_type": "markdown",
   "id": "edde924c",
   "metadata": {
    "hidden": true
   },
   "source": [
    "that may be the sampling is bad and not reversing the actual data"
   ]
  },
  {
   "cell_type": "markdown",
   "id": "d4a32a06",
   "metadata": {
    "heading_collapsed": true
   },
   "source": [
    "### Question 27:\n",
    "Why do we do Sampling?\n"
   ]
  },
  {
   "cell_type": "markdown",
   "id": "8c6fbb2e",
   "metadata": {
    "hidden": true
   },
   "source": [
    "because the us of the whole data may use alot of memory and time if it is big"
   ]
  },
  {
   "cell_type": "markdown",
   "id": "f0f9f79b",
   "metadata": {
    "heading_collapsed": true
   },
   "source": [
    "### Question 28: \n",
    "Define Statistical Test"
   ]
  },
  {
   "cell_type": "markdown",
   "id": "ca302926",
   "metadata": {
    "hidden": true
   },
   "source": [
    "it is the test that is used on the data for choosing the suitable sample"
   ]
  },
  {
   "cell_type": "markdown",
   "id": "8f393944",
   "metadata": {},
   "source": [
    "### Question 29: \n",
    "Suggest methods to work with small data "
   ]
  },
  {
   "cell_type": "markdown",
   "id": "e8836363",
   "metadata": {},
   "source": [
    "Data Augmentation"
   ]
  },
  {
   "cell_type": "markdown",
   "id": "d53bbd87",
   "metadata": {
    "heading_collapsed": true
   },
   "source": [
    "### Question 30: \n",
    "What are the types of data?"
   ]
  },
  {
   "cell_type": "markdown",
   "id": "fc32175b",
   "metadata": {
    "hidden": true
   },
   "source": [
    "1. Categorical \n",
    "2. Ordinal\n",
    "3. Numerical\n",
    "4. Continuous\n",
    "5. Discrete\n",
    "6. Nominal"
   ]
  },
  {
   "cell_type": "markdown",
   "id": "beb6efae",
   "metadata": {},
   "source": [
    "### Question 31: \n",
    "What is a programming language?"
   ]
  },
  {
   "cell_type": "markdown",
   "id": "806caea0",
   "metadata": {},
   "source": [
    "it is the lanaguage that we can use it to write programs "
   ]
  },
  {
   "cell_type": "markdown",
   "id": "1896fdad",
   "metadata": {
    "heading_collapsed": true
   },
   "source": [
    "### Question 32: \n",
    "Give 2 examples of low level programming languages:"
   ]
  },
  {
   "cell_type": "markdown",
   "id": "9c9c369c",
   "metadata": {
    "hidden": true
   },
   "source": [
    "1. C\n",
    "2. Assembly"
   ]
  },
  {
   "cell_type": "markdown",
   "id": "b525bbc3",
   "metadata": {
    "heading_collapsed": true
   },
   "source": [
    "### Question 33: ( Bonus ) \n",
    "What is the difference between java and JavaScript ?"
   ]
  },
  {
   "cell_type": "markdown",
   "id": "fed2831b",
   "metadata": {
    "hidden": true
   },
   "source": [
    "- Java is programing language that use compiler\n",
    "- JavaScript is scripting language that use interpreter"
   ]
  },
  {
   "cell_type": "markdown",
   "id": "ed01110b",
   "metadata": {
    "heading_collapsed": true
   },
   "source": [
    "### Question 34: \n",
    "Give a complete definition for python as a programming language"
   ]
  },
  {
   "cell_type": "markdown",
   "id": "f711f301",
   "metadata": {
    "hidden": true
   },
   "source": [
    "Python is programing language that we can use to write programs "
   ]
  },
  {
   "cell_type": "markdown",
   "id": "34fde1d4",
   "metadata": {
    "heading_collapsed": true
   },
   "source": [
    "### Question 35:\n",
    "Why do we use python for AI ?"
   ]
  },
  {
   "cell_type": "markdown",
   "id": "1d1ee1f3",
   "metadata": {
    "hidden": true
   },
   "source": []
  },
  {
   "cell_type": "markdown",
   "id": "a2eb7f45",
   "metadata": {
    "ExecuteTime": {
     "end_time": "2021-06-28T09:06:12.936819Z",
     "start_time": "2021-06-28T09:06:12.930836Z"
    },
    "heading_collapsed": true
   },
   "source": [
    "### Question 36\n",
    "What are the most used programming languages for AI in business? and Why ?  ( State only 3 )"
   ]
  },
  {
   "cell_type": "markdown",
   "id": "5fca80d3",
   "metadata": {
    "hidden": true
   },
   "source": [
    "1. Python \n",
    "2. R"
   ]
  },
  {
   "cell_type": "markdown",
   "id": "123a198c",
   "metadata": {
    "heading_collapsed": true
   },
   "source": [
    "### Question 37: \n",
    "Can we use Simple Machine learning with image data ? and why / why not ? "
   ]
  },
  {
   "cell_type": "markdown",
   "id": "00eabdf2",
   "metadata": {
    "hidden": true
   },
   "source": [
    "No we cant because the image consists of matrix of number that need a multi layer deep learning to work with it"
   ]
  },
  {
   "cell_type": "markdown",
   "id": "fac70cf7",
   "metadata": {
    "heading_collapsed": true
   },
   "source": [
    "### Question 38: \n",
    "What are the basic data types of python ? "
   ]
  },
  {
   "cell_type": "markdown",
   "id": "a04aa7ce",
   "metadata": {},
   "source": [
    "1. int\n",
    "2. float\n",
    "3. str\n",
    "4. bool\n"
   ]
  },
  {
   "cell_type": "markdown",
   "id": "9b68e0d6",
   "metadata": {},
   "source": [
    "### Question 39: \n",
    "What are the basic containers in python ( Data Structure Elements )"
   ]
  },
  {
   "cell_type": "markdown",
   "id": "0af292b2",
   "metadata": {},
   "source": [
    "1. List\n",
    "2. Dictionary\n",
    "3. Tuple\n",
    "4. Set"
   ]
  },
  {
   "cell_type": "markdown",
   "id": "5091503f",
   "metadata": {
    "heading_collapsed": true
   },
   "source": [
    "### Question 40: \n",
    "What are the most important packages for python to work with AI ? ( give at least 6 )"
   ]
  },
  {
   "cell_type": "markdown",
   "id": "3f2afcb7",
   "metadata": {
    "hidden": true
   },
   "source": [
    "1. pandas\n",
    "2. numpy\n",
    "3. matplotlib\n",
    "4. seaborn\n",
    "5. plotly\n",
    "6. sklearn\n",
    "7. tensorflow"
   ]
  },
  {
   "cell_type": "markdown",
   "id": "04f6103a",
   "metadata": {
    "heading_collapsed": true
   },
   "source": [
    "### Question 41: \n",
    "What is domain knowledge in data science? "
   ]
  },
  {
   "cell_type": "markdown",
   "id": "de1b2143",
   "metadata": {
    "hidden": true
   },
   "source": [
    "it is the knowledge of the domain of the data that is used in the task"
   ]
  },
  {
   "cell_type": "markdown",
   "id": "f1b27f6b",
   "metadata": {
    "heading_collapsed": true
   },
   "source": [
    "### Question 42: \n",
    "Create a list of theses elements : 1,3,4,16,17,20, \"Ahmed\", \"Mazen\", True"
   ]
  },
  {
   "cell_type": "code",
   "execution_count": 4,
   "id": "2d021853",
   "metadata": {
    "ExecuteTime": {
     "end_time": "2022-03-05T19:28:13.000804Z",
     "start_time": "2022-03-05T19:28:12.996804Z"
    },
    "hidden": true
   },
   "outputs": [],
   "source": [
    "x = [1,3,4,16,17,20,'Ahmed','Mazen',True]"
   ]
  },
  {
   "cell_type": "markdown",
   "id": "78f460ea",
   "metadata": {
    "heading_collapsed": true
   },
   "source": [
    "### Question 43: \n",
    "add 7 to the list "
   ]
  },
  {
   "cell_type": "code",
   "execution_count": 5,
   "id": "44555841",
   "metadata": {
    "ExecuteTime": {
     "end_time": "2022-03-05T19:28:14.169940Z",
     "start_time": "2022-03-05T19:28:14.159946Z"
    },
    "hidden": true
   },
   "outputs": [
    {
     "data": {
      "text/plain": [
       "[1, 3, 4, 16, 17, 20, 'Ahmed', 'Mazen', True, 7]"
      ]
     },
     "execution_count": 5,
     "metadata": {},
     "output_type": "execute_result"
    }
   ],
   "source": [
    "x.append(7)\n",
    "x"
   ]
  },
  {
   "cell_type": "markdown",
   "id": "55792eb4",
   "metadata": {
    "hidden": true
   },
   "source": []
  },
  {
   "cell_type": "markdown",
   "id": "4a7ff235",
   "metadata": {
    "heading_collapsed": true
   },
   "source": [
    "### Question 44: \n",
    "remove 3 from the list "
   ]
  },
  {
   "cell_type": "code",
   "execution_count": 6,
   "id": "88adf65c",
   "metadata": {
    "ExecuteTime": {
     "end_time": "2022-03-05T19:28:15.400528Z",
     "start_time": "2022-03-05T19:28:15.382539Z"
    },
    "hidden": true
   },
   "outputs": [
    {
     "data": {
      "text/plain": [
       "[1, 4, 16, 17, 20, 'Ahmed', 'Mazen', True, 7]"
      ]
     },
     "execution_count": 6,
     "metadata": {},
     "output_type": "execute_result"
    }
   ],
   "source": [
    "x.remove(3)\n",
    "x"
   ]
  },
  {
   "cell_type": "markdown",
   "id": "2883ba26",
   "metadata": {
    "hidden": true
   },
   "source": []
  },
  {
   "cell_type": "markdown",
   "id": "dff97409",
   "metadata": {
    "heading_collapsed": true
   },
   "source": [
    "### Question 45: \n",
    "Search for \"Ahmed\" in the list "
   ]
  },
  {
   "cell_type": "code",
   "execution_count": 7,
   "id": "bc9e5403",
   "metadata": {
    "ExecuteTime": {
     "end_time": "2022-03-05T19:28:18.178229Z",
     "start_time": "2022-03-05T19:28:18.168241Z"
    },
    "hidden": true
   },
   "outputs": [
    {
     "data": {
      "text/plain": [
       "'Ahmed'"
      ]
     },
     "execution_count": 7,
     "metadata": {},
     "output_type": "execute_result"
    }
   ],
   "source": [
    "x[5]"
   ]
  },
  {
   "cell_type": "markdown",
   "id": "51bac2ab",
   "metadata": {},
   "source": [
    "### Question 46: \n",
    "Count how many numbers 4 has occured"
   ]
  },
  {
   "cell_type": "code",
   "execution_count": 9,
   "id": "1c3c5b94",
   "metadata": {
    "ExecuteTime": {
     "end_time": "2022-03-05T19:28:22.179091Z",
     "start_time": "2022-03-05T19:28:22.158089Z"
    }
   },
   "outputs": [
    {
     "data": {
      "text/plain": [
       "1"
      ]
     },
     "execution_count": 9,
     "metadata": {},
     "output_type": "execute_result"
    }
   ],
   "source": [
    "counter =0\n",
    "for i in x:\n",
    "    if i == 4 :\n",
    "        counter+=1\n",
    "counter"
   ]
  },
  {
   "cell_type": "markdown",
   "id": "668b4e21",
   "metadata": {},
   "source": [
    "### Question 47:\n",
    "print only the even numbers in the list"
   ]
  },
  {
   "cell_type": "code",
   "execution_count": 13,
   "id": "c3cb6abe",
   "metadata": {
    "ExecuteTime": {
     "end_time": "2022-03-05T19:28:45.019599Z",
     "start_time": "2022-03-05T19:28:44.999611Z"
    }
   },
   "outputs": [
    {
     "name": "stdout",
     "output_type": "stream",
     "text": [
      "4\n",
      "16\n",
      "20\n"
     ]
    }
   ],
   "source": [
    "for i in x:\n",
    "    if type(i) is int:\n",
    "        if i % 2 ==0:\n",
    "            print(i)"
   ]
  },
  {
   "cell_type": "markdown",
   "id": "8d3dc713",
   "metadata": {},
   "source": []
  },
  {
   "cell_type": "markdown",
   "id": "8c7c3000",
   "metadata": {
    "heading_collapsed": true
   },
   "source": [
    "### Question 48: \n",
    "Sum only the numeric elements in the list"
   ]
  },
  {
   "cell_type": "code",
   "execution_count": 14,
   "id": "ed5fe114",
   "metadata": {
    "ExecuteTime": {
     "end_time": "2022-03-05T16:44:32.234027Z",
     "start_time": "2022-03-05T16:44:32.217035Z"
    }
   },
   "outputs": [
    {
     "data": {
      "text/plain": [
       "65"
      ]
     },
     "execution_count": 14,
     "metadata": {},
     "output_type": "execute_result"
    }
   ],
   "source": [
    "sum =0\n",
    "for i in x:\n",
    "    if (type(i) is int) or (type(i) is float):\n",
    "        sum+=i\n",
    "sum"
   ]
  },
  {
   "cell_type": "markdown",
   "id": "e12846fa",
   "metadata": {
    "hidden": true
   },
   "source": []
  },
  {
   "cell_type": "markdown",
   "id": "54dd5ba3",
   "metadata": {
    "heading_collapsed": true
   },
   "source": [
    "### Question 49: \n",
    "convert the list into a set "
   ]
  },
  {
   "cell_type": "code",
   "execution_count": 15,
   "id": "36265fdb",
   "metadata": {
    "ExecuteTime": {
     "end_time": "2022-03-05T19:30:04.581274Z",
     "start_time": "2022-03-05T19:30:04.571278Z"
    },
    "hidden": true
   },
   "outputs": [
    {
     "data": {
      "text/plain": [
       "{1, 16, 17, 20, 4, 7, 'Ahmed', 'Mazen'}"
      ]
     },
     "execution_count": 15,
     "metadata": {},
     "output_type": "execute_result"
    }
   ],
   "source": [
    "y = set(x)\n",
    "y"
   ]
  },
  {
   "cell_type": "markdown",
   "id": "5d1818e5",
   "metadata": {
    "hidden": true
   },
   "source": []
  },
  {
   "cell_type": "markdown",
   "id": "8d10f249",
   "metadata": {
    "heading_collapsed": true
   },
   "source": [
    "### Question 50:\n",
    "change the first element to be 25 then print the new list"
   ]
  },
  {
   "cell_type": "code",
   "execution_count": 17,
   "id": "cb1fb618",
   "metadata": {
    "ExecuteTime": {
     "end_time": "2022-03-05T16:46:53.443321Z",
     "start_time": "2022-03-05T16:46:53.424327Z"
    },
    "hidden": true
   },
   "outputs": [
    {
     "data": {
      "text/plain": [
       "[25, 4, 16, 17, 20, 'Ahmed', 'Mazen', True, 7]"
      ]
     },
     "execution_count": 17,
     "metadata": {},
     "output_type": "execute_result"
    }
   ],
   "source": [
    "x[0] = 25\n",
    "x"
   ]
  },
  {
   "cell_type": "markdown",
   "id": "2d0621dc",
   "metadata": {
    "hidden": true
   },
   "source": []
  },
  {
   "cell_type": "markdown",
   "id": "7aa6a342",
   "metadata": {
    "heading_collapsed": true
   },
   "source": [
    "### Question 51: \n",
    "Assign only the first 5 values of the list into a new list called AI "
   ]
  },
  {
   "cell_type": "code",
   "execution_count": 20,
   "id": "838e6669",
   "metadata": {
    "ExecuteTime": {
     "end_time": "2022-03-05T16:47:26.807825Z",
     "start_time": "2022-03-05T16:47:26.796833Z"
    },
    "hidden": true
   },
   "outputs": [
    {
     "data": {
      "text/plain": [
       "[25, 4, 16, 17, 20]"
      ]
     },
     "execution_count": 20,
     "metadata": {},
     "output_type": "execute_result"
    }
   ],
   "source": [
    "z = x[:5]\n",
    "z"
   ]
  },
  {
   "cell_type": "markdown",
   "id": "27bf1df9",
   "metadata": {
    "hidden": true
   },
   "source": []
  },
  {
   "cell_type": "markdown",
   "id": "37e50846",
   "metadata": {},
   "source": [
    "### Question 52: \n",
    "Print the type of each element ( Hint: Use for loop )"
   ]
  },
  {
   "cell_type": "code",
   "execution_count": 21,
   "id": "d40f1f0e",
   "metadata": {
    "ExecuteTime": {
     "end_time": "2022-03-05T16:48:20.010017Z",
     "start_time": "2022-03-05T16:48:19.990028Z"
    }
   },
   "outputs": [
    {
     "name": "stdout",
     "output_type": "stream",
     "text": [
      "<class 'int'>\n",
      "<class 'int'>\n",
      "<class 'int'>\n",
      "<class 'int'>\n",
      "<class 'int'>\n",
      "<class 'str'>\n",
      "<class 'str'>\n",
      "<class 'bool'>\n",
      "<class 'int'>\n"
     ]
    }
   ],
   "source": [
    "for i in x:\n",
    "    print(type(i))"
   ]
  },
  {
   "cell_type": "markdown",
   "id": "d3597880",
   "metadata": {},
   "source": []
  },
  {
   "cell_type": "markdown",
   "id": "9d5e2d6b",
   "metadata": {
    "heading_collapsed": true
   },
   "source": [
    "### Question 53: \n",
    "Suppose you have a file called new data.csv , write the python code to read this data "
   ]
  },
  {
   "cell_type": "code",
   "execution_count": null,
   "id": "c5c63573",
   "metadata": {
    "ExecuteTime": {
     "end_time": "2022-03-05T16:49:47.430181Z",
     "start_time": "2022-03-05T16:49:46.450918Z"
    },
    "hidden": true
   },
   "outputs": [],
   "source": [
    "import pandas as pd\n",
    "df = pd.read_csv('data.csv')"
   ]
  },
  {
   "cell_type": "markdown",
   "id": "8e8d9a78",
   "metadata": {
    "hidden": true
   },
   "source": []
  },
  {
   "cell_type": "markdown",
   "id": "078cd393",
   "metadata": {},
   "source": [
    "### Question 54: \n",
    "print its columns "
   ]
  },
  {
   "cell_type": "code",
   "execution_count": null,
   "id": "e8245bcb",
   "metadata": {},
   "outputs": [],
   "source": [
    "df.columns"
   ]
  },
  {
   "cell_type": "markdown",
   "id": "ccd82ce2",
   "metadata": {},
   "source": []
  },
  {
   "cell_type": "markdown",
   "id": "f8403a85",
   "metadata": {
    "heading_collapsed": true
   },
   "source": [
    "### Question 55: \n",
    "What are the packages used for web scrapping? "
   ]
  },
  {
   "cell_type": "markdown",
   "id": "391a035a",
   "metadata": {
    "hidden": true
   },
   "source": [
    "1. beautifulSoap\n",
    "2. Selenium"
   ]
  },
  {
   "cell_type": "markdown",
   "id": "282338c7",
   "metadata": {
    "heading_collapsed": true
   },
   "source": [
    "### Question 56: \n",
    "What are the types of machine learning ?"
   ]
  },
  {
   "cell_type": "markdown",
   "id": "98214c9e",
   "metadata": {
    "hidden": true
   },
   "source": [
    "1. Regression\n",
    "2. Classification\n",
    "3. Clustring"
   ]
  },
  {
   "cell_type": "markdown",
   "id": "73e5ac27",
   "metadata": {
    "heading_collapsed": true
   },
   "source": [
    "### Question 57: \n",
    "What are the types of problems AI Can solve ? "
   ]
  },
  {
   "cell_type": "markdown",
   "id": "986332a0",
   "metadata": {
    "hidden": true
   },
   "source": [
    "the problems that needs alot of time to be performed by humans"
   ]
  },
  {
   "cell_type": "markdown",
   "id": "b7c14eff",
   "metadata": {
    "ExecuteTime": {
     "end_time": "2021-06-28T09:20:22.730948Z",
     "start_time": "2021-06-28T09:20:22.715963Z"
    },
    "heading_collapsed": true
   },
   "source": [
    "### Question 58:\n",
    "What is Data Augmentation?"
   ]
  },
  {
   "cell_type": "markdown",
   "id": "feba92a5",
   "metadata": {
    "hidden": true
   },
   "source": [
    "it is the manuplation of the data and images by changing its direction ,colors,etc.. to add more data to your data"
   ]
  },
  {
   "cell_type": "markdown",
   "id": "071e6ccc",
   "metadata": {
    "heading_collapsed": true
   },
   "source": [
    "### Question 59  (Bonus) : \n",
    "What are the types of medical image files?  "
   ]
  },
  {
   "cell_type": "markdown",
   "id": "b3b8de34",
   "metadata": {
    "hidden": true
   },
   "source": [
    ".png\n",
    ".jpg\n",
    ".jpeg"
   ]
  },
  {
   "cell_type": "markdown",
   "id": "63bb465f",
   "metadata": {},
   "source": [
    "### Question 60: ( Bonus ) \n",
    "What are the 7Vs of Big Data? "
   ]
  },
  {
   "cell_type": "markdown",
   "id": "4ce8c875",
   "metadata": {},
   "source": [
    "1. Velocity\n",
    "2. Volume\n",
    "3. Varity"
   ]
  },
  {
   "cell_type": "markdown",
   "id": "fc343b99",
   "metadata": {},
   "source": [
    "### Question 61:\n",
    "What is Dimensionality reduction"
   ]
  },
  {
   "cell_type": "markdown",
   "id": "2444d4fd",
   "metadata": {},
   "source": [
    "it is the reducing the dimension of the data between layers in neural network using pooling layer"
   ]
  },
  {
   "cell_type": "markdown",
   "id": "eb206638",
   "metadata": {},
   "source": [
    "### Question 62:\n",
    "What are the main features of Time Seires Analysis"
   ]
  },
  {
   "cell_type": "code",
   "execution_count": null,
   "id": "167530d0",
   "metadata": {
    "ExecuteTime": {
     "end_time": "2022-03-05T19:33:26.627541Z",
     "start_time": "2022-03-05T19:33:26.602542Z"
    }
   },
   "outputs": [],
   "source": []
  },
  {
   "cell_type": "markdown",
   "id": "140948c5",
   "metadata": {},
   "source": [
    "### Question 62:\n",
    "you're given X,y and  \n",
    "x = [1,3,4,5,6,7,9]\n",
    "y =[1,3,2,2,3,7,9]\n",
    "z = [\"A\" , \"B\",  \"C\" , \"D\", \"E\" , \"F\" , \"G\"] \n",
    "\n",
    "create: \n",
    "1. plot chart \n",
    "2. bar chart\n",
    "3. pie chart\n"
   ]
  },
  {
   "cell_type": "code",
   "execution_count": 29,
   "id": "907ebe38",
   "metadata": {
    "ExecuteTime": {
     "end_time": "2022-03-05T17:58:30.788068Z",
     "start_time": "2022-03-05T17:58:30.776073Z"
    }
   },
   "outputs": [
    {
     "data": {
      "image/png": "[encoded data removed]",
      "text/plain": [
       "<Figure size 640x480 with 1 Axes>"
      ]
     },
     "metadata": {},
     "output_type": "display_data"
    }
   ],
   "source": [
    "import matplotlib.pyplot as plt\n",
    "import seaborn as sns\n",
    "\n",
    "df = pd.DataFrame({'X' : [1,3,4,5,6,7,9] ,'Y' : [1,3,2,2,3,7,9],'Z':['A','B','C','D','E','F','G']})\n",
    "plot = plt.plot(df.X)"
   ]
  },
  {
   "cell_type": "code",
   "execution_count": 37,
   "id": "9ca29af5",
   "metadata": {},
   "outputs": [
    {
     "data": {
      "text/plain": [
       "<Axes: xlabel='Z', ylabel='X'>"
      ]
     },
     "execution_count": 37,
     "metadata": {},
     "output_type": "execute_result"
    },
    {
     "data": {
      "image/png": "[encoded data removed]",
      "text/plain": [
       "<Figure size 640x480 with 1 Axes>"
      ]
     },
     "metadata": {},
     "output_type": "display_data"
    }
   ],
   "source": [
    "sns.barplot(data=df,x=df.Z,y=df.X)"
   ]
  },
  {
   "cell_type": "code",
   "execution_count": 42,
   "id": "e928e0f3",
   "metadata": {},
   "outputs": [
    {
     "data": {
      "text/plain": [
       "([<matplotlib.patches.Wedge at 0x2e4f5e83590>,\n",
       "  <matplotlib.patches.Wedge at 0x2e4f5e90650>],\n",
       " [Text(-0.22142836558905937, 1.0774829367152678, 'X'),\n",
       "  Text(0.22142836558905946, -1.0774829367152678, 'Y')],\n",
       " [Text(-0.12077910850312328, 0.5877179654810551, '56.5%'),\n",
       "  Text(0.12077910850312333, -0.5877179654810551, '43.5%')])"
      ]
     },
     "execution_count": 42,
     "metadata": {},
     "output_type": "execute_result"
    },
    {
     "data": {
      "image/png": "[encoded data removed]",
      "text/plain": [
       "<Figure size 640x480 with 1 Axes>"
      ]
     },
     "metadata": {},
     "output_type": "display_data"
    }
   ],
   "source": [
    "xsum = df.X.sum()\n",
    "ysum = df.Y.sum()\n",
    "plt.pie([xsum,ysum],autopct='%.1f%%',labels=['X','Y'])"
   ]
  },
  {
   "cell_type": "markdown",
   "id": "fa480f3c",
   "metadata": {},
   "source": [
    "### Question 63: \n",
    "Read image from your directory and display it here "
   ]
  },
  {
   "cell_type": "code",
   "execution_count": 1,
   "id": "61be9558",
   "metadata": {},
   "outputs": [
    {
     "ename": "TypeError",
     "evalue": "read expected 2 arguments, got 1",
     "output_type": "error",
     "traceback": [
      "\u001b[1;31m---------------------------------------------------------------------------\u001b[0m",
      "\u001b[1;31mTypeError\u001b[0m                                 Traceback (most recent call last)",
      "\u001b[1;32mc:\\Users\\Mina\\Desktop\\Tasks\\Instant-AI-Tasks\\Exams\\Mina Emil.ipynb Cell 141\u001b[0m line \u001b[0;36m2\n\u001b[0;32m      <a href='vscode-notebook-cell:/c%3A/Users/Mina/Desktop/Tasks/Instant-AI-Tasks/Exams/Mina%20Emil.ipynb#Y260sZmlsZQ%3D%3D?line=0'>1</a>\u001b[0m \u001b[39mimport\u001b[39;00m \u001b[39mos\u001b[39;00m \n\u001b[1;32m----> <a href='vscode-notebook-cell:/c%3A/Users/Mina/Desktop/Tasks/Instant-AI-Tasks/Exams/Mina%20Emil.ipynb#Y260sZmlsZQ%3D%3D?line=1'>2</a>\u001b[0m img \u001b[39m=\u001b[39m os\u001b[39m.\u001b[39;49mread(\u001b[39m'\u001b[39;49m\u001b[39mimg.png\u001b[39;49m\u001b[39m'\u001b[39;49m)\n\u001b[0;32m      <a href='vscode-notebook-cell:/c%3A/Users/Mina/Desktop/Tasks/Instant-AI-Tasks/Exams/Mina%20Emil.ipynb#Y260sZmlsZQ%3D%3D?line=2'>3</a>\u001b[0m img\n",
      "\u001b[1;31mTypeError\u001b[0m: read expected 2 arguments, got 1"
     ]
    }
   ],
   "source": [
    "import os \n",
    "img = os.read('img.png')\n",
    "img"
   ]
  },
  {
   "cell_type": "markdown",
   "id": "f32912df",
   "metadata": {},
   "source": [
    "### Question 64:\n",
    "Explain Gradient Descent ( with Details ) or Explain the role of calculus in machine learning ? "
   ]
  },
  {
   "cell_type": "markdown",
   "id": "daa1500a",
   "metadata": {},
   "source": [
    "gradient descent is where we adjust the learning rate to obtain the global minimum mean square error "
   ]
  },
  {
   "cell_type": "markdown",
   "id": "de6c7409",
   "metadata": {},
   "source": [
    "### Question 65:\n",
    "Create pandas dataframe as input from users\n",
    "\n",
    "name, \n",
    "age,\n",
    "id, \n",
    "gender,\n",
    "email, \n",
    "phone number, \n",
    "city,\n",
    "\n",
    "then \n",
    "\n",
    "a. group by city                       \n",
    "b. which city has the most students              \n",
    "c. get all the mails ending with @gmail.com\n",
    "d. get all vodafone phone numbers             \n",
    "e. get the average of ages for each gender               \n",
    "f. plot the relation between number of males to females           \n",
    "g. plot the relation between age and gender             "
   ]
  },
  {
   "cell_type": "code",
   "execution_count": 46,
   "id": "c0aab540",
   "metadata": {},
   "outputs": [
    {
     "data": {
      "text/html": [
       "<div>\n",
       "<style scoped>\n",
       "    .dataframe tbody tr th:only-of-type {\n",
       "        vertical-align: middle;\n",
       "    }\n",
       "\n",
       "    .dataframe tbody tr th {\n",
       "        vertical-align: top;\n",
       "    }\n",
       "\n",
       "    .dataframe thead th {\n",
       "        text-align: right;\n",
       "    }\n",
       "</style>\n",
       "<table border=\"1\" class=\"dataframe\">\n",
       "  <thead>\n",
       "    <tr style=\"text-align: right;\">\n",
       "      <th></th>\n",
       "      <th>Name</th>\n",
       "      <th>Age</th>\n",
       "      <th>ID</th>\n",
       "      <th>Gender</th>\n",
       "      <th>Email</th>\n",
       "      <th>Phone</th>\n",
       "      <th>City</th>\n",
       "    </tr>\n",
       "  </thead>\n",
       "  <tbody>\n",
       "    <tr>\n",
       "      <th>0</th>\n",
       "      <td>mina</td>\n",
       "      <td>10</td>\n",
       "      <td>0</td>\n",
       "      <td>M</td>\n",
       "      <td>mina@gmail.com</td>\n",
       "      <td>123456</td>\n",
       "      <td>Alx</td>\n",
       "    </tr>\n",
       "    <tr>\n",
       "      <th>1</th>\n",
       "      <td>emil</td>\n",
       "      <td>15</td>\n",
       "      <td>1</td>\n",
       "      <td>M</td>\n",
       "      <td>emil@gmail.com</td>\n",
       "      <td>987654</td>\n",
       "      <td>Alx</td>\n",
       "    </tr>\n",
       "    <tr>\n",
       "      <th>2</th>\n",
       "      <td>fakhry</td>\n",
       "      <td>19</td>\n",
       "      <td>2</td>\n",
       "      <td>M</td>\n",
       "      <td>fakhry@gmail.com</td>\n",
       "      <td>195216</td>\n",
       "      <td>Cairo</td>\n",
       "    </tr>\n",
       "  </tbody>\n",
       "</table>\n",
       "</div>"
      ],
      "text/plain": [
       "     Name Age ID Gender             Email   Phone   City\n",
       "0    mina  10  0      M    mina@gmail.com  123456    Alx\n",
       "1    emil  15  1      M    emil@gmail.com  987654    Alx\n",
       "2  fakhry  19  2      M  fakhry@gmail.com  195216  Cairo"
      ]
     },
     "execution_count": 46,
     "metadata": {},
     "output_type": "execute_result"
    }
   ],
   "source": [
    "names = input('Name').split(',')\n",
    "age = input('Age').split(',')\n",
    "ids = input('ID').split(',')\n",
    "genders = input('Gender').split(',')\n",
    "emails = input('Email').split(',')\n",
    "phones = input('Phone Number').split(',')\n",
    "cities = input('City').split(',')\n",
    "df2 = pd.DataFrame({'Name' : names,'Age':age,'ID' : ids,'Gender': genders,'Email':emails,'Phone' : phones,'City':cities})\n",
    "df2"
   ]
  },
  {
   "cell_type": "code",
   "execution_count": 52,
   "id": "9c8a3a9f",
   "metadata": {},
   "outputs": [
    {
     "data": {
      "text/plain": [
       "City\n",
       "Alx      2\n",
       "Cairo    1\n",
       "Name: count, dtype: int64"
      ]
     },
     "execution_count": 52,
     "metadata": {},
     "output_type": "execute_result"
    }
   ],
   "source": [
    "city =df2.groupby('City')['City'].value_counts()\n",
    "city"
   ]
  },
  {
   "cell_type": "code",
   "execution_count": 111,
   "id": "a137ce36",
   "metadata": {},
   "outputs": [
    {
     "data": {
      "text/plain": [
       "0    Alx\n",
       "Name: City, dtype: object"
      ]
     },
     "execution_count": 111,
     "metadata": {},
     "output_type": "execute_result"
    }
   ],
   "source": [
    "city = df2.City.value_counts().reset_index()\n",
    "city[city['count'] == city['count'].max()]['City']"
   ]
  },
  {
   "cell_type": "code",
   "execution_count": 114,
   "metadata": {},
   "outputs": [
    {
     "data": {
      "text/html": [
       "<div>\n",
       "<style scoped>\n",
       "    .dataframe tbody tr th:only-of-type {\n",
       "        vertical-align: middle;\n",
       "    }\n",
       "\n",
       "    .dataframe tbody tr th {\n",
       "        vertical-align: top;\n",
       "    }\n",
       "\n",
       "    .dataframe thead th {\n",
       "        text-align: right;\n",
       "    }\n",
       "</style>\n",
       "<table border=\"1\" class=\"dataframe\">\n",
       "  <thead>\n",
       "    <tr style=\"text-align: right;\">\n",
       "      <th></th>\n",
       "      <th>Name</th>\n",
       "      <th>Age</th>\n",
       "      <th>ID</th>\n",
       "      <th>Gender</th>\n",
       "      <th>Email</th>\n",
       "      <th>Phone</th>\n",
       "      <th>City</th>\n",
       "    </tr>\n",
       "  </thead>\n",
       "  <tbody>\n",
       "    <tr>\n",
       "      <th>0</th>\n",
       "      <td>mina</td>\n",
       "      <td>10</td>\n",
       "      <td>0</td>\n",
       "      <td>M</td>\n",
       "      <td>mina@gmail.com</td>\n",
       "      <td>01061825360</td>\n",
       "      <td>Alx</td>\n",
       "    </tr>\n",
       "    <tr>\n",
       "      <th>1</th>\n",
       "      <td>emil</td>\n",
       "      <td>15</td>\n",
       "      <td>1</td>\n",
       "      <td>M</td>\n",
       "      <td>emil@gmail.com</td>\n",
       "      <td>987654</td>\n",
       "      <td>Alx</td>\n",
       "    </tr>\n",
       "    <tr>\n",
       "      <th>2</th>\n",
       "      <td>fakhry</td>\n",
       "      <td>19</td>\n",
       "      <td>2</td>\n",
       "      <td>M</td>\n",
       "      <td>fakhry@gmail.com</td>\n",
       "      <td>195216</td>\n",
       "      <td>Cairo</td>\n",
       "    </tr>\n",
       "  </tbody>\n",
       "</table>\n",
       "</div>"
      ],
      "text/plain": [
       "     Name  Age ID Gender             Email        Phone   City\n",
       "0    mina   10  0      M    mina@gmail.com  01061825360    Alx\n",
       "1    emil   15  1      M    emil@gmail.com       987654    Alx\n",
       "2  fakhry   19  2      M  fakhry@gmail.com       195216  Cairo"
      ]
     },
     "execution_count": 114,
     "metadata": {},
     "output_type": "execute_result"
    }
   ],
   "source": [
    "df2[df2['Email'].str[-10:] == r'@gmail.com']"
   ]
  },
  {
   "cell_type": "code",
   "execution_count": 112,
   "id": "0d9c2a91",
   "metadata": {},
   "outputs": [
    {
     "data": {
      "text/html": [
       "<div>\n",
       "<style scoped>\n",
       "    .dataframe tbody tr th:only-of-type {\n",
       "        vertical-align: middle;\n",
       "    }\n",
       "\n",
       "    .dataframe tbody tr th {\n",
       "        vertical-align: top;\n",
       "    }\n",
       "\n",
       "    .dataframe thead th {\n",
       "        text-align: right;\n",
       "    }\n",
       "</style>\n",
       "<table border=\"1\" class=\"dataframe\">\n",
       "  <thead>\n",
       "    <tr style=\"text-align: right;\">\n",
       "      <th></th>\n",
       "      <th>Name</th>\n",
       "      <th>Age</th>\n",
       "      <th>ID</th>\n",
       "      <th>Gender</th>\n",
       "      <th>Email</th>\n",
       "      <th>Phone</th>\n",
       "      <th>City</th>\n",
       "    </tr>\n",
       "  </thead>\n",
       "  <tbody>\n",
       "    <tr>\n",
       "      <th>0</th>\n",
       "      <td>mina</td>\n",
       "      <td>10</td>\n",
       "      <td>0</td>\n",
       "      <td>M</td>\n",
       "      <td>mina@gmail.com</td>\n",
       "      <td>01061825360</td>\n",
       "      <td>Alx</td>\n",
       "    </tr>\n",
       "  </tbody>\n",
       "</table>\n",
       "</div>"
      ],
      "text/plain": [
       "   Name  Age ID Gender           Email        Phone City\n",
       "0  mina   10  0      M  mina@gmail.com  01061825360  Alx"
      ]
     },
     "execution_count": 112,
     "metadata": {},
     "output_type": "execute_result"
    }
   ],
   "source": [
    "df2[df2.Phone.str[:3] == '010']"
   ]
  },
  {
   "cell_type": "code",
   "execution_count": 101,
   "id": "d22e8b77",
   "metadata": {},
   "outputs": [],
   "source": [
    "df2['Age'] = df2['Age'].astype(int)"
   ]
  },
  {
   "cell_type": "code",
   "execution_count": 102,
   "id": "ec2d616a",
   "metadata": {},
   "outputs": [
    {
     "data": {
      "text/plain": [
       "Gender\n",
       "M    14.666667\n",
       "Name: Age, dtype: float64"
      ]
     },
     "execution_count": 102,
     "metadata": {},
     "output_type": "execute_result"
    }
   ],
   "source": [
    "q=df2.groupby(['Gender'])['Age']\n",
    "q.mean()\n"
   ]
  },
  {
   "cell_type": "code",
   "execution_count": 115,
   "id": "1ebd331e",
   "metadata": {},
   "outputs": [
    {
     "name": "stderr",
     "output_type": "stream",
     "text": [
      "C:\\Users\\Mina\\AppData\\Local\\Temp\\ipykernel_1388\\2863473624.py:1: SettingWithCopyWarning: \n",
      "A value is trying to be set on a copy of a slice from a DataFrame\n",
      "\n",
      "See the caveats in the documentation: https://pandas.pydata.org/pandas-docs/stable/user_guide/indexing.html#returning-a-view-versus-a-copy\n",
      "  df2['Gender'][1] = 'F'\n"
     ]
    }
   ],
   "source": [
    "df2['Gender'][1] = 'F'"
   ]
  },
  {
   "cell_type": "code",
   "execution_count": 116,
   "id": "3d6595a0",
   "metadata": {},
   "outputs": [
    {
     "data": {
      "text/plain": [
       "<Axes: ylabel='count'>"
      ]
     },
     "execution_count": 116,
     "metadata": {},
     "output_type": "execute_result"
    },
    {
     "data": {
      "image/png": "[encoded data removed]",
      "text/plain": [
       "<Figure size 640x480 with 1 Axes>"
      ]
     },
     "metadata": {},
     "output_type": "display_data"
    }
   ],
   "source": [
    "df2.groupby('Gender')['Gender'].value_counts().plot.pie(autopct = '%.1f%%')"
   ]
  },
  {
   "cell_type": "code",
   "execution_count": 118,
   "id": "a1e5f971",
   "metadata": {},
   "outputs": [
    {
     "name": "stderr",
     "output_type": "stream",
     "text": [
      "C:\\Users\\Mina\\AppData\\Local\\Temp\\ipykernel_1388\\2697146379.py:1: SettingWithCopyWarning: \n",
      "A value is trying to be set on a copy of a slice from a DataFrame\n",
      "\n",
      "See the caveats in the documentation: https://pandas.pydata.org/pandas-docs/stable/user_guide/indexing.html#returning-a-view-versus-a-copy\n",
      "  df2['Age'][2] = 99\n"
     ]
    }
   ],
   "source": [
    "df2['Age'][2] = 99"
   ]
  },
  {
   "cell_type": "code",
   "execution_count": 119,
   "id": "cdb2828a",
   "metadata": {},
   "outputs": [
    {
     "data": {
      "image/png": "[encoded data removed]",
      "text/plain": [
       "<Figure size 640x480 with 1 Axes>"
      ]
     },
     "metadata": {},
     "output_type": "display_data"
    }
   ],
   "source": [
    "sns.barplot(data=df2,x='Gender',y='Age')\n",
    "plt.show()"
   ]
  },
  {
   "attachments": {
    "images.jpg": {
     "image/jpeg": "[encoded data removed]"
    }
   },
   "cell_type": "markdown",
   "id": "2c124077",
   "metadata": {},
   "source": [
    "### Best Wishes \n",
    "![images.jpg](attachment:images.jpg)"
   ]
  },
  {
   "cell_type": "code",
   "execution_count": null,
   "id": "61269543",
   "metadata": {},
   "outputs": [],
   "source": []
  }
 ],
 "metadata": {
  "kernelspec": {
   "display_name": "Python 3 (ipykernel)",
   "language": "python",
   "name": "python3"
  },
  "language_info": {
   "codemirror_mode": {
    "name": "ipython",
    "version": 3
   },
   "file_extension": ".py",
   "mimetype": "text/x-python",
   "name": "python",
   "nbconvert_exporter": "python",
   "pygments_lexer": "ipython3",
   "version": "3.11.4"
  },
  "toc": {
   "base_numbering": 1,
   "nav_menu": {},
   "number_sections": false,
   "sideBar": true,
   "skip_h1_title": false,
   "title_cell": "Table of Contents",
   "title_sidebar": "Contents",
   "toc_cell": false,
   "toc_position": {
    "height": "calc(100% - 180px)",
    "left": "10px",
    "top": "150px",
    "width": "165px"
   },
   "toc_section_display": true,
   "toc_window_display": false
  },
  "varInspector": {
   "cols": {
    "lenName": 16,
    "lenType": 16,
    "lenVar": 40
   },
   "kernels_config": {
    "python": {
     "delete_cmd_postfix": "",
     "delete_cmd_prefix": "del ",
     "library": "var_list.py",
     "varRefreshCmd": "print(var_dic_list())"
    },
    "r": {
     "delete_cmd_postfix": ") ",
     "delete_cmd_prefix": "rm(",
     "library": "var_list.r",
     "varRefreshCmd": "cat(var_dic_list()) "
    }
   },
   "types_to_exclude": [
    "module",
    "function",
    "builtin_function_or_method",
    "instance",
    "_Feature"
   ],
   "window_display": false
  }
 },
 "nbformat": 4,
 "nbformat_minor": 5
}
