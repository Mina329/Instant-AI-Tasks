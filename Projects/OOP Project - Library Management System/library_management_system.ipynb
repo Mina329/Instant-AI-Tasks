{
 "cells": [
  {
   "cell_type": "markdown",
   "metadata": {},
   "source": [
    "# Member Class"
   ]
  },
  {
   "cell_type": "code",
   "execution_count": 13,
   "metadata": {},
   "outputs": [],
   "source": [
    "class Member:\n",
    "    def __init__(self,member_id,name,age,email):\n",
    "        self.member_id = member_id\n",
    "        self.name = name\n",
    "        self.__age = age\n",
    "        self.__email = email\n",
    "    "
   ]
  },
  {
   "cell_type": "markdown",
   "metadata": {},
   "source": [
    "# Book Class"
   ]
  },
  {
   "cell_type": "code",
   "execution_count": 14,
   "metadata": {},
   "outputs": [],
   "source": [
    "class Book:\n",
    "    def __init__(self,book_id,title,author,category):\n",
    "        self.book_id = book_id\n",
    "        self.title = title\n",
    "        self.__author = author\n",
    "        self.__category = category\n",
    "        self.is_borrowed = False\n",
    "        self.__borrower_id = None\n",
    "    def borrow(self,member_id):\n",
    "        if(self.is_borrowed == False):\n",
    "            self.is_borrowed = True\n",
    "            self.borrower_id = member_id\n",
    "            return True\n",
    "        else:\n",
    "            print(\"Book is already Borrowed\")\n",
    "            return False\n",
    "    def return_book(self):\n",
    "        self.is_borrowed = False\n",
    "        self.borrower_id = None\n",
    "        return True"
   ]
  },
  {
   "cell_type": "markdown",
   "metadata": {},
   "source": [
    "# Library Class"
   ]
  },
  {
   "cell_type": "code",
   "execution_count": 15,
   "metadata": {},
   "outputs": [],
   "source": [
    "class Library:\n",
    "    def __init__(self):\n",
    "        self.__books = {}\n",
    "        self.__members={}\n",
    "    def add_book(self,book):\n",
    "        try:\n",
    "            self.books[book.book_id] = book\n",
    "            return True\n",
    "        except :\n",
    "            return False\n",
    "    def remove_book(self,id):\n",
    "        try:\n",
    "            del self.books[id]\n",
    "            return True\n",
    "        except:\n",
    "            return False\n",
    "    def add_member(self,member):\n",
    "        try:\n",
    "            self.members[member.member_id] = member\n",
    "            return True\n",
    "        except:\n",
    "            return False\n",
    "    def remove_member(self,id):\n",
    "        try:\n",
    "            del self.members[id]\n",
    "            return True\n",
    "        except:\n",
    "            return False\n",
    "    def borrow_book(self,book_id,member_id):\n",
    "        try:\n",
    "            if self.books[book_id].is_borrowed == False and member_id in self.members:\n",
    "                self.books[book_id].borrow(member_id)\n",
    "                return True\n",
    "            else:\n",
    "                if  self.books[book_id].is_borrowed :\n",
    "                    print(\"Book is already borrowed\")\n",
    "                elif member_id in self.members == False:\n",
    "                    print(\"Member is not registered\")\n",
    "        except:\n",
    "            return False\n",
    "    def return_book(self,book_id):\n",
    "        try:\n",
    "            self.books[book_id].return_book()\n",
    "            return True\n",
    "        except:\n",
    "            return False\n",
    "        "
   ]
  },
  {
   "cell_type": "markdown",
   "metadata": {},
   "source": [
    "# Test"
   ]
  },
  {
   "cell_type": "code",
   "execution_count": 17,
   "metadata": {},
   "outputs": [
    {
     "name": "stdout",
     "output_type": "stream",
     "text": [
      "Book 'Mathematics' is available by 'Mina'\n",
      "Book 'The Prisoner of Zenda' is available by 'Emil'\n",
      "Book 'Mathematics' is available\n"
     ]
    }
   ],
   "source": [
    "library = Library()\n",
    "\n",
    "book1 = Book(book_id=\"Math001\", title=\"Mathematics\", author=\"Mina\", category=\"Educational\")\n",
    "book2 = Book(book_id=\"Story001\", title=\"The Prisoner of Zenda\", author=\" Anthony Hope\", category=\"Novel\")\n",
    "\n",
    "member1 = Member(member_id=\"M001\", name=\"Mina\",age=22,email=\"Mina@gmail.com\")\n",
    "member2 = Member(member_id=\"M002\", name=\"Emil\",age=50,email=\"Emil@gmail.com\")\n",
    "\n",
    "library.add_book(book1)\n",
    "library.add_book(book2)\n",
    "\n",
    "library.add_member(member1)\n",
    "library.add_member(member2)\n",
    "\n",
    "library.borrow_book(\"Math001\", \"M001\")\n",
    "library.borrow_book(\"Story001\", \"M002\")\n",
    "\n",
    "book1_status = \"borrowed\" if book1.is_borrowed else \"available\"\n",
    "book2_status = \"borrowed\" if book2.is_borrowed else \"available\"\n",
    "\n",
    "print(f\"Book '{book1.title}' is {book1_status} by '{member1.name}'\")\n",
    "print(f\"Book '{book2.title}' is {book2_status} by '{member2.name}'\")\n",
    "\n",
    "library.return_book(\"Math001\")\n",
    "\n",
    "book1_status = \"borrowed\" if book1.is_borrowed else \"available\"\n",
    "\n",
    "print(f\"Book '{book1.title}' is {book1_status}\")"
   ]
  }
 ],
 "metadata": {
  "kernelspec": {
   "display_name": "Python 3",
   "language": "python",
   "name": "python3"
  },
  "language_info": {
   "codemirror_mode": {
    "name": "ipython",
    "version": 3
   },
   "file_extension": ".py",
   "mimetype": "text/x-python",
   "name": "python",
   "nbconvert_exporter": "python",
   "pygments_lexer": "ipython3",
   "version": "3.11.4"
  },
  "orig_nbformat": 4
 },
 "nbformat": 4,
 "nbformat_minor": 2
}
